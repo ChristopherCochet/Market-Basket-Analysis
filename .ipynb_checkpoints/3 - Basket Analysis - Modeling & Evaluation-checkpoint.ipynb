{
 "cells": [
  {
   "cell_type": "markdown",
   "metadata": {},
   "source": [
    "# Market Basket Analysis Project"
   ]
  },
  {
   "cell_type": "markdown",
   "metadata": {},
   "source": [
    "### Business Purpose and Objectives"
   ]
  },
  {
   "cell_type": "markdown",
   "metadata": {},
   "source": [
    "In this notebook we invesitage the Instacart grocery purchase dataset and apply a Market Basket Analysis \n",
    "\n",
    "#### The key objectives are to:\n",
    "* Understand customers purchases and pattens \n",
    "* Answer questions and find inights to to improve purchasing experience\n",
    "* Improve product placement and recommend potential for upsell\n",
    "\n",
    "#### Business Questions of interest:\n",
    "* Which are the most purpolar items purchased ? Which are the least ?\n",
    "* What does the distrubution of the products purchased look like ?\n",
    "* Do customers purchase items together frequently and which products are most often purchased together ?\n",
    "* Can we use this information to recommend other products based on a customer’s cart ?"
   ]
  },
  {
   "cell_type": "markdown",
   "metadata": {},
   "source": [
    "### Instacart Dataset Information"
   ]
  },
  {
   "cell_type": "markdown",
   "metadata": {},
   "source": [
    "“The Instacart Online Grocery Shopping Dataset 2017”, Accessed from https://www.instacart.com/datasets/grocery-shopping-2017 on 1/13/2021 <br>\n",
    "If you have questions about this dataset, you can reach out to us directly at open.data@instacart.com."
   ]
  },
  {
   "cell_type": "markdown",
   "metadata": {},
   "source": [
    "## Market Basket Analysis &  Association Rules\n",
    "\n",
    "In this section we use association rules and the a priori algorithm to identify purchase patterns and answer the following questions: \n",
    "* Do customers purchase items together frequently and which products are most often purchased together ?\n",
    "* Can we use this information to recommend other products based on a customer’s cart ?"
   ]
  },
  {
   "cell_type": "markdown",
   "metadata": {},
   "source": [
    "#### Load prepared dataset "
   ]
  },
  {
   "cell_type": "code",
   "execution_count": 178,
   "metadata": {},
   "outputs": [
    {
     "data": {
      "text/html": [
       "<div>\n",
       "<style scoped>\n",
       "    .dataframe tbody tr th:only-of-type {\n",
       "        vertical-align: middle;\n",
       "    }\n",
       "\n",
       "    .dataframe tbody tr th {\n",
       "        vertical-align: top;\n",
       "    }\n",
       "\n",
       "    .dataframe thead th {\n",
       "        text-align: right;\n",
       "    }\n",
       "</style>\n",
       "<table border=\"1\" class=\"dataframe\">\n",
       "  <thead>\n",
       "    <tr style=\"text-align: right;\">\n",
       "      <th></th>\n",
       "      <th>order_id</th>\n",
       "      <th>product_id</th>\n",
       "      <th>add_to_cart_order</th>\n",
       "      <th>reordered</th>\n",
       "      <th>user_id</th>\n",
       "      <th>eval_set</th>\n",
       "      <th>order_number</th>\n",
       "      <th>order_dow</th>\n",
       "      <th>order_hour_of_day</th>\n",
       "      <th>days_since_prior_order</th>\n",
       "      <th>product_name</th>\n",
       "      <th>aisle_id</th>\n",
       "      <th>department_id</th>\n",
       "      <th>aisle</th>\n",
       "      <th>department</th>\n",
       "    </tr>\n",
       "  </thead>\n",
       "  <tbody>\n",
       "    <tr>\n",
       "      <th>0</th>\n",
       "      <td>1</td>\n",
       "      <td>49302</td>\n",
       "      <td>1</td>\n",
       "      <td>1</td>\n",
       "      <td>112108</td>\n",
       "      <td>train</td>\n",
       "      <td>4</td>\n",
       "      <td>4</td>\n",
       "      <td>10</td>\n",
       "      <td>9.0</td>\n",
       "      <td>Bulgarian Yogurt</td>\n",
       "      <td>120</td>\n",
       "      <td>16</td>\n",
       "      <td>yogurt</td>\n",
       "      <td>dairy eggs</td>\n",
       "    </tr>\n",
       "    <tr>\n",
       "      <th>1</th>\n",
       "      <td>1</td>\n",
       "      <td>11109</td>\n",
       "      <td>2</td>\n",
       "      <td>1</td>\n",
       "      <td>112108</td>\n",
       "      <td>train</td>\n",
       "      <td>4</td>\n",
       "      <td>4</td>\n",
       "      <td>10</td>\n",
       "      <td>9.0</td>\n",
       "      <td>Organic 4% Milk Fat Whole Milk Cottage Cheese</td>\n",
       "      <td>108</td>\n",
       "      <td>16</td>\n",
       "      <td>other creams cheeses</td>\n",
       "      <td>dairy eggs</td>\n",
       "    </tr>\n",
       "    <tr>\n",
       "      <th>2</th>\n",
       "      <td>1</td>\n",
       "      <td>10246</td>\n",
       "      <td>3</td>\n",
       "      <td>0</td>\n",
       "      <td>112108</td>\n",
       "      <td>train</td>\n",
       "      <td>4</td>\n",
       "      <td>4</td>\n",
       "      <td>10</td>\n",
       "      <td>9.0</td>\n",
       "      <td>Organic Celery Hearts</td>\n",
       "      <td>83</td>\n",
       "      <td>4</td>\n",
       "      <td>fresh vegetables</td>\n",
       "      <td>produce</td>\n",
       "    </tr>\n",
       "    <tr>\n",
       "      <th>3</th>\n",
       "      <td>1</td>\n",
       "      <td>49683</td>\n",
       "      <td>4</td>\n",
       "      <td>0</td>\n",
       "      <td>112108</td>\n",
       "      <td>train</td>\n",
       "      <td>4</td>\n",
       "      <td>4</td>\n",
       "      <td>10</td>\n",
       "      <td>9.0</td>\n",
       "      <td>Cucumber Kirby</td>\n",
       "      <td>83</td>\n",
       "      <td>4</td>\n",
       "      <td>fresh vegetables</td>\n",
       "      <td>produce</td>\n",
       "    </tr>\n",
       "    <tr>\n",
       "      <th>4</th>\n",
       "      <td>1</td>\n",
       "      <td>43633</td>\n",
       "      <td>5</td>\n",
       "      <td>1</td>\n",
       "      <td>112108</td>\n",
       "      <td>train</td>\n",
       "      <td>4</td>\n",
       "      <td>4</td>\n",
       "      <td>10</td>\n",
       "      <td>9.0</td>\n",
       "      <td>Lightly Smoked Sardines in Olive Oil</td>\n",
       "      <td>95</td>\n",
       "      <td>15</td>\n",
       "      <td>canned meat seafood</td>\n",
       "      <td>canned goods</td>\n",
       "    </tr>\n",
       "  </tbody>\n",
       "</table>\n",
       "</div>"
      ],
      "text/plain": [
       "   order_id  product_id  add_to_cart_order  reordered  user_id eval_set  \\\n",
       "0         1       49302                  1          1   112108    train   \n",
       "1         1       11109                  2          1   112108    train   \n",
       "2         1       10246                  3          0   112108    train   \n",
       "3         1       49683                  4          0   112108    train   \n",
       "4         1       43633                  5          1   112108    train   \n",
       "\n",
       "   order_number  order_dow  order_hour_of_day  days_since_prior_order  \\\n",
       "0             4          4                 10                     9.0   \n",
       "1             4          4                 10                     9.0   \n",
       "2             4          4                 10                     9.0   \n",
       "3             4          4                 10                     9.0   \n",
       "4             4          4                 10                     9.0   \n",
       "\n",
       "                                    product_name  aisle_id  department_id  \\\n",
       "0                               Bulgarian Yogurt       120             16   \n",
       "1  Organic 4% Milk Fat Whole Milk Cottage Cheese       108             16   \n",
       "2                          Organic Celery Hearts        83              4   \n",
       "3                                 Cucumber Kirby        83              4   \n",
       "4           Lightly Smoked Sardines in Olive Oil        95             15   \n",
       "\n",
       "                  aisle    department  \n",
       "0                yogurt    dairy eggs  \n",
       "1  other creams cheeses    dairy eggs  \n",
       "2      fresh vegetables       produce  \n",
       "3      fresh vegetables       produce  \n",
       "4   canned meat seafood  canned goods  "
      ]
     },
     "execution_count": 178,
     "metadata": {},
     "output_type": "execute_result"
    }
   ],
   "source": [
    "orders_combined_df = pd.read_pickle(\"data/orders_combined.pkl\")\n",
    "orders_combined_df.head()"
   ]
  },
  {
   "cell_type": "markdown",
   "metadata": {},
   "source": [
    "#### Analyze only the most popular items and with a  cumulative percentage purchase count below 50%"
   ]
  },
  {
   "cell_type": "code",
   "execution_count": 179,
   "metadata": {},
   "outputs": [
    {
     "data": {
      "text/html": [
       "<div>\n",
       "<style scoped>\n",
       "    .dataframe tbody tr th:only-of-type {\n",
       "        vertical-align: middle;\n",
       "    }\n",
       "\n",
       "    .dataframe tbody tr th {\n",
       "        vertical-align: top;\n",
       "    }\n",
       "\n",
       "    .dataframe thead th {\n",
       "        text-align: right;\n",
       "    }\n",
       "</style>\n",
       "<table border=\"1\" class=\"dataframe\">\n",
       "  <thead>\n",
       "    <tr style=\"text-align: right;\">\n",
       "      <th></th>\n",
       "      <th>Product</th>\n",
       "      <th>Count</th>\n",
       "      <th>Percent</th>\n",
       "      <th>Cum_Percent</th>\n",
       "      <th>rank</th>\n",
       "      <th>description</th>\n",
       "    </tr>\n",
       "  </thead>\n",
       "  <tbody>\n",
       "    <tr>\n",
       "      <th>0</th>\n",
       "      <td>Banana</td>\n",
       "      <td>18726</td>\n",
       "      <td>1.352432</td>\n",
       "      <td>1.352432</td>\n",
       "      <td>1.0</td>\n",
       "      <td>rank:1 pct:1.35 cum_pct:1.35</td>\n",
       "    </tr>\n",
       "    <tr>\n",
       "      <th>1</th>\n",
       "      <td>Bag of Organic Bananas</td>\n",
       "      <td>15480</td>\n",
       "      <td>1.117999</td>\n",
       "      <td>2.470430</td>\n",
       "      <td>2.0</td>\n",
       "      <td>rank:2 pct:1.12 cum_pct:2.47</td>\n",
       "    </tr>\n",
       "    <tr>\n",
       "      <th>2</th>\n",
       "      <td>Organic Strawberries</td>\n",
       "      <td>10894</td>\n",
       "      <td>0.786788</td>\n",
       "      <td>3.257218</td>\n",
       "      <td>3.0</td>\n",
       "      <td>rank:3 pct:0.79 cum_pct:3.26</td>\n",
       "    </tr>\n",
       "    <tr>\n",
       "      <th>3</th>\n",
       "      <td>Organic Baby Spinach</td>\n",
       "      <td>9784</td>\n",
       "      <td>0.706621</td>\n",
       "      <td>3.963840</td>\n",
       "      <td>4.0</td>\n",
       "      <td>rank:4 pct:0.71 cum_pct:3.96</td>\n",
       "    </tr>\n",
       "    <tr>\n",
       "      <th>4</th>\n",
       "      <td>Large Lemon</td>\n",
       "      <td>8135</td>\n",
       "      <td>0.587527</td>\n",
       "      <td>4.551367</td>\n",
       "      <td>5.0</td>\n",
       "      <td>rank:5 pct:0.59 cum_pct:4.55</td>\n",
       "    </tr>\n",
       "  </tbody>\n",
       "</table>\n",
       "</div>"
      ],
      "text/plain": [
       "                  Product  Count   Percent  Cum_Percent  rank  \\\n",
       "0                  Banana  18726  1.352432     1.352432   1.0   \n",
       "1  Bag of Organic Bananas  15480  1.117999     2.470430   2.0   \n",
       "2    Organic Strawberries  10894  0.786788     3.257218   3.0   \n",
       "3    Organic Baby Spinach   9784  0.706621     3.963840   4.0   \n",
       "4             Large Lemon   8135  0.587527     4.551367   5.0   \n",
       "\n",
       "                    description  \n",
       "0  rank:1 pct:1.35 cum_pct:1.35  \n",
       "1  rank:2 pct:1.12 cum_pct:2.47  \n",
       "2  rank:3 pct:0.79 cum_pct:3.26  \n",
       "3  rank:4 pct:0.71 cum_pct:3.96  \n",
       "4  rank:5 pct:0.59 cum_pct:4.55  "
      ]
     },
     "execution_count": 179,
     "metadata": {},
     "output_type": "execute_result"
    }
   ],
   "source": [
    "popular_items_filter = item_frequency_df['Cum_Percent'] < 50\n",
    "popular_item_df = item_frequency_df[popular_items_filter]\n",
    "popular_item_df.head()"
   ]
  },
  {
   "cell_type": "code",
   "execution_count": 180,
   "metadata": {},
   "outputs": [
    {
     "data": {
      "text/plain": [
       "(39123, 852)"
      ]
     },
     "execution_count": 180,
     "metadata": {},
     "output_type": "execute_result"
    }
   ],
   "source": [
    "# We have reduced our analysis from 40k products to 852 (the most popular ones)\n",
    "orders_combined_df['product_name'].nunique(), len(popular_item_df)"
   ]
  },
  {
   "cell_type": "code",
   "execution_count": 181,
   "metadata": {},
   "outputs": [
    {
     "data": {
      "text/plain": [
       "692147"
      ]
     },
     "execution_count": 181,
     "metadata": {},
     "output_type": "execute_result"
    }
   ],
   "source": [
    "# The 852 items have been purchased cklose to 700K times !\n",
    "filter = orders_combined_df['product_name'].isin(popular_item_df['Product'])\n",
    "orders_combined_filtered_df = orders_combined_df[filter]\n",
    "\n",
    "len(orders_combined_filtered_df)"
   ]
  },
  {
   "cell_type": "markdown",
   "metadata": {},
   "source": [
    "#### Analyze only the user with the highest purchase count (top 2500 users)"
   ]
  },
  {
   "cell_type": "code",
   "execution_count": 182,
   "metadata": {},
   "outputs": [
    {
     "data": {
      "text/html": [
       "<div>\n",
       "<style scoped>\n",
       "    .dataframe tbody tr th:only-of-type {\n",
       "        vertical-align: middle;\n",
       "    }\n",
       "\n",
       "    .dataframe tbody tr th {\n",
       "        vertical-align: top;\n",
       "    }\n",
       "\n",
       "    .dataframe thead th {\n",
       "        text-align: right;\n",
       "    }\n",
       "</style>\n",
       "<table border=\"1\" class=\"dataframe\">\n",
       "  <thead>\n",
       "    <tr style=\"text-align: right;\">\n",
       "      <th></th>\n",
       "      <th>User</th>\n",
       "      <th>Count</th>\n",
       "      <th>Percent</th>\n",
       "      <th>Cum_Percent</th>\n",
       "      <th>rank</th>\n",
       "      <th>description</th>\n",
       "    </tr>\n",
       "  </thead>\n",
       "  <tbody>\n",
       "    <tr>\n",
       "      <th>0</th>\n",
       "      <td>149753</td>\n",
       "      <td>80</td>\n",
       "      <td>0.005778</td>\n",
       "      <td>0.005778</td>\n",
       "      <td>1.0</td>\n",
       "      <td>rank:1 pct:0.01 cum_pct:0.01</td>\n",
       "    </tr>\n",
       "    <tr>\n",
       "      <th>1</th>\n",
       "      <td>197541</td>\n",
       "      <td>80</td>\n",
       "      <td>0.005778</td>\n",
       "      <td>0.011556</td>\n",
       "      <td>2.0</td>\n",
       "      <td>rank:2 pct:0.01 cum_pct:0.01</td>\n",
       "    </tr>\n",
       "    <tr>\n",
       "      <th>2</th>\n",
       "      <td>63458</td>\n",
       "      <td>77</td>\n",
       "      <td>0.005561</td>\n",
       "      <td>0.017117</td>\n",
       "      <td>3.0</td>\n",
       "      <td>rank:3 pct:0.01 cum_pct:0.02</td>\n",
       "    </tr>\n",
       "    <tr>\n",
       "      <th>3</th>\n",
       "      <td>83993</td>\n",
       "      <td>76</td>\n",
       "      <td>0.005489</td>\n",
       "      <td>0.022606</td>\n",
       "      <td>4.0</td>\n",
       "      <td>rank:4 pct:0.01 cum_pct:0.02</td>\n",
       "    </tr>\n",
       "    <tr>\n",
       "      <th>4</th>\n",
       "      <td>189951</td>\n",
       "      <td>76</td>\n",
       "      <td>0.005489</td>\n",
       "      <td>0.028094</td>\n",
       "      <td>5.0</td>\n",
       "      <td>rank:5 pct:0.01 cum_pct:0.03</td>\n",
       "    </tr>\n",
       "  </tbody>\n",
       "</table>\n",
       "</div>"
      ],
      "text/plain": [
       "     User  Count   Percent  Cum_Percent  rank                   description\n",
       "0  149753     80  0.005778     0.005778   1.0  rank:1 pct:0.01 cum_pct:0.01\n",
       "1  197541     80  0.005778     0.011556   2.0  rank:2 pct:0.01 cum_pct:0.01\n",
       "2   63458     77  0.005561     0.017117   3.0  rank:3 pct:0.01 cum_pct:0.02\n",
       "3   83993     76  0.005489     0.022606   4.0  rank:4 pct:0.01 cum_pct:0.02\n",
       "4  189951     76  0.005489     0.028094   5.0  rank:5 pct:0.01 cum_pct:0.03"
      ]
     },
     "execution_count": 182,
     "metadata": {},
     "output_type": "execute_result"
    }
   ],
   "source": [
    "filter = user_frequency_df['rank'] < 2500\n",
    "bigbasket_user_frequency_df = user_frequency_df[filter]\n",
    "bigbasket_user_frequency_df.head()"
   ]
  },
  {
   "cell_type": "code",
   "execution_count": 183,
   "metadata": {},
   "outputs": [
    {
     "data": {
      "text/html": [
       "<div>\n",
       "<style scoped>\n",
       "    .dataframe tbody tr th:only-of-type {\n",
       "        vertical-align: middle;\n",
       "    }\n",
       "\n",
       "    .dataframe tbody tr th {\n",
       "        vertical-align: top;\n",
       "    }\n",
       "\n",
       "    .dataframe thead th {\n",
       "        text-align: right;\n",
       "    }\n",
       "</style>\n",
       "<table border=\"1\" class=\"dataframe\">\n",
       "  <thead>\n",
       "    <tr style=\"text-align: right;\">\n",
       "      <th></th>\n",
       "      <th>User</th>\n",
       "      <th>Count</th>\n",
       "      <th>Percent</th>\n",
       "      <th>Cum_Percent</th>\n",
       "      <th>rank</th>\n",
       "      <th>description</th>\n",
       "    </tr>\n",
       "  </thead>\n",
       "  <tbody>\n",
       "    <tr>\n",
       "      <th>2494</th>\n",
       "      <td>25440</td>\n",
       "      <td>33</td>\n",
       "      <td>0.002383</td>\n",
       "      <td>7.048231</td>\n",
       "      <td>2495.0</td>\n",
       "      <td>rank:2495 pct:0.0 cum_pct:7.05</td>\n",
       "    </tr>\n",
       "    <tr>\n",
       "      <th>2495</th>\n",
       "      <td>34950</td>\n",
       "      <td>33</td>\n",
       "      <td>0.002383</td>\n",
       "      <td>7.050614</td>\n",
       "      <td>2496.0</td>\n",
       "      <td>rank:2496 pct:0.0 cum_pct:7.05</td>\n",
       "    </tr>\n",
       "    <tr>\n",
       "      <th>2496</th>\n",
       "      <td>110956</td>\n",
       "      <td>33</td>\n",
       "      <td>0.002383</td>\n",
       "      <td>7.052997</td>\n",
       "      <td>2497.0</td>\n",
       "      <td>rank:2497 pct:0.0 cum_pct:7.05</td>\n",
       "    </tr>\n",
       "    <tr>\n",
       "      <th>2497</th>\n",
       "      <td>167191</td>\n",
       "      <td>33</td>\n",
       "      <td>0.002383</td>\n",
       "      <td>7.055381</td>\n",
       "      <td>2498.0</td>\n",
       "      <td>rank:2498 pct:0.0 cum_pct:7.06</td>\n",
       "    </tr>\n",
       "    <tr>\n",
       "      <th>2498</th>\n",
       "      <td>22273</td>\n",
       "      <td>33</td>\n",
       "      <td>0.002383</td>\n",
       "      <td>7.057764</td>\n",
       "      <td>2499.0</td>\n",
       "      <td>rank:2499 pct:0.0 cum_pct:7.06</td>\n",
       "    </tr>\n",
       "  </tbody>\n",
       "</table>\n",
       "</div>"
      ],
      "text/plain": [
       "        User  Count   Percent  Cum_Percent    rank  \\\n",
       "2494   25440     33  0.002383     7.048231  2495.0   \n",
       "2495   34950     33  0.002383     7.050614  2496.0   \n",
       "2496  110956     33  0.002383     7.052997  2497.0   \n",
       "2497  167191     33  0.002383     7.055381  2498.0   \n",
       "2498   22273     33  0.002383     7.057764  2499.0   \n",
       "\n",
       "                         description  \n",
       "2494  rank:2495 pct:0.0 cum_pct:7.05  \n",
       "2495  rank:2496 pct:0.0 cum_pct:7.05  \n",
       "2496  rank:2497 pct:0.0 cum_pct:7.05  \n",
       "2497  rank:2498 pct:0.0 cum_pct:7.06  \n",
       "2498  rank:2499 pct:0.0 cum_pct:7.06  "
      ]
     },
     "execution_count": 183,
     "metadata": {},
     "output_type": "execute_result"
    }
   ],
   "source": [
    "bigbasket_user_frequency_df.tail()"
   ]
  },
  {
   "cell_type": "code",
   "execution_count": 184,
   "metadata": {},
   "outputs": [
    {
     "data": {
      "text/plain": [
       "(97723, 17085)"
      ]
     },
     "execution_count": 184,
     "metadata": {},
     "output_type": "execute_result"
    }
   ],
   "source": [
    "# The top 2500 costumers have been purchased close to 100K items !\n",
    "\n",
    "filter = orders_combined_df['user_id'].isin(\n",
    "    bigbasket_user_frequency_df['User'])\n",
    "orders_combined_filtered_df = orders_combined_df[filter]\n",
    "\n",
    "len(orders_combined_filtered_df), orders_combined_filtered_df['product_id'].nunique()"
   ]
  },
  {
   "cell_type": "markdown",
   "metadata": {},
   "source": [
    "#### Create a binary matrix of product baskets (by orders)"
   ]
  },
  {
   "cell_type": "code",
   "execution_count": 185,
   "metadata": {},
   "outputs": [
    {
     "data": {
      "text/plain": [
       "(2499, 17085)"
      ]
     },
     "execution_count": 185,
     "metadata": {},
     "output_type": "execute_result"
    }
   ],
   "source": [
    "# The matrix is very wide - 17k rows, 1 for each product previsouly filtered\n",
    "basket = (orders_combined_filtered_df\n",
    "          .groupby(['order_id', 'product_name'])['product_id']\n",
    "          .count())\n",
    "basket = basket.unstack().reset_index().fillna(0).set_index('order_id')\n",
    "basket.shape"
   ]
  },
  {
   "cell_type": "code",
   "execution_count": 128,
   "metadata": {},
   "outputs": [
    {
     "data": {
      "text/html": [
       "<div>\n",
       "<style scoped>\n",
       "    .dataframe tbody tr th:only-of-type {\n",
       "        vertical-align: middle;\n",
       "    }\n",
       "\n",
       "    .dataframe tbody tr th {\n",
       "        vertical-align: top;\n",
       "    }\n",
       "\n",
       "    .dataframe thead th {\n",
       "        text-align: right;\n",
       "    }\n",
       "</style>\n",
       "<table border=\"1\" class=\"dataframe\">\n",
       "  <thead>\n",
       "    <tr style=\"text-align: right;\">\n",
       "      <th>product_name</th>\n",
       "      <th>#2 Coffee Filters</th>\n",
       "      <th>&amp; Go! Hazelnut Spread + Pretzel Sticks</th>\n",
       "      <th>0 Calorie Acai Raspberry Water Beverage</th>\n",
       "      <th>0 Calorie Fuji Apple Pear Water Beverage</th>\n",
       "      <th>0 Calorie Strawberry Dragonfruit Water Beverage</th>\n",
       "      <th>0% Fat Black Cherry Greek Yogurt y</th>\n",
       "      <th>0% Fat Blueberry Greek Yogurt</th>\n",
       "      <th>0% Fat Free Organic Milk</th>\n",
       "      <th>0% Fat Greek Yogurt Black Cherry on the Bottom</th>\n",
       "      <th>0% Fat Organic Greek Vanilla Yogurt</th>\n",
       "      <th>...</th>\n",
       "      <th>of Hanover 100 Calorie Pretzels Mini</th>\n",
       "      <th>smart Blend Chicken &amp; Rice Formula Dry Dog Food</th>\n",
       "      <th>smartwater® Electrolyte Enhanced Water</th>\n",
       "      <th>vitaminwater® XXX Acai Blueberry Pomegranate</th>\n",
       "      <th>with Bleach Disinfectant Cleanser Scratch Free Lavender Fresh</th>\n",
       "      <th>with Crispy Almonds Cereal</th>\n",
       "      <th>with Olive Oil Mayonnaise</th>\n",
       "      <th>with Olive Oil Mayonnaise Dressing</th>\n",
       "      <th>with Sweet &amp; Smoky BBQ Sauce Cheeseburger Sliders</th>\n",
       "      <th>with a Splash of Mango Coconut Water</th>\n",
       "    </tr>\n",
       "    <tr>\n",
       "      <th>order_id</th>\n",
       "      <th></th>\n",
       "      <th></th>\n",
       "      <th></th>\n",
       "      <th></th>\n",
       "      <th></th>\n",
       "      <th></th>\n",
       "      <th></th>\n",
       "      <th></th>\n",
       "      <th></th>\n",
       "      <th></th>\n",
       "      <th></th>\n",
       "      <th></th>\n",
       "      <th></th>\n",
       "      <th></th>\n",
       "      <th></th>\n",
       "      <th></th>\n",
       "      <th></th>\n",
       "      <th></th>\n",
       "      <th></th>\n",
       "      <th></th>\n",
       "      <th></th>\n",
       "    </tr>\n",
       "  </thead>\n",
       "  <tbody>\n",
       "    <tr>\n",
       "      <th>98</th>\n",
       "      <td>0.0</td>\n",
       "      <td>0.0</td>\n",
       "      <td>0.0</td>\n",
       "      <td>0.0</td>\n",
       "      <td>0.0</td>\n",
       "      <td>0.0</td>\n",
       "      <td>0.0</td>\n",
       "      <td>0.0</td>\n",
       "      <td>0.0</td>\n",
       "      <td>0.0</td>\n",
       "      <td>...</td>\n",
       "      <td>0.0</td>\n",
       "      <td>0.0</td>\n",
       "      <td>0.0</td>\n",
       "      <td>0.0</td>\n",
       "      <td>0.0</td>\n",
       "      <td>0.0</td>\n",
       "      <td>0.0</td>\n",
       "      <td>0.0</td>\n",
       "      <td>0.0</td>\n",
       "      <td>0.0</td>\n",
       "    </tr>\n",
       "    <tr>\n",
       "      <th>1955</th>\n",
       "      <td>0.0</td>\n",
       "      <td>0.0</td>\n",
       "      <td>0.0</td>\n",
       "      <td>0.0</td>\n",
       "      <td>0.0</td>\n",
       "      <td>0.0</td>\n",
       "      <td>0.0</td>\n",
       "      <td>0.0</td>\n",
       "      <td>0.0</td>\n",
       "      <td>0.0</td>\n",
       "      <td>...</td>\n",
       "      <td>0.0</td>\n",
       "      <td>0.0</td>\n",
       "      <td>0.0</td>\n",
       "      <td>0.0</td>\n",
       "      <td>0.0</td>\n",
       "      <td>0.0</td>\n",
       "      <td>0.0</td>\n",
       "      <td>0.0</td>\n",
       "      <td>0.0</td>\n",
       "      <td>0.0</td>\n",
       "    </tr>\n",
       "    <tr>\n",
       "      <th>2445</th>\n",
       "      <td>0.0</td>\n",
       "      <td>0.0</td>\n",
       "      <td>0.0</td>\n",
       "      <td>0.0</td>\n",
       "      <td>0.0</td>\n",
       "      <td>0.0</td>\n",
       "      <td>0.0</td>\n",
       "      <td>0.0</td>\n",
       "      <td>0.0</td>\n",
       "      <td>0.0</td>\n",
       "      <td>...</td>\n",
       "      <td>0.0</td>\n",
       "      <td>0.0</td>\n",
       "      <td>0.0</td>\n",
       "      <td>0.0</td>\n",
       "      <td>0.0</td>\n",
       "      <td>0.0</td>\n",
       "      <td>0.0</td>\n",
       "      <td>0.0</td>\n",
       "      <td>0.0</td>\n",
       "      <td>0.0</td>\n",
       "    </tr>\n",
       "    <tr>\n",
       "      <th>2888</th>\n",
       "      <td>0.0</td>\n",
       "      <td>0.0</td>\n",
       "      <td>0.0</td>\n",
       "      <td>0.0</td>\n",
       "      <td>0.0</td>\n",
       "      <td>0.0</td>\n",
       "      <td>0.0</td>\n",
       "      <td>0.0</td>\n",
       "      <td>0.0</td>\n",
       "      <td>0.0</td>\n",
       "      <td>...</td>\n",
       "      <td>0.0</td>\n",
       "      <td>0.0</td>\n",
       "      <td>0.0</td>\n",
       "      <td>0.0</td>\n",
       "      <td>0.0</td>\n",
       "      <td>0.0</td>\n",
       "      <td>0.0</td>\n",
       "      <td>0.0</td>\n",
       "      <td>0.0</td>\n",
       "      <td>0.0</td>\n",
       "    </tr>\n",
       "    <tr>\n",
       "      <th>3422</th>\n",
       "      <td>0.0</td>\n",
       "      <td>0.0</td>\n",
       "      <td>0.0</td>\n",
       "      <td>0.0</td>\n",
       "      <td>0.0</td>\n",
       "      <td>0.0</td>\n",
       "      <td>0.0</td>\n",
       "      <td>0.0</td>\n",
       "      <td>0.0</td>\n",
       "      <td>0.0</td>\n",
       "      <td>...</td>\n",
       "      <td>0.0</td>\n",
       "      <td>0.0</td>\n",
       "      <td>0.0</td>\n",
       "      <td>0.0</td>\n",
       "      <td>0.0</td>\n",
       "      <td>0.0</td>\n",
       "      <td>0.0</td>\n",
       "      <td>0.0</td>\n",
       "      <td>0.0</td>\n",
       "      <td>0.0</td>\n",
       "    </tr>\n",
       "  </tbody>\n",
       "</table>\n",
       "<p>5 rows × 17085 columns</p>\n",
       "</div>"
      ],
      "text/plain": [
       "product_name  #2 Coffee Filters  & Go! Hazelnut Spread + Pretzel Sticks  \\\n",
       "order_id                                                                  \n",
       "98                          0.0                                     0.0   \n",
       "1955                        0.0                                     0.0   \n",
       "2445                        0.0                                     0.0   \n",
       "2888                        0.0                                     0.0   \n",
       "3422                        0.0                                     0.0   \n",
       "\n",
       "product_name  0 Calorie Acai Raspberry Water Beverage  \\\n",
       "order_id                                                \n",
       "98                                                0.0   \n",
       "1955                                              0.0   \n",
       "2445                                              0.0   \n",
       "2888                                              0.0   \n",
       "3422                                              0.0   \n",
       "\n",
       "product_name  0 Calorie Fuji Apple Pear Water Beverage  \\\n",
       "order_id                                                 \n",
       "98                                                 0.0   \n",
       "1955                                               0.0   \n",
       "2445                                               0.0   \n",
       "2888                                               0.0   \n",
       "3422                                               0.0   \n",
       "\n",
       "product_name  0 Calorie Strawberry Dragonfruit Water Beverage  \\\n",
       "order_id                                                        \n",
       "98                                                        0.0   \n",
       "1955                                                      0.0   \n",
       "2445                                                      0.0   \n",
       "2888                                                      0.0   \n",
       "3422                                                      0.0   \n",
       "\n",
       "product_name  0% Fat Black Cherry Greek Yogurt y  \\\n",
       "order_id                                           \n",
       "98                                           0.0   \n",
       "1955                                         0.0   \n",
       "2445                                         0.0   \n",
       "2888                                         0.0   \n",
       "3422                                         0.0   \n",
       "\n",
       "product_name  0% Fat Blueberry Greek Yogurt  0% Fat Free Organic Milk  \\\n",
       "order_id                                                                \n",
       "98                                      0.0                       0.0   \n",
       "1955                                    0.0                       0.0   \n",
       "2445                                    0.0                       0.0   \n",
       "2888                                    0.0                       0.0   \n",
       "3422                                    0.0                       0.0   \n",
       "\n",
       "product_name  0% Fat Greek Yogurt Black Cherry on the Bottom  \\\n",
       "order_id                                                       \n",
       "98                                                       0.0   \n",
       "1955                                                     0.0   \n",
       "2445                                                     0.0   \n",
       "2888                                                     0.0   \n",
       "3422                                                     0.0   \n",
       "\n",
       "product_name  0% Fat Organic Greek Vanilla Yogurt  ...  \\\n",
       "order_id                                           ...   \n",
       "98                                            0.0  ...   \n",
       "1955                                          0.0  ...   \n",
       "2445                                          0.0  ...   \n",
       "2888                                          0.0  ...   \n",
       "3422                                          0.0  ...   \n",
       "\n",
       "product_name  of Hanover 100 Calorie Pretzels Mini  \\\n",
       "order_id                                             \n",
       "98                                             0.0   \n",
       "1955                                           0.0   \n",
       "2445                                           0.0   \n",
       "2888                                           0.0   \n",
       "3422                                           0.0   \n",
       "\n",
       "product_name  smart Blend Chicken & Rice Formula Dry Dog Food  \\\n",
       "order_id                                                        \n",
       "98                                                        0.0   \n",
       "1955                                                      0.0   \n",
       "2445                                                      0.0   \n",
       "2888                                                      0.0   \n",
       "3422                                                      0.0   \n",
       "\n",
       "product_name  smartwater® Electrolyte Enhanced Water  \\\n",
       "order_id                                               \n",
       "98                                               0.0   \n",
       "1955                                             0.0   \n",
       "2445                                             0.0   \n",
       "2888                                             0.0   \n",
       "3422                                             0.0   \n",
       "\n",
       "product_name  vitaminwater® XXX Acai Blueberry Pomegranate  \\\n",
       "order_id                                                     \n",
       "98                                                     0.0   \n",
       "1955                                                   0.0   \n",
       "2445                                                   0.0   \n",
       "2888                                                   0.0   \n",
       "3422                                                   0.0   \n",
       "\n",
       "product_name  with Bleach Disinfectant Cleanser Scratch Free Lavender Fresh  \\\n",
       "order_id                                                                      \n",
       "98                                                          0.0               \n",
       "1955                                                        0.0               \n",
       "2445                                                        0.0               \n",
       "2888                                                        0.0               \n",
       "3422                                                        0.0               \n",
       "\n",
       "product_name  with Crispy Almonds Cereal  with Olive Oil Mayonnaise  \\\n",
       "order_id                                                              \n",
       "98                                   0.0                        0.0   \n",
       "1955                                 0.0                        0.0   \n",
       "2445                                 0.0                        0.0   \n",
       "2888                                 0.0                        0.0   \n",
       "3422                                 0.0                        0.0   \n",
       "\n",
       "product_name  with Olive Oil Mayonnaise Dressing  \\\n",
       "order_id                                           \n",
       "98                                           0.0   \n",
       "1955                                         0.0   \n",
       "2445                                         0.0   \n",
       "2888                                         0.0   \n",
       "3422                                         0.0   \n",
       "\n",
       "product_name  with Sweet & Smoky BBQ Sauce Cheeseburger Sliders  \\\n",
       "order_id                                                          \n",
       "98                                                          0.0   \n",
       "1955                                                        0.0   \n",
       "2445                                                        0.0   \n",
       "2888                                                        0.0   \n",
       "3422                                                        0.0   \n",
       "\n",
       "product_name  with a Splash of Mango Coconut Water  \n",
       "order_id                                            \n",
       "98                                             0.0  \n",
       "1955                                           0.0  \n",
       "2445                                           0.0  \n",
       "2888                                           0.0  \n",
       "3422                                           0.0  \n",
       "\n",
       "[5 rows x 17085 columns]"
      ]
     },
     "execution_count": 128,
     "metadata": {},
     "output_type": "execute_result"
    }
   ],
   "source": [
    "basket.head()"
   ]
  },
  {
   "cell_type": "code",
   "execution_count": 135,
   "metadata": {},
   "outputs": [],
   "source": [
    "# Now encode the matrix with 0 & 1 only in case the same product was purchased multiple times in an order\n",
    "def encode_units(x):\n",
    "    if x <= 0:\n",
    "        return 0\n",
    "    if x >= 1:\n",
    "        return 1\n",
    "\n",
    "\n",
    "basket_sets = basket.applymap(encode_units)"
   ]
  },
  {
   "cell_type": "markdown",
   "metadata": {},
   "source": [
    "#### Apply the A Priori Algorithm to the matrix\n",
    "\n",
    "* With the mlxtend library, association rules look like this: {Item A} -> {Item B} and can be interpreted as the existence of a strong relationship between these items and that customers that purchased Item A often also purchased Item B in the same transaction.\n",
    "\n",
    "* {Item A} is the called the antecedent and the {Item B} is called the consequent. Both antecedents and consequents can have multiple items.\n",
    "\n",
    "Key definitions:\n",
    ">\n",
    "> * **Support**: Support is an indication of how frequently the itemset appears in the dataset.\n",
    "> * **Confidence**: Confidence is an indication of how often the rule has been found to be true.\n",
    "> * **Lift**: lift the ratio of the observed support to that expected if X and Y were independent. If the lift is > 1, that lets us know the degree to which those two occurrences are dependent on one another (strength of the relationship).\n",
    ">\n",
    "Source: https://en.wikipedia.org/wiki/Association_rule_learning"
   ]
  },
  {
   "cell_type": "code",
   "execution_count": 137,
   "metadata": {},
   "outputs": [],
   "source": [
    "# Import association rules libaries\n",
    "from mlxtend.frequent_patterns import apriori\n",
    "from mlxtend.frequent_patterns import association_rules"
   ]
  },
  {
   "cell_type": "code",
   "execution_count": 141,
   "metadata": {},
   "outputs": [],
   "source": [
    "#frequent_itemsets = apriori(\n",
    "#    basket_sets, min_support=0.02, use_colnames=True, max_len=3)\n",
    "#frequent_itemsets"
   ]
  },
  {
   "cell_type": "code",
   "execution_count": 142,
   "metadata": {},
   "outputs": [],
   "source": [
    "rules = association_rules(\n",
    "    frequent_itemsets, metric=\"confidence\", min_threshold=0.1)"
   ]
  },
  {
   "cell_type": "code",
   "execution_count": 144,
   "metadata": {},
   "outputs": [
    {
     "data": {
      "text/plain": [
       "(808, 9)"
      ]
     },
     "execution_count": 144,
     "metadata": {},
     "output_type": "execute_result"
    }
   ],
   "source": [
    "# The a priori algorithm has identified ~800 rules from the dataset\n",
    "rules.shape"
   ]
  },
  {
   "cell_type": "code",
   "execution_count": 145,
   "metadata": {},
   "outputs": [
    {
     "data": {
      "text/html": [
       "<div>\n",
       "<style scoped>\n",
       "    .dataframe tbody tr th:only-of-type {\n",
       "        vertical-align: middle;\n",
       "    }\n",
       "\n",
       "    .dataframe tbody tr th {\n",
       "        vertical-align: top;\n",
       "    }\n",
       "\n",
       "    .dataframe thead th {\n",
       "        text-align: right;\n",
       "    }\n",
       "</style>\n",
       "<table border=\"1\" class=\"dataframe\">\n",
       "  <thead>\n",
       "    <tr style=\"text-align: right;\">\n",
       "      <th></th>\n",
       "      <th>antecedents</th>\n",
       "      <th>consequents</th>\n",
       "      <th>antecedent support</th>\n",
       "      <th>consequent support</th>\n",
       "      <th>support</th>\n",
       "      <th>confidence</th>\n",
       "      <th>lift</th>\n",
       "      <th>leverage</th>\n",
       "      <th>conviction</th>\n",
       "    </tr>\n",
       "  </thead>\n",
       "  <tbody>\n",
       "    <tr>\n",
       "      <th>660</th>\n",
       "      <td>(Organic Yellow Onion)</td>\n",
       "      <td>(Organic Garlic, Bag of Organic Bananas)</td>\n",
       "      <td>0.119248</td>\n",
       "      <td>0.057223</td>\n",
       "      <td>0.025210</td>\n",
       "      <td>0.211409</td>\n",
       "      <td>3.694490</td>\n",
       "      <td>0.018386</td>\n",
       "      <td>1.195522</td>\n",
       "    </tr>\n",
       "    <tr>\n",
       "      <th>657</th>\n",
       "      <td>(Organic Garlic, Bag of Organic Bananas)</td>\n",
       "      <td>(Organic Yellow Onion)</td>\n",
       "      <td>0.057223</td>\n",
       "      <td>0.119248</td>\n",
       "      <td>0.025210</td>\n",
       "      <td>0.440559</td>\n",
       "      <td>3.694490</td>\n",
       "      <td>0.018386</td>\n",
       "      <td>1.574345</td>\n",
       "    </tr>\n",
       "    <tr>\n",
       "      <th>659</th>\n",
       "      <td>(Organic Garlic)</td>\n",
       "      <td>(Organic Yellow Onion, Bag of Organic Bananas)</td>\n",
       "      <td>0.122049</td>\n",
       "      <td>0.057623</td>\n",
       "      <td>0.025210</td>\n",
       "      <td>0.206557</td>\n",
       "      <td>3.584631</td>\n",
       "      <td>0.018177</td>\n",
       "      <td>1.187706</td>\n",
       "    </tr>\n",
       "    <tr>\n",
       "      <th>658</th>\n",
       "      <td>(Organic Yellow Onion, Bag of Organic Bananas)</td>\n",
       "      <td>(Organic Garlic)</td>\n",
       "      <td>0.057623</td>\n",
       "      <td>0.122049</td>\n",
       "      <td>0.025210</td>\n",
       "      <td>0.437500</td>\n",
       "      <td>3.584631</td>\n",
       "      <td>0.018177</td>\n",
       "      <td>1.560802</td>\n",
       "    </tr>\n",
       "    <tr>\n",
       "      <th>797</th>\n",
       "      <td>(Organic Hass Avocado, Organic Strawberries)</td>\n",
       "      <td>(Organic Lemon)</td>\n",
       "      <td>0.075630</td>\n",
       "      <td>0.092437</td>\n",
       "      <td>0.021208</td>\n",
       "      <td>0.280423</td>\n",
       "      <td>3.033670</td>\n",
       "      <td>0.014217</td>\n",
       "      <td>1.261246</td>\n",
       "    </tr>\n",
       "    <tr>\n",
       "      <th>801</th>\n",
       "      <td>(Organic Lemon)</td>\n",
       "      <td>(Organic Hass Avocado, Organic Strawberries)</td>\n",
       "      <td>0.092437</td>\n",
       "      <td>0.075630</td>\n",
       "      <td>0.021208</td>\n",
       "      <td>0.229437</td>\n",
       "      <td>3.033670</td>\n",
       "      <td>0.014217</td>\n",
       "      <td>1.199603</td>\n",
       "    </tr>\n",
       "    <tr>\n",
       "      <th>740</th>\n",
       "      <td>(Organic Avocado, Limes)</td>\n",
       "      <td>(Large Lemon)</td>\n",
       "      <td>0.042417</td>\n",
       "      <td>0.178071</td>\n",
       "      <td>0.022009</td>\n",
       "      <td>0.518868</td>\n",
       "      <td>2.913822</td>\n",
       "      <td>0.014456</td>\n",
       "      <td>1.708323</td>\n",
       "    </tr>\n",
       "    <tr>\n",
       "      <th>741</th>\n",
       "      <td>(Large Lemon)</td>\n",
       "      <td>(Organic Avocado, Limes)</td>\n",
       "      <td>0.178071</td>\n",
       "      <td>0.042417</td>\n",
       "      <td>0.022009</td>\n",
       "      <td>0.123596</td>\n",
       "      <td>2.913822</td>\n",
       "      <td>0.014456</td>\n",
       "      <td>1.092627</td>\n",
       "    </tr>\n",
       "    <tr>\n",
       "      <th>664</th>\n",
       "      <td>(Organic Hass Avocado)</td>\n",
       "      <td>(Organic Lemon, Bag of Organic Bananas)</td>\n",
       "      <td>0.184474</td>\n",
       "      <td>0.050820</td>\n",
       "      <td>0.027211</td>\n",
       "      <td>0.147505</td>\n",
       "      <td>2.902489</td>\n",
       "      <td>0.017836</td>\n",
       "      <td>1.113414</td>\n",
       "    </tr>\n",
       "    <tr>\n",
       "      <th>663</th>\n",
       "      <td>(Organic Lemon, Bag of Organic Bananas)</td>\n",
       "      <td>(Organic Hass Avocado)</td>\n",
       "      <td>0.050820</td>\n",
       "      <td>0.184474</td>\n",
       "      <td>0.027211</td>\n",
       "      <td>0.535433</td>\n",
       "      <td>2.902489</td>\n",
       "      <td>0.017836</td>\n",
       "      <td>1.755455</td>\n",
       "    </tr>\n",
       "    <tr>\n",
       "      <th>800</th>\n",
       "      <td>(Organic Hass Avocado)</td>\n",
       "      <td>(Organic Strawberries, Organic Lemon)</td>\n",
       "      <td>0.184474</td>\n",
       "      <td>0.040416</td>\n",
       "      <td>0.021208</td>\n",
       "      <td>0.114967</td>\n",
       "      <td>2.844591</td>\n",
       "      <td>0.013753</td>\n",
       "      <td>1.084236</td>\n",
       "    </tr>\n",
       "    <tr>\n",
       "      <th>799</th>\n",
       "      <td>(Organic Strawberries, Organic Lemon)</td>\n",
       "      <td>(Organic Hass Avocado)</td>\n",
       "      <td>0.040416</td>\n",
       "      <td>0.184474</td>\n",
       "      <td>0.021208</td>\n",
       "      <td>0.524752</td>\n",
       "      <td>2.844591</td>\n",
       "      <td>0.013753</td>\n",
       "      <td>1.716003</td>\n",
       "    </tr>\n",
       "    <tr>\n",
       "      <th>454</th>\n",
       "      <td>(Organic Yellow Onion)</td>\n",
       "      <td>(Organic Garlic)</td>\n",
       "      <td>0.119248</td>\n",
       "      <td>0.122049</td>\n",
       "      <td>0.041216</td>\n",
       "      <td>0.345638</td>\n",
       "      <td>2.831962</td>\n",
       "      <td>0.026662</td>\n",
       "      <td>1.341689</td>\n",
       "    </tr>\n",
       "    <tr>\n",
       "      <th>453</th>\n",
       "      <td>(Organic Garlic)</td>\n",
       "      <td>(Organic Yellow Onion)</td>\n",
       "      <td>0.122049</td>\n",
       "      <td>0.119248</td>\n",
       "      <td>0.041216</td>\n",
       "      <td>0.337705</td>\n",
       "      <td>2.831962</td>\n",
       "      <td>0.026662</td>\n",
       "      <td>1.329849</td>\n",
       "    </tr>\n",
       "    <tr>\n",
       "      <th>169</th>\n",
       "      <td>(Limes)</td>\n",
       "      <td>(Bunched Cilantro)</td>\n",
       "      <td>0.173669</td>\n",
       "      <td>0.045618</td>\n",
       "      <td>0.022009</td>\n",
       "      <td>0.126728</td>\n",
       "      <td>2.778014</td>\n",
       "      <td>0.014086</td>\n",
       "      <td>1.092880</td>\n",
       "    </tr>\n",
       "  </tbody>\n",
       "</table>\n",
       "</div>"
      ],
      "text/plain": [
       "                                        antecedents  \\\n",
       "660                          (Organic Yellow Onion)   \n",
       "657        (Organic Garlic, Bag of Organic Bananas)   \n",
       "659                                (Organic Garlic)   \n",
       "658  (Organic Yellow Onion, Bag of Organic Bananas)   \n",
       "797    (Organic Hass Avocado, Organic Strawberries)   \n",
       "801                                 (Organic Lemon)   \n",
       "740                        (Organic Avocado, Limes)   \n",
       "741                                   (Large Lemon)   \n",
       "664                          (Organic Hass Avocado)   \n",
       "663         (Organic Lemon, Bag of Organic Bananas)   \n",
       "800                          (Organic Hass Avocado)   \n",
       "799           (Organic Strawberries, Organic Lemon)   \n",
       "454                          (Organic Yellow Onion)   \n",
       "453                                (Organic Garlic)   \n",
       "169                                         (Limes)   \n",
       "\n",
       "                                        consequents  antecedent support  \\\n",
       "660        (Organic Garlic, Bag of Organic Bananas)            0.119248   \n",
       "657                          (Organic Yellow Onion)            0.057223   \n",
       "659  (Organic Yellow Onion, Bag of Organic Bananas)            0.122049   \n",
       "658                                (Organic Garlic)            0.057623   \n",
       "797                                 (Organic Lemon)            0.075630   \n",
       "801    (Organic Hass Avocado, Organic Strawberries)            0.092437   \n",
       "740                                   (Large Lemon)            0.042417   \n",
       "741                        (Organic Avocado, Limes)            0.178071   \n",
       "664         (Organic Lemon, Bag of Organic Bananas)            0.184474   \n",
       "663                          (Organic Hass Avocado)            0.050820   \n",
       "800           (Organic Strawberries, Organic Lemon)            0.184474   \n",
       "799                          (Organic Hass Avocado)            0.040416   \n",
       "454                                (Organic Garlic)            0.119248   \n",
       "453                          (Organic Yellow Onion)            0.122049   \n",
       "169                              (Bunched Cilantro)            0.173669   \n",
       "\n",
       "     consequent support   support  confidence      lift  leverage  conviction  \n",
       "660            0.057223  0.025210    0.211409  3.694490  0.018386    1.195522  \n",
       "657            0.119248  0.025210    0.440559  3.694490  0.018386    1.574345  \n",
       "659            0.057623  0.025210    0.206557  3.584631  0.018177    1.187706  \n",
       "658            0.122049  0.025210    0.437500  3.584631  0.018177    1.560802  \n",
       "797            0.092437  0.021208    0.280423  3.033670  0.014217    1.261246  \n",
       "801            0.075630  0.021208    0.229437  3.033670  0.014217    1.199603  \n",
       "740            0.178071  0.022009    0.518868  2.913822  0.014456    1.708323  \n",
       "741            0.042417  0.022009    0.123596  2.913822  0.014456    1.092627  \n",
       "664            0.050820  0.027211    0.147505  2.902489  0.017836    1.113414  \n",
       "663            0.184474  0.027211    0.535433  2.902489  0.017836    1.755455  \n",
       "800            0.040416  0.021208    0.114967  2.844591  0.013753    1.084236  \n",
       "799            0.184474  0.021208    0.524752  2.844591  0.013753    1.716003  \n",
       "454            0.122049  0.041216    0.345638  2.831962  0.026662    1.341689  \n",
       "453            0.119248  0.041216    0.337705  2.831962  0.026662    1.329849  \n",
       "169            0.045618  0.022009    0.126728  2.778014  0.014086    1.092880  "
      ]
     },
     "execution_count": 145,
     "metadata": {},
     "output_type": "execute_result"
    }
   ],
   "source": [
    "# Let's identify the items purchased with the highest lift \n",
    "rules.sort_values('lift', ascending=False)[:15]"
   ]
  },
  {
   "cell_type": "code",
   "execution_count": 148,
   "metadata": {},
   "outputs": [
    {
     "data": {
      "text/html": [
       "<div>\n",
       "<style scoped>\n",
       "    .dataframe tbody tr th:only-of-type {\n",
       "        vertical-align: middle;\n",
       "    }\n",
       "\n",
       "    .dataframe tbody tr th {\n",
       "        vertical-align: top;\n",
       "    }\n",
       "\n",
       "    .dataframe thead th {\n",
       "        text-align: right;\n",
       "    }\n",
       "</style>\n",
       "<table border=\"1\" class=\"dataframe\">\n",
       "  <thead>\n",
       "    <tr style=\"text-align: right;\">\n",
       "      <th></th>\n",
       "      <th>antecedents</th>\n",
       "      <th>consequents</th>\n",
       "      <th>antecedent support</th>\n",
       "      <th>consequent support</th>\n",
       "      <th>support</th>\n",
       "      <th>confidence</th>\n",
       "      <th>lift</th>\n",
       "      <th>leverage</th>\n",
       "      <th>conviction</th>\n",
       "      <th>items number</th>\n",
       "      <th>description</th>\n",
       "    </tr>\n",
       "  </thead>\n",
       "  <tbody>\n",
       "    <tr>\n",
       "      <th>657</th>\n",
       "      <td>(Organic Garlic, Bag of Organic Bananas)</td>\n",
       "      <td>(Organic Yellow Onion)</td>\n",
       "      <td>0.057223</td>\n",
       "      <td>0.119248</td>\n",
       "      <td>0.025210</td>\n",
       "      <td>0.440559</td>\n",
       "      <td>3.694490</td>\n",
       "      <td>0.018386</td>\n",
       "      <td>1.574345</td>\n",
       "      <td>2</td>\n",
       "      <td>frozenset({'Organic Garlic', 'Bag of Organic B...</td>\n",
       "    </tr>\n",
       "    <tr>\n",
       "      <th>658</th>\n",
       "      <td>(Organic Yellow Onion, Bag of Organic Bananas)</td>\n",
       "      <td>(Organic Garlic)</td>\n",
       "      <td>0.057623</td>\n",
       "      <td>0.122049</td>\n",
       "      <td>0.025210</td>\n",
       "      <td>0.437500</td>\n",
       "      <td>3.584631</td>\n",
       "      <td>0.018177</td>\n",
       "      <td>1.560802</td>\n",
       "      <td>2</td>\n",
       "      <td>frozenset({'Organic Yellow Onion', 'Bag of Org...</td>\n",
       "    </tr>\n",
       "    <tr>\n",
       "      <th>797</th>\n",
       "      <td>(Organic Hass Avocado, Organic Strawberries)</td>\n",
       "      <td>(Organic Lemon)</td>\n",
       "      <td>0.075630</td>\n",
       "      <td>0.092437</td>\n",
       "      <td>0.021208</td>\n",
       "      <td>0.280423</td>\n",
       "      <td>3.033670</td>\n",
       "      <td>0.014217</td>\n",
       "      <td>1.261246</td>\n",
       "      <td>2</td>\n",
       "      <td>frozenset({'Organic Hass Avocado', 'Organic St...</td>\n",
       "    </tr>\n",
       "    <tr>\n",
       "      <th>740</th>\n",
       "      <td>(Organic Avocado, Limes)</td>\n",
       "      <td>(Large Lemon)</td>\n",
       "      <td>0.042417</td>\n",
       "      <td>0.178071</td>\n",
       "      <td>0.022009</td>\n",
       "      <td>0.518868</td>\n",
       "      <td>2.913822</td>\n",
       "      <td>0.014456</td>\n",
       "      <td>1.708323</td>\n",
       "      <td>2</td>\n",
       "      <td>frozenset({'Organic Avocado', 'Limes'})=&gt;froze...</td>\n",
       "    </tr>\n",
       "    <tr>\n",
       "      <th>663</th>\n",
       "      <td>(Organic Lemon, Bag of Organic Bananas)</td>\n",
       "      <td>(Organic Hass Avocado)</td>\n",
       "      <td>0.050820</td>\n",
       "      <td>0.184474</td>\n",
       "      <td>0.027211</td>\n",
       "      <td>0.535433</td>\n",
       "      <td>2.902489</td>\n",
       "      <td>0.017836</td>\n",
       "      <td>1.755455</td>\n",
       "      <td>2</td>\n",
       "      <td>frozenset({'Organic Lemon', 'Bag of Organic Ba...</td>\n",
       "    </tr>\n",
       "  </tbody>\n",
       "</table>\n",
       "</div>"
      ],
      "text/plain": [
       "                                        antecedents             consequents  \\\n",
       "657        (Organic Garlic, Bag of Organic Bananas)  (Organic Yellow Onion)   \n",
       "658  (Organic Yellow Onion, Bag of Organic Bananas)        (Organic Garlic)   \n",
       "797    (Organic Hass Avocado, Organic Strawberries)         (Organic Lemon)   \n",
       "740                        (Organic Avocado, Limes)           (Large Lemon)   \n",
       "663         (Organic Lemon, Bag of Organic Bananas)  (Organic Hass Avocado)   \n",
       "\n",
       "     antecedent support  consequent support   support  confidence      lift  \\\n",
       "657            0.057223            0.119248  0.025210    0.440559  3.694490   \n",
       "658            0.057623            0.122049  0.025210    0.437500  3.584631   \n",
       "797            0.075630            0.092437  0.021208    0.280423  3.033670   \n",
       "740            0.042417            0.178071  0.022009    0.518868  2.913822   \n",
       "663            0.050820            0.184474  0.027211    0.535433  2.902489   \n",
       "\n",
       "     leverage  conviction  items number  \\\n",
       "657  0.018386    1.574345             2   \n",
       "658  0.018177    1.560802             2   \n",
       "797  0.014217    1.261246             2   \n",
       "740  0.014456    1.708323             2   \n",
       "663  0.017836    1.755455             2   \n",
       "\n",
       "                                           description  \n",
       "657  frozenset({'Organic Garlic', 'Bag of Organic B...  \n",
       "658  frozenset({'Organic Yellow Onion', 'Bag of Org...  \n",
       "797  frozenset({'Organic Hass Avocado', 'Organic St...  \n",
       "740  frozenset({'Organic Avocado', 'Limes'})=>froze...  \n",
       "663  frozenset({'Organic Lemon', 'Bag of Organic Ba...  "
      ]
     },
     "execution_count": 148,
     "metadata": {},
     "output_type": "execute_result"
    }
   ],
   "source": [
    "# We can also identify recomemndations in baskets with more than 1 items purchased\n",
    "rules['items number'] = rules['antecedents'].apply(lambda x: len(x))\n",
    "rules['description'] = rules['antecedents'].astype(\n",
    "    \"unicode\") + \"=>\" + rules['consequents'].astype(\"unicode\")\n",
    "rules_sorted = rules[rules['items number'] > 1].sort_values('lift', ascending=False).head()\n",
    "rules_sorted"
   ]
  },
  {
   "cell_type": "markdown",
   "metadata": {},
   "source": [
    "**We now have a way to recommend customers addtional product based on the patterns in the Instacart dataset !**"
   ]
  },
  {
   "cell_type": "code",
   "execution_count": 159,
   "metadata": {},
   "outputs": [
    {
     "data": {
      "text/plain": [
       "(\"frozenset({'Organic Garlic', 'Bag of Organic Bananas'})=>frozenset({'Organic Yellow Onion'})\",\n",
       " \"frozenset({'Organic Avocado', 'Limes'})=>frozenset({'Large Lemon'})\")"
      ]
     },
     "execution_count": 159,
     "metadata": {},
     "output_type": "execute_result"
    }
   ],
   "source": [
    "rules_sorted['description'].iloc[0], rules_sorted['description'].iloc[3]"
   ]
  },
  {
   "cell_type": "markdown",
   "metadata": {},
   "source": [
    "#### Visualize the Market Basket Analysis and products purchased together and their lift (strength of their relationships)\n",
    "\n",
    "* As previously identified, Organic Garlic, Bag of Organic Bananas and Organic Yellow Onion have strong relationships\n",
    "* Other examples include Organic Hass Avocado, Organic Strawberrie and Organic Lemon "
   ]
  },
  {
   "cell_type": "code",
   "execution_count": 161,
   "metadata": {},
   "outputs": [
    {
     "data": {
      "image/png": "[encoded data removed]",
      "text/plain": [
       "<Figure size 864x1440 with 2 Axes>"
      ]
     },
     "metadata": {},
     "output_type": "display_data"
    }
   ],
   "source": [
    "# Heatmap showing the the items lift \n",
    "import seaborn as sns\n",
    "import matplotlib.pyplot as plt\n",
    "sns.set(rc={'figure.figsize': (12, 20)})\n",
    "\n",
    "# Replace frozen sets with strings\n",
    "rules['antecedents_'] = rules['antecedents'].apply(lambda a: ','.join(list(a)))\n",
    "rules['consequents_'] = rules['consequents'].apply(lambda a: ','.join(list(a)))\n",
    "\n",
    "\n",
    "# Transform the DataFrame of rules into a matrix using the lift metric\n",
    "pivot = rules[rules['items number'] > 1].pivot(index='antecedents_',\n",
    "                                               columns='consequents_', values='lift')\n",
    "\n",
    "# Generate a heatmap with annotations on and the colorbar off\n",
    "sns.heatmap(pivot, annot=True, cmap=\"YlGnBu\")\n",
    "plt.yticks(rotation=0)\n",
    "plt.xticks(rotation=90)\n",
    "plt.show()"
   ]
  },
  {
   "cell_type": "code",
   "execution_count": 162,
   "metadata": {},
   "outputs": [
    {
     "data": {
      "application/vnd.plotly.v1+json": {
       "config": {
        "plotlyServerURL": "https://plot.ly"
       },
       "data": [
        {
         "customdata": [
          [
           1.259576612903226
          ],
          [
           1.7804580152671756
          ],
          [
           2.1517775827523966
          ],
          [
           2.151777582752397
          ],
          [
           1.5730112043215034
          ],
          [
           1.2255632183908047
          ],
          [
           1.2255632183908045
          ],
          [
           1.003800519095291
          ],
          [
           1.003800519095291
          ],
          [
           1.3340049076585303
          ],
          [
           1.33400490765853
          ],
          [
           1.456062291434928
          ],
          [
           1.4560622914349277
          ],
          [
           1.5593103448275862
          ],
          [
           1.5593103448275862
          ],
          [
           1.7119028843166775
          ],
          [
           1.7119028843166775
          ],
          [
           1.3898776418242493
          ],
          [
           1.3898776418242493
          ],
          [
           1.1007804123968385
          ],
          [
           1.1007804123968385
          ],
          [
           1.3557115247685894
          ],
          [
           1.3557115247685894
          ],
          [
           2.0120772946859904
          ],
          [
           2.0120772946859904
          ],
          [
           1.177101104620104
          ],
          [
           1.1771011046201039
          ],
          [
           1.9149425287356323
          ],
          [
           1.9149425287356323
          ],
          [
           1.2681492537313432
          ],
          [
           1.1651779141104295
          ],
          [
           1.309592039800995
          ],
          [
           1.309592039800995
          ],
          [
           1.4183513513513515
          ],
          [
           0.9343703703703705
          ],
          [
           0.9471675126903553
          ],
          [
           0.8685662921348315
          ],
          [
           0.8685662921348315
          ],
          [
           1.059483870967742
          ],
          [
           1.059483870967742
          ],
          [
           1.2638620689655173
          ],
          [
           0.8663200000000001
          ],
          [
           0.8663200000000001
          ],
          [
           1.4956136363636363
          ],
          [
           1.4956136363636363
          ],
          [
           1.4238061674008813
          ],
          [
           1.4238061674008813
          ],
          [
           1.4477920997920999
          ],
          [
           1.4477920997920999
          ],
          [
           1.6660000000000001
          ],
          [
           0.9769214659685864
          ],
          [
           1.343377777777778
          ],
          [
           1.3433777777777778
          ],
          [
           1.972544
          ],
          [
           1.6434864864864867
          ],
          [
           1.3838548387096776
          ],
          [
           1.3838548387096774
          ],
          [
           1.6033010752688175
          ],
          [
           1.6033010752688175
          ],
          [
           1.586666666666667
          ],
          [
           1.5866666666666667
          ],
          [
           1.4495141242937855
          ],
          [
           1.4495141242937857
          ],
          [
           1.562216393442623
          ],
          [
           1.562216393442623
          ],
          [
           1.3793763440860216
          ],
          [
           1.3793763440860218
          ],
          [
           1.6305531914893618
          ],
          [
           1.5754565217391305
          ],
          [
           1.5754565217391305
          ],
          [
           1.246
          ],
          [
           1.246
          ],
          [
           1.2097070063694269
          ],
          [
           1.958724511930586
          ],
          [
           1.958724511930586
          ],
          [
           1.3826666666666667
          ],
          [
           1.8207650273224047
          ],
          [
           1.8207650273224047
          ],
          [
           1.6802393162393163
          ],
          [
           1.6584615384615384
          ],
          [
           1.6584615384615384
          ],
          [
           1.8318787878787877
          ],
          [
           1.8318787878787879
          ],
          [
           2.1658000000000004
          ],
          [
           2.1658000000000004
          ],
          [
           1.2060613496932515
          ],
          [
           1.6807433628318584
          ],
          [
           1.6807433628318587
          ],
          [
           1.3827800000000001
          ],
          [
           1.3827800000000001
          ],
          [
           1.4366231884057972
          ],
          [
           1.4366231884057972
          ],
          [
           1.5192538860103628
          ],
          [
           1.519253886010363
          ],
          [
           1.3544715447154472
          ],
          [
           1.4986506746626689
          ],
          [
           1.4986506746626689
          ],
          [
           1.46608
          ],
          [
           1.46608
          ],
          [
           1.6660000000000001
          ],
          [
           1.2804192139737993
          ],
          [
           1.2804192139737993
          ],
          [
           1.6217699115044248
          ],
          [
           1.6189378531073448
          ],
          [
           1.6189378531073448
          ],
          [
           1.6100939597315436
          ],
          [
           1.6100939597315436
          ],
          [
           1.37445
          ],
          [
           1.3744500000000002
          ],
          [
           1.254179775280899
          ],
          [
           1.1416414342629484
          ],
          [
           1.1416414342629484
          ],
          [
           0.5441948424068769
          ],
          [
           1.1856196319018404
          ],
          [
           1.404618768328446
          ],
          [
           1.3285086663456909
          ],
          [
           0.9525156475686087
          ],
          [
           1.1907108721624853
          ],
          [
           1.3640085148190602
          ],
          [
           1.3640085148190602
          ],
          [
           1.3737404856832187
          ],
          [
           1.3737404856832187
          ],
          [
           1.1144640998959419
          ],
          [
           1.1144640998959419
          ],
          [
           1.5258870967741935
          ],
          [
           1.5258870967741935
          ],
          [
           1.0357751882904649
          ],
          [
           0.8449550667292604
          ],
          [
           0.8449550667292604
          ],
          [
           1.0903141361256543
          ],
          [
           0.9810035842293908
          ],
          [
           0.9810035842293907
          ],
          [
           0.7855424037460979
          ],
          [
           0.8577761879986125
          ],
          [
           0.8577761879986125
          ],
          [
           1.3346507156590472
          ],
          [
           0.986786950975032
          ],
          [
           0.792913802221047
          ],
          [
           0.9390391952826918
          ],
          [
           1.030241935483871
          ],
          [
           0.47359352039745295
          ],
          [
           0.7751240694789082
          ],
          [
           1.215787650900455
          ],
          [
           0.7356819155009993
          ],
          [
           0.7356819155009992
          ],
          [
           0.890100806451613
          ],
          [
           0.7423591631603553
          ],
          [
           0.8913345746481599
          ],
          [
           0.8913345746481598
          ],
          [
           0.8733064516129033
          ],
          [
           1.041396675588111
          ],
          [
           0.8002679151331458
          ],
          [
           0.955178931451613
          ],
          [
           0.9551789314516129
          ],
          [
           1.541776837652036
          ],
          [
           1.541776837652036
          ],
          [
           1.3645413306451613
          ],
          [
           1.2177580002570365
          ],
          [
           1.2177580002570365
          ],
          [
           1.1582313681868746
          ],
          [
           1.520634993992051
          ],
          [
           1.5206349939920507
          ],
          [
           1.5423387096774193
          ],
          [
           1.5423387096774195
          ],
          [
           1.769805924412666
          ],
          [
           1.7698059244126658
          ],
          [
           1.5743715743715745
          ],
          [
           1.5743715743715745
          ],
          [
           2.778013582342954
          ],
          [
           2.7780135823429544
          ],
          [
           1.5937143368614202
          ],
          [
           1.1722574295674248
          ],
          [
           1.5250255996524653
          ],
          [
           1.5250255996524655
          ],
          [
           1.7713448884609215
          ],
          [
           1.7713448884609215
          ],
          [
           1.4024023051769352
          ],
          [
           1.4024023051769354
          ],
          [
           1.5678576145819576
          ],
          [
           1.5678576145819578
          ],
          [
           1.5657544362147287
          ],
          [
           1.5657544362147289
          ],
          [
           2.020335820895522
          ],
          [
           2.0203358208955224
          ],
          [
           1.9307327077597347
          ],
          [
           1.9307327077597347
          ],
          [
           1.7467381174277727
          ],
          [
           1.746738117427773
          ],
          [
           1.5393855393855396
          ],
          [
           1.5393855393855396
          ],
          [
           1.0109945027486258
          ],
          [
           1.3693254895394942
          ],
          [
           1.3693254895394942
          ],
          [
           2.6048387096774195
          ],
          [
           2.6048387096774195
          ],
          [
           2.122073214932947
          ],
          [
           2.122073214932947
          ],
          [
           1.877258426966292
          ],
          [
           1.8772584269662922
          ],
          [
           1.4843340098005247
          ],
          [
           1.4843340098005247
          ],
          [
           1.3543133453245813
          ],
          [
           1.3543133453245813
          ],
          [
           1.1231460674157303
          ],
          [
           1.1231460674157303
          ],
          [
           1.426576658209496
          ],
          [
           1.4265766582094963
          ],
          [
           1.3284523378035522
          ],
          [
           1.328452337803552
          ],
          [
           1.4177417572296924
          ],
          [
           1.4177417572296924
          ],
          [
           1.415730337078652
          ],
          [
           1.4157303370786518
          ],
          [
           0.7918057959004606
          ],
          [
           0.7918057959004606
          ],
          [
           0.9069652978025255
          ],
          [
           0.9069652978025257
          ],
          [
           1.5260136785539813
          ],
          [
           1.5260136785539813
          ],
          [
           1.0608426124016646
          ],
          [
           1.0608426124016643
          ],
          [
           1.3978018742946863
          ],
          [
           1.3978018742946865
          ],
          [
           1.149528693160395
          ],
          [
           1.149528693160395
          ],
          [
           1.4214817415730336
          ],
          [
           1.4214817415730334
          ],
          [
           1.454272796454631
          ],
          [
           1.454272796454631
          ],
          [
           1.3516371011879846
          ],
          [
           1.3516371011879846
          ],
          [
           1.8623595505617976
          ],
          [
           1.8623595505617978
          ],
          [
           1.7438709677419357
          ],
          [
           1.7438709677419357
          ],
          [
           1.6685300586510263
          ],
          [
           1.668530058651026
          ],
          [
           1.3886392596070014
          ],
          [
           1.3886392596070016
          ],
          [
           0.9139784946236561
          ],
          [
           0.9139784946236561
          ],
          [
           2.252146201873049
          ],
          [
           2.252146201873049
          ],
          [
           1.439516129032258
          ],
          [
           1.439516129032258
          ],
          [
           1.566948704389212
          ],
          [
           1.566948704389212
          ],
          [
           1.2365474774333496
          ],
          [
           1.2365474774333496
          ],
          [
           1.3709677419354838
          ],
          [
           1.3709677419354838
          ],
          [
           1.0318655438195832
          ],
          [
           1.0318655438195832
          ],
          [
           1.439516129032258
          ],
          [
           1.4395161290322582
          ],
          [
           1.940217391304348
          ],
          [
           1.9402173913043477
          ],
          [
           1.2690187164482276
          ],
          [
           1.2690187164482276
          ],
          [
           1.4970967741935484
          ],
          [
           1.4970967741935486
          ],
          [
           1.391210218662048
          ],
          [
           1.391210218662048
          ],
          [
           1.4215221774193547
          ],
          [
           1.4215221774193547
          ],
          [
           1.7620306716023268
          ],
          [
           1.7620306716023268
          ],
          [
           1.1929057961701581
          ],
          [
           1.1929057961701581
          ],
          [
           0.8249376097606064
          ],
          [
           0.8249376097606064
          ],
          [
           2.22149258011327
          ],
          [
           2.22149258011327
          ],
          [
           1.3177790415137258
          ],
          [
           1.761409691629956
          ],
          [
           1.761409691629956
          ],
          [
           1.4844074844074844
          ],
          [
           1.4844074844074844
          ],
          [
           1.2013333333333334
          ],
          [
           1.2013333333333334
          ],
          [
           1.4395161290322582
          ],
          [
           1.439516129032258
          ],
          [
           1.2283870967741937
          ],
          [
           1.2283870967741937
          ],
          [
           1.2641311475409835
          ],
          [
           1.2641311475409838
          ],
          [
           1.9500000000000002
          ],
          [
           1.95
          ],
          [
           0.96358407079646
          ],
          [
           0.9635840707964601
          ],
          [
           1.2934782608695652
          ],
          [
           1.2934782608695652
          ],
          [
           1.2952623688155924
          ],
          [
           1.2952623688155922
          ],
          [
           1.6213100436681223
          ],
          [
           1.6213100436681225
          ],
          [
           1.2718125
          ],
          [
           1.2718125
          ],
          [
           1.5360956175298808
          ],
          [
           1.5360956175298808
          ],
          [
           1.0229226361031518
          ],
          [
           1.0229226361031518
          ],
          [
           1.9482848232848233
          ],
          [
           1.9482848232848233
          ],
          [
           1.192108491208941
          ],
          [
           1.6936631650288037
          ],
          [
           1.6936631650288037
          ],
          [
           1.7460210316896405
          ],
          [
           1.7460210316896407
          ],
          [
           1.3372958613242616
          ],
          [
           1.3372958613242616
          ],
          [
           1.3152118825776775
          ],
          [
           1.3152118825776775
          ],
          [
           1.7000112278662431
          ],
          [
           1.7000112278662434
          ],
          [
           1.2205128205128206
          ],
          [
           1.2205128205128204
          ],
          [
           1.634045335658239
          ],
          [
           1.634045335658239
          ],
          [
           1.801639729059084
          ],
          [
           1.8016397290590842
          ],
          [
           1.6493416493416495
          ],
          [
           1.6493416493416495
          ],
          [
           1.6731033510694528
          ],
          [
           1.6731033510694528
          ],
          [
           1.550110766504209
          ],
          [
           1.550110766504209
          ],
          [
           2.1787271142109854
          ],
          [
           2.1787271142109854
          ],
          [
           1.879196708983943
          ],
          [
           1.879196708983943
          ],
          [
           1.6094526801048543
          ],
          [
           1.609452680104854
          ],
          [
           1.8773388773388775
          ],
          [
           1.8773388773388775
          ],
          [
           1.5327070771756237
          ],
          [
           1.532707077175624
          ],
          [
           1.8024948024948024
          ],
          [
           1.8024948024948024
          ],
          [
           1.5045578122501202
          ],
          [
           1.50455781225012
          ],
          [
           1.6193536193536193
          ],
          [
           1.6193536193536193
          ],
          [
           1.4137996062774825
          ],
          [
           1.4137996062774825
          ],
          [
           1.5326507276507277
          ],
          [
           1.5326507276507275
          ],
          [
           1.8071047636265025
          ],
          [
           1.8071047636265027
          ],
          [
           1.5074811758749584
          ],
          [
           1.5074811758749584
          ],
          [
           1.4877457321235434
          ],
          [
           1.4877457321235434
          ],
          [
           1.6885135135135136
          ],
          [
           1.6885135135135132
          ],
          [
           1.5200591925482756
          ],
          [
           1.5200591925482756
          ],
          [
           1.6213913965591815
          ],
          [
           1.6213913965591817
          ],
          [
           1.9320491164241163
          ],
          [
           1.9320491164241163
          ],
          [
           1.5761405311967112
          ],
          [
           1.576140531196711
          ],
          [
           1.15913891212696
          ],
          [
           1.15913891212696
          ],
          [
           0.7741036165104932
          ],
          [
           0.7741036165104932
          ],
          [
           1.6651674162918544
          ],
          [
           1.2357983312008918
          ],
          [
           1.2155913978494626
          ],
          [
           1.2155913978494626
          ],
          [
           1.3250903832248737
          ],
          [
           1.3250903832248735
          ],
          [
           1.7551622418879058
          ],
          [
           1.7551622418879058
          ],
          [
           1.6651674162918544
          ],
          [
           1.6651674162918544
          ],
          [
           1.331096196868009
          ],
          [
           1.331096196868009
          ],
          [
           1.4131250000000002
          ],
          [
           1.4131250000000002
          ],
          [
           1.6185427286356824
          ],
          [
           2.0511227062203203
          ],
          [
           2.0511227062203203
          ],
          [
           1.2657522590056325
          ],
          [
           1.7336108220603539
          ],
          [
           1.7336108220603543
          ],
          [
           2.213551031200423
          ],
          [
           2.2135510312004234
          ],
          [
           1.3770642362325942
          ],
          [
           1.377064236232594
          ],
          [
           1.2261365258349985
          ],
          [
           1.2261365258349985
          ],
          [
           2.519153225806452
          ],
          [
           2.5191532258064515
          ],
          [
           1.253911350776225
          ],
          [
           1.253911350776225
          ],
          [
           1.9612199610305259
          ],
          [
           1.961219961030526
          ],
          [
           1.7319178427419355
          ],
          [
           1.7319178427419355
          ],
          [
           1.9193548387096777
          ],
          [
           1.9193548387096777
          ],
          [
           1.563802221047065
          ],
          [
           1.563802221047065
          ],
          [
           1.8058446063128688
          ],
          [
           1.8058446063128688
          ],
          [
           2.145161290322581
          ],
          [
           2.145161290322581
          ],
          [
           1.9235182982296553
          ],
          [
           1.9235182982296553
          ],
          [
           1.5502481389578162
          ],
          [
           1.5502481389578164
          ],
          [
           1.744868035190616
          ],
          [
           1.7448680351906158
          ],
          [
           1.5605373965172713
          ],
          [
           1.560537396517271
          ],
          [
           1.981733870967742
          ],
          [
           1.981733870967742
          ],
          [
           1.7524544179523143
          ],
          [
           1.7524544179523143
          ],
          [
           2.018803275948521
          ],
          [
           2.018803275948521
          ],
          [
           1.702096532378972
          ],
          [
           1.702096532378972
          ],
          [
           1.5254261163544163
          ],
          [
           1.5254261163544163
          ],
          [
           1.9356205576817935
          ],
          [
           1.9356205576817933
          ],
          [
           1.7583351374756442
          ],
          [
           1.7583351374756442
          ],
          [
           1.742414314516129
          ],
          [
           1.7424143145161293
          ],
          [
           1.950349481802844
          ],
          [
           1.9503494818028444
          ],
          [
           1.6674041297935105
          ],
          [
           1.6674041297935107
          ],
          [
           1.883225054139597
          ],
          [
           1.8832250541395972
          ],
          [
           1.4393820039132978
          ],
          [
           1.4393820039132976
          ],
          [
           1.5995874968884465
          ],
          [
           1.5995874968884463
          ],
          [
           2.3764530551415795
          ],
          [
           2.3764530551415795
          ],
          [
           1.5045480922675178
          ],
          [
           1.5045480922675178
          ],
          [
           2.089327868852459
          ],
          [
           2.0893278688524584
          ],
          [
           2.078047042052744
          ],
          [
           2.078047042052744
          ],
          [
           1.3635264335045594
          ],
          [
           1.3635264335045594
          ],
          [
           2.8319617119595115
          ],
          [
           2.8319617119595115
          ],
          [
           1.5362704918032786
          ],
          [
           1.5362704918032786
          ],
          [
           1.544643481911693
          ],
          [
           1.544643481911693
          ],
          [
           1.545675135598059
          ],
          [
           1.5456751355980591
          ],
          [
           1.4704502587415973
          ],
          [
           1.4704502587415973
          ],
          [
           1.3285910236371177
          ],
          [
           1.8929997114274724
          ],
          [
           1.8929997114274724
          ],
          [
           1.6289681246333358
          ],
          [
           1.6289681246333356
          ],
          [
           1.3665943600867683
          ],
          [
           1.3665943600867683
          ],
          [
           1.3705752212389382
          ],
          [
           1.3705752212389382
          ],
          [
           1.5112443778110944
          ],
          [
           1.5112443778110947
          ],
          [
           1.8046875
          ],
          [
           1.8046875
          ],
          [
           2.1031613385014762
          ],
          [
           2.103161338501476
          ],
          [
           1.667945936926414
          ],
          [
           1.667945936926414
          ],
          [
           2.53441135870637
          ],
          [
           2.5344113587063695
          ],
          [
           1.7509742191849194
          ],
          [
           1.7509742191849196
          ],
          [
           1.5720390455531454
          ],
          [
           1.5720390455531452
          ],
          [
           1.3944874092238047
          ],
          [
           1.3944874092238044
          ],
          [
           1.5447944882155262
          ],
          [
           1.5447944882155262
          ],
          [
           1.5360356698006745
          ],
          [
           1.5360356698006747
          ],
          [
           1.5720390455531454
          ],
          [
           1.5720390455531452
          ],
          [
           1.561932423986176
          ],
          [
           1.5619324239861758
          ],
          [
           1.8190685553727672
          ],
          [
           1.8190685553727672
          ],
          [
           1.456846529284165
          ],
          [
           1.4568465292841648
          ],
          [
           1.5547226386806596
          ],
          [
           1.7220731176555928
          ],
          [
           1.7220731176555928
          ],
          [
           1.6173962199228256
          ],
          [
           1.6173962199228256
          ],
          [
           1.801225323349217
          ],
          [
           1.8012253233492173
          ],
          [
           1.5766347595433052
          ],
          [
           1.5766347595433055
          ],
          [
           2.010458567980692
          ],
          [
           2.0104585679806917
          ],
          [
           1.6381354777156878
          ],
          [
           1.6381354777156876
          ],
          [
           2.141854789505796
          ],
          [
           2.141854789505796
          ],
          [
           1.6592203898050975
          ],
          [
           1.2412137489537443
          ],
          [
           1.5204092920353982
          ],
          [
           1.5204092920353982
          ],
          [
           1.4222537514428626
          ],
          [
           1.4222537514428626
          ],
          [
           1.5182608097574397
          ],
          [
           1.51826080975744
          ],
          [
           1.7158223985352457
          ],
          [
           1.7158223985352459
          ],
          [
           1.4651216814159291
          ],
          [
           1.4651216814159294
          ],
          [
           1.3037253159176105
          ],
          [
           1.3037253159176103
          ],
          [
           1.428572489160777
          ],
          [
           1.428572489160777
          ],
          [
           1.2785259955752213
          ],
          [
           1.2785259955752213
          ],
          [
           1.2775623171032684
          ],
          [
           1.2775623171032684
          ],
          [
           1.5361169415292355
          ],
          [
           1.5361169415292357
          ],
          [
           2.431912751677852
          ],
          [
           2.431912751677852
          ],
          [
           1.3981976403102798
          ],
          [
           1.3981976403102798
          ],
          [
           2.157243945141523
          ],
          [
           2.157243945141523
          ],
          [
           1.9523437499999998
          ],
          [
           1.9523437499999998
          ],
          [
           1.3394675719135252
          ],
          [
           1.3394675719135252
          ],
          [
           1.4799175412293852
          ],
          [
           1.4799175412293852
          ],
          [
           1.390669294173874
          ],
          [
           1.390669294173874
          ],
          [
           1.5452189159657461
          ],
          [
           1.5452189159657463
          ],
          [
           1.3955555779157403
          ],
          [
           1.3955555779157403
          ],
          [
           1.2644865067466269
          ],
          [
           1.2644865067466267
          ],
          [
           1.494440981756313
          ],
          [
           1.494440981756313
          ],
          [
           1.323808095952024
          ],
          [
           1.0441418634944823
          ],
          [
           1.2687779616168013
          ],
          [
           1.2687779616168016
          ],
          [
           1.3331555081355027
          ],
          [
           1.7392057860262007
          ],
          [
           1.739205786026201
          ],
          [
           1.5199454697986576
          ],
          [
           1.5199454697986576
          ],
          [
           1.768718820991107
          ],
          [
           1.768718820991107
          ],
          [
           1.8174545454545459
          ],
          [
           1.147363409117962
          ],
          [
           2.121192115439027
          ],
          [
           2.121192115439027
          ],
          [
           1.1473634091179623
          ],
          [
           1.2920000000000003
          ],
          [
           1.094032258064516
          ],
          [
           1.547519718401669
          ],
          [
           1.0940322580645163
          ],
          [
           1.908193832599119
          ],
          [
           2.008500904187082
          ],
          [
           1.6821747572815535
          ],
          [
           1.908193832599119
          ],
          [
           1.7822325581395349
          ],
          [
           2.002706187063729
          ],
          [
           2.2178191078870197
          ],
          [
           2.2178191078870197
          ],
          [
           2.002706187063729
          ],
          [
           2.1315
          ],
          [
           1.667904350561177
          ],
          [
           2.2565153763920747
          ],
          [
           2.2565153763920747
          ],
          [
           1.6679043505611768
          ],
          [
           2.1315000000000004
          ],
          [
           1.896260162601626
          ],
          [
           1.595086989823832
          ],
          [
           1.8517381547190586
          ],
          [
           1.8517381547190586
          ],
          [
           1.595086989823832
          ],
          [
           1.7701250000000002
          ],
          [
           2.2094341585188264
          ],
          [
           2.2266112266112263
          ],
          [
           2.2266112266112263
          ],
          [
           2.2094341585188264
          ],
          [
           1.7270575916230366
          ],
          [
           1.7144906444906443
          ],
          [
           1.774717904205792
          ],
          [
           1.7747179042057917
          ],
          [
           1.7144906444906445
          ],
          [
           1.7270575916230366
          ],
          [
           1.827225806451613
          ],
          [
           2.046321569634886
          ],
          [
           1.8400467775467775
          ],
          [
           1.8400467775467775
          ],
          [
           2.046321569634886
          ],
          [
           1.4840000000000002
          ],
          [
           2.086042336042336
          ],
          [
           1.980367822966507
          ],
          [
           1.9803678229665072
          ],
          [
           2.086042336042336
          ],
          [
           1.86592
          ],
          [
           2.4378788934569022
          ],
          [
           1.9485380116959063
          ],
          [
           1.9485380116959063
          ],
          [
           2.4378788934569022
          ],
          [
           1.7374000000000003
          ],
          [
           2.153572819889268
          ],
          [
           1.9304444444444446
          ],
          [
           1.9304444444444446
          ],
          [
           2.1535728198892685
          ],
          [
           2.145606060606061
          ],
          [
           2.574134441764927
          ],
          [
           2.107040828472801
          ],
          [
           2.107040828472801
          ],
          [
           2.5741344417649272
          ],
          [
           2.145606060606061
          ],
          [
           2.0309333333333335
          ],
          [
           1.8856819468024901
          ],
          [
           1.9767637316458202
          ],
          [
           1.9767637316458202
          ],
          [
           1.8856819468024901
          ],
          [
           1.8335857988165678
          ],
          [
           1.946571407033913
          ],
          [
           2.0825
          ],
          [
           2.0825
          ],
          [
           1.9465714070339133
          ],
          [
           1.833585798816568
          ],
          [
           1.9992000000000005
          ],
          [
           2.047024558955145
          ],
          [
           1.6326417034662148
          ],
          [
           1.6326417034662148
          ],
          [
           2.047024558955145
          ],
          [
           1.590954954954955
          ],
          [
           1.3886098908587665
          ],
          [
           1.4475081967213115
          ],
          [
           1.4475081967213115
          ],
          [
           2.038019417475728
          ],
          [
           3.6944900736847046
          ],
          [
           3.5846311475409833
          ],
          [
           3.5846311475409833
          ],
          [
           3.6944900736847046
          ],
          [
           2.0979259259259257
          ],
          [
           2.714525327071452
          ],
          [
           2.902488598903445
          ],
          [
           2.902488598903445
          ],
          [
           2.714525327071452
          ],
          [
           2.305013698630137
          ],
          [
           2.4013300605091907
          ],
          [
           2.060534565522646
          ],
          [
           2.0605345655226466
          ],
          [
           2.4013300605091903
          ],
          [
           2.305013698630137
          ],
          [
           2.115555555555556
          ],
          [
           1.659022887080445
          ],
          [
           2.1683297180043386
          ],
          [
           2.1683297180043386
          ],
          [
           1.659022887080445
          ],
          [
           2.115555555555556
          ],
          [
           2.2324400000000004
          ],
          [
           2.073268283018401
          ],
          [
           2.5221890817064354
          ],
          [
           2.522189081706436
          ],
          [
           2.073268283018401
          ],
          [
           1.7290129151291511
          ],
          [
           2.324651162790698
          ],
          [
           2.464011043186748
          ],
          [
           2.4640110431867486
          ],
          [
           1.7290129151291511
          ],
          [
           2.1932151898734182
          ],
          [
           2.366994535519126
          ],
          [
           1.9482458770614695
          ],
          [
           2.3669945355191255
          ],
          [
           2.0063655913978495
          ],
          [
           1.907373585934306
          ],
          [
           2.1107692307692307
          ],
          [
           2.1107692307692307
          ],
          [
           2.300666666666667
          ],
          [
           2.7519936204146727
          ],
          [
           2.5249459967946484
          ],
          [
           2.524945996794649
          ],
          [
           2.7519936204146727
          ],
          [
           1.9464158415841584
          ],
          [
           2.1275757575757575
          ],
          [
           1.7405588544310524
          ],
          [
           2.127575757575758
          ],
          [
           1.7706280193236716
          ],
          [
           1.807583050579973
          ],
          [
           2.027212389380531
          ],
          [
           2.027212389380531
          ],
          [
           1.8075830505799733
          ],
          [
           1.7706280193236716
          ],
          [
           1.6209729729729732
          ],
          [
           1.5094630872483223
          ],
          [
           1.4049850074962522
          ],
          [
           1.5094630872483223
          ],
          [
           1.7894074074074073
          ],
          [
           1.6462450592885376
          ],
          [
           1.5098125
          ],
          [
           1.5098125
          ],
          [
           1.8982630272952854
          ],
          [
           2.3398876404494384
          ],
          [
           1.2288552321007082
          ],
          [
           2.339887640449438
          ],
          [
           1.8982630272952854
          ],
          [
           2.0792307692307688
          ],
          [
           1.8719101123595507
          ],
          [
           1.5215398400882272
          ],
          [
           1.8719101123595507
          ],
          [
           2.079230769230769
          ],
          [
           1.8831405964698722
          ],
          [
           2.578333333333333
          ],
          [
           1.6477480219111382
          ],
          [
           2.5783333333333336
          ],
          [
           1.8831405964698722
          ],
          [
           2.178305084745763
          ],
          [
           1.2724392520720773
          ],
          [
           1.4990002665955746
          ],
          [
           2.1783050847457632
          ],
          [
           2.706782464846981
          ],
          [
           2.394512195121951
          ],
          [
           2.913822344710621
          ],
          [
           2.913822344710621
          ],
          [
           2.394512195121951
          ],
          [
           2.706782464846981
          ],
          [
           2.5315628476084537
          ],
          [
           2.468984889577683
          ],
          [
           1.615650829065463
          ],
          [
           1.615650829065463
          ],
          [
           2.468984889577683
          ],
          [
           2.5315628476084537
          ],
          [
           2.4220430107526885
          ],
          [
           2.0247191011235954
          ],
          [
           1.2108000877609975
          ],
          [
           2.0247191011235954
          ],
          [
           2.4220430107526885
          ],
          [
           1.5374936666103696
          ],
          [
           1.8024948024948024
          ],
          [
           1.6472238018921574
          ],
          [
           1.8024948024948024
          ],
          [
           1.5374936666103696
          ],
          [
           2.1647609147609144
          ],
          [
           2.31120415678757
          ],
          [
           2.716733870967742
          ],
          [
           2.716733870967742
          ],
          [
           2.31120415678757
          ],
          [
           2.164760914760915
          ],
          [
           1.9982408443946904
          ],
          [
           1.8878351521913463
          ],
          [
           2.2861425434892753
          ],
          [
           2.2861425434892757
          ],
          [
           1.9982408443946906
          ],
          [
           1.731808731808732
          ],
          [
           1.735569715142429
          ],
          [
           1.7880205789826353
          ],
          [
           1.7880205789826351
          ],
          [
           1.731808731808732
          ],
          [
           1.6314140227183707
          ],
          [
           1.9799246718104364
          ],
          [
           1.881515544641616
          ],
          [
           1.881515544641616
          ],
          [
           1.6314140227183707
          ],
          [
           2.1355772113943035
          ],
          [
           2.250995575221239
          ],
          [
           2.184541062801933
          ],
          [
           2.184541062801933
          ],
          [
           2.2509955752212387
          ],
          [
           1.9016968788333108
          ],
          [
           2.14908418796288
          ],
          [
           2.3814217443249706
          ],
          [
           2.3814217443249706
          ],
          [
           2.14908418796288
          ],
          [
           1.9016968788333108
          ],
          [
           2.0695652173913044
          ],
          [
           1.8822658563191526
          ],
          [
           1.8974446248101795
          ],
          [
           1.8974446248101797
          ],
          [
           1.8822658563191523
          ],
          [
           3.0336700336700337
          ],
          [
           1.8386223554889223
          ],
          [
           2.8445909666888602
          ],
          [
           2.8445909666888602
          ],
          [
           3.0336700336700337
          ],
          [
           1.8476515167073997
          ],
          [
           1.8855041026124686
          ],
          [
           2.106194690265487
          ],
          [
           2.106194690265487
          ],
          [
           1.8855041026124684
          ],
          [
           1.8476515167073997
          ]
         ],
         "hovertemplate": "<b>%{hovertext}</b><br><br>support=%{x}<br>confidence=%{y}<br>lift=%{marker.color}<extra></extra>",
         "hovertext": [
          "frozenset({'100% Whole Wheat Bread'})=>frozenset({'Banana'})",
          "frozenset({'Apple Honeycrisp Organic'})=>frozenset({'Bag of Organic Bananas'})",
          "frozenset({'Apple Honeycrisp Organic'})=>frozenset({'Organic Hass Avocado'})",
          "frozenset({'Organic Hass Avocado'})=>frozenset({'Apple Honeycrisp Organic'})",
          "frozenset({'Apple Honeycrisp Organic'})=>frozenset({'Organic Strawberries'})",
          "frozenset({'Asparagus'})=>frozenset({'Bag of Organic Bananas'})",
          "frozenset({'Bag of Organic Bananas'})=>frozenset({'Asparagus'})",
          "frozenset({'Banana'})=>frozenset({'Asparagus'})",
          "frozenset({'Asparagus'})=>frozenset({'Banana'})",
          "frozenset({'Asparagus'})=>frozenset({'Large Lemon'})",
          "frozenset({'Large Lemon'})=>frozenset({'Asparagus'})",
          "frozenset({'Asparagus'})=>frozenset({'Limes'})",
          "frozenset({'Limes'})=>frozenset({'Asparagus'})",
          "frozenset({'Asparagus'})=>frozenset({'Organic Avocado'})",
          "frozenset({'Organic Avocado'})=>frozenset({'Asparagus'})",
          "frozenset({'Asparagus'})=>frozenset({'Organic Baby Spinach'})",
          "frozenset({'Organic Baby Spinach'})=>frozenset({'Asparagus'})",
          "frozenset({'Organic Cucumber'})=>frozenset({'Asparagus'})",
          "frozenset({'Asparagus'})=>frozenset({'Organic Cucumber'})",
          "frozenset({'Organic Hass Avocado'})=>frozenset({'Asparagus'})",
          "frozenset({'Asparagus'})=>frozenset({'Organic Hass Avocado'})",
          "frozenset({'Organic Raspberries'})=>frozenset({'Asparagus'})",
          "frozenset({'Asparagus'})=>frozenset({'Organic Raspberries'})",
          "frozenset({'Asparagus'})=>frozenset({'Organic Red Onion'})",
          "frozenset({'Organic Red Onion'})=>frozenset({'Asparagus'})",
          "frozenset({'Asparagus'})=>frozenset({'Organic Strawberries'})",
          "frozenset({'Organic Strawberries'})=>frozenset({'Asparagus'})",
          "frozenset({'Organic Zucchini'})=>frozenset({'Asparagus'})",
          "frozenset({'Asparagus'})=>frozenset({'Organic Zucchini'})",
          "frozenset({'Cantaloupe'})=>frozenset({'Bag of Organic Bananas'})",
          "frozenset({'Carrots'})=>frozenset({'Bag of Organic Bananas'})",
          "frozenset({'Fresh Cauliflower'})=>frozenset({'Bag of Organic Bananas'})",
          "frozenset({'Bag of Organic Bananas'})=>frozenset({'Fresh Cauliflower'})",
          "frozenset({'Grated Parmesan'})=>frozenset({'Bag of Organic Bananas'})",
          "frozenset({'Green Bell Pepper'})=>frozenset({'Bag of Organic Bananas'})",
          "frozenset({'Honeycrisp Apple'})=>frozenset({'Bag of Organic Bananas'})",
          "frozenset({'Large Lemon'})=>frozenset({'Bag of Organic Bananas'})",
          "frozenset({'Bag of Organic Bananas'})=>frozenset({'Large Lemon'})",
          "frozenset({'Limes'})=>frozenset({'Bag of Organic Bananas'})",
          "frozenset({'Bag of Organic Bananas'})=>frozenset({'Limes'})",
          "frozenset({'Michigan Organic Kale'})=>frozenset({'Bag of Organic Bananas'})",
          "frozenset({'Organic Avocado'})=>frozenset({'Bag of Organic Bananas'})",
          "frozenset({'Bag of Organic Bananas'})=>frozenset({'Organic Avocado'})",
          "frozenset({'Organic Baby Arugula'})=>frozenset({'Bag of Organic Bananas'})",
          "frozenset({'Bag of Organic Bananas'})=>frozenset({'Organic Baby Arugula'})",
          "frozenset({'Bag of Organic Bananas'})=>frozenset({'Organic Baby Carrots'})",
          "frozenset({'Organic Baby Carrots'})=>frozenset({'Bag of Organic Bananas'})",
          "frozenset({'Organic Baby Spinach'})=>frozenset({'Bag of Organic Bananas'})",
          "frozenset({'Bag of Organic Bananas'})=>frozenset({'Organic Baby Spinach'})",
          "frozenset({'Organic Black Beans'})=>frozenset({'Bag of Organic Bananas'})",
          "frozenset({'Organic Blackberries'})=>frozenset({'Bag of Organic Bananas'})",
          "frozenset({'Organic Blueberries'})=>frozenset({'Bag of Organic Bananas'})",
          "frozenset({'Bag of Organic Bananas'})=>frozenset({'Organic Blueberries'})",
          "frozenset({'Organic Broccoli'})=>frozenset({'Bag of Organic Bananas'})",
          "frozenset({'Organic Carrot Bunch'})=>frozenset({'Bag of Organic Bananas'})",
          "frozenset({'Organic Cilantro'})=>frozenset({'Bag of Organic Bananas'})",
          "frozenset({'Bag of Organic Bananas'})=>frozenset({'Organic Cilantro'})",
          "frozenset({'Organic Cucumber'})=>frozenset({'Bag of Organic Bananas'})",
          "frozenset({'Bag of Organic Bananas'})=>frozenset({'Organic Cucumber'})",
          "frozenset({\"Organic D'Anjou Pears\"})=>frozenset({'Bag of Organic Bananas'})",
          "frozenset({'Bag of Organic Bananas'})=>frozenset({\"Organic D'Anjou Pears\"})",
          "frozenset({'Organic Gala Apples'})=>frozenset({'Bag of Organic Bananas'})",
          "frozenset({'Bag of Organic Bananas'})=>frozenset({'Organic Gala Apples'})",
          "frozenset({'Organic Garlic'})=>frozenset({'Bag of Organic Bananas'})",
          "frozenset({'Bag of Organic Bananas'})=>frozenset({'Organic Garlic'})",
          "frozenset({'Organic Garnet Sweet Potato (Yam)'})=>frozenset({'Bag of Organic Bananas'})",
          "frozenset({'Bag of Organic Bananas'})=>frozenset({'Organic Garnet Sweet Potato (Yam)'})",
          "frozenset({'Organic Ginger Root'})=>frozenset({'Bag of Organic Bananas'})",
          "frozenset({'Organic Granny Smith Apple'})=>frozenset({'Bag of Organic Bananas'})",
          "frozenset({'Bag of Organic Bananas'})=>frozenset({'Organic Granny Smith Apple'})",
          "frozenset({'Organic Grape Tomatoes'})=>frozenset({'Bag of Organic Bananas'})",
          "frozenset({'Bag of Organic Bananas'})=>frozenset({'Organic Grape Tomatoes'})",
          "frozenset({'Organic Half & Half'})=>frozenset({'Bag of Organic Bananas'})",
          "frozenset({'Organic Hass Avocado'})=>frozenset({'Bag of Organic Bananas'})",
          "frozenset({'Bag of Organic Bananas'})=>frozenset({'Organic Hass Avocado'})",
          "frozenset({'Organic Italian Parsley Bunch'})=>frozenset({'Bag of Organic Bananas'})",
          "frozenset({'Organic Kiwi'})=>frozenset({'Bag of Organic Bananas'})",
          "frozenset({'Bag of Organic Bananas'})=>frozenset({'Organic Kiwi'})",
          "frozenset({'Organic Lacinato (Dinosaur) Kale'})=>frozenset({'Bag of Organic Bananas'})",
          "frozenset({'Organic Large Extra Fancy Fuji Apple'})=>frozenset({'Bag of Organic Bananas'})",
          "frozenset({'Bag of Organic Bananas'})=>frozenset({'Organic Large Extra Fancy Fuji Apple'})",
          "frozenset({'Organic Lemon'})=>frozenset({'Bag of Organic Bananas'})",
          "frozenset({'Bag of Organic Bananas'})=>frozenset({'Organic Lemon'})",
          "frozenset({'Organic Navel Orange'})=>frozenset({'Bag of Organic Bananas'})",
          "frozenset({'Bag of Organic Bananas'})=>frozenset({'Organic Navel Orange'})",
          "frozenset({'Organic Peeled Whole Baby Carrots'})=>frozenset({'Bag of Organic Bananas'})",
          "frozenset({'Organic Raspberries'})=>frozenset({'Bag of Organic Bananas'})",
          "frozenset({'Bag of Organic Bananas'})=>frozenset({'Organic Raspberries'})",
          "frozenset({'Organic Red Bell Pepper'})=>frozenset({'Bag of Organic Bananas'})",
          "frozenset({'Bag of Organic Bananas'})=>frozenset({'Organic Red Bell Pepper'})",
          "frozenset({'Organic Red Onion'})=>frozenset({'Bag of Organic Bananas'})",
          "frozenset({'Bag of Organic Bananas'})=>frozenset({'Organic Red Onion'})",
          "frozenset({'Bag of Organic Bananas'})=>frozenset({'Organic Small Bunch Celery'})",
          "frozenset({'Organic Small Bunch Celery'})=>frozenset({'Bag of Organic Bananas'})",
          "frozenset({'Organic Sticks Low Moisture Part Skim Mozzarella String Cheese'})=>frozenset({'Bag of Organic Bananas'})",
          "frozenset({'Organic Strawberries'})=>frozenset({'Bag of Organic Bananas'})",
          "frozenset({'Bag of Organic Bananas'})=>frozenset({'Organic Strawberries'})",
          "frozenset({'Organic Tomato Cluster'})=>frozenset({'Bag of Organic Bananas'})",
          "frozenset({'Bag of Organic Bananas'})=>frozenset({'Organic Tomato Cluster'})",
          "frozenset({'Organic Unsweetened Almond Milk'})=>frozenset({'Bag of Organic Bananas'})",
          "frozenset({'Organic Whole Milk'})=>frozenset({'Bag of Organic Bananas'})",
          "frozenset({'Bag of Organic Bananas'})=>frozenset({'Organic Whole Milk'})",
          "frozenset({'Organic Whole Strawberries'})=>frozenset({'Bag of Organic Bananas'})",
          "frozenset({'Organic Whole String Cheese'})=>frozenset({'Bag of Organic Bananas'})",
          "frozenset({'Bag of Organic Bananas'})=>frozenset({'Organic Whole String Cheese'})",
          "frozenset({'Organic Yellow Onion'})=>frozenset({'Bag of Organic Bananas'})",
          "frozenset({'Bag of Organic Bananas'})=>frozenset({'Organic Yellow Onion'})",
          "frozenset({'Organic Zucchini'})=>frozenset({'Bag of Organic Bananas'})",
          "frozenset({'Bag of Organic Bananas'})=>frozenset({'Organic Zucchini'})",
          "frozenset({'Original Hummus'})=>frozenset({'Bag of Organic Bananas'})",
          "frozenset({'Seedless Red Grapes'})=>frozenset({'Bag of Organic Bananas'})",
          "frozenset({'Bag of Organic Bananas'})=>frozenset({'Seedless Red Grapes'})",
          "frozenset({'Strawberries'})=>frozenset({'Bag of Organic Bananas'})",
          "frozenset({'Uncured Genoa Salami'})=>frozenset({'Bag of Organic Bananas'})",
          "frozenset({'Broccoli Crown'})=>frozenset({'Banana'})",
          "frozenset({'Cantaloupe'})=>frozenset({'Banana'})",
          "frozenset({'Fresh Cauliflower'})=>frozenset({'Banana'})",
          "frozenset({'Green Bell Pepper'})=>frozenset({'Banana'})",
          "frozenset({'Banana'})=>frozenset({'Honeycrisp Apple'})",
          "frozenset({'Honeycrisp Apple'})=>frozenset({'Banana'})",
          "frozenset({'Banana'})=>frozenset({'Large Lemon'})",
          "frozenset({'Large Lemon'})=>frozenset({'Banana'})",
          "frozenset({'Banana'})=>frozenset({'Limes'})",
          "frozenset({'Limes'})=>frozenset({'Banana'})",
          "frozenset({'Banana'})=>frozenset({'Organic Avocado'})",
          "frozenset({'Organic Avocado'})=>frozenset({'Banana'})",
          "frozenset({'Organic Baby Carrots'})=>frozenset({'Banana'})",
          "frozenset({'Banana'})=>frozenset({'Organic Baby Spinach'})",
          "frozenset({'Organic Baby Spinach'})=>frozenset({'Banana'})",
          "frozenset({'Organic Blackberries'})=>frozenset({'Banana'})",
          "frozenset({'Organic Blueberries'})=>frozenset({'Banana'})",
          "frozenset({'Banana'})=>frozenset({'Organic Blueberries'})",
          "frozenset({'Organic Cilantro'})=>frozenset({'Banana'})",
          "frozenset({'Organic Cucumber'})=>frozenset({'Banana'})",
          "frozenset({'Banana'})=>frozenset({'Organic Cucumber'})",
          "frozenset({'Organic Fuji Apple'})=>frozenset({'Banana'})",
          "frozenset({'Organic Gala Apples'})=>frozenset({'Banana'})",
          "frozenset({'Organic Garlic'})=>frozenset({'Banana'})",
          "frozenset({'Organic Garnet Sweet Potato (Yam)'})=>frozenset({'Banana'})",
          "frozenset({'Organic Grape Tomatoes'})=>frozenset({'Banana'})",
          "frozenset({'Organic Hass Avocado'})=>frozenset({'Banana'})",
          "frozenset({'Organic Large Extra Fancy Fuji Apple'})=>frozenset({'Banana'})",
          "frozenset({'Organic Peeled Whole Baby Carrots'})=>frozenset({'Banana'})",
          "frozenset({'Organic Raspberries'})=>frozenset({'Banana'})",
          "frozenset({'Banana'})=>frozenset({'Organic Raspberries'})",
          "frozenset({'Organic Red Bell Pepper'})=>frozenset({'Banana'})",
          "frozenset({'Organic Red Onion'})=>frozenset({'Banana'})",
          "frozenset({'Banana'})=>frozenset({'Organic Strawberries'})",
          "frozenset({'Organic Strawberries'})=>frozenset({'Banana'})",
          "frozenset({'Organic Tomato Cluster'})=>frozenset({'Banana'})",
          "frozenset({'Organic Whole Milk'})=>frozenset({'Banana'})",
          "frozenset({'Organic Yellow Onion'})=>frozenset({'Banana'})",
          "frozenset({'Banana'})=>frozenset({'Organic Zucchini'})",
          "frozenset({'Organic Zucchini'})=>frozenset({'Banana'})",
          "frozenset({'Banana'})=>frozenset({'Red Peppers'})",
          "frozenset({'Red Peppers'})=>frozenset({'Banana'})",
          "frozenset({'Red Vine Tomato'})=>frozenset({'Banana'})",
          "frozenset({'Seedless Red Grapes'})=>frozenset({'Banana'})",
          "frozenset({'Banana'})=>frozenset({'Seedless Red Grapes'})",
          "frozenset({'Sparkling Water Grapefruit'})=>frozenset({'Banana'})",
          "frozenset({'Strawberries'})=>frozenset({'Banana'})",
          "frozenset({'Banana'})=>frozenset({'Strawberries'})",
          "frozenset({'Yellow Onions'})=>frozenset({'Banana'})",
          "frozenset({'Banana'})=>frozenset({'Yellow Onions'})",
          "frozenset({'Broccoli Crown'})=>frozenset({'Large Lemon'})",
          "frozenset({'Large Lemon'})=>frozenset({'Broccoli Crown'})",
          "frozenset({'Broccoli Crown'})=>frozenset({'Organic Baby Spinach'})",
          "frozenset({'Organic Baby Spinach'})=>frozenset({'Broccoli Crown'})",
          "frozenset({'Bunched Cilantro'})=>frozenset({'Limes'})",
          "frozenset({'Limes'})=>frozenset({'Bunched Cilantro'})",
          "frozenset({'Cantaloupe'})=>frozenset({'Organic Strawberries'})",
          "frozenset({'Carrots'})=>frozenset({'Organic Strawberries'})",
          "frozenset({'Fresh Cauliflower'})=>frozenset({'Organic Baby Spinach'})",
          "frozenset({'Organic Baby Spinach'})=>frozenset({'Fresh Cauliflower'})",
          "frozenset({'Fresh Cauliflower'})=>frozenset({'Organic Cucumber'})",
          "frozenset({'Organic Cucumber'})=>frozenset({'Fresh Cauliflower'})",
          "frozenset({'Fresh Cauliflower'})=>frozenset({'Organic Hass Avocado'})",
          "frozenset({'Organic Hass Avocado'})=>frozenset({'Fresh Cauliflower'})",
          "frozenset({'Organic Raspberries'})=>frozenset({'Fresh Cauliflower'})",
          "frozenset({'Fresh Cauliflower'})=>frozenset({'Organic Raspberries'})",
          "frozenset({'Fresh Cauliflower'})=>frozenset({'Organic Strawberries'})",
          "frozenset({'Organic Strawberries'})=>frozenset({'Fresh Cauliflower'})",
          "frozenset({'Fresh Cauliflower'})=>frozenset({'Organic Zucchini'})",
          "frozenset({'Organic Zucchini'})=>frozenset({'Fresh Cauliflower'})",
          "frozenset({'Grated Parmesan'})=>frozenset({'Organic Baby Spinach'})",
          "frozenset({'Organic Baby Spinach'})=>frozenset({'Grated Parmesan'})",
          "frozenset({'Grated Parmesan'})=>frozenset({'Organic Strawberries'})",
          "frozenset({'Organic Strawberries'})=>frozenset({'Grated Parmesan'})",
          "frozenset({'Green Bell Pepper'})=>frozenset({'Organic Baby Spinach'})",
          "frozenset({'Organic Baby Spinach'})=>frozenset({'Green Bell Pepper'})",
          "frozenset({'Green Bell Pepper'})=>frozenset({'Organic Strawberries'})",
          "frozenset({'Honeycrisp Apple'})=>frozenset({'Organic Strawberries'})",
          "frozenset({'Organic Strawberries'})=>frozenset({'Honeycrisp Apple'})",
          "frozenset({'Limes'})=>frozenset({'Jalapeno Peppers'})",
          "frozenset({'Jalapeno Peppers'})=>frozenset({'Limes'})",
          "frozenset({'Large Lemon'})=>frozenset({'Limes'})",
          "frozenset({'Limes'})=>frozenset({'Large Lemon'})",
          "frozenset({'Large Lemon'})=>frozenset({'Organic Avocado'})",
          "frozenset({'Organic Avocado'})=>frozenset({'Large Lemon'})",
          "frozenset({'Large Lemon'})=>frozenset({'Organic Baby Carrots'})",
          "frozenset({'Organic Baby Carrots'})=>frozenset({'Large Lemon'})",
          "frozenset({'Organic Baby Spinach'})=>frozenset({'Large Lemon'})",
          "frozenset({'Large Lemon'})=>frozenset({'Organic Baby Spinach'})",
          "frozenset({'Organic Blueberries'})=>frozenset({'Large Lemon'})",
          "frozenset({'Large Lemon'})=>frozenset({'Organic Blueberries'})",
          "frozenset({'Organic Cilantro'})=>frozenset({'Large Lemon'})",
          "frozenset({'Large Lemon'})=>frozenset({'Organic Cilantro'})",
          "frozenset({'Organic Cucumber'})=>frozenset({'Large Lemon'})",
          "frozenset({'Large Lemon'})=>frozenset({'Organic Cucumber'})",
          "frozenset({'Organic Garlic'})=>frozenset({'Large Lemon'})",
          "frozenset({'Large Lemon'})=>frozenset({'Organic Garlic'})",
          "frozenset({'Organic Grape Tomatoes'})=>frozenset({'Large Lemon'})",
          "frozenset({'Large Lemon'})=>frozenset({'Organic Grape Tomatoes'})",
          "frozenset({'Organic Hass Avocado'})=>frozenset({'Large Lemon'})",
          "frozenset({'Large Lemon'})=>frozenset({'Organic Hass Avocado'})",
          "frozenset({'Organic Raspberries'})=>frozenset({'Large Lemon'})",
          "frozenset({'Large Lemon'})=>frozenset({'Organic Raspberries'})",
          "frozenset({'Large Lemon'})=>frozenset({'Organic Red Onion'})",
          "frozenset({'Organic Red Onion'})=>frozenset({'Large Lemon'})",
          "frozenset({'Organic Strawberries'})=>frozenset({'Large Lemon'})",
          "frozenset({'Large Lemon'})=>frozenset({'Organic Strawberries'})",
          "frozenset({'Organic Whole Milk'})=>frozenset({'Large Lemon'})",
          "frozenset({'Large Lemon'})=>frozenset({'Organic Whole Milk'})",
          "frozenset({'Organic Yellow Onion'})=>frozenset({'Large Lemon'})",
          "frozenset({'Large Lemon'})=>frozenset({'Organic Yellow Onion'})",
          "frozenset({'Organic Zucchini'})=>frozenset({'Large Lemon'})",
          "frozenset({'Large Lemon'})=>frozenset({'Organic Zucchini'})",
          "frozenset({'Seedless Red Grapes'})=>frozenset({'Large Lemon'})",
          "frozenset({'Large Lemon'})=>frozenset({'Seedless Red Grapes'})",
          "frozenset({'Strawberries'})=>frozenset({'Large Lemon'})",
          "frozenset({'Large Lemon'})=>frozenset({'Strawberries'})",
          "frozenset({'Yellow Onions'})=>frozenset({'Large Lemon'})",
          "frozenset({'Large Lemon'})=>frozenset({'Yellow Onions'})",
          "frozenset({'Organic Avocado'})=>frozenset({'Limes'})",
          "frozenset({'Limes'})=>frozenset({'Organic Avocado'})",
          "frozenset({'Organic Baby Arugula'})=>frozenset({'Limes'})",
          "frozenset({'Limes'})=>frozenset({'Organic Baby Arugula'})",
          "frozenset({'Organic Baby Spinach'})=>frozenset({'Limes'})",
          "frozenset({'Limes'})=>frozenset({'Organic Baby Spinach'})",
          "frozenset({'Organic Blueberries'})=>frozenset({'Limes'})",
          "frozenset({'Limes'})=>frozenset({'Organic Blueberries'})",
          "frozenset({'Organic Cilantro'})=>frozenset({'Limes'})",
          "frozenset({'Limes'})=>frozenset({'Organic Cilantro'})",
          "frozenset({'Organic Cucumber'})=>frozenset({'Limes'})",
          "frozenset({'Limes'})=>frozenset({'Organic Cucumber'})",
          "frozenset({'Organic Garlic'})=>frozenset({'Limes'})",
          "frozenset({'Limes'})=>frozenset({'Organic Garlic'})",
          "frozenset({'Organic Hass Avocado'})=>frozenset({'Limes'})",
          "frozenset({'Limes'})=>frozenset({'Organic Hass Avocado'})",
          "frozenset({'Organic Lemon'})=>frozenset({'Limes'})",
          "frozenset({'Limes'})=>frozenset({'Organic Lemon'})",
          "frozenset({'Organic Raspberries'})=>frozenset({'Limes'})",
          "frozenset({'Limes'})=>frozenset({'Organic Raspberries'})",
          "frozenset({'Organic Red Bell Pepper'})=>frozenset({'Limes'})",
          "frozenset({'Limes'})=>frozenset({'Organic Red Bell Pepper'})",
          "frozenset({'Organic Red Onion'})=>frozenset({'Limes'})",
          "frozenset({'Limes'})=>frozenset({'Organic Red Onion'})",
          "frozenset({'Organic Strawberries'})=>frozenset({'Limes'})",
          "frozenset({'Limes'})=>frozenset({'Organic Strawberries'})",
          "frozenset({'Limes'})=>frozenset({'Organic Tomato Cluster'})",
          "frozenset({'Organic Tomato Cluster'})=>frozenset({'Limes'})",
          "frozenset({'Organic Yellow Onion'})=>frozenset({'Limes'})",
          "frozenset({'Limes'})=>frozenset({'Organic Yellow Onion'})",
          "frozenset({'Organic Zucchini'})=>frozenset({'Limes'})",
          "frozenset({'Limes'})=>frozenset({'Organic Zucchini'})",
          "frozenset({'Red Peppers'})=>frozenset({'Limes'})",
          "frozenset({'Limes'})=>frozenset({'Red Peppers'})",
          "frozenset({'Seedless Red Grapes'})=>frozenset({'Limes'})",
          "frozenset({'Limes'})=>frozenset({'Seedless Red Grapes'})",
          "frozenset({'Strawberries'})=>frozenset({'Limes'})",
          "frozenset({'Limes'})=>frozenset({'Strawberries'})",
          "frozenset({'Michigan Organic Kale'})=>frozenset({'Organic Baby Spinach'})",
          "frozenset({'Organic Baby Spinach'})=>frozenset({'Michigan Organic Kale'})",
          "frozenset({'Michigan Organic Kale'})=>frozenset({'Organic Strawberries'})",
          "frozenset({'Organic Avocado'})=>frozenset({'Organic Baby Carrots'})",
          "frozenset({'Organic Baby Carrots'})=>frozenset({'Organic Avocado'})",
          "frozenset({'Organic Baby Spinach'})=>frozenset({'Organic Avocado'})",
          "frozenset({'Organic Avocado'})=>frozenset({'Organic Baby Spinach'})",
          "frozenset({'Organic Blueberries'})=>frozenset({'Organic Avocado'})",
          "frozenset({'Organic Avocado'})=>frozenset({'Organic Blueberries'})",
          "frozenset({'Organic Cilantro'})=>frozenset({'Organic Avocado'})",
          "frozenset({'Organic Avocado'})=>frozenset({'Organic Cilantro'})",
          "frozenset({'Organic Cucumber'})=>frozenset({'Organic Avocado'})",
          "frozenset({'Organic Avocado'})=>frozenset({'Organic Cucumber'})",
          "frozenset({'Organic Garlic'})=>frozenset({'Organic Avocado'})",
          "frozenset({'Organic Avocado'})=>frozenset({'Organic Garlic'})",
          "frozenset({'Organic Grape Tomatoes'})=>frozenset({'Organic Avocado'})",
          "frozenset({'Organic Avocado'})=>frozenset({'Organic Grape Tomatoes'})",
          "frozenset({'Organic Raspberries'})=>frozenset({'Organic Avocado'})",
          "frozenset({'Organic Avocado'})=>frozenset({'Organic Raspberries'})",
          "frozenset({'Organic Avocado'})=>frozenset({'Organic Red Onion'})",
          "frozenset({'Organic Red Onion'})=>frozenset({'Organic Avocado'})",
          "frozenset({'Organic Strawberries'})=>frozenset({'Organic Avocado'})",
          "frozenset({'Organic Avocado'})=>frozenset({'Organic Strawberries'})",
          "frozenset({'Organic Whole Milk'})=>frozenset({'Organic Avocado'})",
          "frozenset({'Organic Avocado'})=>frozenset({'Organic Whole Milk'})",
          "frozenset({'Organic Zucchini'})=>frozenset({'Organic Avocado'})",
          "frozenset({'Organic Avocado'})=>frozenset({'Organic Zucchini'})",
          "frozenset({'Seedless Red Grapes'})=>frozenset({'Organic Avocado'})",
          "frozenset({'Organic Avocado'})=>frozenset({'Seedless Red Grapes'})",
          "frozenset({'Strawberries'})=>frozenset({'Organic Avocado'})",
          "frozenset({'Organic Avocado'})=>frozenset({'Strawberries'})",
          "frozenset({'Organic Baby Arugula'})=>frozenset({'Organic Baby Spinach'})",
          "frozenset({'Organic Baby Spinach'})=>frozenset({'Organic Baby Arugula'})",
          "frozenset({'Organic Baby Arugula'})=>frozenset({'Organic Strawberries'})",
          "frozenset({'Organic Baby Spinach'})=>frozenset({'Organic Baby Carrots'})",
          "frozenset({'Organic Baby Carrots'})=>frozenset({'Organic Baby Spinach'})",
          "frozenset({'Organic Cucumber'})=>frozenset({'Organic Baby Carrots'})",
          "frozenset({'Organic Baby Carrots'})=>frozenset({'Organic Cucumber'})",
          "frozenset({'Organic Hass Avocado'})=>frozenset({'Organic Baby Carrots'})",
          "frozenset({'Organic Baby Carrots'})=>frozenset({'Organic Hass Avocado'})",
          "frozenset({'Organic Raspberries'})=>frozenset({'Organic Baby Carrots'})",
          "frozenset({'Organic Baby Carrots'})=>frozenset({'Organic Raspberries'})",
          "frozenset({'Organic Strawberries'})=>frozenset({'Organic Baby Carrots'})",
          "frozenset({'Organic Baby Carrots'})=>frozenset({'Organic Strawberries'})",
          "frozenset({'Organic Blueberries'})=>frozenset({'Organic Baby Spinach'})",
          "frozenset({'Organic Baby Spinach'})=>frozenset({'Organic Blueberries'})",
          "frozenset({'Organic Cilantro'})=>frozenset({'Organic Baby Spinach'})",
          "frozenset({'Organic Baby Spinach'})=>frozenset({'Organic Cilantro'})",
          "frozenset({'Organic Cucumber'})=>frozenset({'Organic Baby Spinach'})",
          "frozenset({'Organic Baby Spinach'})=>frozenset({'Organic Cucumber'})",
          "frozenset({\"Organic D'Anjou Pears\"})=>frozenset({'Organic Baby Spinach'})",
          "frozenset({'Organic Baby Spinach'})=>frozenset({\"Organic D'Anjou Pears\"})",
          "frozenset({'Organic Gala Apples'})=>frozenset({'Organic Baby Spinach'})",
          "frozenset({'Organic Baby Spinach'})=>frozenset({'Organic Gala Apples'})",
          "frozenset({'Organic Garlic'})=>frozenset({'Organic Baby Spinach'})",
          "frozenset({'Organic Baby Spinach'})=>frozenset({'Organic Garlic'})",
          "frozenset({'Organic Garnet Sweet Potato (Yam)'})=>frozenset({'Organic Baby Spinach'})",
          "frozenset({'Organic Baby Spinach'})=>frozenset({'Organic Garnet Sweet Potato (Yam)'})",
          "frozenset({'Organic Ginger Root'})=>frozenset({'Organic Baby Spinach'})",
          "frozenset({'Organic Baby Spinach'})=>frozenset({'Organic Ginger Root'})",
          "frozenset({'Organic Granny Smith Apple'})=>frozenset({'Organic Baby Spinach'})",
          "frozenset({'Organic Baby Spinach'})=>frozenset({'Organic Granny Smith Apple'})",
          "frozenset({'Organic Grape Tomatoes'})=>frozenset({'Organic Baby Spinach'})",
          "frozenset({'Organic Baby Spinach'})=>frozenset({'Organic Grape Tomatoes'})",
          "frozenset({'Organic Hass Avocado'})=>frozenset({'Organic Baby Spinach'})",
          "frozenset({'Organic Baby Spinach'})=>frozenset({'Organic Hass Avocado'})",
          "frozenset({'Organic Italian Parsley Bunch'})=>frozenset({'Organic Baby Spinach'})",
          "frozenset({'Organic Baby Spinach'})=>frozenset({'Organic Italian Parsley Bunch'})",
          "frozenset({'Organic Large Extra Fancy Fuji Apple'})=>frozenset({'Organic Baby Spinach'})",
          "frozenset({'Organic Baby Spinach'})=>frozenset({'Organic Large Extra Fancy Fuji Apple'})",
          "frozenset({'Organic Lemon'})=>frozenset({'Organic Baby Spinach'})",
          "frozenset({'Organic Baby Spinach'})=>frozenset({'Organic Lemon'})",
          "frozenset({'Organic Raspberries'})=>frozenset({'Organic Baby Spinach'})",
          "frozenset({'Organic Baby Spinach'})=>frozenset({'Organic Raspberries'})",
          "frozenset({'Organic Baby Spinach'})=>frozenset({'Organic Red Bell Pepper'})",
          "frozenset({'Organic Red Bell Pepper'})=>frozenset({'Organic Baby Spinach'})",
          "frozenset({'Organic Baby Spinach'})=>frozenset({'Organic Red Onion'})",
          "frozenset({'Organic Red Onion'})=>frozenset({'Organic Baby Spinach'})",
          "frozenset({'Organic Baby Spinach'})=>frozenset({'Organic Small Bunch Celery'})",
          "frozenset({'Organic Small Bunch Celery'})=>frozenset({'Organic Baby Spinach'})",
          "frozenset({'Organic Strawberries'})=>frozenset({'Organic Baby Spinach'})",
          "frozenset({'Organic Baby Spinach'})=>frozenset({'Organic Strawberries'})",
          "frozenset({'Organic Baby Spinach'})=>frozenset({'Organic Tomato Cluster'})",
          "frozenset({'Organic Tomato Cluster'})=>frozenset({'Organic Baby Spinach'})",
          "frozenset({'Organic Whole Milk'})=>frozenset({'Organic Baby Spinach'})",
          "frozenset({'Organic Baby Spinach'})=>frozenset({'Organic Whole Milk'})",
          "frozenset({'Organic Baby Spinach'})=>frozenset({'Organic Yellow Onion'})",
          "frozenset({'Organic Yellow Onion'})=>frozenset({'Organic Baby Spinach'})",
          "frozenset({'Organic Zucchini'})=>frozenset({'Organic Baby Spinach'})",
          "frozenset({'Organic Baby Spinach'})=>frozenset({'Organic Zucchini'})",
          "frozenset({'Original Hummus'})=>frozenset({'Organic Baby Spinach'})",
          "frozenset({'Organic Baby Spinach'})=>frozenset({'Original Hummus'})",
          "frozenset({'Seedless Red Grapes'})=>frozenset({'Organic Baby Spinach'})",
          "frozenset({'Organic Baby Spinach'})=>frozenset({'Seedless Red Grapes'})",
          "frozenset({'Strawberries'})=>frozenset({'Organic Baby Spinach'})",
          "frozenset({'Organic Baby Spinach'})=>frozenset({'Strawberries'})",
          "frozenset({'Organic Black Beans'})=>frozenset({'Organic Strawberries'})",
          "frozenset({'Organic Blackberries'})=>frozenset({'Organic Strawberries'})",
          "frozenset({'Organic Blueberries'})=>frozenset({'Organic Cucumber'})",
          "frozenset({'Organic Cucumber'})=>frozenset({'Organic Blueberries'})",
          "frozenset({'Organic Blueberries'})=>frozenset({'Organic Hass Avocado'})",
          "frozenset({'Organic Hass Avocado'})=>frozenset({'Organic Blueberries'})",
          "frozenset({'Organic Blueberries'})=>frozenset({'Organic Raspberries'})",
          "frozenset({'Organic Raspberries'})=>frozenset({'Organic Blueberries'})",
          "frozenset({'Organic Blueberries'})=>frozenset({'Organic Strawberries'})",
          "frozenset({'Organic Strawberries'})=>frozenset({'Organic Blueberries'})",
          "frozenset({'Organic Blueberries'})=>frozenset({'Organic Yellow Onion'})",
          "frozenset({'Organic Yellow Onion'})=>frozenset({'Organic Blueberries'})",
          "frozenset({'Organic Blueberries'})=>frozenset({'Organic Zucchini'})",
          "frozenset({'Organic Zucchini'})=>frozenset({'Organic Blueberries'})",
          "frozenset({'Organic Broccoli'})=>frozenset({'Organic Strawberries'})",
          "frozenset({'Organic Carrot Bunch'})=>frozenset({'Organic Hass Avocado'})",
          "frozenset({'Organic Hass Avocado'})=>frozenset({'Organic Carrot Bunch'})",
          "frozenset({'Organic Carrot Bunch'})=>frozenset({'Organic Strawberries'})",
          "frozenset({'Organic Cucumber'})=>frozenset({'Organic Cilantro'})",
          "frozenset({'Organic Cilantro'})=>frozenset({'Organic Cucumber'})",
          "frozenset({'Organic Garlic'})=>frozenset({'Organic Cilantro'})",
          "frozenset({'Organic Cilantro'})=>frozenset({'Organic Garlic'})",
          "frozenset({'Organic Hass Avocado'})=>frozenset({'Organic Cilantro'})",
          "frozenset({'Organic Cilantro'})=>frozenset({'Organic Hass Avocado'})",
          "frozenset({'Organic Raspberries'})=>frozenset({'Organic Cilantro'})",
          "frozenset({'Organic Cilantro'})=>frozenset({'Organic Raspberries'})",
          "frozenset({'Organic Cilantro'})=>frozenset({'Organic Red Onion'})",
          "frozenset({'Organic Red Onion'})=>frozenset({'Organic Cilantro'})",
          "frozenset({'Organic Strawberries'})=>frozenset({'Organic Cilantro'})",
          "frozenset({'Organic Cilantro'})=>frozenset({'Organic Strawberries'})",
          "frozenset({'Organic Cilantro'})=>frozenset({'Organic Yellow Onion'})",
          "frozenset({'Organic Yellow Onion'})=>frozenset({'Organic Cilantro'})",
          "frozenset({'Organic Zucchini'})=>frozenset({'Organic Cilantro'})",
          "frozenset({'Organic Cilantro'})=>frozenset({'Organic Zucchini'})",
          "frozenset({'Organic Cucumber'})=>frozenset({\"Organic D'Anjou Pears\"})",
          "frozenset({\"Organic D'Anjou Pears\"})=>frozenset({'Organic Cucumber'})",
          "frozenset({'Organic Garlic'})=>frozenset({'Organic Cucumber'})",
          "frozenset({'Organic Cucumber'})=>frozenset({'Organic Garlic'})",
          "frozenset({'Organic Cucumber'})=>frozenset({'Organic Garnet Sweet Potato (Yam)'})",
          "frozenset({'Organic Garnet Sweet Potato (Yam)'})=>frozenset({'Organic Cucumber'})",
          "frozenset({'Organic Cucumber'})=>frozenset({'Organic Grape Tomatoes'})",
          "frozenset({'Organic Grape Tomatoes'})=>frozenset({'Organic Cucumber'})",
          "frozenset({'Organic Cucumber'})=>frozenset({'Organic Hass Avocado'})",
          "frozenset({'Organic Hass Avocado'})=>frozenset({'Organic Cucumber'})",
          "frozenset({'Organic Cucumber'})=>frozenset({'Organic Large Extra Fancy Fuji Apple'})",
          "frozenset({'Organic Large Extra Fancy Fuji Apple'})=>frozenset({'Organic Cucumber'})",
          "frozenset({'Organic Cucumber'})=>frozenset({'Organic Lemon'})",
          "frozenset({'Organic Lemon'})=>frozenset({'Organic Cucumber'})",
          "frozenset({'Organic Raspberries'})=>frozenset({'Organic Cucumber'})",
          "frozenset({'Organic Cucumber'})=>frozenset({'Organic Raspberries'})",
          "frozenset({'Organic Cucumber'})=>frozenset({'Organic Red Bell Pepper'})",
          "frozenset({'Organic Red Bell Pepper'})=>frozenset({'Organic Cucumber'})",
          "frozenset({'Organic Cucumber'})=>frozenset({'Organic Red Onion'})",
          "frozenset({'Organic Red Onion'})=>frozenset({'Organic Cucumber'})",
          "frozenset({'Organic Cucumber'})=>frozenset({'Organic Small Bunch Celery'})",
          "frozenset({'Organic Small Bunch Celery'})=>frozenset({'Organic Cucumber'})",
          "frozenset({'Organic Cucumber'})=>frozenset({'Organic Strawberries'})",
          "frozenset({'Organic Strawberries'})=>frozenset({'Organic Cucumber'})",
          "frozenset({'Organic Whole Milk'})=>frozenset({'Organic Cucumber'})",
          "frozenset({'Organic Cucumber'})=>frozenset({'Organic Whole Milk'})",
          "frozenset({'Organic Whole String Cheese'})=>frozenset({'Organic Cucumber'})",
          "frozenset({'Organic Cucumber'})=>frozenset({'Organic Whole String Cheese'})",
          "frozenset({'Organic Cucumber'})=>frozenset({'Organic Yellow Onion'})",
          "frozenset({'Organic Yellow Onion'})=>frozenset({'Organic Cucumber'})",
          "frozenset({'Organic Cucumber'})=>frozenset({'Organic Zucchini'})",
          "frozenset({'Organic Zucchini'})=>frozenset({'Organic Cucumber'})",
          "frozenset({'Organic Hass Avocado'})=>frozenset({\"Organic D'Anjou Pears\"})",
          "frozenset({\"Organic D'Anjou Pears\"})=>frozenset({'Organic Hass Avocado'})",
          "frozenset({'Organic Raspberries'})=>frozenset({\"Organic D'Anjou Pears\"})",
          "frozenset({\"Organic D'Anjou Pears\"})=>frozenset({'Organic Raspberries'})",
          "frozenset({'Organic Strawberries'})=>frozenset({\"Organic D'Anjou Pears\"})",
          "frozenset({\"Organic D'Anjou Pears\"})=>frozenset({'Organic Strawberries'})",
          "frozenset({'Organic Gala Apples'})=>frozenset({'Organic Strawberries'})",
          "frozenset({'Organic Strawberries'})=>frozenset({'Organic Gala Apples'})",
          "frozenset({'Organic Garlic'})=>frozenset({'Organic Hass Avocado'})",
          "frozenset({'Organic Hass Avocado'})=>frozenset({'Organic Garlic'})",
          "frozenset({'Organic Garlic'})=>frozenset({'Organic Lemon'})",
          "frozenset({'Organic Lemon'})=>frozenset({'Organic Garlic'})",
          "frozenset({'Organic Garlic'})=>frozenset({'Organic Raspberries'})",
          "frozenset({'Organic Raspberries'})=>frozenset({'Organic Garlic'})",
          "frozenset({'Organic Garlic'})=>frozenset({'Organic Red Bell Pepper'})",
          "frozenset({'Organic Red Bell Pepper'})=>frozenset({'Organic Garlic'})",
          "frozenset({'Organic Garlic'})=>frozenset({'Organic Red Onion'})",
          "frozenset({'Organic Red Onion'})=>frozenset({'Organic Garlic'})",
          "frozenset({'Organic Garlic'})=>frozenset({'Organic Strawberries'})",
          "frozenset({'Organic Strawberries'})=>frozenset({'Organic Garlic'})",
          "frozenset({'Organic Garlic'})=>frozenset({'Organic Yellow Onion'})",
          "frozenset({'Organic Yellow Onion'})=>frozenset({'Organic Garlic'})",
          "frozenset({'Organic Garlic'})=>frozenset({'Organic Zucchini'})",
          "frozenset({'Organic Zucchini'})=>frozenset({'Organic Garlic'})",
          "frozenset({'Organic Hass Avocado'})=>frozenset({'Organic Garnet Sweet Potato (Yam)'})",
          "frozenset({'Organic Garnet Sweet Potato (Yam)'})=>frozenset({'Organic Hass Avocado'})",
          "frozenset({'Organic Raspberries'})=>frozenset({'Organic Garnet Sweet Potato (Yam)'})",
          "frozenset({'Organic Garnet Sweet Potato (Yam)'})=>frozenset({'Organic Raspberries'})",
          "frozenset({'Organic Garnet Sweet Potato (Yam)'})=>frozenset({'Organic Strawberries'})",
          "frozenset({'Organic Strawberries'})=>frozenset({'Organic Garnet Sweet Potato (Yam)'})",
          "frozenset({'Organic Ginger Root'})=>frozenset({'Organic Strawberries'})",
          "frozenset({'Organic Raspberries'})=>frozenset({'Organic Granny Smith Apple'})",
          "frozenset({'Organic Granny Smith Apple'})=>frozenset({'Organic Raspberries'})",
          "frozenset({'Organic Granny Smith Apple'})=>frozenset({'Organic Strawberries'})",
          "frozenset({'Organic Strawberries'})=>frozenset({'Organic Granny Smith Apple'})",
          "frozenset({'Organic Hass Avocado'})=>frozenset({'Organic Grape Tomatoes'})",
          "frozenset({'Organic Grape Tomatoes'})=>frozenset({'Organic Hass Avocado'})",
          "frozenset({'Organic Raspberries'})=>frozenset({'Organic Grape Tomatoes'})",
          "frozenset({'Organic Grape Tomatoes'})=>frozenset({'Organic Raspberries'})",
          "frozenset({'Organic Strawberries'})=>frozenset({'Organic Grape Tomatoes'})",
          "frozenset({'Organic Grape Tomatoes'})=>frozenset({'Organic Strawberries'})",
          "frozenset({'Organic Zucchini'})=>frozenset({'Organic Grape Tomatoes'})",
          "frozenset({'Organic Grape Tomatoes'})=>frozenset({'Organic Zucchini'})",
          "frozenset({'Organic Hass Avocado'})=>frozenset({'Organic Kiwi'})",
          "frozenset({'Organic Kiwi'})=>frozenset({'Organic Hass Avocado'})",
          "frozenset({'Organic Large Extra Fancy Fuji Apple'})=>frozenset({'Organic Hass Avocado'})",
          "frozenset({'Organic Hass Avocado'})=>frozenset({'Organic Large Extra Fancy Fuji Apple'})",
          "frozenset({'Organic Hass Avocado'})=>frozenset({'Organic Lemon'})",
          "frozenset({'Organic Lemon'})=>frozenset({'Organic Hass Avocado'})",
          "frozenset({'Organic Raspberries'})=>frozenset({'Organic Hass Avocado'})",
          "frozenset({'Organic Hass Avocado'})=>frozenset({'Organic Raspberries'})",
          "frozenset({'Organic Hass Avocado'})=>frozenset({'Organic Red Bell Pepper'})",
          "frozenset({'Organic Red Bell Pepper'})=>frozenset({'Organic Hass Avocado'})",
          "frozenset({'Organic Hass Avocado'})=>frozenset({'Organic Red Onion'})",
          "frozenset({'Organic Red Onion'})=>frozenset({'Organic Hass Avocado'})",
          "frozenset({'Organic Hass Avocado'})=>frozenset({'Organic Small Bunch Celery'})",
          "frozenset({'Organic Small Bunch Celery'})=>frozenset({'Organic Hass Avocado'})",
          "frozenset({'Organic Hass Avocado'})=>frozenset({'Organic Strawberries'})",
          "frozenset({'Organic Strawberries'})=>frozenset({'Organic Hass Avocado'})",
          "frozenset({'Organic Hass Avocado'})=>frozenset({'Organic Tomato Cluster'})",
          "frozenset({'Organic Tomato Cluster'})=>frozenset({'Organic Hass Avocado'})",
          "frozenset({'Organic Whole String Cheese'})=>frozenset({'Organic Hass Avocado'})",
          "frozenset({'Organic Hass Avocado'})=>frozenset({'Organic Whole String Cheese'})",
          "frozenset({'Organic Hass Avocado'})=>frozenset({'Organic Yellow Onion'})",
          "frozenset({'Organic Yellow Onion'})=>frozenset({'Organic Hass Avocado'})",
          "frozenset({'Organic Hass Avocado'})=>frozenset({'Organic Zucchini'})",
          "frozenset({'Organic Zucchini'})=>frozenset({'Organic Hass Avocado'})",
          "frozenset({'Organic Italian Parsley Bunch'})=>frozenset({'Organic Strawberries'})",
          "frozenset({'Organic Raspberries'})=>frozenset({'Organic Kiwi'})",
          "frozenset({'Organic Kiwi'})=>frozenset({'Organic Raspberries'})",
          "frozenset({'Organic Strawberries'})=>frozenset({'Organic Kiwi'})",
          "frozenset({'Organic Kiwi'})=>frozenset({'Organic Strawberries'})",
          "frozenset({'Organic Raspberries'})=>frozenset({'Organic Large Extra Fancy Fuji Apple'})",
          "frozenset({'Organic Large Extra Fancy Fuji Apple'})=>frozenset({'Organic Raspberries'})",
          "frozenset({'Organic Large Extra Fancy Fuji Apple'})=>frozenset({'Organic Strawberries'})",
          "frozenset({'Organic Strawberries'})=>frozenset({'Organic Large Extra Fancy Fuji Apple'})",
          "frozenset({'Organic Raspberries'})=>frozenset({'Organic Lemon'})",
          "frozenset({'Organic Lemon'})=>frozenset({'Organic Raspberries'})",
          "frozenset({'Organic Strawberries'})=>frozenset({'Organic Lemon'})",
          "frozenset({'Organic Lemon'})=>frozenset({'Organic Strawberries'})",
          "frozenset({'Organic Lemon'})=>frozenset({'Organic Yellow Onion'})",
          "frozenset({'Organic Yellow Onion'})=>frozenset({'Organic Lemon'})",
          "frozenset({'Organic Navel Orange'})=>frozenset({'Organic Strawberries'})",
          "frozenset({'Organic Peeled Whole Baby Carrots'})=>frozenset({'Organic Strawberries'})",
          "frozenset({'Organic Raspberries'})=>frozenset({'Organic Red Bell Pepper'})",
          "frozenset({'Organic Red Bell Pepper'})=>frozenset({'Organic Raspberries'})",
          "frozenset({'Organic Raspberries'})=>frozenset({'Organic Red Onion'})",
          "frozenset({'Organic Red Onion'})=>frozenset({'Organic Raspberries'})",
          "frozenset({'Organic Raspberries'})=>frozenset({'Organic Small Bunch Celery'})",
          "frozenset({'Organic Small Bunch Celery'})=>frozenset({'Organic Raspberries'})",
          "frozenset({'Organic Raspberries'})=>frozenset({'Organic Strawberries'})",
          "frozenset({'Organic Strawberries'})=>frozenset({'Organic Raspberries'})",
          "frozenset({'Organic Raspberries'})=>frozenset({'Organic Tomato Cluster'})",
          "frozenset({'Organic Tomato Cluster'})=>frozenset({'Organic Raspberries'})",
          "frozenset({'Organic Raspberries'})=>frozenset({'Organic Whole Milk'})",
          "frozenset({'Organic Whole Milk'})=>frozenset({'Organic Raspberries'})",
          "frozenset({'Organic Raspberries'})=>frozenset({'Organic Yellow Onion'})",
          "frozenset({'Organic Yellow Onion'})=>frozenset({'Organic Raspberries'})",
          "frozenset({'Organic Raspberries'})=>frozenset({'Organic Zucchini'})",
          "frozenset({'Organic Zucchini'})=>frozenset({'Organic Raspberries'})",
          "frozenset({'Seedless Red Grapes'})=>frozenset({'Organic Raspberries'})",
          "frozenset({'Organic Raspberries'})=>frozenset({'Seedless Red Grapes'})",
          "frozenset({'Organic Strawberries'})=>frozenset({'Organic Red Bell Pepper'})",
          "frozenset({'Organic Red Bell Pepper'})=>frozenset({'Organic Strawberries'})",
          "frozenset({'Organic Yellow Onion'})=>frozenset({'Organic Red Bell Pepper'})",
          "frozenset({'Organic Red Bell Pepper'})=>frozenset({'Organic Yellow Onion'})",
          "frozenset({'Organic Strawberries'})=>frozenset({'Organic Red Onion'})",
          "frozenset({'Organic Red Onion'})=>frozenset({'Organic Strawberries'})",
          "frozenset({'Organic Yellow Onion'})=>frozenset({'Organic Red Onion'})",
          "frozenset({'Organic Red Onion'})=>frozenset({'Organic Yellow Onion'})",
          "frozenset({'Organic Zucchini'})=>frozenset({'Organic Red Onion'})",
          "frozenset({'Organic Red Onion'})=>frozenset({'Organic Zucchini'})",
          "frozenset({'Organic Strawberries'})=>frozenset({'Organic Small Bunch Celery'})",
          "frozenset({'Organic Small Bunch Celery'})=>frozenset({'Organic Strawberries'})",
          "frozenset({'Organic Strawberries'})=>frozenset({'Organic Tomato Cluster'})",
          "frozenset({'Organic Tomato Cluster'})=>frozenset({'Organic Strawberries'})",
          "frozenset({'Organic Whole Milk'})=>frozenset({'Organic Strawberries'})",
          "frozenset({'Organic Strawberries'})=>frozenset({'Organic Whole Milk'})",
          "frozenset({'Organic Whole String Cheese'})=>frozenset({'Organic Strawberries'})",
          "frozenset({'Organic Strawberries'})=>frozenset({'Organic Whole String Cheese'})",
          "frozenset({'Organic Strawberries'})=>frozenset({'Organic Yellow Onion'})",
          "frozenset({'Organic Yellow Onion'})=>frozenset({'Organic Strawberries'})",
          "frozenset({'Organic Zucchini'})=>frozenset({'Organic Strawberries'})",
          "frozenset({'Organic Strawberries'})=>frozenset({'Organic Zucchini'})",
          "frozenset({'Original Hummus'})=>frozenset({'Organic Strawberries'})",
          "frozenset({'Organic Strawberries'})=>frozenset({'Original Hummus'})",
          "frozenset({'Raspberries'})=>frozenset({'Organic Strawberries'})",
          "frozenset({'Red Peppers'})=>frozenset({'Organic Strawberries'})",
          "frozenset({'Seedless Red Grapes'})=>frozenset({'Organic Strawberries'})",
          "frozenset({'Organic Strawberries'})=>frozenset({'Seedless Red Grapes'})",
          "frozenset({'Uncured Genoa Salami'})=>frozenset({'Organic Strawberries'})",
          "frozenset({'Organic Whole Milk'})=>frozenset({'Organic Zucchini'})",
          "frozenset({'Organic Zucchini'})=>frozenset({'Organic Whole Milk'})",
          "frozenset({'Organic Zucchini'})=>frozenset({'Organic Yellow Onion'})",
          "frozenset({'Organic Yellow Onion'})=>frozenset({'Organic Zucchini'})",
          "frozenset({'Seedless Red Grapes'})=>frozenset({'Strawberries'})",
          "frozenset({'Strawberries'})=>frozenset({'Seedless Red Grapes'})",
          "frozenset({'Organic Hass Avocado', 'Limes'})=>frozenset({'Bag of Organic Bananas'})",
          "frozenset({'Organic Hass Avocado', 'Bag of Organic Bananas'})=>frozenset({'Limes'})",
          "frozenset({'Bag of Organic Bananas', 'Limes'})=>frozenset({'Organic Hass Avocado'})",
          "frozenset({'Organic Hass Avocado'})=>frozenset({'Bag of Organic Bananas', 'Limes'})",
          "frozenset({'Limes'})=>frozenset({'Organic Hass Avocado', 'Bag of Organic Bananas'})",
          "frozenset({'Organic Strawberries', 'Limes'})=>frozenset({'Bag of Organic Bananas'})",
          "frozenset({'Organic Strawberries', 'Bag of Organic Bananas'})=>frozenset({'Limes'})",
          "frozenset({'Bag of Organic Bananas', 'Limes'})=>frozenset({'Organic Strawberries'})",
          "frozenset({'Limes'})=>frozenset({'Organic Strawberries', 'Bag of Organic Bananas'})",
          "frozenset({'Organic Strawberries', 'Bag of Organic Bananas'})=>frozenset({'Organic Baby Carrots'})",
          "frozenset({'Organic Baby Carrots', 'Bag of Organic Bananas'})=>frozenset({'Organic Strawberries'})",
          "frozenset({'Organic Strawberries', 'Organic Baby Carrots'})=>frozenset({'Bag of Organic Bananas'})",
          "frozenset({'Organic Baby Carrots'})=>frozenset({'Organic Strawberries', 'Bag of Organic Bananas'})",
          "frozenset({'Organic Cucumber', 'Organic Baby Spinach'})=>frozenset({'Bag of Organic Bananas'})",
          "frozenset({'Organic Cucumber', 'Bag of Organic Bananas'})=>frozenset({'Organic Baby Spinach'})",
          "frozenset({'Organic Baby Spinach', 'Bag of Organic Bananas'})=>frozenset({'Organic Cucumber'})",
          "frozenset({'Organic Cucumber'})=>frozenset({'Organic Baby Spinach', 'Bag of Organic Bananas'})",
          "frozenset({'Organic Baby Spinach'})=>frozenset({'Organic Cucumber', 'Bag of Organic Bananas'})",
          "frozenset({'Organic Hass Avocado', 'Organic Baby Spinach'})=>frozenset({'Bag of Organic Bananas'})",
          "frozenset({'Organic Hass Avocado', 'Bag of Organic Bananas'})=>frozenset({'Organic Baby Spinach'})",
          "frozenset({'Organic Baby Spinach', 'Bag of Organic Bananas'})=>frozenset({'Organic Hass Avocado'})",
          "frozenset({'Organic Hass Avocado'})=>frozenset({'Organic Baby Spinach', 'Bag of Organic Bananas'})",
          "frozenset({'Organic Baby Spinach'})=>frozenset({'Organic Hass Avocado', 'Bag of Organic Bananas'})",
          "frozenset({'Bag of Organic Bananas'})=>frozenset({'Organic Hass Avocado', 'Organic Baby Spinach'})",
          "frozenset({'Organic Raspberries', 'Organic Baby Spinach'})=>frozenset({'Bag of Organic Bananas'})",
          "frozenset({'Organic Raspberries', 'Bag of Organic Bananas'})=>frozenset({'Organic Baby Spinach'})",
          "frozenset({'Organic Baby Spinach', 'Bag of Organic Bananas'})=>frozenset({'Organic Raspberries'})",
          "frozenset({'Organic Raspberries'})=>frozenset({'Organic Baby Spinach', 'Bag of Organic Bananas'})",
          "frozenset({'Organic Baby Spinach'})=>frozenset({'Organic Raspberries', 'Bag of Organic Bananas'})",
          "frozenset({'Organic Baby Spinach', 'Organic Red Onion'})=>frozenset({'Bag of Organic Bananas'})",
          "frozenset({'Organic Baby Spinach', 'Bag of Organic Bananas'})=>frozenset({'Organic Red Onion'})",
          "frozenset({'Organic Red Onion', 'Bag of Organic Bananas'})=>frozenset({'Organic Baby Spinach'})",
          "frozenset({'Organic Baby Spinach'})=>frozenset({'Organic Red Onion', 'Bag of Organic Bananas'})",
          "frozenset({'Organic Red Onion'})=>frozenset({'Organic Baby Spinach', 'Bag of Organic Bananas'})",
          "frozenset({'Organic Strawberries', 'Organic Baby Spinach'})=>frozenset({'Bag of Organic Bananas'})",
          "frozenset({'Organic Strawberries', 'Bag of Organic Bananas'})=>frozenset({'Organic Baby Spinach'})",
          "frozenset({'Organic Baby Spinach', 'Bag of Organic Bananas'})=>frozenset({'Organic Strawberries'})",
          "frozenset({'Organic Strawberries'})=>frozenset({'Organic Baby Spinach', 'Bag of Organic Bananas'})",
          "frozenset({'Organic Baby Spinach'})=>frozenset({'Organic Strawberries', 'Bag of Organic Bananas'})",
          "frozenset({'Bag of Organic Bananas'})=>frozenset({'Organic Strawberries', 'Organic Baby Spinach'})",
          "frozenset({'Organic Baby Spinach', 'Organic Yellow Onion'})=>frozenset({'Bag of Organic Bananas'})",
          "frozenset({'Organic Baby Spinach', 'Bag of Organic Bananas'})=>frozenset({'Organic Yellow Onion'})",
          "frozenset({'Organic Yellow Onion', 'Bag of Organic Bananas'})=>frozenset({'Organic Baby Spinach'})",
          "frozenset({'Organic Baby Spinach'})=>frozenset({'Organic Yellow Onion', 'Bag of Organic Bananas'})",
          "frozenset({'Organic Yellow Onion'})=>frozenset({'Organic Baby Spinach', 'Bag of Organic Bananas'})",
          "frozenset({'Organic Zucchini', 'Organic Baby Spinach'})=>frozenset({'Bag of Organic Bananas'})",
          "frozenset({'Organic Zucchini', 'Bag of Organic Bananas'})=>frozenset({'Organic Baby Spinach'})",
          "frozenset({'Organic Baby Spinach', 'Bag of Organic Bananas'})=>frozenset({'Organic Zucchini'})",
          "frozenset({'Organic Zucchini'})=>frozenset({'Organic Baby Spinach', 'Bag of Organic Bananas'})",
          "frozenset({'Organic Baby Spinach'})=>frozenset({'Organic Zucchini', 'Bag of Organic Bananas'})",
          "frozenset({'Organic Blueberries', 'Organic Raspberries'})=>frozenset({'Bag of Organic Bananas'})",
          "frozenset({'Organic Blueberries', 'Bag of Organic Bananas'})=>frozenset({'Organic Raspberries'})",
          "frozenset({'Organic Raspberries', 'Bag of Organic Bananas'})=>frozenset({'Organic Blueberries'})",
          "frozenset({'Organic Blueberries'})=>frozenset({'Organic Raspberries', 'Bag of Organic Bananas'})",
          "frozenset({'Organic Raspberries'})=>frozenset({'Organic Blueberries', 'Bag of Organic Bananas'})",
          "frozenset({'Organic Blueberries', 'Organic Strawberries'})=>frozenset({'Bag of Organic Bananas'})",
          "frozenset({'Organic Blueberries', 'Bag of Organic Bananas'})=>frozenset({'Organic Strawberries'})",
          "frozenset({'Organic Strawberries', 'Bag of Organic Bananas'})=>frozenset({'Organic Blueberries'})",
          "frozenset({'Organic Blueberries'})=>frozenset({'Organic Strawberries', 'Bag of Organic Bananas'})",
          "frozenset({'Organic Strawberries'})=>frozenset({'Organic Blueberries', 'Bag of Organic Bananas'})",
          "frozenset({'Organic Cucumber', 'Organic Hass Avocado'})=>frozenset({'Bag of Organic Bananas'})",
          "frozenset({'Organic Cucumber', 'Bag of Organic Bananas'})=>frozenset({'Organic Hass Avocado'})",
          "frozenset({'Organic Hass Avocado', 'Bag of Organic Bananas'})=>frozenset({'Organic Cucumber'})",
          "frozenset({'Organic Cucumber'})=>frozenset({'Organic Hass Avocado', 'Bag of Organic Bananas'})",
          "frozenset({'Organic Hass Avocado'})=>frozenset({'Organic Cucumber', 'Bag of Organic Bananas'})",
          "frozenset({'Bag of Organic Bananas'})=>frozenset({'Organic Cucumber', 'Organic Hass Avocado'})",
          "frozenset({'Organic Raspberries', 'Organic Cucumber'})=>frozenset({'Bag of Organic Bananas'})",
          "frozenset({'Organic Raspberries', 'Bag of Organic Bananas'})=>frozenset({'Organic Cucumber'})",
          "frozenset({'Organic Cucumber', 'Bag of Organic Bananas'})=>frozenset({'Organic Raspberries'})",
          "frozenset({'Organic Raspberries'})=>frozenset({'Organic Cucumber', 'Bag of Organic Bananas'})",
          "frozenset({'Organic Cucumber'})=>frozenset({'Organic Raspberries', 'Bag of Organic Bananas'})",
          "frozenset({'Organic Cucumber', 'Organic Strawberries'})=>frozenset({'Bag of Organic Bananas'})",
          "frozenset({'Organic Cucumber', 'Bag of Organic Bananas'})=>frozenset({'Organic Strawberries'})",
          "frozenset({'Organic Strawberries', 'Bag of Organic Bananas'})=>frozenset({'Organic Cucumber'})",
          "frozenset({'Organic Cucumber'})=>frozenset({'Organic Strawberries', 'Bag of Organic Bananas'})",
          "frozenset({'Organic Strawberries'})=>frozenset({'Organic Cucumber', 'Bag of Organic Bananas'})",
          "frozenset({'Bag of Organic Bananas'})=>frozenset({'Organic Cucumber', 'Organic Strawberries'})",
          "frozenset({'Organic Garlic', 'Organic Hass Avocado'})=>frozenset({'Bag of Organic Bananas'})",
          "frozenset({'Organic Garlic', 'Bag of Organic Bananas'})=>frozenset({'Organic Hass Avocado'})",
          "frozenset({'Organic Hass Avocado', 'Bag of Organic Bananas'})=>frozenset({'Organic Garlic'})",
          "frozenset({'Organic Garlic'})=>frozenset({'Organic Hass Avocado', 'Bag of Organic Bananas'})",
          "frozenset({'Organic Hass Avocado'})=>frozenset({'Organic Garlic', 'Bag of Organic Bananas'})",
          "frozenset({'Organic Garlic', 'Organic Strawberries'})=>frozenset({'Bag of Organic Bananas'})",
          "frozenset({'Organic Garlic', 'Bag of Organic Bananas'})=>frozenset({'Organic Strawberries'})",
          "frozenset({'Organic Strawberries', 'Bag of Organic Bananas'})=>frozenset({'Organic Garlic'})",
          "frozenset({'Organic Garlic'})=>frozenset({'Organic Strawberries', 'Bag of Organic Bananas'})",
          "frozenset({'Organic Garlic', 'Organic Yellow Onion'})=>frozenset({'Bag of Organic Bananas'})",
          "frozenset({'Organic Garlic', 'Bag of Organic Bananas'})=>frozenset({'Organic Yellow Onion'})",
          "frozenset({'Organic Yellow Onion', 'Bag of Organic Bananas'})=>frozenset({'Organic Garlic'})",
          "frozenset({'Organic Garlic'})=>frozenset({'Organic Yellow Onion', 'Bag of Organic Bananas'})",
          "frozenset({'Organic Yellow Onion'})=>frozenset({'Organic Garlic', 'Bag of Organic Bananas'})",
          "frozenset({'Organic Hass Avocado', 'Organic Lemon'})=>frozenset({'Bag of Organic Bananas'})",
          "frozenset({'Organic Hass Avocado', 'Bag of Organic Bananas'})=>frozenset({'Organic Lemon'})",
          "frozenset({'Organic Lemon', 'Bag of Organic Bananas'})=>frozenset({'Organic Hass Avocado'})",
          "frozenset({'Organic Hass Avocado'})=>frozenset({'Organic Lemon', 'Bag of Organic Bananas'})",
          "frozenset({'Organic Lemon'})=>frozenset({'Organic Hass Avocado', 'Bag of Organic Bananas'})",
          "frozenset({'Organic Raspberries', 'Organic Hass Avocado'})=>frozenset({'Bag of Organic Bananas'})",
          "frozenset({'Organic Raspberries', 'Bag of Organic Bananas'})=>frozenset({'Organic Hass Avocado'})",
          "frozenset({'Organic Hass Avocado', 'Bag of Organic Bananas'})=>frozenset({'Organic Raspberries'})",
          "frozenset({'Organic Raspberries'})=>frozenset({'Organic Hass Avocado', 'Bag of Organic Bananas'})",
          "frozenset({'Organic Hass Avocado'})=>frozenset({'Organic Raspberries', 'Bag of Organic Bananas'})",
          "frozenset({'Bag of Organic Bananas'})=>frozenset({'Organic Raspberries', 'Organic Hass Avocado'})",
          "frozenset({'Organic Hass Avocado', 'Organic Strawberries'})=>frozenset({'Bag of Organic Bananas'})",
          "frozenset({'Organic Hass Avocado', 'Bag of Organic Bananas'})=>frozenset({'Organic Strawberries'})",
          "frozenset({'Organic Strawberries', 'Bag of Organic Bananas'})=>frozenset({'Organic Hass Avocado'})",
          "frozenset({'Organic Hass Avocado'})=>frozenset({'Organic Strawberries', 'Bag of Organic Bananas'})",
          "frozenset({'Organic Strawberries'})=>frozenset({'Organic Hass Avocado', 'Bag of Organic Bananas'})",
          "frozenset({'Bag of Organic Bananas'})=>frozenset({'Organic Hass Avocado', 'Organic Strawberries'})",
          "frozenset({'Organic Hass Avocado', 'Organic Yellow Onion'})=>frozenset({'Bag of Organic Bananas'})",
          "frozenset({'Organic Hass Avocado', 'Bag of Organic Bananas'})=>frozenset({'Organic Yellow Onion'})",
          "frozenset({'Organic Yellow Onion', 'Bag of Organic Bananas'})=>frozenset({'Organic Hass Avocado'})",
          "frozenset({'Organic Hass Avocado'})=>frozenset({'Organic Yellow Onion', 'Bag of Organic Bananas'})",
          "frozenset({'Organic Yellow Onion'})=>frozenset({'Organic Hass Avocado', 'Bag of Organic Bananas'})",
          "frozenset({'Organic Hass Avocado', 'Bag of Organic Bananas'})=>frozenset({'Organic Zucchini'})",
          "frozenset({'Organic Hass Avocado', 'Organic Zucchini'})=>frozenset({'Bag of Organic Bananas'})",
          "frozenset({'Organic Zucchini', 'Bag of Organic Bananas'})=>frozenset({'Organic Hass Avocado'})",
          "frozenset({'Organic Hass Avocado'})=>frozenset({'Organic Zucchini', 'Bag of Organic Bananas'})",
          "frozenset({'Organic Zucchini'})=>frozenset({'Organic Hass Avocado', 'Bag of Organic Bananas'})",
          "frozenset({'Organic Strawberries', 'Organic Kiwi'})=>frozenset({'Bag of Organic Bananas'})",
          "frozenset({'Organic Strawberries', 'Bag of Organic Bananas'})=>frozenset({'Organic Kiwi'})",
          "frozenset({'Organic Kiwi', 'Bag of Organic Bananas'})=>frozenset({'Organic Strawberries'})",
          "frozenset({'Organic Kiwi'})=>frozenset({'Organic Strawberries', 'Bag of Organic Bananas'})",
          "frozenset({'Organic Large Extra Fancy Fuji Apple', 'Organic Strawberries'})=>frozenset({'Bag of Organic Bananas'})",
          "frozenset({'Organic Large Extra Fancy Fuji Apple', 'Bag of Organic Bananas'})=>frozenset({'Organic Strawberries'})",
          "frozenset({'Organic Strawberries', 'Bag of Organic Bananas'})=>frozenset({'Organic Large Extra Fancy Fuji Apple'})",
          "frozenset({'Organic Large Extra Fancy Fuji Apple'})=>frozenset({'Organic Strawberries', 'Bag of Organic Bananas'})",
          "frozenset({'Organic Raspberries', 'Organic Lemon'})=>frozenset({'Bag of Organic Bananas'})",
          "frozenset({'Organic Raspberries', 'Bag of Organic Bananas'})=>frozenset({'Organic Lemon'})",
          "frozenset({'Organic Lemon', 'Bag of Organic Bananas'})=>frozenset({'Organic Raspberries'})",
          "frozenset({'Organic Raspberries'})=>frozenset({'Organic Lemon', 'Bag of Organic Bananas'})",
          "frozenset({'Organic Lemon'})=>frozenset({'Organic Raspberries', 'Bag of Organic Bananas'})",
          "frozenset({'Organic Strawberries', 'Organic Lemon'})=>frozenset({'Bag of Organic Bananas'})",
          "frozenset({'Organic Strawberries', 'Bag of Organic Bananas'})=>frozenset({'Organic Lemon'})",
          "frozenset({'Organic Lemon', 'Bag of Organic Bananas'})=>frozenset({'Organic Strawberries'})",
          "frozenset({'Organic Lemon'})=>frozenset({'Organic Strawberries', 'Bag of Organic Bananas'})",
          "frozenset({'Organic Raspberries', 'Organic Strawberries'})=>frozenset({'Bag of Organic Bananas'})",
          "frozenset({'Organic Raspberries', 'Bag of Organic Bananas'})=>frozenset({'Organic Strawberries'})",
          "frozenset({'Organic Strawberries', 'Bag of Organic Bananas'})=>frozenset({'Organic Raspberries'})",
          "frozenset({'Organic Raspberries'})=>frozenset({'Organic Strawberries', 'Bag of Organic Bananas'})",
          "frozenset({'Organic Strawberries'})=>frozenset({'Organic Raspberries', 'Bag of Organic Bananas'})",
          "frozenset({'Bag of Organic Bananas'})=>frozenset({'Organic Raspberries', 'Organic Strawberries'})",
          "frozenset({'Organic Strawberries', 'Organic Yellow Onion'})=>frozenset({'Bag of Organic Bananas'})",
          "frozenset({'Organic Strawberries', 'Bag of Organic Bananas'})=>frozenset({'Organic Yellow Onion'})",
          "frozenset({'Organic Yellow Onion', 'Bag of Organic Bananas'})=>frozenset({'Organic Strawberries'})",
          "frozenset({'Organic Yellow Onion'})=>frozenset({'Organic Strawberries', 'Bag of Organic Bananas'})",
          "frozenset({'Organic Zucchini', 'Organic Strawberries'})=>frozenset({'Bag of Organic Bananas'})",
          "frozenset({'Organic Zucchini', 'Bag of Organic Bananas'})=>frozenset({'Organic Strawberries'})",
          "frozenset({'Organic Strawberries', 'Bag of Organic Bananas'})=>frozenset({'Organic Zucchini'})",
          "frozenset({'Organic Zucchini'})=>frozenset({'Organic Strawberries', 'Bag of Organic Bananas'})",
          "frozenset({'Banana', 'Large Lemon'})=>frozenset({'Limes'})",
          "frozenset({'Banana', 'Limes'})=>frozenset({'Large Lemon'})",
          "frozenset({'Large Lemon', 'Limes'})=>frozenset({'Banana'})",
          "frozenset({'Large Lemon'})=>frozenset({'Banana', 'Limes'})",
          "frozenset({'Limes'})=>frozenset({'Banana', 'Large Lemon'})",
          "frozenset({'Banana', 'Large Lemon'})=>frozenset({'Organic Avocado'})",
          "frozenset({'Banana', 'Organic Avocado'})=>frozenset({'Large Lemon'})",
          "frozenset({'Organic Avocado', 'Large Lemon'})=>frozenset({'Banana'})",
          "frozenset({'Large Lemon'})=>frozenset({'Banana', 'Organic Avocado'})",
          "frozenset({'Organic Avocado'})=>frozenset({'Banana', 'Large Lemon'})",
          "frozenset({'Banana', 'Organic Avocado'})=>frozenset({'Limes'})",
          "frozenset({'Banana', 'Limes'})=>frozenset({'Organic Avocado'})",
          "frozenset({'Organic Avocado', 'Limes'})=>frozenset({'Banana'})",
          "frozenset({'Organic Avocado'})=>frozenset({'Banana', 'Limes'})",
          "frozenset({'Limes'})=>frozenset({'Banana', 'Organic Avocado'})",
          "frozenset({'Banana', 'Organic Strawberries'})=>frozenset({'Organic Avocado'})",
          "frozenset({'Banana', 'Organic Avocado'})=>frozenset({'Organic Strawberries'})",
          "frozenset({'Organic Strawberries', 'Organic Avocado'})=>frozenset({'Banana'})",
          "frozenset({'Organic Avocado'})=>frozenset({'Banana', 'Organic Strawberries'})",
          "frozenset({'Organic Avocado', 'Large Lemon'})=>frozenset({'Limes'})",
          "frozenset({'Large Lemon', 'Limes'})=>frozenset({'Organic Avocado'})",
          "frozenset({'Organic Avocado', 'Limes'})=>frozenset({'Large Lemon'})",
          "frozenset({'Large Lemon'})=>frozenset({'Organic Avocado', 'Limes'})",
          "frozenset({'Organic Avocado'})=>frozenset({'Large Lemon', 'Limes'})",
          "frozenset({'Limes'})=>frozenset({'Organic Avocado', 'Large Lemon'})",
          "frozenset({'Organic Baby Spinach', 'Large Lemon'})=>frozenset({'Limes'})",
          "frozenset({'Organic Baby Spinach', 'Limes'})=>frozenset({'Large Lemon'})",
          "frozenset({'Large Lemon', 'Limes'})=>frozenset({'Organic Baby Spinach'})",
          "frozenset({'Organic Baby Spinach'})=>frozenset({'Large Lemon', 'Limes'})",
          "frozenset({'Large Lemon'})=>frozenset({'Organic Baby Spinach', 'Limes'})",
          "frozenset({'Limes'})=>frozenset({'Organic Baby Spinach', 'Large Lemon'})",
          "frozenset({'Organic Strawberries', 'Large Lemon'})=>frozenset({'Limes'})",
          "frozenset({'Organic Strawberries', 'Limes'})=>frozenset({'Large Lemon'})",
          "frozenset({'Large Lemon', 'Limes'})=>frozenset({'Organic Strawberries'})",
          "frozenset({'Large Lemon'})=>frozenset({'Organic Strawberries', 'Limes'})",
          "frozenset({'Limes'})=>frozenset({'Organic Strawberries', 'Large Lemon'})",
          "frozenset({'Organic Strawberries', 'Organic Baby Spinach'})=>frozenset({'Limes'})",
          "frozenset({'Organic Strawberries', 'Limes'})=>frozenset({'Organic Baby Spinach'})",
          "frozenset({'Organic Baby Spinach', 'Limes'})=>frozenset({'Organic Strawberries'})",
          "frozenset({'Organic Baby Spinach'})=>frozenset({'Organic Strawberries', 'Limes'})",
          "frozenset({'Limes'})=>frozenset({'Organic Strawberries', 'Organic Baby Spinach'})",
          "frozenset({'Organic Cucumber', 'Organic Hass Avocado'})=>frozenset({'Organic Baby Spinach'})",
          "frozenset({'Organic Cucumber', 'Organic Baby Spinach'})=>frozenset({'Organic Hass Avocado'})",
          "frozenset({'Organic Hass Avocado', 'Organic Baby Spinach'})=>frozenset({'Organic Cucumber'})",
          "frozenset({'Organic Cucumber'})=>frozenset({'Organic Hass Avocado', 'Organic Baby Spinach'})",
          "frozenset({'Organic Hass Avocado'})=>frozenset({'Organic Cucumber', 'Organic Baby Spinach'})",
          "frozenset({'Organic Baby Spinach'})=>frozenset({'Organic Cucumber', 'Organic Hass Avocado'})",
          "frozenset({'Organic Cucumber', 'Organic Strawberries'})=>frozenset({'Organic Baby Spinach'})",
          "frozenset({'Organic Cucumber', 'Organic Baby Spinach'})=>frozenset({'Organic Strawberries'})",
          "frozenset({'Organic Strawberries', 'Organic Baby Spinach'})=>frozenset({'Organic Cucumber'})",
          "frozenset({'Organic Cucumber'})=>frozenset({'Organic Strawberries', 'Organic Baby Spinach'})",
          "frozenset({'Organic Baby Spinach'})=>frozenset({'Organic Cucumber', 'Organic Strawberries'})",
          "frozenset({'Organic Hass Avocado', 'Organic Strawberries'})=>frozenset({'Organic Baby Spinach'})",
          "frozenset({'Organic Hass Avocado', 'Organic Baby Spinach'})=>frozenset({'Organic Strawberries'})",
          "frozenset({'Organic Strawberries', 'Organic Baby Spinach'})=>frozenset({'Organic Hass Avocado'})",
          "frozenset({'Organic Hass Avocado'})=>frozenset({'Organic Strawberries', 'Organic Baby Spinach'})",
          "frozenset({'Organic Baby Spinach'})=>frozenset({'Organic Hass Avocado', 'Organic Strawberries'})",
          "frozenset({'Organic Raspberries', 'Organic Strawberries'})=>frozenset({'Organic Baby Spinach'})",
          "frozenset({'Organic Raspberries', 'Organic Baby Spinach'})=>frozenset({'Organic Strawberries'})",
          "frozenset({'Organic Strawberries', 'Organic Baby Spinach'})=>frozenset({'Organic Raspberries'})",
          "frozenset({'Organic Raspberries'})=>frozenset({'Organic Strawberries', 'Organic Baby Spinach'})",
          "frozenset({'Organic Baby Spinach'})=>frozenset({'Organic Raspberries', 'Organic Strawberries'})",
          "frozenset({'Organic Blueberries', 'Organic Raspberries'})=>frozenset({'Organic Strawberries'})",
          "frozenset({'Organic Blueberries', 'Organic Strawberries'})=>frozenset({'Organic Raspberries'})",
          "frozenset({'Organic Raspberries', 'Organic Strawberries'})=>frozenset({'Organic Blueberries'})",
          "frozenset({'Organic Blueberries'})=>frozenset({'Organic Raspberries', 'Organic Strawberries'})",
          "frozenset({'Organic Raspberries'})=>frozenset({'Organic Blueberries', 'Organic Strawberries'})",
          "frozenset({'Organic Cucumber', 'Organic Hass Avocado'})=>frozenset({'Organic Strawberries'})",
          "frozenset({'Organic Cucumber', 'Organic Strawberries'})=>frozenset({'Organic Hass Avocado'})",
          "frozenset({'Organic Hass Avocado', 'Organic Strawberries'})=>frozenset({'Organic Cucumber'})",
          "frozenset({'Organic Cucumber'})=>frozenset({'Organic Hass Avocado', 'Organic Strawberries'})",
          "frozenset({'Organic Hass Avocado'})=>frozenset({'Organic Cucumber', 'Organic Strawberries'})",
          "frozenset({'Organic Strawberries'})=>frozenset({'Organic Cucumber', 'Organic Hass Avocado'})",
          "frozenset({'Organic Raspberries', 'Organic Cucumber'})=>frozenset({'Organic Strawberries'})",
          "frozenset({'Organic Raspberries', 'Organic Strawberries'})=>frozenset({'Organic Cucumber'})",
          "frozenset({'Organic Cucumber', 'Organic Strawberries'})=>frozenset({'Organic Raspberries'})",
          "frozenset({'Organic Raspberries'})=>frozenset({'Organic Cucumber', 'Organic Strawberries'})",
          "frozenset({'Organic Cucumber'})=>frozenset({'Organic Raspberries', 'Organic Strawberries'})",
          "frozenset({'Organic Hass Avocado', 'Organic Strawberries'})=>frozenset({'Organic Lemon'})",
          "frozenset({'Organic Hass Avocado', 'Organic Lemon'})=>frozenset({'Organic Strawberries'})",
          "frozenset({'Organic Strawberries', 'Organic Lemon'})=>frozenset({'Organic Hass Avocado'})",
          "frozenset({'Organic Hass Avocado'})=>frozenset({'Organic Strawberries', 'Organic Lemon'})",
          "frozenset({'Organic Lemon'})=>frozenset({'Organic Hass Avocado', 'Organic Strawberries'})",
          "frozenset({'Organic Raspberries', 'Organic Hass Avocado'})=>frozenset({'Organic Strawberries'})",
          "frozenset({'Organic Raspberries', 'Organic Strawberries'})=>frozenset({'Organic Hass Avocado'})",
          "frozenset({'Organic Hass Avocado', 'Organic Strawberries'})=>frozenset({'Organic Raspberries'})",
          "frozenset({'Organic Raspberries'})=>frozenset({'Organic Hass Avocado', 'Organic Strawberries'})",
          "frozenset({'Organic Hass Avocado'})=>frozenset({'Organic Raspberries', 'Organic Strawberries'})",
          "frozenset({'Organic Strawberries'})=>frozenset({'Organic Raspberries', 'Organic Hass Avocado'})"
         ],
         "legendgroup": "",
         "marker": {
          "color": [
           1.259576612903226,
           1.7804580152671756,
           2.1517775827523966,
           2.151777582752397,
           1.5730112043215034,
           1.2255632183908047,
           1.2255632183908045,
           1.003800519095291,
           1.003800519095291,
           1.3340049076585303,
           1.33400490765853,
           1.456062291434928,
           1.4560622914349277,
           1.5593103448275862,
           1.5593103448275862,
           1.7119028843166775,
           1.7119028843166775,
           1.3898776418242493,
           1.3898776418242493,
           1.1007804123968385,
           1.1007804123968385,
           1.3557115247685894,
           1.3557115247685894,
           2.0120772946859904,
           2.0120772946859904,
           1.177101104620104,
           1.1771011046201039,
           1.9149425287356323,
           1.9149425287356323,
           1.2681492537313432,
           1.1651779141104295,
           1.309592039800995,
           1.309592039800995,
           1.4183513513513515,
           0.9343703703703705,
           0.9471675126903553,
           0.8685662921348315,
           0.8685662921348315,
           1.059483870967742,
           1.059483870967742,
           1.2638620689655173,
           0.8663200000000001,
           0.8663200000000001,
           1.4956136363636363,
           1.4956136363636363,
           1.4238061674008813,
           1.4238061674008813,
           1.4477920997920999,
           1.4477920997920999,
           1.6660000000000001,
           0.9769214659685864,
           1.343377777777778,
           1.3433777777777778,
           1.972544,
           1.6434864864864867,
           1.3838548387096776,
           1.3838548387096774,
           1.6033010752688175,
           1.6033010752688175,
           1.586666666666667,
           1.5866666666666667,
           1.4495141242937855,
           1.4495141242937857,
           1.562216393442623,
           1.562216393442623,
           1.3793763440860216,
           1.3793763440860218,
           1.6305531914893618,
           1.5754565217391305,
           1.5754565217391305,
           1.246,
           1.246,
           1.2097070063694269,
           1.958724511930586,
           1.958724511930586,
           1.3826666666666667,
           1.8207650273224047,
           1.8207650273224047,
           1.6802393162393163,
           1.6584615384615384,
           1.6584615384615384,
           1.8318787878787877,
           1.8318787878787879,
           2.1658000000000004,
           2.1658000000000004,
           1.2060613496932515,
           1.6807433628318584,
           1.6807433628318587,
           1.3827800000000001,
           1.3827800000000001,
           1.4366231884057972,
           1.4366231884057972,
           1.5192538860103628,
           1.519253886010363,
           1.3544715447154472,
           1.4986506746626689,
           1.4986506746626689,
           1.46608,
           1.46608,
           1.6660000000000001,
           1.2804192139737993,
           1.2804192139737993,
           1.6217699115044248,
           1.6189378531073448,
           1.6189378531073448,
           1.6100939597315436,
           1.6100939597315436,
           1.37445,
           1.3744500000000002,
           1.254179775280899,
           1.1416414342629484,
           1.1416414342629484,
           0.5441948424068769,
           1.1856196319018404,
           1.404618768328446,
           1.3285086663456909,
           0.9525156475686087,
           1.1907108721624853,
           1.3640085148190602,
           1.3640085148190602,
           1.3737404856832187,
           1.3737404856832187,
           1.1144640998959419,
           1.1144640998959419,
           1.5258870967741935,
           1.5258870967741935,
           1.0357751882904649,
           0.8449550667292604,
           0.8449550667292604,
           1.0903141361256543,
           0.9810035842293908,
           0.9810035842293907,
           0.7855424037460979,
           0.8577761879986125,
           0.8577761879986125,
           1.3346507156590472,
           0.986786950975032,
           0.792913802221047,
           0.9390391952826918,
           1.030241935483871,
           0.47359352039745295,
           0.7751240694789082,
           1.215787650900455,
           0.7356819155009993,
           0.7356819155009992,
           0.890100806451613,
           0.7423591631603553,
           0.8913345746481599,
           0.8913345746481598,
           0.8733064516129033,
           1.041396675588111,
           0.8002679151331458,
           0.955178931451613,
           0.9551789314516129,
           1.541776837652036,
           1.541776837652036,
           1.3645413306451613,
           1.2177580002570365,
           1.2177580002570365,
           1.1582313681868746,
           1.520634993992051,
           1.5206349939920507,
           1.5423387096774193,
           1.5423387096774195,
           1.769805924412666,
           1.7698059244126658,
           1.5743715743715745,
           1.5743715743715745,
           2.778013582342954,
           2.7780135823429544,
           1.5937143368614202,
           1.1722574295674248,
           1.5250255996524653,
           1.5250255996524655,
           1.7713448884609215,
           1.7713448884609215,
           1.4024023051769352,
           1.4024023051769354,
           1.5678576145819576,
           1.5678576145819578,
           1.5657544362147287,
           1.5657544362147289,
           2.020335820895522,
           2.0203358208955224,
           1.9307327077597347,
           1.9307327077597347,
           1.7467381174277727,
           1.746738117427773,
           1.5393855393855396,
           1.5393855393855396,
           1.0109945027486258,
           1.3693254895394942,
           1.3693254895394942,
           2.6048387096774195,
           2.6048387096774195,
           2.122073214932947,
           2.122073214932947,
           1.877258426966292,
           1.8772584269662922,
           1.4843340098005247,
           1.4843340098005247,
           1.3543133453245813,
           1.3543133453245813,
           1.1231460674157303,
           1.1231460674157303,
           1.426576658209496,
           1.4265766582094963,
           1.3284523378035522,
           1.328452337803552,
           1.4177417572296924,
           1.4177417572296924,
           1.415730337078652,
           1.4157303370786518,
           0.7918057959004606,
           0.7918057959004606,
           0.9069652978025255,
           0.9069652978025257,
           1.5260136785539813,
           1.5260136785539813,
           1.0608426124016646,
           1.0608426124016643,
           1.3978018742946863,
           1.3978018742946865,
           1.149528693160395,
           1.149528693160395,
           1.4214817415730336,
           1.4214817415730334,
           1.454272796454631,
           1.454272796454631,
           1.3516371011879846,
           1.3516371011879846,
           1.8623595505617976,
           1.8623595505617978,
           1.7438709677419357,
           1.7438709677419357,
           1.6685300586510263,
           1.668530058651026,
           1.3886392596070014,
           1.3886392596070016,
           0.9139784946236561,
           0.9139784946236561,
           2.252146201873049,
           2.252146201873049,
           1.439516129032258,
           1.439516129032258,
           1.566948704389212,
           1.566948704389212,
           1.2365474774333496,
           1.2365474774333496,
           1.3709677419354838,
           1.3709677419354838,
           1.0318655438195832,
           1.0318655438195832,
           1.439516129032258,
           1.4395161290322582,
           1.940217391304348,
           1.9402173913043477,
           1.2690187164482276,
           1.2690187164482276,
           1.4970967741935484,
           1.4970967741935486,
           1.391210218662048,
           1.391210218662048,
           1.4215221774193547,
           1.4215221774193547,
           1.7620306716023268,
           1.7620306716023268,
           1.1929057961701581,
           1.1929057961701581,
           0.8249376097606064,
           0.8249376097606064,
           2.22149258011327,
           2.22149258011327,
           1.3177790415137258,
           1.761409691629956,
           1.761409691629956,
           1.4844074844074844,
           1.4844074844074844,
           1.2013333333333334,
           1.2013333333333334,
           1.4395161290322582,
           1.439516129032258,
           1.2283870967741937,
           1.2283870967741937,
           1.2641311475409835,
           1.2641311475409838,
           1.9500000000000002,
           1.95,
           0.96358407079646,
           0.9635840707964601,
           1.2934782608695652,
           1.2934782608695652,
           1.2952623688155924,
           1.2952623688155922,
           1.6213100436681223,
           1.6213100436681225,
           1.2718125,
           1.2718125,
           1.5360956175298808,
           1.5360956175298808,
           1.0229226361031518,
           1.0229226361031518,
           1.9482848232848233,
           1.9482848232848233,
           1.192108491208941,
           1.6936631650288037,
           1.6936631650288037,
           1.7460210316896405,
           1.7460210316896407,
           1.3372958613242616,
           1.3372958613242616,
           1.3152118825776775,
           1.3152118825776775,
           1.7000112278662431,
           1.7000112278662434,
           1.2205128205128206,
           1.2205128205128204,
           1.634045335658239,
           1.634045335658239,
           1.801639729059084,
           1.8016397290590842,
           1.6493416493416495,
           1.6493416493416495,
           1.6731033510694528,
           1.6731033510694528,
           1.550110766504209,
           1.550110766504209,
           2.1787271142109854,
           2.1787271142109854,
           1.879196708983943,
           1.879196708983943,
           1.6094526801048543,
           1.609452680104854,
           1.8773388773388775,
           1.8773388773388775,
           1.5327070771756237,
           1.532707077175624,
           1.8024948024948024,
           1.8024948024948024,
           1.5045578122501202,
           1.50455781225012,
           1.6193536193536193,
           1.6193536193536193,
           1.4137996062774825,
           1.4137996062774825,
           1.5326507276507277,
           1.5326507276507275,
           1.8071047636265025,
           1.8071047636265027,
           1.5074811758749584,
           1.5074811758749584,
           1.4877457321235434,
           1.4877457321235434,
           1.6885135135135136,
           1.6885135135135132,
           1.5200591925482756,
           1.5200591925482756,
           1.6213913965591815,
           1.6213913965591817,
           1.9320491164241163,
           1.9320491164241163,
           1.5761405311967112,
           1.576140531196711,
           1.15913891212696,
           1.15913891212696,
           0.7741036165104932,
           0.7741036165104932,
           1.6651674162918544,
           1.2357983312008918,
           1.2155913978494626,
           1.2155913978494626,
           1.3250903832248737,
           1.3250903832248735,
           1.7551622418879058,
           1.7551622418879058,
           1.6651674162918544,
           1.6651674162918544,
           1.331096196868009,
           1.331096196868009,
           1.4131250000000002,
           1.4131250000000002,
           1.6185427286356824,
           2.0511227062203203,
           2.0511227062203203,
           1.2657522590056325,
           1.7336108220603539,
           1.7336108220603543,
           2.213551031200423,
           2.2135510312004234,
           1.3770642362325942,
           1.377064236232594,
           1.2261365258349985,
           1.2261365258349985,
           2.519153225806452,
           2.5191532258064515,
           1.253911350776225,
           1.253911350776225,
           1.9612199610305259,
           1.961219961030526,
           1.7319178427419355,
           1.7319178427419355,
           1.9193548387096777,
           1.9193548387096777,
           1.563802221047065,
           1.563802221047065,
           1.8058446063128688,
           1.8058446063128688,
           2.145161290322581,
           2.145161290322581,
           1.9235182982296553,
           1.9235182982296553,
           1.5502481389578162,
           1.5502481389578164,
           1.744868035190616,
           1.7448680351906158,
           1.5605373965172713,
           1.560537396517271,
           1.981733870967742,
           1.981733870967742,
           1.7524544179523143,
           1.7524544179523143,
           2.018803275948521,
           2.018803275948521,
           1.702096532378972,
           1.702096532378972,
           1.5254261163544163,
           1.5254261163544163,
           1.9356205576817935,
           1.9356205576817933,
           1.7583351374756442,
           1.7583351374756442,
           1.742414314516129,
           1.7424143145161293,
           1.950349481802844,
           1.9503494818028444,
           1.6674041297935105,
           1.6674041297935107,
           1.883225054139597,
           1.8832250541395972,
           1.4393820039132978,
           1.4393820039132976,
           1.5995874968884465,
           1.5995874968884463,
           2.3764530551415795,
           2.3764530551415795,
           1.5045480922675178,
           1.5045480922675178,
           2.089327868852459,
           2.0893278688524584,
           2.078047042052744,
           2.078047042052744,
           1.3635264335045594,
           1.3635264335045594,
           2.8319617119595115,
           2.8319617119595115,
           1.5362704918032786,
           1.5362704918032786,
           1.544643481911693,
           1.544643481911693,
           1.545675135598059,
           1.5456751355980591,
           1.4704502587415973,
           1.4704502587415973,
           1.3285910236371177,
           1.8929997114274724,
           1.8929997114274724,
           1.6289681246333358,
           1.6289681246333356,
           1.3665943600867683,
           1.3665943600867683,
           1.3705752212389382,
           1.3705752212389382,
           1.5112443778110944,
           1.5112443778110947,
           1.8046875,
           1.8046875,
           2.1031613385014762,
           2.103161338501476,
           1.667945936926414,
           1.667945936926414,
           2.53441135870637,
           2.5344113587063695,
           1.7509742191849194,
           1.7509742191849196,
           1.5720390455531454,
           1.5720390455531452,
           1.3944874092238047,
           1.3944874092238044,
           1.5447944882155262,
           1.5447944882155262,
           1.5360356698006745,
           1.5360356698006747,
           1.5720390455531454,
           1.5720390455531452,
           1.561932423986176,
           1.5619324239861758,
           1.8190685553727672,
           1.8190685553727672,
           1.456846529284165,
           1.4568465292841648,
           1.5547226386806596,
           1.7220731176555928,
           1.7220731176555928,
           1.6173962199228256,
           1.6173962199228256,
           1.801225323349217,
           1.8012253233492173,
           1.5766347595433052,
           1.5766347595433055,
           2.010458567980692,
           2.0104585679806917,
           1.6381354777156878,
           1.6381354777156876,
           2.141854789505796,
           2.141854789505796,
           1.6592203898050975,
           1.2412137489537443,
           1.5204092920353982,
           1.5204092920353982,
           1.4222537514428626,
           1.4222537514428626,
           1.5182608097574397,
           1.51826080975744,
           1.7158223985352457,
           1.7158223985352459,
           1.4651216814159291,
           1.4651216814159294,
           1.3037253159176105,
           1.3037253159176103,
           1.428572489160777,
           1.428572489160777,
           1.2785259955752213,
           1.2785259955752213,
           1.2775623171032684,
           1.2775623171032684,
           1.5361169415292355,
           1.5361169415292357,
           2.431912751677852,
           2.431912751677852,
           1.3981976403102798,
           1.3981976403102798,
           2.157243945141523,
           2.157243945141523,
           1.9523437499999998,
           1.9523437499999998,
           1.3394675719135252,
           1.3394675719135252,
           1.4799175412293852,
           1.4799175412293852,
           1.390669294173874,
           1.390669294173874,
           1.5452189159657461,
           1.5452189159657463,
           1.3955555779157403,
           1.3955555779157403,
           1.2644865067466269,
           1.2644865067466267,
           1.494440981756313,
           1.494440981756313,
           1.323808095952024,
           1.0441418634944823,
           1.2687779616168013,
           1.2687779616168016,
           1.3331555081355027,
           1.7392057860262007,
           1.739205786026201,
           1.5199454697986576,
           1.5199454697986576,
           1.768718820991107,
           1.768718820991107,
           1.8174545454545459,
           1.147363409117962,
           2.121192115439027,
           2.121192115439027,
           1.1473634091179623,
           1.2920000000000003,
           1.094032258064516,
           1.547519718401669,
           1.0940322580645163,
           1.908193832599119,
           2.008500904187082,
           1.6821747572815535,
           1.908193832599119,
           1.7822325581395349,
           2.002706187063729,
           2.2178191078870197,
           2.2178191078870197,
           2.002706187063729,
           2.1315,
           1.667904350561177,
           2.2565153763920747,
           2.2565153763920747,
           1.6679043505611768,
           2.1315000000000004,
           1.896260162601626,
           1.595086989823832,
           1.8517381547190586,
           1.8517381547190586,
           1.595086989823832,
           1.7701250000000002,
           2.2094341585188264,
           2.2266112266112263,
           2.2266112266112263,
           2.2094341585188264,
           1.7270575916230366,
           1.7144906444906443,
           1.774717904205792,
           1.7747179042057917,
           1.7144906444906445,
           1.7270575916230366,
           1.827225806451613,
           2.046321569634886,
           1.8400467775467775,
           1.8400467775467775,
           2.046321569634886,
           1.4840000000000002,
           2.086042336042336,
           1.980367822966507,
           1.9803678229665072,
           2.086042336042336,
           1.86592,
           2.4378788934569022,
           1.9485380116959063,
           1.9485380116959063,
           2.4378788934569022,
           1.7374000000000003,
           2.153572819889268,
           1.9304444444444446,
           1.9304444444444446,
           2.1535728198892685,
           2.145606060606061,
           2.574134441764927,
           2.107040828472801,
           2.107040828472801,
           2.5741344417649272,
           2.145606060606061,
           2.0309333333333335,
           1.8856819468024901,
           1.9767637316458202,
           1.9767637316458202,
           1.8856819468024901,
           1.8335857988165678,
           1.946571407033913,
           2.0825,
           2.0825,
           1.9465714070339133,
           1.833585798816568,
           1.9992000000000005,
           2.047024558955145,
           1.6326417034662148,
           1.6326417034662148,
           2.047024558955145,
           1.590954954954955,
           1.3886098908587665,
           1.4475081967213115,
           1.4475081967213115,
           2.038019417475728,
           3.6944900736847046,
           3.5846311475409833,
           3.5846311475409833,
           3.6944900736847046,
           2.0979259259259257,
           2.714525327071452,
           2.902488598903445,
           2.902488598903445,
           2.714525327071452,
           2.305013698630137,
           2.4013300605091907,
           2.060534565522646,
           2.0605345655226466,
           2.4013300605091903,
           2.305013698630137,
           2.115555555555556,
           1.659022887080445,
           2.1683297180043386,
           2.1683297180043386,
           1.659022887080445,
           2.115555555555556,
           2.2324400000000004,
           2.073268283018401,
           2.5221890817064354,
           2.522189081706436,
           2.073268283018401,
           1.7290129151291511,
           2.324651162790698,
           2.464011043186748,
           2.4640110431867486,
           1.7290129151291511,
           2.1932151898734182,
           2.366994535519126,
           1.9482458770614695,
           2.3669945355191255,
           2.0063655913978495,
           1.907373585934306,
           2.1107692307692307,
           2.1107692307692307,
           2.300666666666667,
           2.7519936204146727,
           2.5249459967946484,
           2.524945996794649,
           2.7519936204146727,
           1.9464158415841584,
           2.1275757575757575,
           1.7405588544310524,
           2.127575757575758,
           1.7706280193236716,
           1.807583050579973,
           2.027212389380531,
           2.027212389380531,
           1.8075830505799733,
           1.7706280193236716,
           1.6209729729729732,
           1.5094630872483223,
           1.4049850074962522,
           1.5094630872483223,
           1.7894074074074073,
           1.6462450592885376,
           1.5098125,
           1.5098125,
           1.8982630272952854,
           2.3398876404494384,
           1.2288552321007082,
           2.339887640449438,
           1.8982630272952854,
           2.0792307692307688,
           1.8719101123595507,
           1.5215398400882272,
           1.8719101123595507,
           2.079230769230769,
           1.8831405964698722,
           2.578333333333333,
           1.6477480219111382,
           2.5783333333333336,
           1.8831405964698722,
           2.178305084745763,
           1.2724392520720773,
           1.4990002665955746,
           2.1783050847457632,
           2.706782464846981,
           2.394512195121951,
           2.913822344710621,
           2.913822344710621,
           2.394512195121951,
           2.706782464846981,
           2.5315628476084537,
           2.468984889577683,
           1.615650829065463,
           1.615650829065463,
           2.468984889577683,
           2.5315628476084537,
           2.4220430107526885,
           2.0247191011235954,
           1.2108000877609975,
           2.0247191011235954,
           2.4220430107526885,
           1.5374936666103696,
           1.8024948024948024,
           1.6472238018921574,
           1.8024948024948024,
           1.5374936666103696,
           2.1647609147609144,
           2.31120415678757,
           2.716733870967742,
           2.716733870967742,
           2.31120415678757,
           2.164760914760915,
           1.9982408443946904,
           1.8878351521913463,
           2.2861425434892753,
           2.2861425434892757,
           1.9982408443946906,
           1.731808731808732,
           1.735569715142429,
           1.7880205789826353,
           1.7880205789826351,
           1.731808731808732,
           1.6314140227183707,
           1.9799246718104364,
           1.881515544641616,
           1.881515544641616,
           1.6314140227183707,
           2.1355772113943035,
           2.250995575221239,
           2.184541062801933,
           2.184541062801933,
           2.2509955752212387,
           1.9016968788333108,
           2.14908418796288,
           2.3814217443249706,
           2.3814217443249706,
           2.14908418796288,
           1.9016968788333108,
           2.0695652173913044,
           1.8822658563191526,
           1.8974446248101795,
           1.8974446248101797,
           1.8822658563191523,
           3.0336700336700337,
           1.8386223554889223,
           2.8445909666888602,
           2.8445909666888602,
           3.0336700336700337,
           1.8476515167073997,
           1.8855041026124686,
           2.106194690265487,
           2.106194690265487,
           1.8855041026124684,
           1.8476515167073997
          ],
          "coloraxis": "coloraxis",
          "symbol": "circle"
         },
         "mode": "markers",
         "name": "",
         "orientation": "v",
         "showlegend": false,
         "type": "scatter",
         "x": [
          0.025210084033613446,
          0.028011204481792718,
          0.020808323329331732,
          0.020808323329331732,
          0.022008803521408563,
          0.03841536614645858,
          0.03841536614645858,
          0.031212484993997598,
          0.031212484993997598,
          0.024809923969587835,
          0.024809923969587835,
          0.026410564225690276,
          0.026410564225690276,
          0.022809123649459785,
          0.022809123649459785,
          0.03441376550620248,
          0.03441376550620248,
          0.021608643457382955,
          0.021608643457382955,
          0.021208483393357343,
          0.021208483393357343,
          0.025610244097639057,
          0.025610244097639057,
          0.023209283713485393,
          0.023209283713485393,
          0.03281312525010004,
          0.03281312525010004,
          0.025610244097639057,
          0.025610244097639057,
          0.02040816326530612,
          0.022809123649459785,
          0.031612645058023206,
          0.031612645058023206,
          0.025210084033613446,
          0.021208483393357343,
          0.022408963585434174,
          0.046418567426970786,
          0.046418567426970786,
          0.055222088835534214,
          0.055222088835534214,
          0.022008803521408563,
          0.036414565826330535,
          0.036414565826330535,
          0.031612645058023206,
          0.031612645058023206,
          0.038815526210484196,
          0.038815526210484196,
          0.08363345338135254,
          0.08363345338135254,
          0.028811524609843937,
          0.022408963585434174,
          0.0508203281312525,
          0.0508203281312525,
          0.029611844737895156,
          0.02921168467386955,
          0.041216486594637856,
          0.041216486594637856,
          0.07162865146058424,
          0.07162865146058424,
          0.03601440576230492,
          0.03601440576230492,
          0.03081232492997199,
          0.03081232492997199,
          0.05722288915566227,
          0.05722288915566227,
          0.03081232492997199,
          0.03081232492997199,
          0.027611044417767107,
          0.03481392557022809,
          0.03481392557022809,
          0.03561424569827931,
          0.03561424569827931,
          0.022809123649459785,
          0.10844337735094038,
          0.10844337735094038,
          0.024409763905562223,
          0.040016006402561026,
          0.040016006402561026,
          0.023609443777511004,
          0.044017607042817125,
          0.044017607042817125,
          0.0508203281312525,
          0.0508203281312525,
          0.036414565826330535,
          0.036414565826330535,
          0.023609443777511004,
          0.09123649459783914,
          0.09123649459783914,
          0.03321328531412565,
          0.03321328531412565,
          0.047619047619047616,
          0.047619047619047616,
          0.035214085634253704,
          0.035214085634253704,
          0.020008003201280513,
          0.12004801920768307,
          0.12004801920768307,
          0.035214085634253704,
          0.035214085634253704,
          0.022809123649459785,
          0.035214085634253704,
          0.035214085634253704,
          0.022008803521408563,
          0.03441376550620248,
          0.03441376550620248,
          0.057623049219687875,
          0.057623049219687875,
          0.05282112845138055,
          0.05282112845138055,
          0.026810724289715888,
          0.03441376550620248,
          0.03441376550620248,
          0.022809123649459785,
          0.023209283713485393,
          0.027611044417767107,
          0.021208483393357343,
          0.022809123649459785,
          0.026810724289715888,
          0.03201280512204882,
          0.03201280512204882,
          0.07282913165266107,
          0.07282913165266107,
          0.057623049219687875,
          0.057623049219687875,
          0.06362545018007203,
          0.06362545018007203,
          0.028011204481792718,
          0.04841936774709884,
          0.04841936774709884,
          0.024809923969587835,
          0.03681472589035614,
          0.03681472589035614,
          0.023209283713485393,
          0.03801520608243297,
          0.03801520608243297,
          0.024009603841536616,
          0.020808323329331732,
          0.028811524609843937,
          0.020808323329331732,
          0.02921168467386955,
          0.026010404161664665,
          0.02040816326530612,
          0.023609443777511004,
          0.03961584633853541,
          0.03961584633853541,
          0.021208483393357343,
          0.024409763905562223,
          0.07082833133253301,
          0.07082833133253301,
          0.020808323329331732,
          0.028411364545818326,
          0.028411364545818326,
          0.036414565826330535,
          0.036414565826330535,
          0.03361344537815126,
          0.03361344537815126,
          0.020808323329331732,
          0.036414565826330535,
          0.036414565826330535,
          0.020008003201280513,
          0.06322529011604641,
          0.06322529011604641,
          0.03601440576230492,
          0.03601440576230492,
          0.020808323329331732,
          0.020808323329331732,
          0.020008003201280513,
          0.020008003201280513,
          0.022008803521408563,
          0.022008803521408563,
          0.022809123649459785,
          0.02040816326530612,
          0.023609443777511004,
          0.023609443777511004,
          0.021208483393357343,
          0.021208483393357343,
          0.020808323329331732,
          0.020808323329331732,
          0.022809123649459785,
          0.022809123649459785,
          0.03361344537815126,
          0.03361344537815126,
          0.020808323329331732,
          0.020808323329331732,
          0.022008803521408563,
          0.022008803521408563,
          0.027611044417767107,
          0.027611044417767107,
          0.022408963585434174,
          0.022408963585434174,
          0.02040816326530612,
          0.028811524609843937,
          0.028811524609843937,
          0.022809123649459785,
          0.022809123649459785,
          0.06562625050020009,
          0.06562625050020009,
          0.0468187274909964,
          0.0468187274909964,
          0.024009603841536616,
          0.024009603841536616,
          0.046418567426970786,
          0.046418567426970786,
          0.025210084033613446,
          0.025210084033613446,
          0.025210084033613446,
          0.025210084033613446,
          0.035214085634253704,
          0.035214085634253704,
          0.03081232492997199,
          0.03081232492997199,
          0.024009603841536616,
          0.024009603841536616,
          0.026010404161664665,
          0.026010404161664665,
          0.02921168467386955,
          0.02921168467386955,
          0.030012004801920768,
          0.030012004801920768,
          0.05042016806722689,
          0.05042016806722689,
          0.022809123649459785,
          0.022809123649459785,
          0.024409763905562223,
          0.024409763905562223,
          0.03241296518607443,
          0.03241296518607443,
          0.026010404161664665,
          0.026010404161664665,
          0.03361344537815126,
          0.03361344537815126,
          0.026010404161664665,
          0.026010404161664665,
          0.04241696678671469,
          0.04241696678671469,
          0.02040816326530612,
          0.02040816326530612,
          0.046418567426970786,
          0.046418567426970786,
          0.020008003201280513,
          0.020008003201280513,
          0.038815526210484196,
          0.038815526210484196,
          0.03721488595438175,
          0.03721488595438175,
          0.03321328531412565,
          0.03321328531412565,
          0.03961584633853541,
          0.03961584633853541,
          0.022008803521408563,
          0.022008803521408563,
          0.03241296518607443,
          0.03241296518607443,
          0.020008003201280513,
          0.020008003201280513,
          0.03721488595438175,
          0.03721488595438175,
          0.058823529411764705,
          0.058823529411764705,
          0.020808323329331732,
          0.020808323329331732,
          0.028811524609843937,
          0.028811524609843937,
          0.031612645058023206,
          0.031612645058023206,
          0.022408963585434174,
          0.022408963585434174,
          0.020808323329331732,
          0.020808323329331732,
          0.020008003201280513,
          0.020008003201280513,
          0.024809923969587835,
          0.024809923969587835,
          0.02040816326530612,
          0.022408963585434174,
          0.022408963585434174,
          0.040016006402561026,
          0.040016006402561026,
          0.021208483393357343,
          0.021208483393357343,
          0.020008003201280513,
          0.020008003201280513,
          0.025610244097639057,
          0.025610244097639057,
          0.021608643457382955,
          0.021608643457382955,
          0.026010404161664665,
          0.026010404161664665,
          0.024409763905562223,
          0.024409763905562223,
          0.020008003201280513,
          0.020008003201280513,
          0.04841936774709884,
          0.04841936774709884,
          0.020808323329331732,
          0.020808323329331732,
          0.022809123649459785,
          0.022809123649459785,
          0.021608643457382955,
          0.021608643457382955,
          0.020008003201280513,
          0.020008003201280513,
          0.026410564225690276,
          0.026410564225690276,
          0.022408963585434174,
          0.029611844737895156,
          0.029611844737895156,
          0.023609443777511004,
          0.023609443777511004,
          0.022408963585434174,
          0.022408963585434174,
          0.021608643457382955,
          0.021608643457382955,
          0.041216486594637856,
          0.041216486594637856,
          0.029611844737895156,
          0.029611844737895156,
          0.031212484993997598,
          0.031212484993997598,
          0.05162064825930372,
          0.05162064825930372,
          0.024009603841536616,
          0.024009603841536616,
          0.022809123649459785,
          0.022809123649459785,
          0.036414565826330535,
          0.036414565826330535,
          0.031212484993997598,
          0.031212484993997598,
          0.02040816326530612,
          0.02040816326530612,
          0.022809123649459785,
          0.022809123649459785,
          0.03441376550620248,
          0.03441376550620248,
          0.05442176870748299,
          0.05442176870748299,
          0.02040816326530612,
          0.02040816326530612,
          0.025610244097639057,
          0.025610244097639057,
          0.028811524609843937,
          0.028811524609843937,
          0.04921968787515006,
          0.04921968787515006,
          0.023609443777511004,
          0.023609443777511004,
          0.03841536614645858,
          0.03841536614645858,
          0.022408963585434174,
          0.022408963585434174,
          0.07643057222889156,
          0.07643057222889156,
          0.026010404161664665,
          0.026010404161664665,
          0.026810724289715888,
          0.026810724289715888,
          0.03721488595438175,
          0.03721488595438175,
          0.047619047619047616,
          0.047619047619047616,
          0.021608643457382955,
          0.021608643457382955,
          0.022408963585434174,
          0.022408963585434174,
          0.020808323329331732,
          0.020808323329331732,
          0.025610244097639057,
          0.025210084033613446,
          0.022809123649459785,
          0.022809123649459785,
          0.03081232492997199,
          0.03081232492997199,
          0.040016006402561026,
          0.040016006402561026,
          0.056022408963585436,
          0.056022408963585436,
          0.020008003201280513,
          0.020008003201280513,
          0.022809123649459785,
          0.022809123649459785,
          0.021608643457382955,
          0.022408963585434174,
          0.022408963585434174,
          0.020008003201280513,
          0.025610244097639057,
          0.025610244097639057,
          0.026810724289715888,
          0.026810724289715888,
          0.025210084033613446,
          0.025210084033613446,
          0.022008803521408563,
          0.022008803521408563,
          0.027611044417767107,
          0.027611044417767107,
          0.03321328531412565,
          0.03321328531412565,
          0.023209283713485393,
          0.023209283713485393,
          0.022008803521408563,
          0.022008803521408563,
          0.021608643457382955,
          0.021608643457382955,
          0.028411364545818326,
          0.028411364545818326,
          0.020008003201280513,
          0.020008003201280513,
          0.03041216486594638,
          0.03041216486594638,
          0.05282112845138055,
          0.05282112845138055,
          0.02040816326530612,
          0.02040816326530612,
          0.024009603841536616,
          0.024009603841536616,
          0.04201680672268908,
          0.04201680672268908,
          0.023609443777511004,
          0.023609443777511004,
          0.028811524609843937,
          0.028811524609843937,
          0.023209283713485393,
          0.023209283713485393,
          0.06762705082032813,
          0.06762705082032813,
          0.020808323329331732,
          0.020808323329331732,
          0.02040816326530612,
          0.02040816326530612,
          0.031212484993997598,
          0.031212484993997598,
          0.03321328531412565,
          0.03321328531412565,
          0.027210884353741496,
          0.027210884353741496,
          0.022809123649459785,
          0.022809123649459785,
          0.03801520608243297,
          0.03801520608243297,
          0.027210884353741496,
          0.027210884353741496,
          0.03601440576230492,
          0.03601440576230492,
          0.026810724289715888,
          0.026810724289715888,
          0.03321328531412565,
          0.03321328531412565,
          0.02040816326530612,
          0.02040816326530612,
          0.028011204481792718,
          0.028011204481792718,
          0.04441776710684274,
          0.04441776710684274,
          0.041216486594637856,
          0.041216486594637856,
          0.024009603841536616,
          0.024009603841536616,
          0.021208483393357343,
          0.021208483393357343,
          0.020808323329331732,
          0.020808323329331732,
          0.02921168467386955,
          0.02921168467386955,
          0.020008003201280513,
          0.025210084033613446,
          0.025210084033613446,
          0.03201280512204882,
          0.03201280512204882,
          0.024009603841536616,
          0.024009603841536616,
          0.023609443777511004,
          0.023609443777511004,
          0.03841536614645858,
          0.03841536614645858,
          0.022008803521408563,
          0.022008803521408563,
          0.028411364545818326,
          0.028411364545818326,
          0.027210884353741496,
          0.027210884353741496,
          0.04321728691476591,
          0.04321728691476591,
          0.0584233693477391,
          0.0584233693477391,
          0.023209283713485393,
          0.023209283713485393,
          0.028411364545818326,
          0.028411364545818326,
          0.022008803521408563,
          0.022008803521408563,
          0.07563025210084033,
          0.07563025210084033,
          0.023209283713485393,
          0.023209283713485393,
          0.02040816326530612,
          0.02040816326530612,
          0.040016006402561026,
          0.040016006402561026,
          0.03441376550620248,
          0.03441376550620248,
          0.024409763905562223,
          0.022809123649459785,
          0.022809123649459785,
          0.031612645058023206,
          0.031612645058023206,
          0.028811524609843937,
          0.028811524609843937,
          0.03721488595438175,
          0.03721488595438175,
          0.03361344537815126,
          0.03361344537815126,
          0.040416166466586634,
          0.040416166466586634,
          0.023609443777511004,
          0.023609443777511004,
          0.024809923969587835,
          0.021608643457382955,
          0.022008803521408563,
          0.022008803521408563,
          0.028411364545818326,
          0.028411364545818326,
          0.021208483393357343,
          0.021208483393357343,
          0.08283313325330131,
          0.08283313325330131,
          0.021208483393357343,
          0.021208483393357343,
          0.021608643457382955,
          0.021608643457382955,
          0.03081232492997199,
          0.03081232492997199,
          0.029611844737895156,
          0.029611844737895156,
          0.023209283713485393,
          0.023209283713485393,
          0.03281312525010004,
          0.03281312525010004,
          0.023209283713485393,
          0.023209283713485393,
          0.041216486594637856,
          0.041216486594637856,
          0.028411364545818326,
          0.028411364545818326,
          0.027611044417767107,
          0.027611044417767107,
          0.027611044417767107,
          0.027611044417767107,
          0.031612645058023206,
          0.031612645058023206,
          0.034013605442176874,
          0.034013605442176874,
          0.02921168467386955,
          0.02921168467386955,
          0.04441776710684274,
          0.04441776710684274,
          0.04321728691476591,
          0.04321728691476591,
          0.028411364545818326,
          0.028411364545818326,
          0.021208483393357343,
          0.02040816326530612,
          0.034013605442176874,
          0.034013605442176874,
          0.023209283713485393,
          0.02040816326530612,
          0.02040816326530612,
          0.023209283713485393,
          0.023209283713485393,
          0.024809923969587835,
          0.024809923969587835,
          0.021608643457382955,
          0.021608643457382955,
          0.021608643457382955,
          0.021608643457382955,
          0.021608643457382955,
          0.022809123649459785,
          0.022809123649459785,
          0.022809123649459785,
          0.022809123649459785,
          0.020808323329331732,
          0.020808323329331732,
          0.020808323329331732,
          0.020808323329331732,
          0.027611044417767107,
          0.027611044417767107,
          0.027611044417767107,
          0.027611044417767107,
          0.027611044417767107,
          0.03481392557022809,
          0.03481392557022809,
          0.03481392557022809,
          0.03481392557022809,
          0.03481392557022809,
          0.03481392557022809,
          0.028011204481792718,
          0.028011204481792718,
          0.028011204481792718,
          0.028011204481792718,
          0.028011204481792718,
          0.02040816326530612,
          0.02040816326530612,
          0.02040816326530612,
          0.02040816326530612,
          0.02040816326530612,
          0.03961584633853541,
          0.03961584633853541,
          0.03961584633853541,
          0.03961584633853541,
          0.03961584633853541,
          0.03961584633853541,
          0.02040816326530612,
          0.02040816326530612,
          0.02040816326530612,
          0.02040816326530612,
          0.02040816326530612,
          0.021208483393357343,
          0.021208483393357343,
          0.021208483393357343,
          0.021208483393357343,
          0.021208483393357343,
          0.022408963585434174,
          0.022408963585434174,
          0.022408963585434174,
          0.022408963585434174,
          0.022408963585434174,
          0.02921168467386955,
          0.02921168467386955,
          0.02921168467386955,
          0.02921168467386955,
          0.02921168467386955,
          0.034013605442176874,
          0.034013605442176874,
          0.034013605442176874,
          0.034013605442176874,
          0.034013605442176874,
          0.034013605442176874,
          0.025610244097639057,
          0.025610244097639057,
          0.025610244097639057,
          0.025610244097639057,
          0.025610244097639057,
          0.03721488595438175,
          0.03721488595438175,
          0.03721488595438175,
          0.03721488595438175,
          0.03721488595438175,
          0.03721488595438175,
          0.021608643457382955,
          0.021608643457382955,
          0.021608643457382955,
          0.021608643457382955,
          0.021608643457382955,
          0.021208483393357343,
          0.021208483393357343,
          0.021208483393357343,
          0.021208483393357343,
          0.025210084033613446,
          0.025210084033613446,
          0.025210084033613446,
          0.025210084033613446,
          0.025210084033613446,
          0.027210884353741496,
          0.027210884353741496,
          0.027210884353741496,
          0.027210884353741496,
          0.027210884353741496,
          0.040416166466586634,
          0.040416166466586634,
          0.040416166466586634,
          0.040416166466586634,
          0.040416166466586634,
          0.040416166466586634,
          0.04801920768307323,
          0.04801920768307323,
          0.04801920768307323,
          0.04801920768307323,
          0.04801920768307323,
          0.04801920768307323,
          0.026810724289715888,
          0.026810724289715888,
          0.026810724289715888,
          0.026810724289715888,
          0.026810724289715888,
          0.024009603841536616,
          0.024009603841536616,
          0.024009603841536616,
          0.024009603841536616,
          0.024009603841536616,
          0.020808323329331732,
          0.020808323329331732,
          0.020808323329331732,
          0.020808323329331732,
          0.022408963585434174,
          0.022408963585434174,
          0.022408963585434174,
          0.022408963585434174,
          0.023209283713485393,
          0.023209283713485393,
          0.023209283713485393,
          0.023209283713485393,
          0.023209283713485393,
          0.023609443777511004,
          0.023609443777511004,
          0.023609443777511004,
          0.023609443777511004,
          0.044017607042817125,
          0.044017607042817125,
          0.044017607042817125,
          0.044017607042817125,
          0.044017607042817125,
          0.044017607042817125,
          0.021608643457382955,
          0.021608643457382955,
          0.021608643457382955,
          0.021608643457382955,
          0.023209283713485393,
          0.023209283713485393,
          0.023209283713485393,
          0.023209283713485393,
          0.024009603841536616,
          0.024009603841536616,
          0.024009603841536616,
          0.024009603841536616,
          0.024009603841536616,
          0.021208483393357343,
          0.021208483393357343,
          0.021208483393357343,
          0.021208483393357343,
          0.021208483393357343,
          0.020808323329331732,
          0.020808323329331732,
          0.020808323329331732,
          0.020808323329331732,
          0.020808323329331732,
          0.021608643457382955,
          0.021608643457382955,
          0.021608643457382955,
          0.021608643457382955,
          0.022008803521408563,
          0.022008803521408563,
          0.022008803521408563,
          0.022008803521408563,
          0.022008803521408563,
          0.022008803521408563,
          0.02040816326530612,
          0.02040816326530612,
          0.02040816326530612,
          0.02040816326530612,
          0.02040816326530612,
          0.02040816326530612,
          0.021208483393357343,
          0.021208483393357343,
          0.021208483393357343,
          0.021208483393357343,
          0.021208483393357343,
          0.02040816326530612,
          0.02040816326530612,
          0.02040816326530612,
          0.02040816326530612,
          0.02040816326530612,
          0.022008803521408563,
          0.022008803521408563,
          0.022008803521408563,
          0.022008803521408563,
          0.022008803521408563,
          0.022008803521408563,
          0.026010404161664665,
          0.026010404161664665,
          0.026010404161664665,
          0.026010404161664665,
          0.026010404161664665,
          0.025210084033613446,
          0.025210084033613446,
          0.025210084033613446,
          0.025210084033613446,
          0.025210084033613446,
          0.026010404161664665,
          0.026010404161664665,
          0.026010404161664665,
          0.026010404161664665,
          0.026010404161664665,
          0.022809123649459785,
          0.022809123649459785,
          0.022809123649459785,
          0.022809123649459785,
          0.022809123649459785,
          0.026810724289715888,
          0.026810724289715888,
          0.026810724289715888,
          0.026810724289715888,
          0.026810724289715888,
          0.026810724289715888,
          0.023209283713485393,
          0.023209283713485393,
          0.023209283713485393,
          0.023209283713485393,
          0.023209283713485393,
          0.021208483393357343,
          0.021208483393357343,
          0.021208483393357343,
          0.021208483393357343,
          0.021208483393357343,
          0.028811524609843937,
          0.028811524609843937,
          0.028811524609843937,
          0.028811524609843937,
          0.028811524609843937,
          0.028811524609843937
         ],
         "xaxis": "x",
         "y": [
          0.375,
          0.5343511450381679,
          0.3969465648854961,
          0.11279826464208244,
          0.4198473282442748,
          0.367816091954023,
          0.128,
          0.10483870967741936,
          0.29885057471264365,
          0.23754789272030652,
          0.1393258426966292,
          0.25287356321839083,
          0.15207373271889402,
          0.21839080459770116,
          0.16285714285714287,
          0.32950191570881227,
          0.1787941787941788,
          0.14516129032258066,
          0.20689655172413796,
          0.11496746203904556,
          0.20306513409961685,
          0.14159292035398233,
          0.24521072796934867,
          0.2222222222222222,
          0.21014492753623187,
          0.314176245210728,
          0.1229385307346327,
          0.2,
          0.24521072796934867,
          0.38059701492537307,
          0.3496932515337423,
          0.39303482587064675,
          0.10533333333333333,
          0.4256756756756757,
          0.28042328042328046,
          0.2842639593908629,
          0.2606741573033708,
          0.15466666666666667,
          0.31797235023041476,
          0.18400000000000002,
          0.3793103448275862,
          0.26,
          0.12133333333333335,
          0.4488636363636363,
          0.10533333333333333,
          0.12933333333333336,
          0.4273127753303965,
          0.43451143451143454,
          0.2786666666666667,
          0.5,
          0.2931937172774869,
          0.4031746031746032,
          0.16933333333333334,
          0.592,
          0.49324324324324326,
          0.4153225806451613,
          0.13733333333333334,
          0.4811827956989248,
          0.2386666666666667,
          0.4761904761904762,
          0.12,
          0.43502824858757067,
          0.10266666666666668,
          0.46885245901639344,
          0.19066666666666668,
          0.41397849462365593,
          0.10266666666666668,
          0.48936170212765956,
          0.47282608695652173,
          0.116,
          0.3739495798319328,
          0.11866666666666667,
          0.36305732484076436,
          0.5878524945770066,
          0.3613333333333334,
          0.4149659863945578,
          0.546448087431694,
          0.13333333333333336,
          0.5042735042735043,
          0.4977375565610859,
          0.14666666666666667,
          0.5497835497835497,
          0.16933333333333334,
          0.65,
          0.12133333333333335,
          0.36196319018404904,
          0.504424778761062,
          0.30400000000000005,
          0.415,
          0.11066666666666668,
          0.43115942028985504,
          0.15866666666666668,
          0.11733333333333335,
          0.455958549222798,
          0.4065040650406504,
          0.44977511244377816,
          0.4,
          0.44,
          0.11733333333333335,
          0.5,
          0.3842794759825328,
          0.11733333333333335,
          0.48672566371681414,
          0.4858757062146893,
          0.11466666666666668,
          0.4832214765100671,
          0.192,
          0.4125,
          0.17600000000000002,
          0.3764044943820225,
          0.3426294820717132,
          0.11466666666666668,
          0.16332378223495703,
          0.35582822085889565,
          0.4181818181818182,
          0.39552238805970147,
          0.28358208955223885,
          0.35449735449735453,
          0.10752688172043012,
          0.40609137055837563,
          0.24462365591397853,
          0.40898876404494383,
          0.19354838709677422,
          0.3317972350230415,
          0.21370967741935484,
          0.45428571428571424,
          0.30837004405286345,
          0.16263440860215056,
          0.2515592515592516,
          0.3246073298429319,
          0.2920634920634921,
          0.12365591397849462,
          0.23387096774193547,
          0.2553763440860215,
          0.12768817204301075,
          0.3973509933774834,
          0.2937853107344633,
          0.23606557377049178,
          0.2795698924731183,
          0.3067226890756303,
          0.14099783080260303,
          0.23076923076923075,
          0.36196319018404904,
          0.21902654867256638,
          0.13306451612903225,
          0.265,
          0.22101449275362317,
          0.23790322580645162,
          0.2653673163418291,
          0.26,
          0.31004366812227074,
          0.23825503355704697,
          0.12231182795698926,
          0.284375,
          0.11290322580645161,
          0.45901639344262296,
          0.40624999999999994,
          0.36254980079681276,
          0.12231182795698926,
          0.3448275862068966,
          0.4527220630372492,
          0.21236559139784944,
          0.4591836734693877,
          0.12096774193548387,
          0.3151515151515152,
          0.11685393258426965,
          0.30303030303030304,
          0.10395010395010396,
          0.48245614035087714,
          0.12672811059907835,
          0.4253731343283582,
          0.31288343558282206,
          0.2935323383084577,
          0.12266112266112267,
          0.263681592039801,
          0.1424731182795699,
          0.25870646766169153,
          0.11279826464208244,
          0.1261061946902655,
          0.28358208955223885,
          0.41791044776119407,
          0.1259370314842579,
          0.25870646766169153,
          0.16249999999999998,
          0.3716216216216216,
          0.11434511434511434,
          0.46621621621621623,
          0.10344827586206898,
          0.29629629629629634,
          0.11642411642411643,
          0.2698412698412698,
          0.36548223350253806,
          0.10794602698650675,
          0.13133640552995393,
          0.4523809523809524,
          0.36853932584269666,
          0.37788018433179726,
          0.26292134831460673,
          0.3342857142857143,
          0.1348314606741573,
          0.2643171806167401,
          0.24116424116424115,
          0.2606741573033708,
          0.2,
          0.14157303370786517,
          0.2540322580645161,
          0.14157303370786517,
          0.23655913978494628,
          0.19775280898876405,
          0.25245901639344265,
          0.17303370786516856,
          0.2521008403361345,
          0.1348314606741573,
          0.14099783080260303,
          0.14606741573033707,
          0.16150442477876106,
          0.16404494382022472,
          0.16853932584269662,
          0.2717391304347826,
          0.18890554722638683,
          0.28314606741573034,
          0.24890829694323147,
          0.12808988764044946,
          0.2046979865771812,
          0.13707865168539324,
          0.253125,
          0.18202247191011234,
          0.2589641434262948,
          0.14606741573033707,
          0.24068767908309452,
          0.1887640449438202,
          0.33163265306122447,
          0.14606741573033707,
          0.3028571428571429,
          0.24423963133640555,
          0.28977272727272724,
          0.11751152073732718,
          0.24116424116424115,
          0.2672811059907834,
          0.15873015873015875,
          0.11520737327188942,
          0.39112903225806456,
          0.22350230414746547,
          0.25,
          0.21428571428571427,
          0.2721311475409836,
          0.1912442396313364,
          0.21475054229934923,
          0.228110599078341,
          0.23809523809523808,
          0.12672811059907835,
          0.17920353982300885,
          0.18663594470046083,
          0.25,
          0.11520737327188942,
          0.33695652173913043,
          0.21428571428571427,
          0.2203898050974513,
          0.33870967741935487,
          0.11981566820276497,
          0.26,
          0.24161073825503354,
          0.16589861751152074,
          0.24687499999999996,
          0.18202764976958524,
          0.30601092896174864,
          0.12903225806451613,
          0.20717131474103587,
          0.11981566820276497,
          0.14326647564469913,
          0.11520737327188942,
          0.42758620689655175,
          0.1288981288981289,
          0.35172413793103446,
          0.16,
          0.24669603524229075,
          0.2079002079002079,
          0.2857142857142857,
          0.16825396825396827,
          0.15142857142857144,
          0.20161290322580647,
          0.14285714285714285,
          0.17204301075268819,
          0.18285714285714286,
          0.17704918032786884,
          0.1542857142857143,
          0.273109243697479,
          0.1857142857142857,
          0.13495575221238937,
          0.17428571428571427,
          0.14285714285714285,
          0.18115942028985507,
          0.18140929535232386,
          0.3457142857142857,
          0.22707423580786026,
          0.14857142857142858,
          0.178125,
          0.16285714285714287,
          0.21513944223107573,
          0.1542857142857143,
          0.14326647564469913,
          0.14285714285714285,
          0.375,
          0.13721413721413722,
          0.3181818181818182,
          0.15384615384615383,
          0.32599118942731276,
          0.1586021505376344,
          0.2599118942731278,
          0.12147505422993493,
          0.24669603524229075,
          0.11946902654867259,
          0.2378854625550661,
          0.15442278860569716,
          0.4537444933920705,
          0.23492063492063492,
          0.15384615384615383,
          0.31451612903225806,
          0.16216216216216217,
          0.3467741935483871,
          0.2681912681912682,
          0.3174603174603175,
          0.12474012474012475,
          0.3220338983050848,
          0.11850311850311851,
          0.2983606557377049,
          0.1891891891891892,
          0.41935483870967744,
          0.16216216216216217,
          0.36170212765957444,
          0.10602910602910602,
          0.3097826086956522,
          0.11850311850311851,
          0.3613445378151261,
          0.1787941787941788,
          0.2950108459869848,
          0.28274428274428276,
          0.3469387755102041,
          0.10602910602910602,
          0.2895927601809955,
          0.13305613305613306,
          0.3116883116883117,
          0.1496881496881497,
          0.27212389380530977,
          0.25571725571725573,
          0.12266112266112267,
          0.295,
          0.19958419958419957,
          0.34782608695652173,
          0.11642411642411643,
          0.2901554404145078,
          0.28635682158920545,
          0.3970893970893971,
          0.13513513513513514,
          0.32499999999999996,
          0.2925764192139738,
          0.1392931392931393,
          0.19334719334719333,
          0.31208053691275167,
          0.37187499999999996,
          0.2474012474012474,
          0.30337078651685395,
          0.11226611226611227,
          0.22310756972111553,
          0.11642411642411643,
          0.14899713467048709,
          0.1081081081081081,
          0.4444444444444445,
          0.3298429319371728,
          0.18095238095238098,
          0.15322580645161293,
          0.24444444444444446,
          0.16702819956616052,
          0.3174603174603175,
          0.22123893805309736,
          0.4444444444444445,
          0.20989505247376314,
          0.15873015873015875,
          0.16778523489932887,
          0.18095238095238098,
          0.178125,
          0.43200000000000005,
          0.3783783783783784,
          0.12147505422993493,
          0.3378378378378379,
          0.17204301075268819,
          0.2580645161290323,
          0.21967213114754097,
          0.2701612903225807,
          0.1366594360086768,
          0.2540322580645161,
          0.12168141592920353,
          0.2217741935483871,
          0.27822580645161293,
          0.25,
          0.1244377811094453,
          0.33467741935483875,
          0.23387096774193547,
          0.19463087248322147,
          0.171875,
          0.2217741935483871,
          0.14516129032258066,
          0.28571428571428575,
          0.2327868852459016,
          0.19086021505376344,
          0.13440860215053765,
          0.2688172043010753,
          0.20430107526881722,
          0.319327731092437,
          0.3548387096774194,
          0.28633405639913234,
          0.13709677419354838,
          0.23076923076923075,
          0.16129032258064518,
          0.2597402597402597,
          0.23230088495575224,
          0.28225806451612906,
          0.1586021505376344,
          0.295,
          0.19354838709677422,
          0.2608695652173913,
          0.15591397849462366,
          0.3005181347150259,
          0.45430107526881724,
          0.25337331334332835,
          0.22707423580786026,
          0.13978494623655915,
          0.288135593220339,
          0.13709677419354838,
          0.20967741935483872,
          0.26174496644295303,
          0.2231182795698925,
          0.259375,
          0.1475054229934924,
          0.3597883597883598,
          0.1261061946902655,
          0.3015873015873016,
          0.1424287856071964,
          0.5026455026455027,
          0.384180790960452,
          0.10194902548725637,
          0.29508196721311475,
          0.19522776572668113,
          0.21967213114754097,
          0.29004329004329005,
          0.2721311475409836,
          0.1836283185840708,
          0.16721311475409834,
          0.25499999999999995,
          0.22950819672131148,
          0.2536231884057971,
          0.3639344262295082,
          0.16641679160419792,
          0.3377049180327869,
          0.34563758389261745,
          0.19672131147540983,
          0.1875,
          0.11496746203904556,
          0.2849462365591398,
          0.11504424778761062,
          0.2795698924731183,
          0.39247311827956993,
          0.10944527736131936,
          0.3546099290780142,
          0.13938053097345135,
          0.3423913043478261,
          0.4347826086956522,
          0.11994002998500751,
          0.13015184381778744,
          0.2521008403361345,
          0.13053097345132744,
          0.24789915966386555,
          0.14392803598200898,
          0.40336134453781514,
          0.171875,
          0.23109243697478993,
          0.1540130151843818,
          0.3879781420765027,
          0.30769230769230765,
          0.1475054229934924,
          0.23427331887201738,
          0.4675324675324675,
          0.3230088495575221,
          0.3167028199566161,
          0.12581344902386118,
          0.29,
          0.1540130151843818,
          0.2572463768115942,
          0.1193058568329718,
          0.2849740932642487,
          0.40997830802603036,
          0.28335832083958024,
          0.12581344902386118,
          0.29,
          0.288135593220339,
          0.1106290672451193,
          0.2169197396963124,
          0.33557046979865773,
          0.18655097613882865,
          0.26875,
          0.4149659863945578,
          0.1261061946902655,
          0.3114754098360656,
          0.1184407796101949,
          0.43169398907103823,
          0.1592920353982301,
          0.3257918552036199,
          0.420814479638009,
          0.13943028485757122,
          0.18584070796460178,
          0.3636363636363636,
          0.15142428785607198,
          0.4372294372294372,
          0.2554112554112554,
          0.19798657718120805,
          0.44285714285714284,
          0.33128834355828224,
          0.12168141592920353,
          0.27499999999999997,
          0.1570796460176991,
          0.2572463768115942,
          0.1172566371681416,
          0.2746113989637306,
          0.4579646017699115,
          0.3103448275862069,
          0.1172566371681416,
          0.265,
          0.11946902654867259,
          0.23580786026200876,
          0.17035398230088497,
          0.25838926174496646,
          0.16371681415929204,
          0.23124999999999998,
          0.23107569721115537,
          0.12831858407079647,
          0.1229385307346327,
          0.41000000000000003,
          0.19463087248322147,
          0.29,
          0.15442278860569716,
          0.37318840579710144,
          0.23825503355704697,
          0.2572463768115942,
          0.21562499999999998,
          0.25,
          0.10344827586206898,
          0.35751295336787564,
          0.1184407796101949,
          0.39499999999999996,
          0.3711790393013101,
          0.1274362818590705,
          0.4124293785310735,
          0.10944527736131936,
          0.16641679160419792,
          0.3724832214765101,
          0.3375,
          0.16191904047976013,
          0.398876404494382,
          0.10644677661169416,
          0.35333333333333333,
          0.2786885245901639,
          0.33864541832669326,
          0.1274362818590705,
          0.35582822085889565,
          0.22270742358078602,
          0.159375,
          0.18125,
          0.19463087248322147,
          0.24701195219123506,
          0.1776504297994269,
          0.5454545454545455,
          0.1992619926199262,
          0.391304347826087,
          0.11713665943600869,
          0.12442396313364057,
          0.38775510204081637,
          0.19,
          0.41304347826086957,
          0.13133640552995393,
          0.17333333333333334,
          0.5360824742268041,
          0.5048543689320388,
          0.2290748898678414,
          0.5348837209302325,
          0.3854748603351955,
          0.33014354066985646,
          0.18548387096774194,
          0.14345114345114346,
          0.6397058823529411,
          0.3210332103321033,
          0.416267942583732,
          0.18872017353579176,
          0.18087318087318086,
          0.116,
          0.5691056910569106,
          0.30701754385964913,
          0.3349282296650718,
          0.15486725663716816,
          0.14553014553014554,
          0.53125,
          0.24401913875598083,
          0.42857142857142855,
          0.10602910602910602,
          0.18478260869565216,
          0.5183246073298429,
          0.32999999999999996,
          0.47368421052631576,
          0.14842578710644677,
          0.2058212058212058,
          0.132,
          0.5483870967741935,
          0.24401913875598083,
          0.35416666666666663,
          0.10602910602910602,
          0.1711409395973154,
          0.44537815126050423,
          0.4015151515151515,
          0.2535885167464115,
          0.165625,
          0.1101871101871102,
          0.5599999999999999,
          0.4409448818897638,
          0.24561403508771928,
          0.17777777777777778,
          0.12389380530973453,
          0.5214285714285715,
          0.5748031496062992,
          0.24333333333333335,
          0.23174603174603176,
          0.10944527736131936,
          0.643939393939394,
          0.4748603351955307,
          0.31365313653136534,
          0.22849462365591403,
          0.18438177874186554,
          0.11333333333333336,
          0.6095238095238095,
          0.2807017543859649,
          0.3575418994413408,
          0.14159292035398233,
          0.17204301075268819,
          0.5502958579881656,
          0.5195530726256983,
          0.31,
          0.25,
          0.13943028485757122,
          0.124,
          0.6000000000000001,
          0.37762237762237766,
          0.1992619926199262,
          0.17704918032786884,
          0.11713665943600869,
          0.4774774774774775,
          0.3706293706293706,
          0.17666666666666667,
          0.1737704918032787,
          0.6116504854368932,
          0.4405594405594406,
          0.4375,
          0.2065573770491803,
          0.21140939597315436,
          0.6296296296296295,
          0.25092250922509224,
          0.5354330708661417,
          0.1475054229934924,
          0.29437229437229434,
          0.6917808219178082,
          0.44298245614035087,
          0.3726937269372693,
          0.22345132743362833,
          0.21908893709327548,
          0.13466666666666668,
          0.634920634920635,
          0.44280442804428044,
          0.4,
          0.2603036876355749,
          0.17991004497751126,
          0.16,
          0.67,
          0.24723247232472326,
          0.4652777777777778,
          0.1453362255965293,
          0.22483221476510068,
          0.22140221402214022,
          0.6976744186046512,
          0.45454545454545453,
          0.13015184381778744,
          0.1875,
          0.6582278481012659,
          0.17333333333333334,
          0.52,
          0.28415300546448086,
          0.6021505376344086,
          0.5090909090909091,
          0.18666666666666668,
          0.25339366515837103,
          0.6904761904761905,
          0.25438596491228066,
          0.45669291338582674,
          0.12831858407079647,
          0.2510822510822511,
          0.5841584158415841,
          0.19666666666666666,
          0.4645669291338583,
          0.2554112554112554,
          0.5314009661835749,
          0.48245614035087714,
          0.36666666666666664,
          0.24336283185840707,
          0.16491754122938532,
          0.14666666666666667,
          0.4864864864864865,
          0.18000000000000002,
          0.37500000000000006,
          0.18120805369127518,
          0.537037037037037,
          0.4393939393939394,
          0.19333333333333333,
          0.18125,
          0.32967032967032966,
          0.4166666666666667,
          0.36585365853658536,
          0.1348314606741573,
          0.1382488479262673,
          0.2912087912087912,
          0.33333333333333337,
          0.452991452991453,
          0.11910112359550562,
          0.15142857142857144,
          0.3270440251572327,
          0.3611111111111111,
          0.49056603773584906,
          0.14857142857142858,
          0.11981566820276497,
          0.3050847457627119,
          0.339622641509434,
          0.4462809917355372,
          0.1542857142857143,
          0.47008547008547,
          0.33536585365853655,
          0.5188679245283019,
          0.12359550561797752,
          0.15714285714285714,
          0.12672811059907835,
          0.4396551724137931,
          0.4396551724137931,
          0.3109756097560975,
          0.10602910602910602,
          0.1146067415730337,
          0.11751152073732718,
          0.42063492063492064,
          0.36054421768707484,
          0.323170731707317,
          0.11910112359550562,
          0.12211981566820278,
          0.26701570680628267,
          0.3469387755102041,
          0.4396551724137931,
          0.10602910602910602,
          0.11751152073732718,
          0.41666666666666663,
          0.4263565891472868,
          0.40441176470588236,
          0.1478494623655914,
          0.1193058568329718,
          0.11434511434511434,
          0.3846153846153846,
          0.5038759689922481,
          0.3403141361256544,
          0.17473118279569894,
          0.13513513513513514,
          0.33333333333333337,
          0.4632352941176471,
          0.3298429319371728,
          0.1366594360086768,
          0.13097713097713098,
          0.3140096618357488,
          0.5284552845528455,
          0.3403141361256544,
          0.14380530973451328,
          0.13513513513513514,
          0.5700000000000001,
          0.40714285714285714,
          0.27536231884057977,
          0.18095238095238098,
          0.1261061946902655,
          0.5075757575757576,
          0.39644970414201186,
          0.35449735449735453,
          0.18010752688172046,
          0.1453362255965293,
          0.1004497751124438,
          0.5523809523809523,
          0.28019323671497587,
          0.3431952662721893,
          0.12831858407079647,
          0.15591397849462366,
          0.28042328042328046,
          0.4907407407407407,
          0.5247524752475248,
          0.11496746203904556,
          0.22943722943722944,
          0.4931506849315068,
          0.3478260869565218,
          0.380952380952381,
          0.1592920353982301,
          0.1561822125813449,
          0.10794602698650675
         ],
         "yaxis": "y"
        }
       ],
       "layout": {
        "coloraxis": {
         "colorbar": {
          "title": {
           "text": "lift"
          }
         },
         "colorscale": [
          [
           0,
           "rgb(247, 254, 174)"
          ],
          [
           0.16666666666666666,
           "rgb(183, 230, 165)"
          ],
          [
           0.3333333333333333,
           "rgb(124, 203, 162)"
          ],
          [
           0.5,
           "rgb(70, 174, 160)"
          ],
          [
           0.6666666666666666,
           "rgb(8, 144, 153)"
          ],
          [
           0.8333333333333334,
           "rgb(0, 113, 139)"
          ],
          [
           1,
           "rgb(4, 82, 117)"
          ]
         ]
        },
        "legend": {
         "tracegroupgap": 0
        },
        "template": {
         "data": {
          "bar": [
           {
            "error_x": {
             "color": "#2a3f5f"
            },
            "error_y": {
             "color": "#2a3f5f"
            },
            "marker": {
             "line": {
              "color": "#E5ECF6",
              "width": 0.5
             }
            },
            "type": "bar"
           }
          ],
          "barpolar": [
           {
            "marker": {
             "line": {
              "color": "#E5ECF6",
              "width": 0.5
             }
            },
            "type": "barpolar"
           }
          ],
          "carpet": [
           {
            "aaxis": {
             "endlinecolor": "#2a3f5f",
             "gridcolor": "white",
             "linecolor": "white",
             "minorgridcolor": "white",
             "startlinecolor": "#2a3f5f"
            },
            "baxis": {
             "endlinecolor": "#2a3f5f",
             "gridcolor": "white",
             "linecolor": "white",
             "minorgridcolor": "white",
             "startlinecolor": "#2a3f5f"
            },
            "type": "carpet"
           }
          ],
          "choropleth": [
           {
            "colorbar": {
             "outlinewidth": 0,
             "ticks": ""
            },
            "type": "choropleth"
           }
          ],
          "contour": [
           {
            "colorbar": {
             "outlinewidth": 0,
             "ticks": ""
            },
            "colorscale": [
             [
              0,
              "#0d0887"
             ],
             [
              0.1111111111111111,
              "#46039f"
             ],
             [
              0.2222222222222222,
              "#7201a8"
             ],
             [
              0.3333333333333333,
              "#9c179e"
             ],
             [
              0.4444444444444444,
              "#bd3786"
             ],
             [
              0.5555555555555556,
              "#d8576b"
             ],
             [
              0.6666666666666666,
              "#ed7953"
             ],
             [
              0.7777777777777778,
              "#fb9f3a"
             ],
             [
              0.8888888888888888,
              "#fdca26"
             ],
             [
              1,
              "#f0f921"
             ]
            ],
            "type": "contour"
           }
          ],
          "contourcarpet": [
           {
            "colorbar": {
             "outlinewidth": 0,
             "ticks": ""
            },
            "type": "contourcarpet"
           }
          ],
          "heatmap": [
           {
            "colorbar": {
             "outlinewidth": 0,
             "ticks": ""
            },
            "colorscale": [
             [
              0,
              "#0d0887"
             ],
             [
              0.1111111111111111,
              "#46039f"
             ],
             [
              0.2222222222222222,
              "#7201a8"
             ],
             [
              0.3333333333333333,
              "#9c179e"
             ],
             [
              0.4444444444444444,
              "#bd3786"
             ],
             [
              0.5555555555555556,
              "#d8576b"
             ],
             [
              0.6666666666666666,
              "#ed7953"
             ],
             [
              0.7777777777777778,
              "#fb9f3a"
             ],
             [
              0.8888888888888888,
              "#fdca26"
             ],
             [
              1,
              "#f0f921"
             ]
            ],
            "type": "heatmap"
           }
          ],
          "heatmapgl": [
           {
            "colorbar": {
             "outlinewidth": 0,
             "ticks": ""
            },
            "colorscale": [
             [
              0,
              "#0d0887"
             ],
             [
              0.1111111111111111,
              "#46039f"
             ],
             [
              0.2222222222222222,
              "#7201a8"
             ],
             [
              0.3333333333333333,
              "#9c179e"
             ],
             [
              0.4444444444444444,
              "#bd3786"
             ],
             [
              0.5555555555555556,
              "#d8576b"
             ],
             [
              0.6666666666666666,
              "#ed7953"
             ],
             [
              0.7777777777777778,
              "#fb9f3a"
             ],
             [
              0.8888888888888888,
              "#fdca26"
             ],
             [
              1,
              "#f0f921"
             ]
            ],
            "type": "heatmapgl"
           }
          ],
          "histogram": [
           {
            "marker": {
             "colorbar": {
              "outlinewidth": 0,
              "ticks": ""
             }
            },
            "type": "histogram"
           }
          ],
          "histogram2d": [
           {
            "colorbar": {
             "outlinewidth": 0,
             "ticks": ""
            },
            "colorscale": [
             [
              0,
              "#0d0887"
             ],
             [
              0.1111111111111111,
              "#46039f"
             ],
             [
              0.2222222222222222,
              "#7201a8"
             ],
             [
              0.3333333333333333,
              "#9c179e"
             ],
             [
              0.4444444444444444,
              "#bd3786"
             ],
             [
              0.5555555555555556,
              "#d8576b"
             ],
             [
              0.6666666666666666,
              "#ed7953"
             ],
             [
              0.7777777777777778,
              "#fb9f3a"
             ],
             [
              0.8888888888888888,
              "#fdca26"
             ],
             [
              1,
              "#f0f921"
             ]
            ],
            "type": "histogram2d"
           }
          ],
          "histogram2dcontour": [
           {
            "colorbar": {
             "outlinewidth": 0,
             "ticks": ""
            },
            "colorscale": [
             [
              0,
              "#0d0887"
             ],
             [
              0.1111111111111111,
              "#46039f"
             ],
             [
              0.2222222222222222,
              "#7201a8"
             ],
             [
              0.3333333333333333,
              "#9c179e"
             ],
             [
              0.4444444444444444,
              "#bd3786"
             ],
             [
              0.5555555555555556,
              "#d8576b"
             ],
             [
              0.6666666666666666,
              "#ed7953"
             ],
             [
              0.7777777777777778,
              "#fb9f3a"
             ],
             [
              0.8888888888888888,
              "#fdca26"
             ],
             [
              1,
              "#f0f921"
             ]
            ],
            "type": "histogram2dcontour"
           }
          ],
          "mesh3d": [
           {
            "colorbar": {
             "outlinewidth": 0,
             "ticks": ""
            },
            "type": "mesh3d"
           }
          ],
          "parcoords": [
           {
            "line": {
             "colorbar": {
              "outlinewidth": 0,
              "ticks": ""
             }
            },
            "type": "parcoords"
           }
          ],
          "pie": [
           {
            "automargin": true,
            "type": "pie"
           }
          ],
          "scatter": [
           {
            "marker": {
             "colorbar": {
              "outlinewidth": 0,
              "ticks": ""
             }
            },
            "type": "scatter"
           }
          ],
          "scatter3d": [
           {
            "line": {
             "colorbar": {
              "outlinewidth": 0,
              "ticks": ""
             }
            },
            "marker": {
             "colorbar": {
              "outlinewidth": 0,
              "ticks": ""
             }
            },
            "type": "scatter3d"
           }
          ],
          "scattercarpet": [
           {
            "marker": {
             "colorbar": {
              "outlinewidth": 0,
              "ticks": ""
             }
            },
            "type": "scattercarpet"
           }
          ],
          "scattergeo": [
           {
            "marker": {
             "colorbar": {
              "outlinewidth": 0,
              "ticks": ""
             }
            },
            "type": "scattergeo"
           }
          ],
          "scattergl": [
           {
            "marker": {
             "colorbar": {
              "outlinewidth": 0,
              "ticks": ""
             }
            },
            "type": "scattergl"
           }
          ],
          "scattermapbox": [
           {
            "marker": {
             "colorbar": {
              "outlinewidth": 0,
              "ticks": ""
             }
            },
            "type": "scattermapbox"
           }
          ],
          "scatterpolar": [
           {
            "marker": {
             "colorbar": {
              "outlinewidth": 0,
              "ticks": ""
             }
            },
            "type": "scatterpolar"
           }
          ],
          "scatterpolargl": [
           {
            "marker": {
             "colorbar": {
              "outlinewidth": 0,
              "ticks": ""
             }
            },
            "type": "scatterpolargl"
           }
          ],
          "scatterternary": [
           {
            "marker": {
             "colorbar": {
              "outlinewidth": 0,
              "ticks": ""
             }
            },
            "type": "scatterternary"
           }
          ],
          "surface": [
           {
            "colorbar": {
             "outlinewidth": 0,
             "ticks": ""
            },
            "colorscale": [
             [
              0,
              "#0d0887"
             ],
             [
              0.1111111111111111,
              "#46039f"
             ],
             [
              0.2222222222222222,
              "#7201a8"
             ],
             [
              0.3333333333333333,
              "#9c179e"
             ],
             [
              0.4444444444444444,
              "#bd3786"
             ],
             [
              0.5555555555555556,
              "#d8576b"
             ],
             [
              0.6666666666666666,
              "#ed7953"
             ],
             [
              0.7777777777777778,
              "#fb9f3a"
             ],
             [
              0.8888888888888888,
              "#fdca26"
             ],
             [
              1,
              "#f0f921"
             ]
            ],
            "type": "surface"
           }
          ],
          "table": [
           {
            "cells": {
             "fill": {
              "color": "#EBF0F8"
             },
             "line": {
              "color": "white"
             }
            },
            "header": {
             "fill": {
              "color": "#C8D4E3"
             },
             "line": {
              "color": "white"
             }
            },
            "type": "table"
           }
          ]
         },
         "layout": {
          "annotationdefaults": {
           "arrowcolor": "#2a3f5f",
           "arrowhead": 0,
           "arrowwidth": 1
          },
          "autotypenumbers": "strict",
          "coloraxis": {
           "colorbar": {
            "outlinewidth": 0,
            "ticks": ""
           }
          },
          "colorscale": {
           "diverging": [
            [
             0,
             "#8e0152"
            ],
            [
             0.1,
             "#c51b7d"
            ],
            [
             0.2,
             "#de77ae"
            ],
            [
             0.3,
             "#f1b6da"
            ],
            [
             0.4,
             "#fde0ef"
            ],
            [
             0.5,
             "#f7f7f7"
            ],
            [
             0.6,
             "#e6f5d0"
            ],
            [
             0.7,
             "#b8e186"
            ],
            [
             0.8,
             "#7fbc41"
            ],
            [
             0.9,
             "#4d9221"
            ],
            [
             1,
             "#276419"
            ]
           ],
           "sequential": [
            [
             0,
             "#0d0887"
            ],
            [
             0.1111111111111111,
             "#46039f"
            ],
            [
             0.2222222222222222,
             "#7201a8"
            ],
            [
             0.3333333333333333,
             "#9c179e"
            ],
            [
             0.4444444444444444,
             "#bd3786"
            ],
            [
             0.5555555555555556,
             "#d8576b"
            ],
            [
             0.6666666666666666,
             "#ed7953"
            ],
            [
             0.7777777777777778,
             "#fb9f3a"
            ],
            [
             0.8888888888888888,
             "#fdca26"
            ],
            [
             1,
             "#f0f921"
            ]
           ],
           "sequentialminus": [
            [
             0,
             "#0d0887"
            ],
            [
             0.1111111111111111,
             "#46039f"
            ],
            [
             0.2222222222222222,
             "#7201a8"
            ],
            [
             0.3333333333333333,
             "#9c179e"
            ],
            [
             0.4444444444444444,
             "#bd3786"
            ],
            [
             0.5555555555555556,
             "#d8576b"
            ],
            [
             0.6666666666666666,
             "#ed7953"
            ],
            [
             0.7777777777777778,
             "#fb9f3a"
            ],
            [
             0.8888888888888888,
             "#fdca26"
            ],
            [
             1,
             "#f0f921"
            ]
           ]
          },
          "colorway": [
           "#636efa",
           "#EF553B",
           "#00cc96",
           "#ab63fa",
           "#FFA15A",
           "#19d3f3",
           "#FF6692",
           "#B6E880",
           "#FF97FF",
           "#FECB52"
          ],
          "font": {
           "color": "#2a3f5f"
          },
          "geo": {
           "bgcolor": "white",
           "lakecolor": "white",
           "landcolor": "#E5ECF6",
           "showlakes": true,
           "showland": true,
           "subunitcolor": "white"
          },
          "hoverlabel": {
           "align": "left"
          },
          "hovermode": "closest",
          "mapbox": {
           "style": "light"
          },
          "paper_bgcolor": "white",
          "plot_bgcolor": "#E5ECF6",
          "polar": {
           "angularaxis": {
            "gridcolor": "white",
            "linecolor": "white",
            "ticks": ""
           },
           "bgcolor": "#E5ECF6",
           "radialaxis": {
            "gridcolor": "white",
            "linecolor": "white",
            "ticks": ""
           }
          },
          "scene": {
           "xaxis": {
            "backgroundcolor": "#E5ECF6",
            "gridcolor": "white",
            "gridwidth": 2,
            "linecolor": "white",
            "showbackground": true,
            "ticks": "",
            "zerolinecolor": "white"
           },
           "yaxis": {
            "backgroundcolor": "#E5ECF6",
            "gridcolor": "white",
            "gridwidth": 2,
            "linecolor": "white",
            "showbackground": true,
            "ticks": "",
            "zerolinecolor": "white"
           },
           "zaxis": {
            "backgroundcolor": "#E5ECF6",
            "gridcolor": "white",
            "gridwidth": 2,
            "linecolor": "white",
            "showbackground": true,
            "ticks": "",
            "zerolinecolor": "white"
           }
          },
          "shapedefaults": {
           "line": {
            "color": "#2a3f5f"
           }
          },
          "ternary": {
           "aaxis": {
            "gridcolor": "white",
            "linecolor": "white",
            "ticks": ""
           },
           "baxis": {
            "gridcolor": "white",
            "linecolor": "white",
            "ticks": ""
           },
           "bgcolor": "#E5ECF6",
           "caxis": {
            "gridcolor": "white",
            "linecolor": "white",
            "ticks": ""
           }
          },
          "title": {
           "x": 0.05
          },
          "xaxis": {
           "automargin": true,
           "gridcolor": "white",
           "linecolor": "white",
           "ticks": "",
           "title": {
            "standoff": 15
           },
           "zerolinecolor": "white",
           "zerolinewidth": 2
          },
          "yaxis": {
           "automargin": true,
           "gridcolor": "white",
           "linecolor": "white",
           "ticks": "",
           "title": {
            "standoff": 15
           },
           "zerolinecolor": "white",
           "zerolinewidth": 2
          }
         }
        },
        "title": {
         "text": "Scatter Plot"
        },
        "xaxis": {
         "anchor": "y",
         "domain": [
          0,
          1
         ],
         "title": {
          "text": "support"
         }
        },
        "yaxis": {
         "anchor": "x",
         "domain": [
          0,
          1
         ],
         "title": {
          "text": "confidence"
         }
        }
       }
      },
      "text/html": [
       "<div>                            <div id=\"767295d1-a192-42d7-b371-7f1693548804\" class=\"plotly-graph-div\" style=\"height:525px; width:100%;\"></div>            <script type=\"text/javascript\">                require([\"plotly\"], function(Plotly) {                    window.PLOTLYENV=window.PLOTLYENV || {};                                    if (document.getElementById(\"767295d1-a192-42d7-b371-7f1693548804\")) {                    Plotly.newPlot(                        \"767295d1-a192-42d7-b371-7f1693548804\",                        [{\"customdata\": [[1.259576612903226], [1.7804580152671756], [2.1517775827523966], [2.151777582752397], [1.5730112043215034], [1.2255632183908047], [1.2255632183908045], [1.003800519095291], [1.003800519095291], [1.3340049076585303], [1.33400490765853], [1.456062291434928], [1.4560622914349277], [1.5593103448275862], [1.5593103448275862], [1.7119028843166775], [1.7119028843166775], [1.3898776418242493], [1.3898776418242493], [1.1007804123968385], [1.1007804123968385], [1.3557115247685894], [1.3557115247685894], [2.0120772946859904], [2.0120772946859904], [1.177101104620104], [1.1771011046201039], [1.9149425287356323], [1.9149425287356323], [1.2681492537313432], [1.1651779141104295], [1.309592039800995], [1.309592039800995], [1.4183513513513515], [0.9343703703703705], [0.9471675126903553], [0.8685662921348315], [0.8685662921348315], [1.059483870967742], [1.059483870967742], [1.2638620689655173], [0.8663200000000001], [0.8663200000000001], [1.4956136363636363], [1.4956136363636363], [1.4238061674008813], [1.4238061674008813], [1.4477920997920999], [1.4477920997920999], [1.6660000000000001], [0.9769214659685864], [1.343377777777778], [1.3433777777777778], [1.972544], [1.6434864864864867], [1.3838548387096776], [1.3838548387096774], [1.6033010752688175], [1.6033010752688175], [1.586666666666667], [1.5866666666666667], [1.4495141242937855], [1.4495141242937857], [1.562216393442623], [1.562216393442623], [1.3793763440860216], [1.3793763440860218], [1.6305531914893618], [1.5754565217391305], [1.5754565217391305], [1.246], [1.246], [1.2097070063694269], [1.958724511930586], [1.958724511930586], [1.3826666666666667], [1.8207650273224047], [1.8207650273224047], [1.6802393162393163], [1.6584615384615384], [1.6584615384615384], [1.8318787878787877], [1.8318787878787879], [2.1658000000000004], [2.1658000000000004], [1.2060613496932515], [1.6807433628318584], [1.6807433628318587], [1.3827800000000001], [1.3827800000000001], [1.4366231884057972], [1.4366231884057972], [1.5192538860103628], [1.519253886010363], [1.3544715447154472], [1.4986506746626689], [1.4986506746626689], [1.46608], [1.46608], [1.6660000000000001], [1.2804192139737993], [1.2804192139737993], [1.6217699115044248], [1.6189378531073448], [1.6189378531073448], [1.6100939597315436], [1.6100939597315436], [1.37445], [1.3744500000000002], [1.254179775280899], [1.1416414342629484], [1.1416414342629484], [0.5441948424068769], [1.1856196319018404], [1.404618768328446], [1.3285086663456909], [0.9525156475686087], [1.1907108721624853], [1.3640085148190602], [1.3640085148190602], [1.3737404856832187], [1.3737404856832187], [1.1144640998959419], [1.1144640998959419], [1.5258870967741935], [1.5258870967741935], [1.0357751882904649], [0.8449550667292604], [0.8449550667292604], [1.0903141361256543], [0.9810035842293908], [0.9810035842293907], [0.7855424037460979], [0.8577761879986125], [0.8577761879986125], [1.3346507156590472], [0.986786950975032], [0.792913802221047], [0.9390391952826918], [1.030241935483871], [0.47359352039745295], [0.7751240694789082], [1.215787650900455], [0.7356819155009993], [0.7356819155009992], [0.890100806451613], [0.7423591631603553], [0.8913345746481599], [0.8913345746481598], [0.8733064516129033], [1.041396675588111], [0.8002679151331458], [0.955178931451613], [0.9551789314516129], [1.541776837652036], [1.541776837652036], [1.3645413306451613], [1.2177580002570365], [1.2177580002570365], [1.1582313681868746], [1.520634993992051], [1.5206349939920507], [1.5423387096774193], [1.5423387096774195], [1.769805924412666], [1.7698059244126658], [1.5743715743715745], [1.5743715743715745], [2.778013582342954], [2.7780135823429544], [1.5937143368614202], [1.1722574295674248], [1.5250255996524653], [1.5250255996524655], [1.7713448884609215], [1.7713448884609215], [1.4024023051769352], [1.4024023051769354], [1.5678576145819576], [1.5678576145819578], [1.5657544362147287], [1.5657544362147289], [2.020335820895522], [2.0203358208955224], [1.9307327077597347], [1.9307327077597347], [1.7467381174277727], [1.746738117427773], [1.5393855393855396], [1.5393855393855396], [1.0109945027486258], [1.3693254895394942], [1.3693254895394942], [2.6048387096774195], [2.6048387096774195], [2.122073214932947], [2.122073214932947], [1.877258426966292], [1.8772584269662922], [1.4843340098005247], [1.4843340098005247], [1.3543133453245813], [1.3543133453245813], [1.1231460674157303], [1.1231460674157303], [1.426576658209496], [1.4265766582094963], [1.3284523378035522], [1.328452337803552], [1.4177417572296924], [1.4177417572296924], [1.415730337078652], [1.4157303370786518], [0.7918057959004606], [0.7918057959004606], [0.9069652978025255], [0.9069652978025257], [1.5260136785539813], [1.5260136785539813], [1.0608426124016646], [1.0608426124016643], [1.3978018742946863], [1.3978018742946865], [1.149528693160395], [1.149528693160395], [1.4214817415730336], [1.4214817415730334], [1.454272796454631], [1.454272796454631], [1.3516371011879846], [1.3516371011879846], [1.8623595505617976], [1.8623595505617978], [1.7438709677419357], [1.7438709677419357], [1.6685300586510263], [1.668530058651026], [1.3886392596070014], [1.3886392596070016], [0.9139784946236561], [0.9139784946236561], [2.252146201873049], [2.252146201873049], [1.439516129032258], [1.439516129032258], [1.566948704389212], [1.566948704389212], [1.2365474774333496], [1.2365474774333496], [1.3709677419354838], [1.3709677419354838], [1.0318655438195832], [1.0318655438195832], [1.439516129032258], [1.4395161290322582], [1.940217391304348], [1.9402173913043477], [1.2690187164482276], [1.2690187164482276], [1.4970967741935484], [1.4970967741935486], [1.391210218662048], [1.391210218662048], [1.4215221774193547], [1.4215221774193547], [1.7620306716023268], [1.7620306716023268], [1.1929057961701581], [1.1929057961701581], [0.8249376097606064], [0.8249376097606064], [2.22149258011327], [2.22149258011327], [1.3177790415137258], [1.761409691629956], [1.761409691629956], [1.4844074844074844], [1.4844074844074844], [1.2013333333333334], [1.2013333333333334], [1.4395161290322582], [1.439516129032258], [1.2283870967741937], [1.2283870967741937], [1.2641311475409835], [1.2641311475409838], [1.9500000000000002], [1.95], [0.96358407079646], [0.9635840707964601], [1.2934782608695652], [1.2934782608695652], [1.2952623688155924], [1.2952623688155922], [1.6213100436681223], [1.6213100436681225], [1.2718125], [1.2718125], [1.5360956175298808], [1.5360956175298808], [1.0229226361031518], [1.0229226361031518], [1.9482848232848233], [1.9482848232848233], [1.192108491208941], [1.6936631650288037], [1.6936631650288037], [1.7460210316896405], [1.7460210316896407], [1.3372958613242616], [1.3372958613242616], [1.3152118825776775], [1.3152118825776775], [1.7000112278662431], [1.7000112278662434], [1.2205128205128206], [1.2205128205128204], [1.634045335658239], [1.634045335658239], [1.801639729059084], [1.8016397290590842], [1.6493416493416495], [1.6493416493416495], [1.6731033510694528], [1.6731033510694528], [1.550110766504209], [1.550110766504209], [2.1787271142109854], [2.1787271142109854], [1.879196708983943], [1.879196708983943], [1.6094526801048543], [1.609452680104854], [1.8773388773388775], [1.8773388773388775], [1.5327070771756237], [1.532707077175624], [1.8024948024948024], [1.8024948024948024], [1.5045578122501202], [1.50455781225012], [1.6193536193536193], [1.6193536193536193], [1.4137996062774825], [1.4137996062774825], [1.5326507276507277], [1.5326507276507275], [1.8071047636265025], [1.8071047636265027], [1.5074811758749584], [1.5074811758749584], [1.4877457321235434], [1.4877457321235434], [1.6885135135135136], [1.6885135135135132], [1.5200591925482756], [1.5200591925482756], [1.6213913965591815], [1.6213913965591817], [1.9320491164241163], [1.9320491164241163], [1.5761405311967112], [1.576140531196711], [1.15913891212696], [1.15913891212696], [0.7741036165104932], [0.7741036165104932], [1.6651674162918544], [1.2357983312008918], [1.2155913978494626], [1.2155913978494626], [1.3250903832248737], [1.3250903832248735], [1.7551622418879058], [1.7551622418879058], [1.6651674162918544], [1.6651674162918544], [1.331096196868009], [1.331096196868009], [1.4131250000000002], [1.4131250000000002], [1.6185427286356824], [2.0511227062203203], [2.0511227062203203], [1.2657522590056325], [1.7336108220603539], [1.7336108220603543], [2.213551031200423], [2.2135510312004234], [1.3770642362325942], [1.377064236232594], [1.2261365258349985], [1.2261365258349985], [2.519153225806452], [2.5191532258064515], [1.253911350776225], [1.253911350776225], [1.9612199610305259], [1.961219961030526], [1.7319178427419355], [1.7319178427419355], [1.9193548387096777], [1.9193548387096777], [1.563802221047065], [1.563802221047065], [1.8058446063128688], [1.8058446063128688], [2.145161290322581], [2.145161290322581], [1.9235182982296553], [1.9235182982296553], [1.5502481389578162], [1.5502481389578164], [1.744868035190616], [1.7448680351906158], [1.5605373965172713], [1.560537396517271], [1.981733870967742], [1.981733870967742], [1.7524544179523143], [1.7524544179523143], [2.018803275948521], [2.018803275948521], [1.702096532378972], [1.702096532378972], [1.5254261163544163], [1.5254261163544163], [1.9356205576817935], [1.9356205576817933], [1.7583351374756442], [1.7583351374756442], [1.742414314516129], [1.7424143145161293], [1.950349481802844], [1.9503494818028444], [1.6674041297935105], [1.6674041297935107], [1.883225054139597], [1.8832250541395972], [1.4393820039132978], [1.4393820039132976], [1.5995874968884465], [1.5995874968884463], [2.3764530551415795], [2.3764530551415795], [1.5045480922675178], [1.5045480922675178], [2.089327868852459], [2.0893278688524584], [2.078047042052744], [2.078047042052744], [1.3635264335045594], [1.3635264335045594], [2.8319617119595115], [2.8319617119595115], [1.5362704918032786], [1.5362704918032786], [1.544643481911693], [1.544643481911693], [1.545675135598059], [1.5456751355980591], [1.4704502587415973], [1.4704502587415973], [1.3285910236371177], [1.8929997114274724], [1.8929997114274724], [1.6289681246333358], [1.6289681246333356], [1.3665943600867683], [1.3665943600867683], [1.3705752212389382], [1.3705752212389382], [1.5112443778110944], [1.5112443778110947], [1.8046875], [1.8046875], [2.1031613385014762], [2.103161338501476], [1.667945936926414], [1.667945936926414], [2.53441135870637], [2.5344113587063695], [1.7509742191849194], [1.7509742191849196], [1.5720390455531454], [1.5720390455531452], [1.3944874092238047], [1.3944874092238044], [1.5447944882155262], [1.5447944882155262], [1.5360356698006745], [1.5360356698006747], [1.5720390455531454], [1.5720390455531452], [1.561932423986176], [1.5619324239861758], [1.8190685553727672], [1.8190685553727672], [1.456846529284165], [1.4568465292841648], [1.5547226386806596], [1.7220731176555928], [1.7220731176555928], [1.6173962199228256], [1.6173962199228256], [1.801225323349217], [1.8012253233492173], [1.5766347595433052], [1.5766347595433055], [2.010458567980692], [2.0104585679806917], [1.6381354777156878], [1.6381354777156876], [2.141854789505796], [2.141854789505796], [1.6592203898050975], [1.2412137489537443], [1.5204092920353982], [1.5204092920353982], [1.4222537514428626], [1.4222537514428626], [1.5182608097574397], [1.51826080975744], [1.7158223985352457], [1.7158223985352459], [1.4651216814159291], [1.4651216814159294], [1.3037253159176105], [1.3037253159176103], [1.428572489160777], [1.428572489160777], [1.2785259955752213], [1.2785259955752213], [1.2775623171032684], [1.2775623171032684], [1.5361169415292355], [1.5361169415292357], [2.431912751677852], [2.431912751677852], [1.3981976403102798], [1.3981976403102798], [2.157243945141523], [2.157243945141523], [1.9523437499999998], [1.9523437499999998], [1.3394675719135252], [1.3394675719135252], [1.4799175412293852], [1.4799175412293852], [1.390669294173874], [1.390669294173874], [1.5452189159657461], [1.5452189159657463], [1.3955555779157403], [1.3955555779157403], [1.2644865067466269], [1.2644865067466267], [1.494440981756313], [1.494440981756313], [1.323808095952024], [1.0441418634944823], [1.2687779616168013], [1.2687779616168016], [1.3331555081355027], [1.7392057860262007], [1.739205786026201], [1.5199454697986576], [1.5199454697986576], [1.768718820991107], [1.768718820991107], [1.8174545454545459], [1.147363409117962], [2.121192115439027], [2.121192115439027], [1.1473634091179623], [1.2920000000000003], [1.094032258064516], [1.547519718401669], [1.0940322580645163], [1.908193832599119], [2.008500904187082], [1.6821747572815535], [1.908193832599119], [1.7822325581395349], [2.002706187063729], [2.2178191078870197], [2.2178191078870197], [2.002706187063729], [2.1315], [1.667904350561177], [2.2565153763920747], [2.2565153763920747], [1.6679043505611768], [2.1315000000000004], [1.896260162601626], [1.595086989823832], [1.8517381547190586], [1.8517381547190586], [1.595086989823832], [1.7701250000000002], [2.2094341585188264], [2.2266112266112263], [2.2266112266112263], [2.2094341585188264], [1.7270575916230366], [1.7144906444906443], [1.774717904205792], [1.7747179042057917], [1.7144906444906445], [1.7270575916230366], [1.827225806451613], [2.046321569634886], [1.8400467775467775], [1.8400467775467775], [2.046321569634886], [1.4840000000000002], [2.086042336042336], [1.980367822966507], [1.9803678229665072], [2.086042336042336], [1.86592], [2.4378788934569022], [1.9485380116959063], [1.9485380116959063], [2.4378788934569022], [1.7374000000000003], [2.153572819889268], [1.9304444444444446], [1.9304444444444446], [2.1535728198892685], [2.145606060606061], [2.574134441764927], [2.107040828472801], [2.107040828472801], [2.5741344417649272], [2.145606060606061], [2.0309333333333335], [1.8856819468024901], [1.9767637316458202], [1.9767637316458202], [1.8856819468024901], [1.8335857988165678], [1.946571407033913], [2.0825], [2.0825], [1.9465714070339133], [1.833585798816568], [1.9992000000000005], [2.047024558955145], [1.6326417034662148], [1.6326417034662148], [2.047024558955145], [1.590954954954955], [1.3886098908587665], [1.4475081967213115], [1.4475081967213115], [2.038019417475728], [3.6944900736847046], [3.5846311475409833], [3.5846311475409833], [3.6944900736847046], [2.0979259259259257], [2.714525327071452], [2.902488598903445], [2.902488598903445], [2.714525327071452], [2.305013698630137], [2.4013300605091907], [2.060534565522646], [2.0605345655226466], [2.4013300605091903], [2.305013698630137], [2.115555555555556], [1.659022887080445], [2.1683297180043386], [2.1683297180043386], [1.659022887080445], [2.115555555555556], [2.2324400000000004], [2.073268283018401], [2.5221890817064354], [2.522189081706436], [2.073268283018401], [1.7290129151291511], [2.324651162790698], [2.464011043186748], [2.4640110431867486], [1.7290129151291511], [2.1932151898734182], [2.366994535519126], [1.9482458770614695], [2.3669945355191255], [2.0063655913978495], [1.907373585934306], [2.1107692307692307], [2.1107692307692307], [2.300666666666667], [2.7519936204146727], [2.5249459967946484], [2.524945996794649], [2.7519936204146727], [1.9464158415841584], [2.1275757575757575], [1.7405588544310524], [2.127575757575758], [1.7706280193236716], [1.807583050579973], [2.027212389380531], [2.027212389380531], [1.8075830505799733], [1.7706280193236716], [1.6209729729729732], [1.5094630872483223], [1.4049850074962522], [1.5094630872483223], [1.7894074074074073], [1.6462450592885376], [1.5098125], [1.5098125], [1.8982630272952854], [2.3398876404494384], [1.2288552321007082], [2.339887640449438], [1.8982630272952854], [2.0792307692307688], [1.8719101123595507], [1.5215398400882272], [1.8719101123595507], [2.079230769230769], [1.8831405964698722], [2.578333333333333], [1.6477480219111382], [2.5783333333333336], [1.8831405964698722], [2.178305084745763], [1.2724392520720773], [1.4990002665955746], [2.1783050847457632], [2.706782464846981], [2.394512195121951], [2.913822344710621], [2.913822344710621], [2.394512195121951], [2.706782464846981], [2.5315628476084537], [2.468984889577683], [1.615650829065463], [1.615650829065463], [2.468984889577683], [2.5315628476084537], [2.4220430107526885], [2.0247191011235954], [1.2108000877609975], [2.0247191011235954], [2.4220430107526885], [1.5374936666103696], [1.8024948024948024], [1.6472238018921574], [1.8024948024948024], [1.5374936666103696], [2.1647609147609144], [2.31120415678757], [2.716733870967742], [2.716733870967742], [2.31120415678757], [2.164760914760915], [1.9982408443946904], [1.8878351521913463], [2.2861425434892753], [2.2861425434892757], [1.9982408443946906], [1.731808731808732], [1.735569715142429], [1.7880205789826353], [1.7880205789826351], [1.731808731808732], [1.6314140227183707], [1.9799246718104364], [1.881515544641616], [1.881515544641616], [1.6314140227183707], [2.1355772113943035], [2.250995575221239], [2.184541062801933], [2.184541062801933], [2.2509955752212387], [1.9016968788333108], [2.14908418796288], [2.3814217443249706], [2.3814217443249706], [2.14908418796288], [1.9016968788333108], [2.0695652173913044], [1.8822658563191526], [1.8974446248101795], [1.8974446248101797], [1.8822658563191523], [3.0336700336700337], [1.8386223554889223], [2.8445909666888602], [2.8445909666888602], [3.0336700336700337], [1.8476515167073997], [1.8855041026124686], [2.106194690265487], [2.106194690265487], [1.8855041026124684], [1.8476515167073997]], \"hovertemplate\": \"<b>%{hovertext}</b><br><br>support=%{x}<br>confidence=%{y}<br>lift=%{marker.color}<extra></extra>\", \"hovertext\": [\"frozenset({'100% Whole Wheat Bread'})=>frozenset({'Banana'})\", \"frozenset({'Apple Honeycrisp Organic'})=>frozenset({'Bag of Organic Bananas'})\", \"frozenset({'Apple Honeycrisp Organic'})=>frozenset({'Organic Hass Avocado'})\", \"frozenset({'Organic Hass Avocado'})=>frozenset({'Apple Honeycrisp Organic'})\", \"frozenset({'Apple Honeycrisp Organic'})=>frozenset({'Organic Strawberries'})\", \"frozenset({'Asparagus'})=>frozenset({'Bag of Organic Bananas'})\", \"frozenset({'Bag of Organic Bananas'})=>frozenset({'Asparagus'})\", \"frozenset({'Banana'})=>frozenset({'Asparagus'})\", \"frozenset({'Asparagus'})=>frozenset({'Banana'})\", \"frozenset({'Asparagus'})=>frozenset({'Large Lemon'})\", \"frozenset({'Large Lemon'})=>frozenset({'Asparagus'})\", \"frozenset({'Asparagus'})=>frozenset({'Limes'})\", \"frozenset({'Limes'})=>frozenset({'Asparagus'})\", \"frozenset({'Asparagus'})=>frozenset({'Organic Avocado'})\", \"frozenset({'Organic Avocado'})=>frozenset({'Asparagus'})\", \"frozenset({'Asparagus'})=>frozenset({'Organic Baby Spinach'})\", \"frozenset({'Organic Baby Spinach'})=>frozenset({'Asparagus'})\", \"frozenset({'Organic Cucumber'})=>frozenset({'Asparagus'})\", \"frozenset({'Asparagus'})=>frozenset({'Organic Cucumber'})\", \"frozenset({'Organic Hass Avocado'})=>frozenset({'Asparagus'})\", \"frozenset({'Asparagus'})=>frozenset({'Organic Hass Avocado'})\", \"frozenset({'Organic Raspberries'})=>frozenset({'Asparagus'})\", \"frozenset({'Asparagus'})=>frozenset({'Organic Raspberries'})\", \"frozenset({'Asparagus'})=>frozenset({'Organic Red Onion'})\", \"frozenset({'Organic Red Onion'})=>frozenset({'Asparagus'})\", \"frozenset({'Asparagus'})=>frozenset({'Organic Strawberries'})\", \"frozenset({'Organic Strawberries'})=>frozenset({'Asparagus'})\", \"frozenset({'Organic Zucchini'})=>frozenset({'Asparagus'})\", \"frozenset({'Asparagus'})=>frozenset({'Organic Zucchini'})\", \"frozenset({'Cantaloupe'})=>frozenset({'Bag of Organic Bananas'})\", \"frozenset({'Carrots'})=>frozenset({'Bag of Organic Bananas'})\", \"frozenset({'Fresh Cauliflower'})=>frozenset({'Bag of Organic Bananas'})\", \"frozenset({'Bag of Organic Bananas'})=>frozenset({'Fresh Cauliflower'})\", \"frozenset({'Grated Parmesan'})=>frozenset({'Bag of Organic Bananas'})\", \"frozenset({'Green Bell Pepper'})=>frozenset({'Bag of Organic Bananas'})\", \"frozenset({'Honeycrisp Apple'})=>frozenset({'Bag of Organic Bananas'})\", \"frozenset({'Large Lemon'})=>frozenset({'Bag of Organic Bananas'})\", \"frozenset({'Bag of Organic Bananas'})=>frozenset({'Large Lemon'})\", \"frozenset({'Limes'})=>frozenset({'Bag of Organic Bananas'})\", \"frozenset({'Bag of Organic Bananas'})=>frozenset({'Limes'})\", \"frozenset({'Michigan Organic Kale'})=>frozenset({'Bag of Organic Bananas'})\", \"frozenset({'Organic Avocado'})=>frozenset({'Bag of Organic Bananas'})\", \"frozenset({'Bag of Organic Bananas'})=>frozenset({'Organic Avocado'})\", \"frozenset({'Organic Baby Arugula'})=>frozenset({'Bag of Organic Bananas'})\", \"frozenset({'Bag of Organic Bananas'})=>frozenset({'Organic Baby Arugula'})\", \"frozenset({'Bag of Organic Bananas'})=>frozenset({'Organic Baby Carrots'})\", \"frozenset({'Organic Baby Carrots'})=>frozenset({'Bag of Organic Bananas'})\", \"frozenset({'Organic Baby Spinach'})=>frozenset({'Bag of Organic Bananas'})\", \"frozenset({'Bag of Organic Bananas'})=>frozenset({'Organic Baby Spinach'})\", \"frozenset({'Organic Black Beans'})=>frozenset({'Bag of Organic Bananas'})\", \"frozenset({'Organic Blackberries'})=>frozenset({'Bag of Organic Bananas'})\", \"frozenset({'Organic Blueberries'})=>frozenset({'Bag of Organic Bananas'})\", \"frozenset({'Bag of Organic Bananas'})=>frozenset({'Organic Blueberries'})\", \"frozenset({'Organic Broccoli'})=>frozenset({'Bag of Organic Bananas'})\", \"frozenset({'Organic Carrot Bunch'})=>frozenset({'Bag of Organic Bananas'})\", \"frozenset({'Organic Cilantro'})=>frozenset({'Bag of Organic Bananas'})\", \"frozenset({'Bag of Organic Bananas'})=>frozenset({'Organic Cilantro'})\", \"frozenset({'Organic Cucumber'})=>frozenset({'Bag of Organic Bananas'})\", \"frozenset({'Bag of Organic Bananas'})=>frozenset({'Organic Cucumber'})\", \"frozenset({\\\"Organic D'Anjou Pears\\\"})=>frozenset({'Bag of Organic Bananas'})\", \"frozenset({'Bag of Organic Bananas'})=>frozenset({\\\"Organic D'Anjou Pears\\\"})\", \"frozenset({'Organic Gala Apples'})=>frozenset({'Bag of Organic Bananas'})\", \"frozenset({'Bag of Organic Bananas'})=>frozenset({'Organic Gala Apples'})\", \"frozenset({'Organic Garlic'})=>frozenset({'Bag of Organic Bananas'})\", \"frozenset({'Bag of Organic Bananas'})=>frozenset({'Organic Garlic'})\", \"frozenset({'Organic Garnet Sweet Potato (Yam)'})=>frozenset({'Bag of Organic Bananas'})\", \"frozenset({'Bag of Organic Bananas'})=>frozenset({'Organic Garnet Sweet Potato (Yam)'})\", \"frozenset({'Organic Ginger Root'})=>frozenset({'Bag of Organic Bananas'})\", \"frozenset({'Organic Granny Smith Apple'})=>frozenset({'Bag of Organic Bananas'})\", \"frozenset({'Bag of Organic Bananas'})=>frozenset({'Organic Granny Smith Apple'})\", \"frozenset({'Organic Grape Tomatoes'})=>frozenset({'Bag of Organic Bananas'})\", \"frozenset({'Bag of Organic Bananas'})=>frozenset({'Organic Grape Tomatoes'})\", \"frozenset({'Organic Half & Half'})=>frozenset({'Bag of Organic Bananas'})\", \"frozenset({'Organic Hass Avocado'})=>frozenset({'Bag of Organic Bananas'})\", \"frozenset({'Bag of Organic Bananas'})=>frozenset({'Organic Hass Avocado'})\", \"frozenset({'Organic Italian Parsley Bunch'})=>frozenset({'Bag of Organic Bananas'})\", \"frozenset({'Organic Kiwi'})=>frozenset({'Bag of Organic Bananas'})\", \"frozenset({'Bag of Organic Bananas'})=>frozenset({'Organic Kiwi'})\", \"frozenset({'Organic Lacinato (Dinosaur) Kale'})=>frozenset({'Bag of Organic Bananas'})\", \"frozenset({'Organic Large Extra Fancy Fuji Apple'})=>frozenset({'Bag of Organic Bananas'})\", \"frozenset({'Bag of Organic Bananas'})=>frozenset({'Organic Large Extra Fancy Fuji Apple'})\", \"frozenset({'Organic Lemon'})=>frozenset({'Bag of Organic Bananas'})\", \"frozenset({'Bag of Organic Bananas'})=>frozenset({'Organic Lemon'})\", \"frozenset({'Organic Navel Orange'})=>frozenset({'Bag of Organic Bananas'})\", \"frozenset({'Bag of Organic Bananas'})=>frozenset({'Organic Navel Orange'})\", \"frozenset({'Organic Peeled Whole Baby Carrots'})=>frozenset({'Bag of Organic Bananas'})\", \"frozenset({'Organic Raspberries'})=>frozenset({'Bag of Organic Bananas'})\", \"frozenset({'Bag of Organic Bananas'})=>frozenset({'Organic Raspberries'})\", \"frozenset({'Organic Red Bell Pepper'})=>frozenset({'Bag of Organic Bananas'})\", \"frozenset({'Bag of Organic Bananas'})=>frozenset({'Organic Red Bell Pepper'})\", \"frozenset({'Organic Red Onion'})=>frozenset({'Bag of Organic Bananas'})\", \"frozenset({'Bag of Organic Bananas'})=>frozenset({'Organic Red Onion'})\", \"frozenset({'Bag of Organic Bananas'})=>frozenset({'Organic Small Bunch Celery'})\", \"frozenset({'Organic Small Bunch Celery'})=>frozenset({'Bag of Organic Bananas'})\", \"frozenset({'Organic Sticks Low Moisture Part Skim Mozzarella String Cheese'})=>frozenset({'Bag of Organic Bananas'})\", \"frozenset({'Organic Strawberries'})=>frozenset({'Bag of Organic Bananas'})\", \"frozenset({'Bag of Organic Bananas'})=>frozenset({'Organic Strawberries'})\", \"frozenset({'Organic Tomato Cluster'})=>frozenset({'Bag of Organic Bananas'})\", \"frozenset({'Bag of Organic Bananas'})=>frozenset({'Organic Tomato Cluster'})\", \"frozenset({'Organic Unsweetened Almond Milk'})=>frozenset({'Bag of Organic Bananas'})\", \"frozenset({'Organic Whole Milk'})=>frozenset({'Bag of Organic Bananas'})\", \"frozenset({'Bag of Organic Bananas'})=>frozenset({'Organic Whole Milk'})\", \"frozenset({'Organic Whole Strawberries'})=>frozenset({'Bag of Organic Bananas'})\", \"frozenset({'Organic Whole String Cheese'})=>frozenset({'Bag of Organic Bananas'})\", \"frozenset({'Bag of Organic Bananas'})=>frozenset({'Organic Whole String Cheese'})\", \"frozenset({'Organic Yellow Onion'})=>frozenset({'Bag of Organic Bananas'})\", \"frozenset({'Bag of Organic Bananas'})=>frozenset({'Organic Yellow Onion'})\", \"frozenset({'Organic Zucchini'})=>frozenset({'Bag of Organic Bananas'})\", \"frozenset({'Bag of Organic Bananas'})=>frozenset({'Organic Zucchini'})\", \"frozenset({'Original Hummus'})=>frozenset({'Bag of Organic Bananas'})\", \"frozenset({'Seedless Red Grapes'})=>frozenset({'Bag of Organic Bananas'})\", \"frozenset({'Bag of Organic Bananas'})=>frozenset({'Seedless Red Grapes'})\", \"frozenset({'Strawberries'})=>frozenset({'Bag of Organic Bananas'})\", \"frozenset({'Uncured Genoa Salami'})=>frozenset({'Bag of Organic Bananas'})\", \"frozenset({'Broccoli Crown'})=>frozenset({'Banana'})\", \"frozenset({'Cantaloupe'})=>frozenset({'Banana'})\", \"frozenset({'Fresh Cauliflower'})=>frozenset({'Banana'})\", \"frozenset({'Green Bell Pepper'})=>frozenset({'Banana'})\", \"frozenset({'Banana'})=>frozenset({'Honeycrisp Apple'})\", \"frozenset({'Honeycrisp Apple'})=>frozenset({'Banana'})\", \"frozenset({'Banana'})=>frozenset({'Large Lemon'})\", \"frozenset({'Large Lemon'})=>frozenset({'Banana'})\", \"frozenset({'Banana'})=>frozenset({'Limes'})\", \"frozenset({'Limes'})=>frozenset({'Banana'})\", \"frozenset({'Banana'})=>frozenset({'Organic Avocado'})\", \"frozenset({'Organic Avocado'})=>frozenset({'Banana'})\", \"frozenset({'Organic Baby Carrots'})=>frozenset({'Banana'})\", \"frozenset({'Banana'})=>frozenset({'Organic Baby Spinach'})\", \"frozenset({'Organic Baby Spinach'})=>frozenset({'Banana'})\", \"frozenset({'Organic Blackberries'})=>frozenset({'Banana'})\", \"frozenset({'Organic Blueberries'})=>frozenset({'Banana'})\", \"frozenset({'Banana'})=>frozenset({'Organic Blueberries'})\", \"frozenset({'Organic Cilantro'})=>frozenset({'Banana'})\", \"frozenset({'Organic Cucumber'})=>frozenset({'Banana'})\", \"frozenset({'Banana'})=>frozenset({'Organic Cucumber'})\", \"frozenset({'Organic Fuji Apple'})=>frozenset({'Banana'})\", \"frozenset({'Organic Gala Apples'})=>frozenset({'Banana'})\", \"frozenset({'Organic Garlic'})=>frozenset({'Banana'})\", \"frozenset({'Organic Garnet Sweet Potato (Yam)'})=>frozenset({'Banana'})\", \"frozenset({'Organic Grape Tomatoes'})=>frozenset({'Banana'})\", \"frozenset({'Organic Hass Avocado'})=>frozenset({'Banana'})\", \"frozenset({'Organic Large Extra Fancy Fuji Apple'})=>frozenset({'Banana'})\", \"frozenset({'Organic Peeled Whole Baby Carrots'})=>frozenset({'Banana'})\", \"frozenset({'Organic Raspberries'})=>frozenset({'Banana'})\", \"frozenset({'Banana'})=>frozenset({'Organic Raspberries'})\", \"frozenset({'Organic Red Bell Pepper'})=>frozenset({'Banana'})\", \"frozenset({'Organic Red Onion'})=>frozenset({'Banana'})\", \"frozenset({'Banana'})=>frozenset({'Organic Strawberries'})\", \"frozenset({'Organic Strawberries'})=>frozenset({'Banana'})\", \"frozenset({'Organic Tomato Cluster'})=>frozenset({'Banana'})\", \"frozenset({'Organic Whole Milk'})=>frozenset({'Banana'})\", \"frozenset({'Organic Yellow Onion'})=>frozenset({'Banana'})\", \"frozenset({'Banana'})=>frozenset({'Organic Zucchini'})\", \"frozenset({'Organic Zucchini'})=>frozenset({'Banana'})\", \"frozenset({'Banana'})=>frozenset({'Red Peppers'})\", \"frozenset({'Red Peppers'})=>frozenset({'Banana'})\", \"frozenset({'Red Vine Tomato'})=>frozenset({'Banana'})\", \"frozenset({'Seedless Red Grapes'})=>frozenset({'Banana'})\", \"frozenset({'Banana'})=>frozenset({'Seedless Red Grapes'})\", \"frozenset({'Sparkling Water Grapefruit'})=>frozenset({'Banana'})\", \"frozenset({'Strawberries'})=>frozenset({'Banana'})\", \"frozenset({'Banana'})=>frozenset({'Strawberries'})\", \"frozenset({'Yellow Onions'})=>frozenset({'Banana'})\", \"frozenset({'Banana'})=>frozenset({'Yellow Onions'})\", \"frozenset({'Broccoli Crown'})=>frozenset({'Large Lemon'})\", \"frozenset({'Large Lemon'})=>frozenset({'Broccoli Crown'})\", \"frozenset({'Broccoli Crown'})=>frozenset({'Organic Baby Spinach'})\", \"frozenset({'Organic Baby Spinach'})=>frozenset({'Broccoli Crown'})\", \"frozenset({'Bunched Cilantro'})=>frozenset({'Limes'})\", \"frozenset({'Limes'})=>frozenset({'Bunched Cilantro'})\", \"frozenset({'Cantaloupe'})=>frozenset({'Organic Strawberries'})\", \"frozenset({'Carrots'})=>frozenset({'Organic Strawberries'})\", \"frozenset({'Fresh Cauliflower'})=>frozenset({'Organic Baby Spinach'})\", \"frozenset({'Organic Baby Spinach'})=>frozenset({'Fresh Cauliflower'})\", \"frozenset({'Fresh Cauliflower'})=>frozenset({'Organic Cucumber'})\", \"frozenset({'Organic Cucumber'})=>frozenset({'Fresh Cauliflower'})\", \"frozenset({'Fresh Cauliflower'})=>frozenset({'Organic Hass Avocado'})\", \"frozenset({'Organic Hass Avocado'})=>frozenset({'Fresh Cauliflower'})\", \"frozenset({'Organic Raspberries'})=>frozenset({'Fresh Cauliflower'})\", \"frozenset({'Fresh Cauliflower'})=>frozenset({'Organic Raspberries'})\", \"frozenset({'Fresh Cauliflower'})=>frozenset({'Organic Strawberries'})\", \"frozenset({'Organic Strawberries'})=>frozenset({'Fresh Cauliflower'})\", \"frozenset({'Fresh Cauliflower'})=>frozenset({'Organic Zucchini'})\", \"frozenset({'Organic Zucchini'})=>frozenset({'Fresh Cauliflower'})\", \"frozenset({'Grated Parmesan'})=>frozenset({'Organic Baby Spinach'})\", \"frozenset({'Organic Baby Spinach'})=>frozenset({'Grated Parmesan'})\", \"frozenset({'Grated Parmesan'})=>frozenset({'Organic Strawberries'})\", \"frozenset({'Organic Strawberries'})=>frozenset({'Grated Parmesan'})\", \"frozenset({'Green Bell Pepper'})=>frozenset({'Organic Baby Spinach'})\", \"frozenset({'Organic Baby Spinach'})=>frozenset({'Green Bell Pepper'})\", \"frozenset({'Green Bell Pepper'})=>frozenset({'Organic Strawberries'})\", \"frozenset({'Honeycrisp Apple'})=>frozenset({'Organic Strawberries'})\", \"frozenset({'Organic Strawberries'})=>frozenset({'Honeycrisp Apple'})\", \"frozenset({'Limes'})=>frozenset({'Jalapeno Peppers'})\", \"frozenset({'Jalapeno Peppers'})=>frozenset({'Limes'})\", \"frozenset({'Large Lemon'})=>frozenset({'Limes'})\", \"frozenset({'Limes'})=>frozenset({'Large Lemon'})\", \"frozenset({'Large Lemon'})=>frozenset({'Organic Avocado'})\", \"frozenset({'Organic Avocado'})=>frozenset({'Large Lemon'})\", \"frozenset({'Large Lemon'})=>frozenset({'Organic Baby Carrots'})\", \"frozenset({'Organic Baby Carrots'})=>frozenset({'Large Lemon'})\", \"frozenset({'Organic Baby Spinach'})=>frozenset({'Large Lemon'})\", \"frozenset({'Large Lemon'})=>frozenset({'Organic Baby Spinach'})\", \"frozenset({'Organic Blueberries'})=>frozenset({'Large Lemon'})\", \"frozenset({'Large Lemon'})=>frozenset({'Organic Blueberries'})\", \"frozenset({'Organic Cilantro'})=>frozenset({'Large Lemon'})\", \"frozenset({'Large Lemon'})=>frozenset({'Organic Cilantro'})\", \"frozenset({'Organic Cucumber'})=>frozenset({'Large Lemon'})\", \"frozenset({'Large Lemon'})=>frozenset({'Organic Cucumber'})\", \"frozenset({'Organic Garlic'})=>frozenset({'Large Lemon'})\", \"frozenset({'Large Lemon'})=>frozenset({'Organic Garlic'})\", \"frozenset({'Organic Grape Tomatoes'})=>frozenset({'Large Lemon'})\", \"frozenset({'Large Lemon'})=>frozenset({'Organic Grape Tomatoes'})\", \"frozenset({'Organic Hass Avocado'})=>frozenset({'Large Lemon'})\", \"frozenset({'Large Lemon'})=>frozenset({'Organic Hass Avocado'})\", \"frozenset({'Organic Raspberries'})=>frozenset({'Large Lemon'})\", \"frozenset({'Large Lemon'})=>frozenset({'Organic Raspberries'})\", \"frozenset({'Large Lemon'})=>frozenset({'Organic Red Onion'})\", \"frozenset({'Organic Red Onion'})=>frozenset({'Large Lemon'})\", \"frozenset({'Organic Strawberries'})=>frozenset({'Large Lemon'})\", \"frozenset({'Large Lemon'})=>frozenset({'Organic Strawberries'})\", \"frozenset({'Organic Whole Milk'})=>frozenset({'Large Lemon'})\", \"frozenset({'Large Lemon'})=>frozenset({'Organic Whole Milk'})\", \"frozenset({'Organic Yellow Onion'})=>frozenset({'Large Lemon'})\", \"frozenset({'Large Lemon'})=>frozenset({'Organic Yellow Onion'})\", \"frozenset({'Organic Zucchini'})=>frozenset({'Large Lemon'})\", \"frozenset({'Large Lemon'})=>frozenset({'Organic Zucchini'})\", \"frozenset({'Seedless Red Grapes'})=>frozenset({'Large Lemon'})\", \"frozenset({'Large Lemon'})=>frozenset({'Seedless Red Grapes'})\", \"frozenset({'Strawberries'})=>frozenset({'Large Lemon'})\", \"frozenset({'Large Lemon'})=>frozenset({'Strawberries'})\", \"frozenset({'Yellow Onions'})=>frozenset({'Large Lemon'})\", \"frozenset({'Large Lemon'})=>frozenset({'Yellow Onions'})\", \"frozenset({'Organic Avocado'})=>frozenset({'Limes'})\", \"frozenset({'Limes'})=>frozenset({'Organic Avocado'})\", \"frozenset({'Organic Baby Arugula'})=>frozenset({'Limes'})\", \"frozenset({'Limes'})=>frozenset({'Organic Baby Arugula'})\", \"frozenset({'Organic Baby Spinach'})=>frozenset({'Limes'})\", \"frozenset({'Limes'})=>frozenset({'Organic Baby Spinach'})\", \"frozenset({'Organic Blueberries'})=>frozenset({'Limes'})\", \"frozenset({'Limes'})=>frozenset({'Organic Blueberries'})\", \"frozenset({'Organic Cilantro'})=>frozenset({'Limes'})\", \"frozenset({'Limes'})=>frozenset({'Organic Cilantro'})\", \"frozenset({'Organic Cucumber'})=>frozenset({'Limes'})\", \"frozenset({'Limes'})=>frozenset({'Organic Cucumber'})\", \"frozenset({'Organic Garlic'})=>frozenset({'Limes'})\", \"frozenset({'Limes'})=>frozenset({'Organic Garlic'})\", \"frozenset({'Organic Hass Avocado'})=>frozenset({'Limes'})\", \"frozenset({'Limes'})=>frozenset({'Organic Hass Avocado'})\", \"frozenset({'Organic Lemon'})=>frozenset({'Limes'})\", \"frozenset({'Limes'})=>frozenset({'Organic Lemon'})\", \"frozenset({'Organic Raspberries'})=>frozenset({'Limes'})\", \"frozenset({'Limes'})=>frozenset({'Organic Raspberries'})\", \"frozenset({'Organic Red Bell Pepper'})=>frozenset({'Limes'})\", \"frozenset({'Limes'})=>frozenset({'Organic Red Bell Pepper'})\", \"frozenset({'Organic Red Onion'})=>frozenset({'Limes'})\", \"frozenset({'Limes'})=>frozenset({'Organic Red Onion'})\", \"frozenset({'Organic Strawberries'})=>frozenset({'Limes'})\", \"frozenset({'Limes'})=>frozenset({'Organic Strawberries'})\", \"frozenset({'Limes'})=>frozenset({'Organic Tomato Cluster'})\", \"frozenset({'Organic Tomato Cluster'})=>frozenset({'Limes'})\", \"frozenset({'Organic Yellow Onion'})=>frozenset({'Limes'})\", \"frozenset({'Limes'})=>frozenset({'Organic Yellow Onion'})\", \"frozenset({'Organic Zucchini'})=>frozenset({'Limes'})\", \"frozenset({'Limes'})=>frozenset({'Organic Zucchini'})\", \"frozenset({'Red Peppers'})=>frozenset({'Limes'})\", \"frozenset({'Limes'})=>frozenset({'Red Peppers'})\", \"frozenset({'Seedless Red Grapes'})=>frozenset({'Limes'})\", \"frozenset({'Limes'})=>frozenset({'Seedless Red Grapes'})\", \"frozenset({'Strawberries'})=>frozenset({'Limes'})\", \"frozenset({'Limes'})=>frozenset({'Strawberries'})\", \"frozenset({'Michigan Organic Kale'})=>frozenset({'Organic Baby Spinach'})\", \"frozenset({'Organic Baby Spinach'})=>frozenset({'Michigan Organic Kale'})\", \"frozenset({'Michigan Organic Kale'})=>frozenset({'Organic Strawberries'})\", \"frozenset({'Organic Avocado'})=>frozenset({'Organic Baby Carrots'})\", \"frozenset({'Organic Baby Carrots'})=>frozenset({'Organic Avocado'})\", \"frozenset({'Organic Baby Spinach'})=>frozenset({'Organic Avocado'})\", \"frozenset({'Organic Avocado'})=>frozenset({'Organic Baby Spinach'})\", \"frozenset({'Organic Blueberries'})=>frozenset({'Organic Avocado'})\", \"frozenset({'Organic Avocado'})=>frozenset({'Organic Blueberries'})\", \"frozenset({'Organic Cilantro'})=>frozenset({'Organic Avocado'})\", \"frozenset({'Organic Avocado'})=>frozenset({'Organic Cilantro'})\", \"frozenset({'Organic Cucumber'})=>frozenset({'Organic Avocado'})\", \"frozenset({'Organic Avocado'})=>frozenset({'Organic Cucumber'})\", \"frozenset({'Organic Garlic'})=>frozenset({'Organic Avocado'})\", \"frozenset({'Organic Avocado'})=>frozenset({'Organic Garlic'})\", \"frozenset({'Organic Grape Tomatoes'})=>frozenset({'Organic Avocado'})\", \"frozenset({'Organic Avocado'})=>frozenset({'Organic Grape Tomatoes'})\", \"frozenset({'Organic Raspberries'})=>frozenset({'Organic Avocado'})\", \"frozenset({'Organic Avocado'})=>frozenset({'Organic Raspberries'})\", \"frozenset({'Organic Avocado'})=>frozenset({'Organic Red Onion'})\", \"frozenset({'Organic Red Onion'})=>frozenset({'Organic Avocado'})\", \"frozenset({'Organic Strawberries'})=>frozenset({'Organic Avocado'})\", \"frozenset({'Organic Avocado'})=>frozenset({'Organic Strawberries'})\", \"frozenset({'Organic Whole Milk'})=>frozenset({'Organic Avocado'})\", \"frozenset({'Organic Avocado'})=>frozenset({'Organic Whole Milk'})\", \"frozenset({'Organic Zucchini'})=>frozenset({'Organic Avocado'})\", \"frozenset({'Organic Avocado'})=>frozenset({'Organic Zucchini'})\", \"frozenset({'Seedless Red Grapes'})=>frozenset({'Organic Avocado'})\", \"frozenset({'Organic Avocado'})=>frozenset({'Seedless Red Grapes'})\", \"frozenset({'Strawberries'})=>frozenset({'Organic Avocado'})\", \"frozenset({'Organic Avocado'})=>frozenset({'Strawberries'})\", \"frozenset({'Organic Baby Arugula'})=>frozenset({'Organic Baby Spinach'})\", \"frozenset({'Organic Baby Spinach'})=>frozenset({'Organic Baby Arugula'})\", \"frozenset({'Organic Baby Arugula'})=>frozenset({'Organic Strawberries'})\", \"frozenset({'Organic Baby Spinach'})=>frozenset({'Organic Baby Carrots'})\", \"frozenset({'Organic Baby Carrots'})=>frozenset({'Organic Baby Spinach'})\", \"frozenset({'Organic Cucumber'})=>frozenset({'Organic Baby Carrots'})\", \"frozenset({'Organic Baby Carrots'})=>frozenset({'Organic Cucumber'})\", \"frozenset({'Organic Hass Avocado'})=>frozenset({'Organic Baby Carrots'})\", \"frozenset({'Organic Baby Carrots'})=>frozenset({'Organic Hass Avocado'})\", \"frozenset({'Organic Raspberries'})=>frozenset({'Organic Baby Carrots'})\", \"frozenset({'Organic Baby Carrots'})=>frozenset({'Organic Raspberries'})\", \"frozenset({'Organic Strawberries'})=>frozenset({'Organic Baby Carrots'})\", \"frozenset({'Organic Baby Carrots'})=>frozenset({'Organic Strawberries'})\", \"frozenset({'Organic Blueberries'})=>frozenset({'Organic Baby Spinach'})\", \"frozenset({'Organic Baby Spinach'})=>frozenset({'Organic Blueberries'})\", \"frozenset({'Organic Cilantro'})=>frozenset({'Organic Baby Spinach'})\", \"frozenset({'Organic Baby Spinach'})=>frozenset({'Organic Cilantro'})\", \"frozenset({'Organic Cucumber'})=>frozenset({'Organic Baby Spinach'})\", \"frozenset({'Organic Baby Spinach'})=>frozenset({'Organic Cucumber'})\", \"frozenset({\\\"Organic D'Anjou Pears\\\"})=>frozenset({'Organic Baby Spinach'})\", \"frozenset({'Organic Baby Spinach'})=>frozenset({\\\"Organic D'Anjou Pears\\\"})\", \"frozenset({'Organic Gala Apples'})=>frozenset({'Organic Baby Spinach'})\", \"frozenset({'Organic Baby Spinach'})=>frozenset({'Organic Gala Apples'})\", \"frozenset({'Organic Garlic'})=>frozenset({'Organic Baby Spinach'})\", \"frozenset({'Organic Baby Spinach'})=>frozenset({'Organic Garlic'})\", \"frozenset({'Organic Garnet Sweet Potato (Yam)'})=>frozenset({'Organic Baby Spinach'})\", \"frozenset({'Organic Baby Spinach'})=>frozenset({'Organic Garnet Sweet Potato (Yam)'})\", \"frozenset({'Organic Ginger Root'})=>frozenset({'Organic Baby Spinach'})\", \"frozenset({'Organic Baby Spinach'})=>frozenset({'Organic Ginger Root'})\", \"frozenset({'Organic Granny Smith Apple'})=>frozenset({'Organic Baby Spinach'})\", \"frozenset({'Organic Baby Spinach'})=>frozenset({'Organic Granny Smith Apple'})\", \"frozenset({'Organic Grape Tomatoes'})=>frozenset({'Organic Baby Spinach'})\", \"frozenset({'Organic Baby Spinach'})=>frozenset({'Organic Grape Tomatoes'})\", \"frozenset({'Organic Hass Avocado'})=>frozenset({'Organic Baby Spinach'})\", \"frozenset({'Organic Baby Spinach'})=>frozenset({'Organic Hass Avocado'})\", \"frozenset({'Organic Italian Parsley Bunch'})=>frozenset({'Organic Baby Spinach'})\", \"frozenset({'Organic Baby Spinach'})=>frozenset({'Organic Italian Parsley Bunch'})\", \"frozenset({'Organic Large Extra Fancy Fuji Apple'})=>frozenset({'Organic Baby Spinach'})\", \"frozenset({'Organic Baby Spinach'})=>frozenset({'Organic Large Extra Fancy Fuji Apple'})\", \"frozenset({'Organic Lemon'})=>frozenset({'Organic Baby Spinach'})\", \"frozenset({'Organic Baby Spinach'})=>frozenset({'Organic Lemon'})\", \"frozenset({'Organic Raspberries'})=>frozenset({'Organic Baby Spinach'})\", \"frozenset({'Organic Baby Spinach'})=>frozenset({'Organic Raspberries'})\", \"frozenset({'Organic Baby Spinach'})=>frozenset({'Organic Red Bell Pepper'})\", \"frozenset({'Organic Red Bell Pepper'})=>frozenset({'Organic Baby Spinach'})\", \"frozenset({'Organic Baby Spinach'})=>frozenset({'Organic Red Onion'})\", \"frozenset({'Organic Red Onion'})=>frozenset({'Organic Baby Spinach'})\", \"frozenset({'Organic Baby Spinach'})=>frozenset({'Organic Small Bunch Celery'})\", \"frozenset({'Organic Small Bunch Celery'})=>frozenset({'Organic Baby Spinach'})\", \"frozenset({'Organic Strawberries'})=>frozenset({'Organic Baby Spinach'})\", \"frozenset({'Organic Baby Spinach'})=>frozenset({'Organic Strawberries'})\", \"frozenset({'Organic Baby Spinach'})=>frozenset({'Organic Tomato Cluster'})\", \"frozenset({'Organic Tomato Cluster'})=>frozenset({'Organic Baby Spinach'})\", \"frozenset({'Organic Whole Milk'})=>frozenset({'Organic Baby Spinach'})\", \"frozenset({'Organic Baby Spinach'})=>frozenset({'Organic Whole Milk'})\", \"frozenset({'Organic Baby Spinach'})=>frozenset({'Organic Yellow Onion'})\", \"frozenset({'Organic Yellow Onion'})=>frozenset({'Organic Baby Spinach'})\", \"frozenset({'Organic Zucchini'})=>frozenset({'Organic Baby Spinach'})\", \"frozenset({'Organic Baby Spinach'})=>frozenset({'Organic Zucchini'})\", \"frozenset({'Original Hummus'})=>frozenset({'Organic Baby Spinach'})\", \"frozenset({'Organic Baby Spinach'})=>frozenset({'Original Hummus'})\", \"frozenset({'Seedless Red Grapes'})=>frozenset({'Organic Baby Spinach'})\", \"frozenset({'Organic Baby Spinach'})=>frozenset({'Seedless Red Grapes'})\", \"frozenset({'Strawberries'})=>frozenset({'Organic Baby Spinach'})\", \"frozenset({'Organic Baby Spinach'})=>frozenset({'Strawberries'})\", \"frozenset({'Organic Black Beans'})=>frozenset({'Organic Strawberries'})\", \"frozenset({'Organic Blackberries'})=>frozenset({'Organic Strawberries'})\", \"frozenset({'Organic Blueberries'})=>frozenset({'Organic Cucumber'})\", \"frozenset({'Organic Cucumber'})=>frozenset({'Organic Blueberries'})\", \"frozenset({'Organic Blueberries'})=>frozenset({'Organic Hass Avocado'})\", \"frozenset({'Organic Hass Avocado'})=>frozenset({'Organic Blueberries'})\", \"frozenset({'Organic Blueberries'})=>frozenset({'Organic Raspberries'})\", \"frozenset({'Organic Raspberries'})=>frozenset({'Organic Blueberries'})\", \"frozenset({'Organic Blueberries'})=>frozenset({'Organic Strawberries'})\", \"frozenset({'Organic Strawberries'})=>frozenset({'Organic Blueberries'})\", \"frozenset({'Organic Blueberries'})=>frozenset({'Organic Yellow Onion'})\", \"frozenset({'Organic Yellow Onion'})=>frozenset({'Organic Blueberries'})\", \"frozenset({'Organic Blueberries'})=>frozenset({'Organic Zucchini'})\", \"frozenset({'Organic Zucchini'})=>frozenset({'Organic Blueberries'})\", \"frozenset({'Organic Broccoli'})=>frozenset({'Organic Strawberries'})\", \"frozenset({'Organic Carrot Bunch'})=>frozenset({'Organic Hass Avocado'})\", \"frozenset({'Organic Hass Avocado'})=>frozenset({'Organic Carrot Bunch'})\", \"frozenset({'Organic Carrot Bunch'})=>frozenset({'Organic Strawberries'})\", \"frozenset({'Organic Cucumber'})=>frozenset({'Organic Cilantro'})\", \"frozenset({'Organic Cilantro'})=>frozenset({'Organic Cucumber'})\", \"frozenset({'Organic Garlic'})=>frozenset({'Organic Cilantro'})\", \"frozenset({'Organic Cilantro'})=>frozenset({'Organic Garlic'})\", \"frozenset({'Organic Hass Avocado'})=>frozenset({'Organic Cilantro'})\", \"frozenset({'Organic Cilantro'})=>frozenset({'Organic Hass Avocado'})\", \"frozenset({'Organic Raspberries'})=>frozenset({'Organic Cilantro'})\", \"frozenset({'Organic Cilantro'})=>frozenset({'Organic Raspberries'})\", \"frozenset({'Organic Cilantro'})=>frozenset({'Organic Red Onion'})\", \"frozenset({'Organic Red Onion'})=>frozenset({'Organic Cilantro'})\", \"frozenset({'Organic Strawberries'})=>frozenset({'Organic Cilantro'})\", \"frozenset({'Organic Cilantro'})=>frozenset({'Organic Strawberries'})\", \"frozenset({'Organic Cilantro'})=>frozenset({'Organic Yellow Onion'})\", \"frozenset({'Organic Yellow Onion'})=>frozenset({'Organic Cilantro'})\", \"frozenset({'Organic Zucchini'})=>frozenset({'Organic Cilantro'})\", \"frozenset({'Organic Cilantro'})=>frozenset({'Organic Zucchini'})\", \"frozenset({'Organic Cucumber'})=>frozenset({\\\"Organic D'Anjou Pears\\\"})\", \"frozenset({\\\"Organic D'Anjou Pears\\\"})=>frozenset({'Organic Cucumber'})\", \"frozenset({'Organic Garlic'})=>frozenset({'Organic Cucumber'})\", \"frozenset({'Organic Cucumber'})=>frozenset({'Organic Garlic'})\", \"frozenset({'Organic Cucumber'})=>frozenset({'Organic Garnet Sweet Potato (Yam)'})\", \"frozenset({'Organic Garnet Sweet Potato (Yam)'})=>frozenset({'Organic Cucumber'})\", \"frozenset({'Organic Cucumber'})=>frozenset({'Organic Grape Tomatoes'})\", \"frozenset({'Organic Grape Tomatoes'})=>frozenset({'Organic Cucumber'})\", \"frozenset({'Organic Cucumber'})=>frozenset({'Organic Hass Avocado'})\", \"frozenset({'Organic Hass Avocado'})=>frozenset({'Organic Cucumber'})\", \"frozenset({'Organic Cucumber'})=>frozenset({'Organic Large Extra Fancy Fuji Apple'})\", \"frozenset({'Organic Large Extra Fancy Fuji Apple'})=>frozenset({'Organic Cucumber'})\", \"frozenset({'Organic Cucumber'})=>frozenset({'Organic Lemon'})\", \"frozenset({'Organic Lemon'})=>frozenset({'Organic Cucumber'})\", \"frozenset({'Organic Raspberries'})=>frozenset({'Organic Cucumber'})\", \"frozenset({'Organic Cucumber'})=>frozenset({'Organic Raspberries'})\", \"frozenset({'Organic Cucumber'})=>frozenset({'Organic Red Bell Pepper'})\", \"frozenset({'Organic Red Bell Pepper'})=>frozenset({'Organic Cucumber'})\", \"frozenset({'Organic Cucumber'})=>frozenset({'Organic Red Onion'})\", \"frozenset({'Organic Red Onion'})=>frozenset({'Organic Cucumber'})\", \"frozenset({'Organic Cucumber'})=>frozenset({'Organic Small Bunch Celery'})\", \"frozenset({'Organic Small Bunch Celery'})=>frozenset({'Organic Cucumber'})\", \"frozenset({'Organic Cucumber'})=>frozenset({'Organic Strawberries'})\", \"frozenset({'Organic Strawberries'})=>frozenset({'Organic Cucumber'})\", \"frozenset({'Organic Whole Milk'})=>frozenset({'Organic Cucumber'})\", \"frozenset({'Organic Cucumber'})=>frozenset({'Organic Whole Milk'})\", \"frozenset({'Organic Whole String Cheese'})=>frozenset({'Organic Cucumber'})\", \"frozenset({'Organic Cucumber'})=>frozenset({'Organic Whole String Cheese'})\", \"frozenset({'Organic Cucumber'})=>frozenset({'Organic Yellow Onion'})\", \"frozenset({'Organic Yellow Onion'})=>frozenset({'Organic Cucumber'})\", \"frozenset({'Organic Cucumber'})=>frozenset({'Organic Zucchini'})\", \"frozenset({'Organic Zucchini'})=>frozenset({'Organic Cucumber'})\", \"frozenset({'Organic Hass Avocado'})=>frozenset({\\\"Organic D'Anjou Pears\\\"})\", \"frozenset({\\\"Organic D'Anjou Pears\\\"})=>frozenset({'Organic Hass Avocado'})\", \"frozenset({'Organic Raspberries'})=>frozenset({\\\"Organic D'Anjou Pears\\\"})\", \"frozenset({\\\"Organic D'Anjou Pears\\\"})=>frozenset({'Organic Raspberries'})\", \"frozenset({'Organic Strawberries'})=>frozenset({\\\"Organic D'Anjou Pears\\\"})\", \"frozenset({\\\"Organic D'Anjou Pears\\\"})=>frozenset({'Organic Strawberries'})\", \"frozenset({'Organic Gala Apples'})=>frozenset({'Organic Strawberries'})\", \"frozenset({'Organic Strawberries'})=>frozenset({'Organic Gala Apples'})\", \"frozenset({'Organic Garlic'})=>frozenset({'Organic Hass Avocado'})\", \"frozenset({'Organic Hass Avocado'})=>frozenset({'Organic Garlic'})\", \"frozenset({'Organic Garlic'})=>frozenset({'Organic Lemon'})\", \"frozenset({'Organic Lemon'})=>frozenset({'Organic Garlic'})\", \"frozenset({'Organic Garlic'})=>frozenset({'Organic Raspberries'})\", \"frozenset({'Organic Raspberries'})=>frozenset({'Organic Garlic'})\", \"frozenset({'Organic Garlic'})=>frozenset({'Organic Red Bell Pepper'})\", \"frozenset({'Organic Red Bell Pepper'})=>frozenset({'Organic Garlic'})\", \"frozenset({'Organic Garlic'})=>frozenset({'Organic Red Onion'})\", \"frozenset({'Organic Red Onion'})=>frozenset({'Organic Garlic'})\", \"frozenset({'Organic Garlic'})=>frozenset({'Organic Strawberries'})\", \"frozenset({'Organic Strawberries'})=>frozenset({'Organic Garlic'})\", \"frozenset({'Organic Garlic'})=>frozenset({'Organic Yellow Onion'})\", \"frozenset({'Organic Yellow Onion'})=>frozenset({'Organic Garlic'})\", \"frozenset({'Organic Garlic'})=>frozenset({'Organic Zucchini'})\", \"frozenset({'Organic Zucchini'})=>frozenset({'Organic Garlic'})\", \"frozenset({'Organic Hass Avocado'})=>frozenset({'Organic Garnet Sweet Potato (Yam)'})\", \"frozenset({'Organic Garnet Sweet Potato (Yam)'})=>frozenset({'Organic Hass Avocado'})\", \"frozenset({'Organic Raspberries'})=>frozenset({'Organic Garnet Sweet Potato (Yam)'})\", \"frozenset({'Organic Garnet Sweet Potato (Yam)'})=>frozenset({'Organic Raspberries'})\", \"frozenset({'Organic Garnet Sweet Potato (Yam)'})=>frozenset({'Organic Strawberries'})\", \"frozenset({'Organic Strawberries'})=>frozenset({'Organic Garnet Sweet Potato (Yam)'})\", \"frozenset({'Organic Ginger Root'})=>frozenset({'Organic Strawberries'})\", \"frozenset({'Organic Raspberries'})=>frozenset({'Organic Granny Smith Apple'})\", \"frozenset({'Organic Granny Smith Apple'})=>frozenset({'Organic Raspberries'})\", \"frozenset({'Organic Granny Smith Apple'})=>frozenset({'Organic Strawberries'})\", \"frozenset({'Organic Strawberries'})=>frozenset({'Organic Granny Smith Apple'})\", \"frozenset({'Organic Hass Avocado'})=>frozenset({'Organic Grape Tomatoes'})\", \"frozenset({'Organic Grape Tomatoes'})=>frozenset({'Organic Hass Avocado'})\", \"frozenset({'Organic Raspberries'})=>frozenset({'Organic Grape Tomatoes'})\", \"frozenset({'Organic Grape Tomatoes'})=>frozenset({'Organic Raspberries'})\", \"frozenset({'Organic Strawberries'})=>frozenset({'Organic Grape Tomatoes'})\", \"frozenset({'Organic Grape Tomatoes'})=>frozenset({'Organic Strawberries'})\", \"frozenset({'Organic Zucchini'})=>frozenset({'Organic Grape Tomatoes'})\", \"frozenset({'Organic Grape Tomatoes'})=>frozenset({'Organic Zucchini'})\", \"frozenset({'Organic Hass Avocado'})=>frozenset({'Organic Kiwi'})\", \"frozenset({'Organic Kiwi'})=>frozenset({'Organic Hass Avocado'})\", \"frozenset({'Organic Large Extra Fancy Fuji Apple'})=>frozenset({'Organic Hass Avocado'})\", \"frozenset({'Organic Hass Avocado'})=>frozenset({'Organic Large Extra Fancy Fuji Apple'})\", \"frozenset({'Organic Hass Avocado'})=>frozenset({'Organic Lemon'})\", \"frozenset({'Organic Lemon'})=>frozenset({'Organic Hass Avocado'})\", \"frozenset({'Organic Raspberries'})=>frozenset({'Organic Hass Avocado'})\", \"frozenset({'Organic Hass Avocado'})=>frozenset({'Organic Raspberries'})\", \"frozenset({'Organic Hass Avocado'})=>frozenset({'Organic Red Bell Pepper'})\", \"frozenset({'Organic Red Bell Pepper'})=>frozenset({'Organic Hass Avocado'})\", \"frozenset({'Organic Hass Avocado'})=>frozenset({'Organic Red Onion'})\", \"frozenset({'Organic Red Onion'})=>frozenset({'Organic Hass Avocado'})\", \"frozenset({'Organic Hass Avocado'})=>frozenset({'Organic Small Bunch Celery'})\", \"frozenset({'Organic Small Bunch Celery'})=>frozenset({'Organic Hass Avocado'})\", \"frozenset({'Organic Hass Avocado'})=>frozenset({'Organic Strawberries'})\", \"frozenset({'Organic Strawberries'})=>frozenset({'Organic Hass Avocado'})\", \"frozenset({'Organic Hass Avocado'})=>frozenset({'Organic Tomato Cluster'})\", \"frozenset({'Organic Tomato Cluster'})=>frozenset({'Organic Hass Avocado'})\", \"frozenset({'Organic Whole String Cheese'})=>frozenset({'Organic Hass Avocado'})\", \"frozenset({'Organic Hass Avocado'})=>frozenset({'Organic Whole String Cheese'})\", \"frozenset({'Organic Hass Avocado'})=>frozenset({'Organic Yellow Onion'})\", \"frozenset({'Organic Yellow Onion'})=>frozenset({'Organic Hass Avocado'})\", \"frozenset({'Organic Hass Avocado'})=>frozenset({'Organic Zucchini'})\", \"frozenset({'Organic Zucchini'})=>frozenset({'Organic Hass Avocado'})\", \"frozenset({'Organic Italian Parsley Bunch'})=>frozenset({'Organic Strawberries'})\", \"frozenset({'Organic Raspberries'})=>frozenset({'Organic Kiwi'})\", \"frozenset({'Organic Kiwi'})=>frozenset({'Organic Raspberries'})\", \"frozenset({'Organic Strawberries'})=>frozenset({'Organic Kiwi'})\", \"frozenset({'Organic Kiwi'})=>frozenset({'Organic Strawberries'})\", \"frozenset({'Organic Raspberries'})=>frozenset({'Organic Large Extra Fancy Fuji Apple'})\", \"frozenset({'Organic Large Extra Fancy Fuji Apple'})=>frozenset({'Organic Raspberries'})\", \"frozenset({'Organic Large Extra Fancy Fuji Apple'})=>frozenset({'Organic Strawberries'})\", \"frozenset({'Organic Strawberries'})=>frozenset({'Organic Large Extra Fancy Fuji Apple'})\", \"frozenset({'Organic Raspberries'})=>frozenset({'Organic Lemon'})\", \"frozenset({'Organic Lemon'})=>frozenset({'Organic Raspberries'})\", \"frozenset({'Organic Strawberries'})=>frozenset({'Organic Lemon'})\", \"frozenset({'Organic Lemon'})=>frozenset({'Organic Strawberries'})\", \"frozenset({'Organic Lemon'})=>frozenset({'Organic Yellow Onion'})\", \"frozenset({'Organic Yellow Onion'})=>frozenset({'Organic Lemon'})\", \"frozenset({'Organic Navel Orange'})=>frozenset({'Organic Strawberries'})\", \"frozenset({'Organic Peeled Whole Baby Carrots'})=>frozenset({'Organic Strawberries'})\", \"frozenset({'Organic Raspberries'})=>frozenset({'Organic Red Bell Pepper'})\", \"frozenset({'Organic Red Bell Pepper'})=>frozenset({'Organic Raspberries'})\", \"frozenset({'Organic Raspberries'})=>frozenset({'Organic Red Onion'})\", \"frozenset({'Organic Red Onion'})=>frozenset({'Organic Raspberries'})\", \"frozenset({'Organic Raspberries'})=>frozenset({'Organic Small Bunch Celery'})\", \"frozenset({'Organic Small Bunch Celery'})=>frozenset({'Organic Raspberries'})\", \"frozenset({'Organic Raspberries'})=>frozenset({'Organic Strawberries'})\", \"frozenset({'Organic Strawberries'})=>frozenset({'Organic Raspberries'})\", \"frozenset({'Organic Raspberries'})=>frozenset({'Organic Tomato Cluster'})\", \"frozenset({'Organic Tomato Cluster'})=>frozenset({'Organic Raspberries'})\", \"frozenset({'Organic Raspberries'})=>frozenset({'Organic Whole Milk'})\", \"frozenset({'Organic Whole Milk'})=>frozenset({'Organic Raspberries'})\", \"frozenset({'Organic Raspberries'})=>frozenset({'Organic Yellow Onion'})\", \"frozenset({'Organic Yellow Onion'})=>frozenset({'Organic Raspberries'})\", \"frozenset({'Organic Raspberries'})=>frozenset({'Organic Zucchini'})\", \"frozenset({'Organic Zucchini'})=>frozenset({'Organic Raspberries'})\", \"frozenset({'Seedless Red Grapes'})=>frozenset({'Organic Raspberries'})\", \"frozenset({'Organic Raspberries'})=>frozenset({'Seedless Red Grapes'})\", \"frozenset({'Organic Strawberries'})=>frozenset({'Organic Red Bell Pepper'})\", \"frozenset({'Organic Red Bell Pepper'})=>frozenset({'Organic Strawberries'})\", \"frozenset({'Organic Yellow Onion'})=>frozenset({'Organic Red Bell Pepper'})\", \"frozenset({'Organic Red Bell Pepper'})=>frozenset({'Organic Yellow Onion'})\", \"frozenset({'Organic Strawberries'})=>frozenset({'Organic Red Onion'})\", \"frozenset({'Organic Red Onion'})=>frozenset({'Organic Strawberries'})\", \"frozenset({'Organic Yellow Onion'})=>frozenset({'Organic Red Onion'})\", \"frozenset({'Organic Red Onion'})=>frozenset({'Organic Yellow Onion'})\", \"frozenset({'Organic Zucchini'})=>frozenset({'Organic Red Onion'})\", \"frozenset({'Organic Red Onion'})=>frozenset({'Organic Zucchini'})\", \"frozenset({'Organic Strawberries'})=>frozenset({'Organic Small Bunch Celery'})\", \"frozenset({'Organic Small Bunch Celery'})=>frozenset({'Organic Strawberries'})\", \"frozenset({'Organic Strawberries'})=>frozenset({'Organic Tomato Cluster'})\", \"frozenset({'Organic Tomato Cluster'})=>frozenset({'Organic Strawberries'})\", \"frozenset({'Organic Whole Milk'})=>frozenset({'Organic Strawberries'})\", \"frozenset({'Organic Strawberries'})=>frozenset({'Organic Whole Milk'})\", \"frozenset({'Organic Whole String Cheese'})=>frozenset({'Organic Strawberries'})\", \"frozenset({'Organic Strawberries'})=>frozenset({'Organic Whole String Cheese'})\", \"frozenset({'Organic Strawberries'})=>frozenset({'Organic Yellow Onion'})\", \"frozenset({'Organic Yellow Onion'})=>frozenset({'Organic Strawberries'})\", \"frozenset({'Organic Zucchini'})=>frozenset({'Organic Strawberries'})\", \"frozenset({'Organic Strawberries'})=>frozenset({'Organic Zucchini'})\", \"frozenset({'Original Hummus'})=>frozenset({'Organic Strawberries'})\", \"frozenset({'Organic Strawberries'})=>frozenset({'Original Hummus'})\", \"frozenset({'Raspberries'})=>frozenset({'Organic Strawberries'})\", \"frozenset({'Red Peppers'})=>frozenset({'Organic Strawberries'})\", \"frozenset({'Seedless Red Grapes'})=>frozenset({'Organic Strawberries'})\", \"frozenset({'Organic Strawberries'})=>frozenset({'Seedless Red Grapes'})\", \"frozenset({'Uncured Genoa Salami'})=>frozenset({'Organic Strawberries'})\", \"frozenset({'Organic Whole Milk'})=>frozenset({'Organic Zucchini'})\", \"frozenset({'Organic Zucchini'})=>frozenset({'Organic Whole Milk'})\", \"frozenset({'Organic Zucchini'})=>frozenset({'Organic Yellow Onion'})\", \"frozenset({'Organic Yellow Onion'})=>frozenset({'Organic Zucchini'})\", \"frozenset({'Seedless Red Grapes'})=>frozenset({'Strawberries'})\", \"frozenset({'Strawberries'})=>frozenset({'Seedless Red Grapes'})\", \"frozenset({'Organic Hass Avocado', 'Limes'})=>frozenset({'Bag of Organic Bananas'})\", \"frozenset({'Organic Hass Avocado', 'Bag of Organic Bananas'})=>frozenset({'Limes'})\", \"frozenset({'Bag of Organic Bananas', 'Limes'})=>frozenset({'Organic Hass Avocado'})\", \"frozenset({'Organic Hass Avocado'})=>frozenset({'Bag of Organic Bananas', 'Limes'})\", \"frozenset({'Limes'})=>frozenset({'Organic Hass Avocado', 'Bag of Organic Bananas'})\", \"frozenset({'Organic Strawberries', 'Limes'})=>frozenset({'Bag of Organic Bananas'})\", \"frozenset({'Organic Strawberries', 'Bag of Organic Bananas'})=>frozenset({'Limes'})\", \"frozenset({'Bag of Organic Bananas', 'Limes'})=>frozenset({'Organic Strawberries'})\", \"frozenset({'Limes'})=>frozenset({'Organic Strawberries', 'Bag of Organic Bananas'})\", \"frozenset({'Organic Strawberries', 'Bag of Organic Bananas'})=>frozenset({'Organic Baby Carrots'})\", \"frozenset({'Organic Baby Carrots', 'Bag of Organic Bananas'})=>frozenset({'Organic Strawberries'})\", \"frozenset({'Organic Strawberries', 'Organic Baby Carrots'})=>frozenset({'Bag of Organic Bananas'})\", \"frozenset({'Organic Baby Carrots'})=>frozenset({'Organic Strawberries', 'Bag of Organic Bananas'})\", \"frozenset({'Organic Cucumber', 'Organic Baby Spinach'})=>frozenset({'Bag of Organic Bananas'})\", \"frozenset({'Organic Cucumber', 'Bag of Organic Bananas'})=>frozenset({'Organic Baby Spinach'})\", \"frozenset({'Organic Baby Spinach', 'Bag of Organic Bananas'})=>frozenset({'Organic Cucumber'})\", \"frozenset({'Organic Cucumber'})=>frozenset({'Organic Baby Spinach', 'Bag of Organic Bananas'})\", \"frozenset({'Organic Baby Spinach'})=>frozenset({'Organic Cucumber', 'Bag of Organic Bananas'})\", \"frozenset({'Organic Hass Avocado', 'Organic Baby Spinach'})=>frozenset({'Bag of Organic Bananas'})\", \"frozenset({'Organic Hass Avocado', 'Bag of Organic Bananas'})=>frozenset({'Organic Baby Spinach'})\", \"frozenset({'Organic Baby Spinach', 'Bag of Organic Bananas'})=>frozenset({'Organic Hass Avocado'})\", \"frozenset({'Organic Hass Avocado'})=>frozenset({'Organic Baby Spinach', 'Bag of Organic Bananas'})\", \"frozenset({'Organic Baby Spinach'})=>frozenset({'Organic Hass Avocado', 'Bag of Organic Bananas'})\", \"frozenset({'Bag of Organic Bananas'})=>frozenset({'Organic Hass Avocado', 'Organic Baby Spinach'})\", \"frozenset({'Organic Raspberries', 'Organic Baby Spinach'})=>frozenset({'Bag of Organic Bananas'})\", \"frozenset({'Organic Raspberries', 'Bag of Organic Bananas'})=>frozenset({'Organic Baby Spinach'})\", \"frozenset({'Organic Baby Spinach', 'Bag of Organic Bananas'})=>frozenset({'Organic Raspberries'})\", \"frozenset({'Organic Raspberries'})=>frozenset({'Organic Baby Spinach', 'Bag of Organic Bananas'})\", \"frozenset({'Organic Baby Spinach'})=>frozenset({'Organic Raspberries', 'Bag of Organic Bananas'})\", \"frozenset({'Organic Baby Spinach', 'Organic Red Onion'})=>frozenset({'Bag of Organic Bananas'})\", \"frozenset({'Organic Baby Spinach', 'Bag of Organic Bananas'})=>frozenset({'Organic Red Onion'})\", \"frozenset({'Organic Red Onion', 'Bag of Organic Bananas'})=>frozenset({'Organic Baby Spinach'})\", \"frozenset({'Organic Baby Spinach'})=>frozenset({'Organic Red Onion', 'Bag of Organic Bananas'})\", \"frozenset({'Organic Red Onion'})=>frozenset({'Organic Baby Spinach', 'Bag of Organic Bananas'})\", \"frozenset({'Organic Strawberries', 'Organic Baby Spinach'})=>frozenset({'Bag of Organic Bananas'})\", \"frozenset({'Organic Strawberries', 'Bag of Organic Bananas'})=>frozenset({'Organic Baby Spinach'})\", \"frozenset({'Organic Baby Spinach', 'Bag of Organic Bananas'})=>frozenset({'Organic Strawberries'})\", \"frozenset({'Organic Strawberries'})=>frozenset({'Organic Baby Spinach', 'Bag of Organic Bananas'})\", \"frozenset({'Organic Baby Spinach'})=>frozenset({'Organic Strawberries', 'Bag of Organic Bananas'})\", \"frozenset({'Bag of Organic Bananas'})=>frozenset({'Organic Strawberries', 'Organic Baby Spinach'})\", \"frozenset({'Organic Baby Spinach', 'Organic Yellow Onion'})=>frozenset({'Bag of Organic Bananas'})\", \"frozenset({'Organic Baby Spinach', 'Bag of Organic Bananas'})=>frozenset({'Organic Yellow Onion'})\", \"frozenset({'Organic Yellow Onion', 'Bag of Organic Bananas'})=>frozenset({'Organic Baby Spinach'})\", \"frozenset({'Organic Baby Spinach'})=>frozenset({'Organic Yellow Onion', 'Bag of Organic Bananas'})\", \"frozenset({'Organic Yellow Onion'})=>frozenset({'Organic Baby Spinach', 'Bag of Organic Bananas'})\", \"frozenset({'Organic Zucchini', 'Organic Baby Spinach'})=>frozenset({'Bag of Organic Bananas'})\", \"frozenset({'Organic Zucchini', 'Bag of Organic Bananas'})=>frozenset({'Organic Baby Spinach'})\", \"frozenset({'Organic Baby Spinach', 'Bag of Organic Bananas'})=>frozenset({'Organic Zucchini'})\", \"frozenset({'Organic Zucchini'})=>frozenset({'Organic Baby Spinach', 'Bag of Organic Bananas'})\", \"frozenset({'Organic Baby Spinach'})=>frozenset({'Organic Zucchini', 'Bag of Organic Bananas'})\", \"frozenset({'Organic Blueberries', 'Organic Raspberries'})=>frozenset({'Bag of Organic Bananas'})\", \"frozenset({'Organic Blueberries', 'Bag of Organic Bananas'})=>frozenset({'Organic Raspberries'})\", \"frozenset({'Organic Raspberries', 'Bag of Organic Bananas'})=>frozenset({'Organic Blueberries'})\", \"frozenset({'Organic Blueberries'})=>frozenset({'Organic Raspberries', 'Bag of Organic Bananas'})\", \"frozenset({'Organic Raspberries'})=>frozenset({'Organic Blueberries', 'Bag of Organic Bananas'})\", \"frozenset({'Organic Blueberries', 'Organic Strawberries'})=>frozenset({'Bag of Organic Bananas'})\", \"frozenset({'Organic Blueberries', 'Bag of Organic Bananas'})=>frozenset({'Organic Strawberries'})\", \"frozenset({'Organic Strawberries', 'Bag of Organic Bananas'})=>frozenset({'Organic Blueberries'})\", \"frozenset({'Organic Blueberries'})=>frozenset({'Organic Strawberries', 'Bag of Organic Bananas'})\", \"frozenset({'Organic Strawberries'})=>frozenset({'Organic Blueberries', 'Bag of Organic Bananas'})\", \"frozenset({'Organic Cucumber', 'Organic Hass Avocado'})=>frozenset({'Bag of Organic Bananas'})\", \"frozenset({'Organic Cucumber', 'Bag of Organic Bananas'})=>frozenset({'Organic Hass Avocado'})\", \"frozenset({'Organic Hass Avocado', 'Bag of Organic Bananas'})=>frozenset({'Organic Cucumber'})\", \"frozenset({'Organic Cucumber'})=>frozenset({'Organic Hass Avocado', 'Bag of Organic Bananas'})\", \"frozenset({'Organic Hass Avocado'})=>frozenset({'Organic Cucumber', 'Bag of Organic Bananas'})\", \"frozenset({'Bag of Organic Bananas'})=>frozenset({'Organic Cucumber', 'Organic Hass Avocado'})\", \"frozenset({'Organic Raspberries', 'Organic Cucumber'})=>frozenset({'Bag of Organic Bananas'})\", \"frozenset({'Organic Raspberries', 'Bag of Organic Bananas'})=>frozenset({'Organic Cucumber'})\", \"frozenset({'Organic Cucumber', 'Bag of Organic Bananas'})=>frozenset({'Organic Raspberries'})\", \"frozenset({'Organic Raspberries'})=>frozenset({'Organic Cucumber', 'Bag of Organic Bananas'})\", \"frozenset({'Organic Cucumber'})=>frozenset({'Organic Raspberries', 'Bag of Organic Bananas'})\", \"frozenset({'Organic Cucumber', 'Organic Strawberries'})=>frozenset({'Bag of Organic Bananas'})\", \"frozenset({'Organic Cucumber', 'Bag of Organic Bananas'})=>frozenset({'Organic Strawberries'})\", \"frozenset({'Organic Strawberries', 'Bag of Organic Bananas'})=>frozenset({'Organic Cucumber'})\", \"frozenset({'Organic Cucumber'})=>frozenset({'Organic Strawberries', 'Bag of Organic Bananas'})\", \"frozenset({'Organic Strawberries'})=>frozenset({'Organic Cucumber', 'Bag of Organic Bananas'})\", \"frozenset({'Bag of Organic Bananas'})=>frozenset({'Organic Cucumber', 'Organic Strawberries'})\", \"frozenset({'Organic Garlic', 'Organic Hass Avocado'})=>frozenset({'Bag of Organic Bananas'})\", \"frozenset({'Organic Garlic', 'Bag of Organic Bananas'})=>frozenset({'Organic Hass Avocado'})\", \"frozenset({'Organic Hass Avocado', 'Bag of Organic Bananas'})=>frozenset({'Organic Garlic'})\", \"frozenset({'Organic Garlic'})=>frozenset({'Organic Hass Avocado', 'Bag of Organic Bananas'})\", \"frozenset({'Organic Hass Avocado'})=>frozenset({'Organic Garlic', 'Bag of Organic Bananas'})\", \"frozenset({'Organic Garlic', 'Organic Strawberries'})=>frozenset({'Bag of Organic Bananas'})\", \"frozenset({'Organic Garlic', 'Bag of Organic Bananas'})=>frozenset({'Organic Strawberries'})\", \"frozenset({'Organic Strawberries', 'Bag of Organic Bananas'})=>frozenset({'Organic Garlic'})\", \"frozenset({'Organic Garlic'})=>frozenset({'Organic Strawberries', 'Bag of Organic Bananas'})\", \"frozenset({'Organic Garlic', 'Organic Yellow Onion'})=>frozenset({'Bag of Organic Bananas'})\", \"frozenset({'Organic Garlic', 'Bag of Organic Bananas'})=>frozenset({'Organic Yellow Onion'})\", \"frozenset({'Organic Yellow Onion', 'Bag of Organic Bananas'})=>frozenset({'Organic Garlic'})\", \"frozenset({'Organic Garlic'})=>frozenset({'Organic Yellow Onion', 'Bag of Organic Bananas'})\", \"frozenset({'Organic Yellow Onion'})=>frozenset({'Organic Garlic', 'Bag of Organic Bananas'})\", \"frozenset({'Organic Hass Avocado', 'Organic Lemon'})=>frozenset({'Bag of Organic Bananas'})\", \"frozenset({'Organic Hass Avocado', 'Bag of Organic Bananas'})=>frozenset({'Organic Lemon'})\", \"frozenset({'Organic Lemon', 'Bag of Organic Bananas'})=>frozenset({'Organic Hass Avocado'})\", \"frozenset({'Organic Hass Avocado'})=>frozenset({'Organic Lemon', 'Bag of Organic Bananas'})\", \"frozenset({'Organic Lemon'})=>frozenset({'Organic Hass Avocado', 'Bag of Organic Bananas'})\", \"frozenset({'Organic Raspberries', 'Organic Hass Avocado'})=>frozenset({'Bag of Organic Bananas'})\", \"frozenset({'Organic Raspberries', 'Bag of Organic Bananas'})=>frozenset({'Organic Hass Avocado'})\", \"frozenset({'Organic Hass Avocado', 'Bag of Organic Bananas'})=>frozenset({'Organic Raspberries'})\", \"frozenset({'Organic Raspberries'})=>frozenset({'Organic Hass Avocado', 'Bag of Organic Bananas'})\", \"frozenset({'Organic Hass Avocado'})=>frozenset({'Organic Raspberries', 'Bag of Organic Bananas'})\", \"frozenset({'Bag of Organic Bananas'})=>frozenset({'Organic Raspberries', 'Organic Hass Avocado'})\", \"frozenset({'Organic Hass Avocado', 'Organic Strawberries'})=>frozenset({'Bag of Organic Bananas'})\", \"frozenset({'Organic Hass Avocado', 'Bag of Organic Bananas'})=>frozenset({'Organic Strawberries'})\", \"frozenset({'Organic Strawberries', 'Bag of Organic Bananas'})=>frozenset({'Organic Hass Avocado'})\", \"frozenset({'Organic Hass Avocado'})=>frozenset({'Organic Strawberries', 'Bag of Organic Bananas'})\", \"frozenset({'Organic Strawberries'})=>frozenset({'Organic Hass Avocado', 'Bag of Organic Bananas'})\", \"frozenset({'Bag of Organic Bananas'})=>frozenset({'Organic Hass Avocado', 'Organic Strawberries'})\", \"frozenset({'Organic Hass Avocado', 'Organic Yellow Onion'})=>frozenset({'Bag of Organic Bananas'})\", \"frozenset({'Organic Hass Avocado', 'Bag of Organic Bananas'})=>frozenset({'Organic Yellow Onion'})\", \"frozenset({'Organic Yellow Onion', 'Bag of Organic Bananas'})=>frozenset({'Organic Hass Avocado'})\", \"frozenset({'Organic Hass Avocado'})=>frozenset({'Organic Yellow Onion', 'Bag of Organic Bananas'})\", \"frozenset({'Organic Yellow Onion'})=>frozenset({'Organic Hass Avocado', 'Bag of Organic Bananas'})\", \"frozenset({'Organic Hass Avocado', 'Bag of Organic Bananas'})=>frozenset({'Organic Zucchini'})\", \"frozenset({'Organic Hass Avocado', 'Organic Zucchini'})=>frozenset({'Bag of Organic Bananas'})\", \"frozenset({'Organic Zucchini', 'Bag of Organic Bananas'})=>frozenset({'Organic Hass Avocado'})\", \"frozenset({'Organic Hass Avocado'})=>frozenset({'Organic Zucchini', 'Bag of Organic Bananas'})\", \"frozenset({'Organic Zucchini'})=>frozenset({'Organic Hass Avocado', 'Bag of Organic Bananas'})\", \"frozenset({'Organic Strawberries', 'Organic Kiwi'})=>frozenset({'Bag of Organic Bananas'})\", \"frozenset({'Organic Strawberries', 'Bag of Organic Bananas'})=>frozenset({'Organic Kiwi'})\", \"frozenset({'Organic Kiwi', 'Bag of Organic Bananas'})=>frozenset({'Organic Strawberries'})\", \"frozenset({'Organic Kiwi'})=>frozenset({'Organic Strawberries', 'Bag of Organic Bananas'})\", \"frozenset({'Organic Large Extra Fancy Fuji Apple', 'Organic Strawberries'})=>frozenset({'Bag of Organic Bananas'})\", \"frozenset({'Organic Large Extra Fancy Fuji Apple', 'Bag of Organic Bananas'})=>frozenset({'Organic Strawberries'})\", \"frozenset({'Organic Strawberries', 'Bag of Organic Bananas'})=>frozenset({'Organic Large Extra Fancy Fuji Apple'})\", \"frozenset({'Organic Large Extra Fancy Fuji Apple'})=>frozenset({'Organic Strawberries', 'Bag of Organic Bananas'})\", \"frozenset({'Organic Raspberries', 'Organic Lemon'})=>frozenset({'Bag of Organic Bananas'})\", \"frozenset({'Organic Raspberries', 'Bag of Organic Bananas'})=>frozenset({'Organic Lemon'})\", \"frozenset({'Organic Lemon', 'Bag of Organic Bananas'})=>frozenset({'Organic Raspberries'})\", \"frozenset({'Organic Raspberries'})=>frozenset({'Organic Lemon', 'Bag of Organic Bananas'})\", \"frozenset({'Organic Lemon'})=>frozenset({'Organic Raspberries', 'Bag of Organic Bananas'})\", \"frozenset({'Organic Strawberries', 'Organic Lemon'})=>frozenset({'Bag of Organic Bananas'})\", \"frozenset({'Organic Strawberries', 'Bag of Organic Bananas'})=>frozenset({'Organic Lemon'})\", \"frozenset({'Organic Lemon', 'Bag of Organic Bananas'})=>frozenset({'Organic Strawberries'})\", \"frozenset({'Organic Lemon'})=>frozenset({'Organic Strawberries', 'Bag of Organic Bananas'})\", \"frozenset({'Organic Raspberries', 'Organic Strawberries'})=>frozenset({'Bag of Organic Bananas'})\", \"frozenset({'Organic Raspberries', 'Bag of Organic Bananas'})=>frozenset({'Organic Strawberries'})\", \"frozenset({'Organic Strawberries', 'Bag of Organic Bananas'})=>frozenset({'Organic Raspberries'})\", \"frozenset({'Organic Raspberries'})=>frozenset({'Organic Strawberries', 'Bag of Organic Bananas'})\", \"frozenset({'Organic Strawberries'})=>frozenset({'Organic Raspberries', 'Bag of Organic Bananas'})\", \"frozenset({'Bag of Organic Bananas'})=>frozenset({'Organic Raspberries', 'Organic Strawberries'})\", \"frozenset({'Organic Strawberries', 'Organic Yellow Onion'})=>frozenset({'Bag of Organic Bananas'})\", \"frozenset({'Organic Strawberries', 'Bag of Organic Bananas'})=>frozenset({'Organic Yellow Onion'})\", \"frozenset({'Organic Yellow Onion', 'Bag of Organic Bananas'})=>frozenset({'Organic Strawberries'})\", \"frozenset({'Organic Yellow Onion'})=>frozenset({'Organic Strawberries', 'Bag of Organic Bananas'})\", \"frozenset({'Organic Zucchini', 'Organic Strawberries'})=>frozenset({'Bag of Organic Bananas'})\", \"frozenset({'Organic Zucchini', 'Bag of Organic Bananas'})=>frozenset({'Organic Strawberries'})\", \"frozenset({'Organic Strawberries', 'Bag of Organic Bananas'})=>frozenset({'Organic Zucchini'})\", \"frozenset({'Organic Zucchini'})=>frozenset({'Organic Strawberries', 'Bag of Organic Bananas'})\", \"frozenset({'Banana', 'Large Lemon'})=>frozenset({'Limes'})\", \"frozenset({'Banana', 'Limes'})=>frozenset({'Large Lemon'})\", \"frozenset({'Large Lemon', 'Limes'})=>frozenset({'Banana'})\", \"frozenset({'Large Lemon'})=>frozenset({'Banana', 'Limes'})\", \"frozenset({'Limes'})=>frozenset({'Banana', 'Large Lemon'})\", \"frozenset({'Banana', 'Large Lemon'})=>frozenset({'Organic Avocado'})\", \"frozenset({'Banana', 'Organic Avocado'})=>frozenset({'Large Lemon'})\", \"frozenset({'Organic Avocado', 'Large Lemon'})=>frozenset({'Banana'})\", \"frozenset({'Large Lemon'})=>frozenset({'Banana', 'Organic Avocado'})\", \"frozenset({'Organic Avocado'})=>frozenset({'Banana', 'Large Lemon'})\", \"frozenset({'Banana', 'Organic Avocado'})=>frozenset({'Limes'})\", \"frozenset({'Banana', 'Limes'})=>frozenset({'Organic Avocado'})\", \"frozenset({'Organic Avocado', 'Limes'})=>frozenset({'Banana'})\", \"frozenset({'Organic Avocado'})=>frozenset({'Banana', 'Limes'})\", \"frozenset({'Limes'})=>frozenset({'Banana', 'Organic Avocado'})\", \"frozenset({'Banana', 'Organic Strawberries'})=>frozenset({'Organic Avocado'})\", \"frozenset({'Banana', 'Organic Avocado'})=>frozenset({'Organic Strawberries'})\", \"frozenset({'Organic Strawberries', 'Organic Avocado'})=>frozenset({'Banana'})\", \"frozenset({'Organic Avocado'})=>frozenset({'Banana', 'Organic Strawberries'})\", \"frozenset({'Organic Avocado', 'Large Lemon'})=>frozenset({'Limes'})\", \"frozenset({'Large Lemon', 'Limes'})=>frozenset({'Organic Avocado'})\", \"frozenset({'Organic Avocado', 'Limes'})=>frozenset({'Large Lemon'})\", \"frozenset({'Large Lemon'})=>frozenset({'Organic Avocado', 'Limes'})\", \"frozenset({'Organic Avocado'})=>frozenset({'Large Lemon', 'Limes'})\", \"frozenset({'Limes'})=>frozenset({'Organic Avocado', 'Large Lemon'})\", \"frozenset({'Organic Baby Spinach', 'Large Lemon'})=>frozenset({'Limes'})\", \"frozenset({'Organic Baby Spinach', 'Limes'})=>frozenset({'Large Lemon'})\", \"frozenset({'Large Lemon', 'Limes'})=>frozenset({'Organic Baby Spinach'})\", \"frozenset({'Organic Baby Spinach'})=>frozenset({'Large Lemon', 'Limes'})\", \"frozenset({'Large Lemon'})=>frozenset({'Organic Baby Spinach', 'Limes'})\", \"frozenset({'Limes'})=>frozenset({'Organic Baby Spinach', 'Large Lemon'})\", \"frozenset({'Organic Strawberries', 'Large Lemon'})=>frozenset({'Limes'})\", \"frozenset({'Organic Strawberries', 'Limes'})=>frozenset({'Large Lemon'})\", \"frozenset({'Large Lemon', 'Limes'})=>frozenset({'Organic Strawberries'})\", \"frozenset({'Large Lemon'})=>frozenset({'Organic Strawberries', 'Limes'})\", \"frozenset({'Limes'})=>frozenset({'Organic Strawberries', 'Large Lemon'})\", \"frozenset({'Organic Strawberries', 'Organic Baby Spinach'})=>frozenset({'Limes'})\", \"frozenset({'Organic Strawberries', 'Limes'})=>frozenset({'Organic Baby Spinach'})\", \"frozenset({'Organic Baby Spinach', 'Limes'})=>frozenset({'Organic Strawberries'})\", \"frozenset({'Organic Baby Spinach'})=>frozenset({'Organic Strawberries', 'Limes'})\", \"frozenset({'Limes'})=>frozenset({'Organic Strawberries', 'Organic Baby Spinach'})\", \"frozenset({'Organic Cucumber', 'Organic Hass Avocado'})=>frozenset({'Organic Baby Spinach'})\", \"frozenset({'Organic Cucumber', 'Organic Baby Spinach'})=>frozenset({'Organic Hass Avocado'})\", \"frozenset({'Organic Hass Avocado', 'Organic Baby Spinach'})=>frozenset({'Organic Cucumber'})\", \"frozenset({'Organic Cucumber'})=>frozenset({'Organic Hass Avocado', 'Organic Baby Spinach'})\", \"frozenset({'Organic Hass Avocado'})=>frozenset({'Organic Cucumber', 'Organic Baby Spinach'})\", \"frozenset({'Organic Baby Spinach'})=>frozenset({'Organic Cucumber', 'Organic Hass Avocado'})\", \"frozenset({'Organic Cucumber', 'Organic Strawberries'})=>frozenset({'Organic Baby Spinach'})\", \"frozenset({'Organic Cucumber', 'Organic Baby Spinach'})=>frozenset({'Organic Strawberries'})\", \"frozenset({'Organic Strawberries', 'Organic Baby Spinach'})=>frozenset({'Organic Cucumber'})\", \"frozenset({'Organic Cucumber'})=>frozenset({'Organic Strawberries', 'Organic Baby Spinach'})\", \"frozenset({'Organic Baby Spinach'})=>frozenset({'Organic Cucumber', 'Organic Strawberries'})\", \"frozenset({'Organic Hass Avocado', 'Organic Strawberries'})=>frozenset({'Organic Baby Spinach'})\", \"frozenset({'Organic Hass Avocado', 'Organic Baby Spinach'})=>frozenset({'Organic Strawberries'})\", \"frozenset({'Organic Strawberries', 'Organic Baby Spinach'})=>frozenset({'Organic Hass Avocado'})\", \"frozenset({'Organic Hass Avocado'})=>frozenset({'Organic Strawberries', 'Organic Baby Spinach'})\", \"frozenset({'Organic Baby Spinach'})=>frozenset({'Organic Hass Avocado', 'Organic Strawberries'})\", \"frozenset({'Organic Raspberries', 'Organic Strawberries'})=>frozenset({'Organic Baby Spinach'})\", \"frozenset({'Organic Raspberries', 'Organic Baby Spinach'})=>frozenset({'Organic Strawberries'})\", \"frozenset({'Organic Strawberries', 'Organic Baby Spinach'})=>frozenset({'Organic Raspberries'})\", \"frozenset({'Organic Raspberries'})=>frozenset({'Organic Strawberries', 'Organic Baby Spinach'})\", \"frozenset({'Organic Baby Spinach'})=>frozenset({'Organic Raspberries', 'Organic Strawberries'})\", \"frozenset({'Organic Blueberries', 'Organic Raspberries'})=>frozenset({'Organic Strawberries'})\", \"frozenset({'Organic Blueberries', 'Organic Strawberries'})=>frozenset({'Organic Raspberries'})\", \"frozenset({'Organic Raspberries', 'Organic Strawberries'})=>frozenset({'Organic Blueberries'})\", \"frozenset({'Organic Blueberries'})=>frozenset({'Organic Raspberries', 'Organic Strawberries'})\", \"frozenset({'Organic Raspberries'})=>frozenset({'Organic Blueberries', 'Organic Strawberries'})\", \"frozenset({'Organic Cucumber', 'Organic Hass Avocado'})=>frozenset({'Organic Strawberries'})\", \"frozenset({'Organic Cucumber', 'Organic Strawberries'})=>frozenset({'Organic Hass Avocado'})\", \"frozenset({'Organic Hass Avocado', 'Organic Strawberries'})=>frozenset({'Organic Cucumber'})\", \"frozenset({'Organic Cucumber'})=>frozenset({'Organic Hass Avocado', 'Organic Strawberries'})\", \"frozenset({'Organic Hass Avocado'})=>frozenset({'Organic Cucumber', 'Organic Strawberries'})\", \"frozenset({'Organic Strawberries'})=>frozenset({'Organic Cucumber', 'Organic Hass Avocado'})\", \"frozenset({'Organic Raspberries', 'Organic Cucumber'})=>frozenset({'Organic Strawberries'})\", \"frozenset({'Organic Raspberries', 'Organic Strawberries'})=>frozenset({'Organic Cucumber'})\", \"frozenset({'Organic Cucumber', 'Organic Strawberries'})=>frozenset({'Organic Raspberries'})\", \"frozenset({'Organic Raspberries'})=>frozenset({'Organic Cucumber', 'Organic Strawberries'})\", \"frozenset({'Organic Cucumber'})=>frozenset({'Organic Raspberries', 'Organic Strawberries'})\", \"frozenset({'Organic Hass Avocado', 'Organic Strawberries'})=>frozenset({'Organic Lemon'})\", \"frozenset({'Organic Hass Avocado', 'Organic Lemon'})=>frozenset({'Organic Strawberries'})\", \"frozenset({'Organic Strawberries', 'Organic Lemon'})=>frozenset({'Organic Hass Avocado'})\", \"frozenset({'Organic Hass Avocado'})=>frozenset({'Organic Strawberries', 'Organic Lemon'})\", \"frozenset({'Organic Lemon'})=>frozenset({'Organic Hass Avocado', 'Organic Strawberries'})\", \"frozenset({'Organic Raspberries', 'Organic Hass Avocado'})=>frozenset({'Organic Strawberries'})\", \"frozenset({'Organic Raspberries', 'Organic Strawberries'})=>frozenset({'Organic Hass Avocado'})\", \"frozenset({'Organic Hass Avocado', 'Organic Strawberries'})=>frozenset({'Organic Raspberries'})\", \"frozenset({'Organic Raspberries'})=>frozenset({'Organic Hass Avocado', 'Organic Strawberries'})\", \"frozenset({'Organic Hass Avocado'})=>frozenset({'Organic Raspberries', 'Organic Strawberries'})\", \"frozenset({'Organic Strawberries'})=>frozenset({'Organic Raspberries', 'Organic Hass Avocado'})\"], \"legendgroup\": \"\", \"marker\": {\"color\": [1.259576612903226, 1.7804580152671756, 2.1517775827523966, 2.151777582752397, 1.5730112043215034, 1.2255632183908047, 1.2255632183908045, 1.003800519095291, 1.003800519095291, 1.3340049076585303, 1.33400490765853, 1.456062291434928, 1.4560622914349277, 1.5593103448275862, 1.5593103448275862, 1.7119028843166775, 1.7119028843166775, 1.3898776418242493, 1.3898776418242493, 1.1007804123968385, 1.1007804123968385, 1.3557115247685894, 1.3557115247685894, 2.0120772946859904, 2.0120772946859904, 1.177101104620104, 1.1771011046201039, 1.9149425287356323, 1.9149425287356323, 1.2681492537313432, 1.1651779141104295, 1.309592039800995, 1.309592039800995, 1.4183513513513515, 0.9343703703703705, 0.9471675126903553, 0.8685662921348315, 0.8685662921348315, 1.059483870967742, 1.059483870967742, 1.2638620689655173, 0.8663200000000001, 0.8663200000000001, 1.4956136363636363, 1.4956136363636363, 1.4238061674008813, 1.4238061674008813, 1.4477920997920999, 1.4477920997920999, 1.6660000000000001, 0.9769214659685864, 1.343377777777778, 1.3433777777777778, 1.972544, 1.6434864864864867, 1.3838548387096776, 1.3838548387096774, 1.6033010752688175, 1.6033010752688175, 1.586666666666667, 1.5866666666666667, 1.4495141242937855, 1.4495141242937857, 1.562216393442623, 1.562216393442623, 1.3793763440860216, 1.3793763440860218, 1.6305531914893618, 1.5754565217391305, 1.5754565217391305, 1.246, 1.246, 1.2097070063694269, 1.958724511930586, 1.958724511930586, 1.3826666666666667, 1.8207650273224047, 1.8207650273224047, 1.6802393162393163, 1.6584615384615384, 1.6584615384615384, 1.8318787878787877, 1.8318787878787879, 2.1658000000000004, 2.1658000000000004, 1.2060613496932515, 1.6807433628318584, 1.6807433628318587, 1.3827800000000001, 1.3827800000000001, 1.4366231884057972, 1.4366231884057972, 1.5192538860103628, 1.519253886010363, 1.3544715447154472, 1.4986506746626689, 1.4986506746626689, 1.46608, 1.46608, 1.6660000000000001, 1.2804192139737993, 1.2804192139737993, 1.6217699115044248, 1.6189378531073448, 1.6189378531073448, 1.6100939597315436, 1.6100939597315436, 1.37445, 1.3744500000000002, 1.254179775280899, 1.1416414342629484, 1.1416414342629484, 0.5441948424068769, 1.1856196319018404, 1.404618768328446, 1.3285086663456909, 0.9525156475686087, 1.1907108721624853, 1.3640085148190602, 1.3640085148190602, 1.3737404856832187, 1.3737404856832187, 1.1144640998959419, 1.1144640998959419, 1.5258870967741935, 1.5258870967741935, 1.0357751882904649, 0.8449550667292604, 0.8449550667292604, 1.0903141361256543, 0.9810035842293908, 0.9810035842293907, 0.7855424037460979, 0.8577761879986125, 0.8577761879986125, 1.3346507156590472, 0.986786950975032, 0.792913802221047, 0.9390391952826918, 1.030241935483871, 0.47359352039745295, 0.7751240694789082, 1.215787650900455, 0.7356819155009993, 0.7356819155009992, 0.890100806451613, 0.7423591631603553, 0.8913345746481599, 0.8913345746481598, 0.8733064516129033, 1.041396675588111, 0.8002679151331458, 0.955178931451613, 0.9551789314516129, 1.541776837652036, 1.541776837652036, 1.3645413306451613, 1.2177580002570365, 1.2177580002570365, 1.1582313681868746, 1.520634993992051, 1.5206349939920507, 1.5423387096774193, 1.5423387096774195, 1.769805924412666, 1.7698059244126658, 1.5743715743715745, 1.5743715743715745, 2.778013582342954, 2.7780135823429544, 1.5937143368614202, 1.1722574295674248, 1.5250255996524653, 1.5250255996524655, 1.7713448884609215, 1.7713448884609215, 1.4024023051769352, 1.4024023051769354, 1.5678576145819576, 1.5678576145819578, 1.5657544362147287, 1.5657544362147289, 2.020335820895522, 2.0203358208955224, 1.9307327077597347, 1.9307327077597347, 1.7467381174277727, 1.746738117427773, 1.5393855393855396, 1.5393855393855396, 1.0109945027486258, 1.3693254895394942, 1.3693254895394942, 2.6048387096774195, 2.6048387096774195, 2.122073214932947, 2.122073214932947, 1.877258426966292, 1.8772584269662922, 1.4843340098005247, 1.4843340098005247, 1.3543133453245813, 1.3543133453245813, 1.1231460674157303, 1.1231460674157303, 1.426576658209496, 1.4265766582094963, 1.3284523378035522, 1.328452337803552, 1.4177417572296924, 1.4177417572296924, 1.415730337078652, 1.4157303370786518, 0.7918057959004606, 0.7918057959004606, 0.9069652978025255, 0.9069652978025257, 1.5260136785539813, 1.5260136785539813, 1.0608426124016646, 1.0608426124016643, 1.3978018742946863, 1.3978018742946865, 1.149528693160395, 1.149528693160395, 1.4214817415730336, 1.4214817415730334, 1.454272796454631, 1.454272796454631, 1.3516371011879846, 1.3516371011879846, 1.8623595505617976, 1.8623595505617978, 1.7438709677419357, 1.7438709677419357, 1.6685300586510263, 1.668530058651026, 1.3886392596070014, 1.3886392596070016, 0.9139784946236561, 0.9139784946236561, 2.252146201873049, 2.252146201873049, 1.439516129032258, 1.439516129032258, 1.566948704389212, 1.566948704389212, 1.2365474774333496, 1.2365474774333496, 1.3709677419354838, 1.3709677419354838, 1.0318655438195832, 1.0318655438195832, 1.439516129032258, 1.4395161290322582, 1.940217391304348, 1.9402173913043477, 1.2690187164482276, 1.2690187164482276, 1.4970967741935484, 1.4970967741935486, 1.391210218662048, 1.391210218662048, 1.4215221774193547, 1.4215221774193547, 1.7620306716023268, 1.7620306716023268, 1.1929057961701581, 1.1929057961701581, 0.8249376097606064, 0.8249376097606064, 2.22149258011327, 2.22149258011327, 1.3177790415137258, 1.761409691629956, 1.761409691629956, 1.4844074844074844, 1.4844074844074844, 1.2013333333333334, 1.2013333333333334, 1.4395161290322582, 1.439516129032258, 1.2283870967741937, 1.2283870967741937, 1.2641311475409835, 1.2641311475409838, 1.9500000000000002, 1.95, 0.96358407079646, 0.9635840707964601, 1.2934782608695652, 1.2934782608695652, 1.2952623688155924, 1.2952623688155922, 1.6213100436681223, 1.6213100436681225, 1.2718125, 1.2718125, 1.5360956175298808, 1.5360956175298808, 1.0229226361031518, 1.0229226361031518, 1.9482848232848233, 1.9482848232848233, 1.192108491208941, 1.6936631650288037, 1.6936631650288037, 1.7460210316896405, 1.7460210316896407, 1.3372958613242616, 1.3372958613242616, 1.3152118825776775, 1.3152118825776775, 1.7000112278662431, 1.7000112278662434, 1.2205128205128206, 1.2205128205128204, 1.634045335658239, 1.634045335658239, 1.801639729059084, 1.8016397290590842, 1.6493416493416495, 1.6493416493416495, 1.6731033510694528, 1.6731033510694528, 1.550110766504209, 1.550110766504209, 2.1787271142109854, 2.1787271142109854, 1.879196708983943, 1.879196708983943, 1.6094526801048543, 1.609452680104854, 1.8773388773388775, 1.8773388773388775, 1.5327070771756237, 1.532707077175624, 1.8024948024948024, 1.8024948024948024, 1.5045578122501202, 1.50455781225012, 1.6193536193536193, 1.6193536193536193, 1.4137996062774825, 1.4137996062774825, 1.5326507276507277, 1.5326507276507275, 1.8071047636265025, 1.8071047636265027, 1.5074811758749584, 1.5074811758749584, 1.4877457321235434, 1.4877457321235434, 1.6885135135135136, 1.6885135135135132, 1.5200591925482756, 1.5200591925482756, 1.6213913965591815, 1.6213913965591817, 1.9320491164241163, 1.9320491164241163, 1.5761405311967112, 1.576140531196711, 1.15913891212696, 1.15913891212696, 0.7741036165104932, 0.7741036165104932, 1.6651674162918544, 1.2357983312008918, 1.2155913978494626, 1.2155913978494626, 1.3250903832248737, 1.3250903832248735, 1.7551622418879058, 1.7551622418879058, 1.6651674162918544, 1.6651674162918544, 1.331096196868009, 1.331096196868009, 1.4131250000000002, 1.4131250000000002, 1.6185427286356824, 2.0511227062203203, 2.0511227062203203, 1.2657522590056325, 1.7336108220603539, 1.7336108220603543, 2.213551031200423, 2.2135510312004234, 1.3770642362325942, 1.377064236232594, 1.2261365258349985, 1.2261365258349985, 2.519153225806452, 2.5191532258064515, 1.253911350776225, 1.253911350776225, 1.9612199610305259, 1.961219961030526, 1.7319178427419355, 1.7319178427419355, 1.9193548387096777, 1.9193548387096777, 1.563802221047065, 1.563802221047065, 1.8058446063128688, 1.8058446063128688, 2.145161290322581, 2.145161290322581, 1.9235182982296553, 1.9235182982296553, 1.5502481389578162, 1.5502481389578164, 1.744868035190616, 1.7448680351906158, 1.5605373965172713, 1.560537396517271, 1.981733870967742, 1.981733870967742, 1.7524544179523143, 1.7524544179523143, 2.018803275948521, 2.018803275948521, 1.702096532378972, 1.702096532378972, 1.5254261163544163, 1.5254261163544163, 1.9356205576817935, 1.9356205576817933, 1.7583351374756442, 1.7583351374756442, 1.742414314516129, 1.7424143145161293, 1.950349481802844, 1.9503494818028444, 1.6674041297935105, 1.6674041297935107, 1.883225054139597, 1.8832250541395972, 1.4393820039132978, 1.4393820039132976, 1.5995874968884465, 1.5995874968884463, 2.3764530551415795, 2.3764530551415795, 1.5045480922675178, 1.5045480922675178, 2.089327868852459, 2.0893278688524584, 2.078047042052744, 2.078047042052744, 1.3635264335045594, 1.3635264335045594, 2.8319617119595115, 2.8319617119595115, 1.5362704918032786, 1.5362704918032786, 1.544643481911693, 1.544643481911693, 1.545675135598059, 1.5456751355980591, 1.4704502587415973, 1.4704502587415973, 1.3285910236371177, 1.8929997114274724, 1.8929997114274724, 1.6289681246333358, 1.6289681246333356, 1.3665943600867683, 1.3665943600867683, 1.3705752212389382, 1.3705752212389382, 1.5112443778110944, 1.5112443778110947, 1.8046875, 1.8046875, 2.1031613385014762, 2.103161338501476, 1.667945936926414, 1.667945936926414, 2.53441135870637, 2.5344113587063695, 1.7509742191849194, 1.7509742191849196, 1.5720390455531454, 1.5720390455531452, 1.3944874092238047, 1.3944874092238044, 1.5447944882155262, 1.5447944882155262, 1.5360356698006745, 1.5360356698006747, 1.5720390455531454, 1.5720390455531452, 1.561932423986176, 1.5619324239861758, 1.8190685553727672, 1.8190685553727672, 1.456846529284165, 1.4568465292841648, 1.5547226386806596, 1.7220731176555928, 1.7220731176555928, 1.6173962199228256, 1.6173962199228256, 1.801225323349217, 1.8012253233492173, 1.5766347595433052, 1.5766347595433055, 2.010458567980692, 2.0104585679806917, 1.6381354777156878, 1.6381354777156876, 2.141854789505796, 2.141854789505796, 1.6592203898050975, 1.2412137489537443, 1.5204092920353982, 1.5204092920353982, 1.4222537514428626, 1.4222537514428626, 1.5182608097574397, 1.51826080975744, 1.7158223985352457, 1.7158223985352459, 1.4651216814159291, 1.4651216814159294, 1.3037253159176105, 1.3037253159176103, 1.428572489160777, 1.428572489160777, 1.2785259955752213, 1.2785259955752213, 1.2775623171032684, 1.2775623171032684, 1.5361169415292355, 1.5361169415292357, 2.431912751677852, 2.431912751677852, 1.3981976403102798, 1.3981976403102798, 2.157243945141523, 2.157243945141523, 1.9523437499999998, 1.9523437499999998, 1.3394675719135252, 1.3394675719135252, 1.4799175412293852, 1.4799175412293852, 1.390669294173874, 1.390669294173874, 1.5452189159657461, 1.5452189159657463, 1.3955555779157403, 1.3955555779157403, 1.2644865067466269, 1.2644865067466267, 1.494440981756313, 1.494440981756313, 1.323808095952024, 1.0441418634944823, 1.2687779616168013, 1.2687779616168016, 1.3331555081355027, 1.7392057860262007, 1.739205786026201, 1.5199454697986576, 1.5199454697986576, 1.768718820991107, 1.768718820991107, 1.8174545454545459, 1.147363409117962, 2.121192115439027, 2.121192115439027, 1.1473634091179623, 1.2920000000000003, 1.094032258064516, 1.547519718401669, 1.0940322580645163, 1.908193832599119, 2.008500904187082, 1.6821747572815535, 1.908193832599119, 1.7822325581395349, 2.002706187063729, 2.2178191078870197, 2.2178191078870197, 2.002706187063729, 2.1315, 1.667904350561177, 2.2565153763920747, 2.2565153763920747, 1.6679043505611768, 2.1315000000000004, 1.896260162601626, 1.595086989823832, 1.8517381547190586, 1.8517381547190586, 1.595086989823832, 1.7701250000000002, 2.2094341585188264, 2.2266112266112263, 2.2266112266112263, 2.2094341585188264, 1.7270575916230366, 1.7144906444906443, 1.774717904205792, 1.7747179042057917, 1.7144906444906445, 1.7270575916230366, 1.827225806451613, 2.046321569634886, 1.8400467775467775, 1.8400467775467775, 2.046321569634886, 1.4840000000000002, 2.086042336042336, 1.980367822966507, 1.9803678229665072, 2.086042336042336, 1.86592, 2.4378788934569022, 1.9485380116959063, 1.9485380116959063, 2.4378788934569022, 1.7374000000000003, 2.153572819889268, 1.9304444444444446, 1.9304444444444446, 2.1535728198892685, 2.145606060606061, 2.574134441764927, 2.107040828472801, 2.107040828472801, 2.5741344417649272, 2.145606060606061, 2.0309333333333335, 1.8856819468024901, 1.9767637316458202, 1.9767637316458202, 1.8856819468024901, 1.8335857988165678, 1.946571407033913, 2.0825, 2.0825, 1.9465714070339133, 1.833585798816568, 1.9992000000000005, 2.047024558955145, 1.6326417034662148, 1.6326417034662148, 2.047024558955145, 1.590954954954955, 1.3886098908587665, 1.4475081967213115, 1.4475081967213115, 2.038019417475728, 3.6944900736847046, 3.5846311475409833, 3.5846311475409833, 3.6944900736847046, 2.0979259259259257, 2.714525327071452, 2.902488598903445, 2.902488598903445, 2.714525327071452, 2.305013698630137, 2.4013300605091907, 2.060534565522646, 2.0605345655226466, 2.4013300605091903, 2.305013698630137, 2.115555555555556, 1.659022887080445, 2.1683297180043386, 2.1683297180043386, 1.659022887080445, 2.115555555555556, 2.2324400000000004, 2.073268283018401, 2.5221890817064354, 2.522189081706436, 2.073268283018401, 1.7290129151291511, 2.324651162790698, 2.464011043186748, 2.4640110431867486, 1.7290129151291511, 2.1932151898734182, 2.366994535519126, 1.9482458770614695, 2.3669945355191255, 2.0063655913978495, 1.907373585934306, 2.1107692307692307, 2.1107692307692307, 2.300666666666667, 2.7519936204146727, 2.5249459967946484, 2.524945996794649, 2.7519936204146727, 1.9464158415841584, 2.1275757575757575, 1.7405588544310524, 2.127575757575758, 1.7706280193236716, 1.807583050579973, 2.027212389380531, 2.027212389380531, 1.8075830505799733, 1.7706280193236716, 1.6209729729729732, 1.5094630872483223, 1.4049850074962522, 1.5094630872483223, 1.7894074074074073, 1.6462450592885376, 1.5098125, 1.5098125, 1.8982630272952854, 2.3398876404494384, 1.2288552321007082, 2.339887640449438, 1.8982630272952854, 2.0792307692307688, 1.8719101123595507, 1.5215398400882272, 1.8719101123595507, 2.079230769230769, 1.8831405964698722, 2.578333333333333, 1.6477480219111382, 2.5783333333333336, 1.8831405964698722, 2.178305084745763, 1.2724392520720773, 1.4990002665955746, 2.1783050847457632, 2.706782464846981, 2.394512195121951, 2.913822344710621, 2.913822344710621, 2.394512195121951, 2.706782464846981, 2.5315628476084537, 2.468984889577683, 1.615650829065463, 1.615650829065463, 2.468984889577683, 2.5315628476084537, 2.4220430107526885, 2.0247191011235954, 1.2108000877609975, 2.0247191011235954, 2.4220430107526885, 1.5374936666103696, 1.8024948024948024, 1.6472238018921574, 1.8024948024948024, 1.5374936666103696, 2.1647609147609144, 2.31120415678757, 2.716733870967742, 2.716733870967742, 2.31120415678757, 2.164760914760915, 1.9982408443946904, 1.8878351521913463, 2.2861425434892753, 2.2861425434892757, 1.9982408443946906, 1.731808731808732, 1.735569715142429, 1.7880205789826353, 1.7880205789826351, 1.731808731808732, 1.6314140227183707, 1.9799246718104364, 1.881515544641616, 1.881515544641616, 1.6314140227183707, 2.1355772113943035, 2.250995575221239, 2.184541062801933, 2.184541062801933, 2.2509955752212387, 1.9016968788333108, 2.14908418796288, 2.3814217443249706, 2.3814217443249706, 2.14908418796288, 1.9016968788333108, 2.0695652173913044, 1.8822658563191526, 1.8974446248101795, 1.8974446248101797, 1.8822658563191523, 3.0336700336700337, 1.8386223554889223, 2.8445909666888602, 2.8445909666888602, 3.0336700336700337, 1.8476515167073997, 1.8855041026124686, 2.106194690265487, 2.106194690265487, 1.8855041026124684, 1.8476515167073997], \"coloraxis\": \"coloraxis\", \"symbol\": \"circle\"}, \"mode\": \"markers\", \"name\": \"\", \"orientation\": \"v\", \"showlegend\": false, \"type\": \"scatter\", \"x\": [0.025210084033613446, 0.028011204481792718, 0.020808323329331732, 0.020808323329331732, 0.022008803521408563, 0.03841536614645858, 0.03841536614645858, 0.031212484993997598, 0.031212484993997598, 0.024809923969587835, 0.024809923969587835, 0.026410564225690276, 0.026410564225690276, 0.022809123649459785, 0.022809123649459785, 0.03441376550620248, 0.03441376550620248, 0.021608643457382955, 0.021608643457382955, 0.021208483393357343, 0.021208483393357343, 0.025610244097639057, 0.025610244097639057, 0.023209283713485393, 0.023209283713485393, 0.03281312525010004, 0.03281312525010004, 0.025610244097639057, 0.025610244097639057, 0.02040816326530612, 0.022809123649459785, 0.031612645058023206, 0.031612645058023206, 0.025210084033613446, 0.021208483393357343, 0.022408963585434174, 0.046418567426970786, 0.046418567426970786, 0.055222088835534214, 0.055222088835534214, 0.022008803521408563, 0.036414565826330535, 0.036414565826330535, 0.031612645058023206, 0.031612645058023206, 0.038815526210484196, 0.038815526210484196, 0.08363345338135254, 0.08363345338135254, 0.028811524609843937, 0.022408963585434174, 0.0508203281312525, 0.0508203281312525, 0.029611844737895156, 0.02921168467386955, 0.041216486594637856, 0.041216486594637856, 0.07162865146058424, 0.07162865146058424, 0.03601440576230492, 0.03601440576230492, 0.03081232492997199, 0.03081232492997199, 0.05722288915566227, 0.05722288915566227, 0.03081232492997199, 0.03081232492997199, 0.027611044417767107, 0.03481392557022809, 0.03481392557022809, 0.03561424569827931, 0.03561424569827931, 0.022809123649459785, 0.10844337735094038, 0.10844337735094038, 0.024409763905562223, 0.040016006402561026, 0.040016006402561026, 0.023609443777511004, 0.044017607042817125, 0.044017607042817125, 0.0508203281312525, 0.0508203281312525, 0.036414565826330535, 0.036414565826330535, 0.023609443777511004, 0.09123649459783914, 0.09123649459783914, 0.03321328531412565, 0.03321328531412565, 0.047619047619047616, 0.047619047619047616, 0.035214085634253704, 0.035214085634253704, 0.020008003201280513, 0.12004801920768307, 0.12004801920768307, 0.035214085634253704, 0.035214085634253704, 0.022809123649459785, 0.035214085634253704, 0.035214085634253704, 0.022008803521408563, 0.03441376550620248, 0.03441376550620248, 0.057623049219687875, 0.057623049219687875, 0.05282112845138055, 0.05282112845138055, 0.026810724289715888, 0.03441376550620248, 0.03441376550620248, 0.022809123649459785, 0.023209283713485393, 0.027611044417767107, 0.021208483393357343, 0.022809123649459785, 0.026810724289715888, 0.03201280512204882, 0.03201280512204882, 0.07282913165266107, 0.07282913165266107, 0.057623049219687875, 0.057623049219687875, 0.06362545018007203, 0.06362545018007203, 0.028011204481792718, 0.04841936774709884, 0.04841936774709884, 0.024809923969587835, 0.03681472589035614, 0.03681472589035614, 0.023209283713485393, 0.03801520608243297, 0.03801520608243297, 0.024009603841536616, 0.020808323329331732, 0.028811524609843937, 0.020808323329331732, 0.02921168467386955, 0.026010404161664665, 0.02040816326530612, 0.023609443777511004, 0.03961584633853541, 0.03961584633853541, 0.021208483393357343, 0.024409763905562223, 0.07082833133253301, 0.07082833133253301, 0.020808323329331732, 0.028411364545818326, 0.028411364545818326, 0.036414565826330535, 0.036414565826330535, 0.03361344537815126, 0.03361344537815126, 0.020808323329331732, 0.036414565826330535, 0.036414565826330535, 0.020008003201280513, 0.06322529011604641, 0.06322529011604641, 0.03601440576230492, 0.03601440576230492, 0.020808323329331732, 0.020808323329331732, 0.020008003201280513, 0.020008003201280513, 0.022008803521408563, 0.022008803521408563, 0.022809123649459785, 0.02040816326530612, 0.023609443777511004, 0.023609443777511004, 0.021208483393357343, 0.021208483393357343, 0.020808323329331732, 0.020808323329331732, 0.022809123649459785, 0.022809123649459785, 0.03361344537815126, 0.03361344537815126, 0.020808323329331732, 0.020808323329331732, 0.022008803521408563, 0.022008803521408563, 0.027611044417767107, 0.027611044417767107, 0.022408963585434174, 0.022408963585434174, 0.02040816326530612, 0.028811524609843937, 0.028811524609843937, 0.022809123649459785, 0.022809123649459785, 0.06562625050020009, 0.06562625050020009, 0.0468187274909964, 0.0468187274909964, 0.024009603841536616, 0.024009603841536616, 0.046418567426970786, 0.046418567426970786, 0.025210084033613446, 0.025210084033613446, 0.025210084033613446, 0.025210084033613446, 0.035214085634253704, 0.035214085634253704, 0.03081232492997199, 0.03081232492997199, 0.024009603841536616, 0.024009603841536616, 0.026010404161664665, 0.026010404161664665, 0.02921168467386955, 0.02921168467386955, 0.030012004801920768, 0.030012004801920768, 0.05042016806722689, 0.05042016806722689, 0.022809123649459785, 0.022809123649459785, 0.024409763905562223, 0.024409763905562223, 0.03241296518607443, 0.03241296518607443, 0.026010404161664665, 0.026010404161664665, 0.03361344537815126, 0.03361344537815126, 0.026010404161664665, 0.026010404161664665, 0.04241696678671469, 0.04241696678671469, 0.02040816326530612, 0.02040816326530612, 0.046418567426970786, 0.046418567426970786, 0.020008003201280513, 0.020008003201280513, 0.038815526210484196, 0.038815526210484196, 0.03721488595438175, 0.03721488595438175, 0.03321328531412565, 0.03321328531412565, 0.03961584633853541, 0.03961584633853541, 0.022008803521408563, 0.022008803521408563, 0.03241296518607443, 0.03241296518607443, 0.020008003201280513, 0.020008003201280513, 0.03721488595438175, 0.03721488595438175, 0.058823529411764705, 0.058823529411764705, 0.020808323329331732, 0.020808323329331732, 0.028811524609843937, 0.028811524609843937, 0.031612645058023206, 0.031612645058023206, 0.022408963585434174, 0.022408963585434174, 0.020808323329331732, 0.020808323329331732, 0.020008003201280513, 0.020008003201280513, 0.024809923969587835, 0.024809923969587835, 0.02040816326530612, 0.022408963585434174, 0.022408963585434174, 0.040016006402561026, 0.040016006402561026, 0.021208483393357343, 0.021208483393357343, 0.020008003201280513, 0.020008003201280513, 0.025610244097639057, 0.025610244097639057, 0.021608643457382955, 0.021608643457382955, 0.026010404161664665, 0.026010404161664665, 0.024409763905562223, 0.024409763905562223, 0.020008003201280513, 0.020008003201280513, 0.04841936774709884, 0.04841936774709884, 0.020808323329331732, 0.020808323329331732, 0.022809123649459785, 0.022809123649459785, 0.021608643457382955, 0.021608643457382955, 0.020008003201280513, 0.020008003201280513, 0.026410564225690276, 0.026410564225690276, 0.022408963585434174, 0.029611844737895156, 0.029611844737895156, 0.023609443777511004, 0.023609443777511004, 0.022408963585434174, 0.022408963585434174, 0.021608643457382955, 0.021608643457382955, 0.041216486594637856, 0.041216486594637856, 0.029611844737895156, 0.029611844737895156, 0.031212484993997598, 0.031212484993997598, 0.05162064825930372, 0.05162064825930372, 0.024009603841536616, 0.024009603841536616, 0.022809123649459785, 0.022809123649459785, 0.036414565826330535, 0.036414565826330535, 0.031212484993997598, 0.031212484993997598, 0.02040816326530612, 0.02040816326530612, 0.022809123649459785, 0.022809123649459785, 0.03441376550620248, 0.03441376550620248, 0.05442176870748299, 0.05442176870748299, 0.02040816326530612, 0.02040816326530612, 0.025610244097639057, 0.025610244097639057, 0.028811524609843937, 0.028811524609843937, 0.04921968787515006, 0.04921968787515006, 0.023609443777511004, 0.023609443777511004, 0.03841536614645858, 0.03841536614645858, 0.022408963585434174, 0.022408963585434174, 0.07643057222889156, 0.07643057222889156, 0.026010404161664665, 0.026010404161664665, 0.026810724289715888, 0.026810724289715888, 0.03721488595438175, 0.03721488595438175, 0.047619047619047616, 0.047619047619047616, 0.021608643457382955, 0.021608643457382955, 0.022408963585434174, 0.022408963585434174, 0.020808323329331732, 0.020808323329331732, 0.025610244097639057, 0.025210084033613446, 0.022809123649459785, 0.022809123649459785, 0.03081232492997199, 0.03081232492997199, 0.040016006402561026, 0.040016006402561026, 0.056022408963585436, 0.056022408963585436, 0.020008003201280513, 0.020008003201280513, 0.022809123649459785, 0.022809123649459785, 0.021608643457382955, 0.022408963585434174, 0.022408963585434174, 0.020008003201280513, 0.025610244097639057, 0.025610244097639057, 0.026810724289715888, 0.026810724289715888, 0.025210084033613446, 0.025210084033613446, 0.022008803521408563, 0.022008803521408563, 0.027611044417767107, 0.027611044417767107, 0.03321328531412565, 0.03321328531412565, 0.023209283713485393, 0.023209283713485393, 0.022008803521408563, 0.022008803521408563, 0.021608643457382955, 0.021608643457382955, 0.028411364545818326, 0.028411364545818326, 0.020008003201280513, 0.020008003201280513, 0.03041216486594638, 0.03041216486594638, 0.05282112845138055, 0.05282112845138055, 0.02040816326530612, 0.02040816326530612, 0.024009603841536616, 0.024009603841536616, 0.04201680672268908, 0.04201680672268908, 0.023609443777511004, 0.023609443777511004, 0.028811524609843937, 0.028811524609843937, 0.023209283713485393, 0.023209283713485393, 0.06762705082032813, 0.06762705082032813, 0.020808323329331732, 0.020808323329331732, 0.02040816326530612, 0.02040816326530612, 0.031212484993997598, 0.031212484993997598, 0.03321328531412565, 0.03321328531412565, 0.027210884353741496, 0.027210884353741496, 0.022809123649459785, 0.022809123649459785, 0.03801520608243297, 0.03801520608243297, 0.027210884353741496, 0.027210884353741496, 0.03601440576230492, 0.03601440576230492, 0.026810724289715888, 0.026810724289715888, 0.03321328531412565, 0.03321328531412565, 0.02040816326530612, 0.02040816326530612, 0.028011204481792718, 0.028011204481792718, 0.04441776710684274, 0.04441776710684274, 0.041216486594637856, 0.041216486594637856, 0.024009603841536616, 0.024009603841536616, 0.021208483393357343, 0.021208483393357343, 0.020808323329331732, 0.020808323329331732, 0.02921168467386955, 0.02921168467386955, 0.020008003201280513, 0.025210084033613446, 0.025210084033613446, 0.03201280512204882, 0.03201280512204882, 0.024009603841536616, 0.024009603841536616, 0.023609443777511004, 0.023609443777511004, 0.03841536614645858, 0.03841536614645858, 0.022008803521408563, 0.022008803521408563, 0.028411364545818326, 0.028411364545818326, 0.027210884353741496, 0.027210884353741496, 0.04321728691476591, 0.04321728691476591, 0.0584233693477391, 0.0584233693477391, 0.023209283713485393, 0.023209283713485393, 0.028411364545818326, 0.028411364545818326, 0.022008803521408563, 0.022008803521408563, 0.07563025210084033, 0.07563025210084033, 0.023209283713485393, 0.023209283713485393, 0.02040816326530612, 0.02040816326530612, 0.040016006402561026, 0.040016006402561026, 0.03441376550620248, 0.03441376550620248, 0.024409763905562223, 0.022809123649459785, 0.022809123649459785, 0.031612645058023206, 0.031612645058023206, 0.028811524609843937, 0.028811524609843937, 0.03721488595438175, 0.03721488595438175, 0.03361344537815126, 0.03361344537815126, 0.040416166466586634, 0.040416166466586634, 0.023609443777511004, 0.023609443777511004, 0.024809923969587835, 0.021608643457382955, 0.022008803521408563, 0.022008803521408563, 0.028411364545818326, 0.028411364545818326, 0.021208483393357343, 0.021208483393357343, 0.08283313325330131, 0.08283313325330131, 0.021208483393357343, 0.021208483393357343, 0.021608643457382955, 0.021608643457382955, 0.03081232492997199, 0.03081232492997199, 0.029611844737895156, 0.029611844737895156, 0.023209283713485393, 0.023209283713485393, 0.03281312525010004, 0.03281312525010004, 0.023209283713485393, 0.023209283713485393, 0.041216486594637856, 0.041216486594637856, 0.028411364545818326, 0.028411364545818326, 0.027611044417767107, 0.027611044417767107, 0.027611044417767107, 0.027611044417767107, 0.031612645058023206, 0.031612645058023206, 0.034013605442176874, 0.034013605442176874, 0.02921168467386955, 0.02921168467386955, 0.04441776710684274, 0.04441776710684274, 0.04321728691476591, 0.04321728691476591, 0.028411364545818326, 0.028411364545818326, 0.021208483393357343, 0.02040816326530612, 0.034013605442176874, 0.034013605442176874, 0.023209283713485393, 0.02040816326530612, 0.02040816326530612, 0.023209283713485393, 0.023209283713485393, 0.024809923969587835, 0.024809923969587835, 0.021608643457382955, 0.021608643457382955, 0.021608643457382955, 0.021608643457382955, 0.021608643457382955, 0.022809123649459785, 0.022809123649459785, 0.022809123649459785, 0.022809123649459785, 0.020808323329331732, 0.020808323329331732, 0.020808323329331732, 0.020808323329331732, 0.027611044417767107, 0.027611044417767107, 0.027611044417767107, 0.027611044417767107, 0.027611044417767107, 0.03481392557022809, 0.03481392557022809, 0.03481392557022809, 0.03481392557022809, 0.03481392557022809, 0.03481392557022809, 0.028011204481792718, 0.028011204481792718, 0.028011204481792718, 0.028011204481792718, 0.028011204481792718, 0.02040816326530612, 0.02040816326530612, 0.02040816326530612, 0.02040816326530612, 0.02040816326530612, 0.03961584633853541, 0.03961584633853541, 0.03961584633853541, 0.03961584633853541, 0.03961584633853541, 0.03961584633853541, 0.02040816326530612, 0.02040816326530612, 0.02040816326530612, 0.02040816326530612, 0.02040816326530612, 0.021208483393357343, 0.021208483393357343, 0.021208483393357343, 0.021208483393357343, 0.021208483393357343, 0.022408963585434174, 0.022408963585434174, 0.022408963585434174, 0.022408963585434174, 0.022408963585434174, 0.02921168467386955, 0.02921168467386955, 0.02921168467386955, 0.02921168467386955, 0.02921168467386955, 0.034013605442176874, 0.034013605442176874, 0.034013605442176874, 0.034013605442176874, 0.034013605442176874, 0.034013605442176874, 0.025610244097639057, 0.025610244097639057, 0.025610244097639057, 0.025610244097639057, 0.025610244097639057, 0.03721488595438175, 0.03721488595438175, 0.03721488595438175, 0.03721488595438175, 0.03721488595438175, 0.03721488595438175, 0.021608643457382955, 0.021608643457382955, 0.021608643457382955, 0.021608643457382955, 0.021608643457382955, 0.021208483393357343, 0.021208483393357343, 0.021208483393357343, 0.021208483393357343, 0.025210084033613446, 0.025210084033613446, 0.025210084033613446, 0.025210084033613446, 0.025210084033613446, 0.027210884353741496, 0.027210884353741496, 0.027210884353741496, 0.027210884353741496, 0.027210884353741496, 0.040416166466586634, 0.040416166466586634, 0.040416166466586634, 0.040416166466586634, 0.040416166466586634, 0.040416166466586634, 0.04801920768307323, 0.04801920768307323, 0.04801920768307323, 0.04801920768307323, 0.04801920768307323, 0.04801920768307323, 0.026810724289715888, 0.026810724289715888, 0.026810724289715888, 0.026810724289715888, 0.026810724289715888, 0.024009603841536616, 0.024009603841536616, 0.024009603841536616, 0.024009603841536616, 0.024009603841536616, 0.020808323329331732, 0.020808323329331732, 0.020808323329331732, 0.020808323329331732, 0.022408963585434174, 0.022408963585434174, 0.022408963585434174, 0.022408963585434174, 0.023209283713485393, 0.023209283713485393, 0.023209283713485393, 0.023209283713485393, 0.023209283713485393, 0.023609443777511004, 0.023609443777511004, 0.023609443777511004, 0.023609443777511004, 0.044017607042817125, 0.044017607042817125, 0.044017607042817125, 0.044017607042817125, 0.044017607042817125, 0.044017607042817125, 0.021608643457382955, 0.021608643457382955, 0.021608643457382955, 0.021608643457382955, 0.023209283713485393, 0.023209283713485393, 0.023209283713485393, 0.023209283713485393, 0.024009603841536616, 0.024009603841536616, 0.024009603841536616, 0.024009603841536616, 0.024009603841536616, 0.021208483393357343, 0.021208483393357343, 0.021208483393357343, 0.021208483393357343, 0.021208483393357343, 0.020808323329331732, 0.020808323329331732, 0.020808323329331732, 0.020808323329331732, 0.020808323329331732, 0.021608643457382955, 0.021608643457382955, 0.021608643457382955, 0.021608643457382955, 0.022008803521408563, 0.022008803521408563, 0.022008803521408563, 0.022008803521408563, 0.022008803521408563, 0.022008803521408563, 0.02040816326530612, 0.02040816326530612, 0.02040816326530612, 0.02040816326530612, 0.02040816326530612, 0.02040816326530612, 0.021208483393357343, 0.021208483393357343, 0.021208483393357343, 0.021208483393357343, 0.021208483393357343, 0.02040816326530612, 0.02040816326530612, 0.02040816326530612, 0.02040816326530612, 0.02040816326530612, 0.022008803521408563, 0.022008803521408563, 0.022008803521408563, 0.022008803521408563, 0.022008803521408563, 0.022008803521408563, 0.026010404161664665, 0.026010404161664665, 0.026010404161664665, 0.026010404161664665, 0.026010404161664665, 0.025210084033613446, 0.025210084033613446, 0.025210084033613446, 0.025210084033613446, 0.025210084033613446, 0.026010404161664665, 0.026010404161664665, 0.026010404161664665, 0.026010404161664665, 0.026010404161664665, 0.022809123649459785, 0.022809123649459785, 0.022809123649459785, 0.022809123649459785, 0.022809123649459785, 0.026810724289715888, 0.026810724289715888, 0.026810724289715888, 0.026810724289715888, 0.026810724289715888, 0.026810724289715888, 0.023209283713485393, 0.023209283713485393, 0.023209283713485393, 0.023209283713485393, 0.023209283713485393, 0.021208483393357343, 0.021208483393357343, 0.021208483393357343, 0.021208483393357343, 0.021208483393357343, 0.028811524609843937, 0.028811524609843937, 0.028811524609843937, 0.028811524609843937, 0.028811524609843937, 0.028811524609843937], \"xaxis\": \"x\", \"y\": [0.375, 0.5343511450381679, 0.3969465648854961, 0.11279826464208244, 0.4198473282442748, 0.367816091954023, 0.128, 0.10483870967741936, 0.29885057471264365, 0.23754789272030652, 0.1393258426966292, 0.25287356321839083, 0.15207373271889402, 0.21839080459770116, 0.16285714285714287, 0.32950191570881227, 0.1787941787941788, 0.14516129032258066, 0.20689655172413796, 0.11496746203904556, 0.20306513409961685, 0.14159292035398233, 0.24521072796934867, 0.2222222222222222, 0.21014492753623187, 0.314176245210728, 0.1229385307346327, 0.2, 0.24521072796934867, 0.38059701492537307, 0.3496932515337423, 0.39303482587064675, 0.10533333333333333, 0.4256756756756757, 0.28042328042328046, 0.2842639593908629, 0.2606741573033708, 0.15466666666666667, 0.31797235023041476, 0.18400000000000002, 0.3793103448275862, 0.26, 0.12133333333333335, 0.4488636363636363, 0.10533333333333333, 0.12933333333333336, 0.4273127753303965, 0.43451143451143454, 0.2786666666666667, 0.5, 0.2931937172774869, 0.4031746031746032, 0.16933333333333334, 0.592, 0.49324324324324326, 0.4153225806451613, 0.13733333333333334, 0.4811827956989248, 0.2386666666666667, 0.4761904761904762, 0.12, 0.43502824858757067, 0.10266666666666668, 0.46885245901639344, 0.19066666666666668, 0.41397849462365593, 0.10266666666666668, 0.48936170212765956, 0.47282608695652173, 0.116, 0.3739495798319328, 0.11866666666666667, 0.36305732484076436, 0.5878524945770066, 0.3613333333333334, 0.4149659863945578, 0.546448087431694, 0.13333333333333336, 0.5042735042735043, 0.4977375565610859, 0.14666666666666667, 0.5497835497835497, 0.16933333333333334, 0.65, 0.12133333333333335, 0.36196319018404904, 0.504424778761062, 0.30400000000000005, 0.415, 0.11066666666666668, 0.43115942028985504, 0.15866666666666668, 0.11733333333333335, 0.455958549222798, 0.4065040650406504, 0.44977511244377816, 0.4, 0.44, 0.11733333333333335, 0.5, 0.3842794759825328, 0.11733333333333335, 0.48672566371681414, 0.4858757062146893, 0.11466666666666668, 0.4832214765100671, 0.192, 0.4125, 0.17600000000000002, 0.3764044943820225, 0.3426294820717132, 0.11466666666666668, 0.16332378223495703, 0.35582822085889565, 0.4181818181818182, 0.39552238805970147, 0.28358208955223885, 0.35449735449735453, 0.10752688172043012, 0.40609137055837563, 0.24462365591397853, 0.40898876404494383, 0.19354838709677422, 0.3317972350230415, 0.21370967741935484, 0.45428571428571424, 0.30837004405286345, 0.16263440860215056, 0.2515592515592516, 0.3246073298429319, 0.2920634920634921, 0.12365591397849462, 0.23387096774193547, 0.2553763440860215, 0.12768817204301075, 0.3973509933774834, 0.2937853107344633, 0.23606557377049178, 0.2795698924731183, 0.3067226890756303, 0.14099783080260303, 0.23076923076923075, 0.36196319018404904, 0.21902654867256638, 0.13306451612903225, 0.265, 0.22101449275362317, 0.23790322580645162, 0.2653673163418291, 0.26, 0.31004366812227074, 0.23825503355704697, 0.12231182795698926, 0.284375, 0.11290322580645161, 0.45901639344262296, 0.40624999999999994, 0.36254980079681276, 0.12231182795698926, 0.3448275862068966, 0.4527220630372492, 0.21236559139784944, 0.4591836734693877, 0.12096774193548387, 0.3151515151515152, 0.11685393258426965, 0.30303030303030304, 0.10395010395010396, 0.48245614035087714, 0.12672811059907835, 0.4253731343283582, 0.31288343558282206, 0.2935323383084577, 0.12266112266112267, 0.263681592039801, 0.1424731182795699, 0.25870646766169153, 0.11279826464208244, 0.1261061946902655, 0.28358208955223885, 0.41791044776119407, 0.1259370314842579, 0.25870646766169153, 0.16249999999999998, 0.3716216216216216, 0.11434511434511434, 0.46621621621621623, 0.10344827586206898, 0.29629629629629634, 0.11642411642411643, 0.2698412698412698, 0.36548223350253806, 0.10794602698650675, 0.13133640552995393, 0.4523809523809524, 0.36853932584269666, 0.37788018433179726, 0.26292134831460673, 0.3342857142857143, 0.1348314606741573, 0.2643171806167401, 0.24116424116424115, 0.2606741573033708, 0.2, 0.14157303370786517, 0.2540322580645161, 0.14157303370786517, 0.23655913978494628, 0.19775280898876405, 0.25245901639344265, 0.17303370786516856, 0.2521008403361345, 0.1348314606741573, 0.14099783080260303, 0.14606741573033707, 0.16150442477876106, 0.16404494382022472, 0.16853932584269662, 0.2717391304347826, 0.18890554722638683, 0.28314606741573034, 0.24890829694323147, 0.12808988764044946, 0.2046979865771812, 0.13707865168539324, 0.253125, 0.18202247191011234, 0.2589641434262948, 0.14606741573033707, 0.24068767908309452, 0.1887640449438202, 0.33163265306122447, 0.14606741573033707, 0.3028571428571429, 0.24423963133640555, 0.28977272727272724, 0.11751152073732718, 0.24116424116424115, 0.2672811059907834, 0.15873015873015875, 0.11520737327188942, 0.39112903225806456, 0.22350230414746547, 0.25, 0.21428571428571427, 0.2721311475409836, 0.1912442396313364, 0.21475054229934923, 0.228110599078341, 0.23809523809523808, 0.12672811059907835, 0.17920353982300885, 0.18663594470046083, 0.25, 0.11520737327188942, 0.33695652173913043, 0.21428571428571427, 0.2203898050974513, 0.33870967741935487, 0.11981566820276497, 0.26, 0.24161073825503354, 0.16589861751152074, 0.24687499999999996, 0.18202764976958524, 0.30601092896174864, 0.12903225806451613, 0.20717131474103587, 0.11981566820276497, 0.14326647564469913, 0.11520737327188942, 0.42758620689655175, 0.1288981288981289, 0.35172413793103446, 0.16, 0.24669603524229075, 0.2079002079002079, 0.2857142857142857, 0.16825396825396827, 0.15142857142857144, 0.20161290322580647, 0.14285714285714285, 0.17204301075268819, 0.18285714285714286, 0.17704918032786884, 0.1542857142857143, 0.273109243697479, 0.1857142857142857, 0.13495575221238937, 0.17428571428571427, 0.14285714285714285, 0.18115942028985507, 0.18140929535232386, 0.3457142857142857, 0.22707423580786026, 0.14857142857142858, 0.178125, 0.16285714285714287, 0.21513944223107573, 0.1542857142857143, 0.14326647564469913, 0.14285714285714285, 0.375, 0.13721413721413722, 0.3181818181818182, 0.15384615384615383, 0.32599118942731276, 0.1586021505376344, 0.2599118942731278, 0.12147505422993493, 0.24669603524229075, 0.11946902654867259, 0.2378854625550661, 0.15442278860569716, 0.4537444933920705, 0.23492063492063492, 0.15384615384615383, 0.31451612903225806, 0.16216216216216217, 0.3467741935483871, 0.2681912681912682, 0.3174603174603175, 0.12474012474012475, 0.3220338983050848, 0.11850311850311851, 0.2983606557377049, 0.1891891891891892, 0.41935483870967744, 0.16216216216216217, 0.36170212765957444, 0.10602910602910602, 0.3097826086956522, 0.11850311850311851, 0.3613445378151261, 0.1787941787941788, 0.2950108459869848, 0.28274428274428276, 0.3469387755102041, 0.10602910602910602, 0.2895927601809955, 0.13305613305613306, 0.3116883116883117, 0.1496881496881497, 0.27212389380530977, 0.25571725571725573, 0.12266112266112267, 0.295, 0.19958419958419957, 0.34782608695652173, 0.11642411642411643, 0.2901554404145078, 0.28635682158920545, 0.3970893970893971, 0.13513513513513514, 0.32499999999999996, 0.2925764192139738, 0.1392931392931393, 0.19334719334719333, 0.31208053691275167, 0.37187499999999996, 0.2474012474012474, 0.30337078651685395, 0.11226611226611227, 0.22310756972111553, 0.11642411642411643, 0.14899713467048709, 0.1081081081081081, 0.4444444444444445, 0.3298429319371728, 0.18095238095238098, 0.15322580645161293, 0.24444444444444446, 0.16702819956616052, 0.3174603174603175, 0.22123893805309736, 0.4444444444444445, 0.20989505247376314, 0.15873015873015875, 0.16778523489932887, 0.18095238095238098, 0.178125, 0.43200000000000005, 0.3783783783783784, 0.12147505422993493, 0.3378378378378379, 0.17204301075268819, 0.2580645161290323, 0.21967213114754097, 0.2701612903225807, 0.1366594360086768, 0.2540322580645161, 0.12168141592920353, 0.2217741935483871, 0.27822580645161293, 0.25, 0.1244377811094453, 0.33467741935483875, 0.23387096774193547, 0.19463087248322147, 0.171875, 0.2217741935483871, 0.14516129032258066, 0.28571428571428575, 0.2327868852459016, 0.19086021505376344, 0.13440860215053765, 0.2688172043010753, 0.20430107526881722, 0.319327731092437, 0.3548387096774194, 0.28633405639913234, 0.13709677419354838, 0.23076923076923075, 0.16129032258064518, 0.2597402597402597, 0.23230088495575224, 0.28225806451612906, 0.1586021505376344, 0.295, 0.19354838709677422, 0.2608695652173913, 0.15591397849462366, 0.3005181347150259, 0.45430107526881724, 0.25337331334332835, 0.22707423580786026, 0.13978494623655915, 0.288135593220339, 0.13709677419354838, 0.20967741935483872, 0.26174496644295303, 0.2231182795698925, 0.259375, 0.1475054229934924, 0.3597883597883598, 0.1261061946902655, 0.3015873015873016, 0.1424287856071964, 0.5026455026455027, 0.384180790960452, 0.10194902548725637, 0.29508196721311475, 0.19522776572668113, 0.21967213114754097, 0.29004329004329005, 0.2721311475409836, 0.1836283185840708, 0.16721311475409834, 0.25499999999999995, 0.22950819672131148, 0.2536231884057971, 0.3639344262295082, 0.16641679160419792, 0.3377049180327869, 0.34563758389261745, 0.19672131147540983, 0.1875, 0.11496746203904556, 0.2849462365591398, 0.11504424778761062, 0.2795698924731183, 0.39247311827956993, 0.10944527736131936, 0.3546099290780142, 0.13938053097345135, 0.3423913043478261, 0.4347826086956522, 0.11994002998500751, 0.13015184381778744, 0.2521008403361345, 0.13053097345132744, 0.24789915966386555, 0.14392803598200898, 0.40336134453781514, 0.171875, 0.23109243697478993, 0.1540130151843818, 0.3879781420765027, 0.30769230769230765, 0.1475054229934924, 0.23427331887201738, 0.4675324675324675, 0.3230088495575221, 0.3167028199566161, 0.12581344902386118, 0.29, 0.1540130151843818, 0.2572463768115942, 0.1193058568329718, 0.2849740932642487, 0.40997830802603036, 0.28335832083958024, 0.12581344902386118, 0.29, 0.288135593220339, 0.1106290672451193, 0.2169197396963124, 0.33557046979865773, 0.18655097613882865, 0.26875, 0.4149659863945578, 0.1261061946902655, 0.3114754098360656, 0.1184407796101949, 0.43169398907103823, 0.1592920353982301, 0.3257918552036199, 0.420814479638009, 0.13943028485757122, 0.18584070796460178, 0.3636363636363636, 0.15142428785607198, 0.4372294372294372, 0.2554112554112554, 0.19798657718120805, 0.44285714285714284, 0.33128834355828224, 0.12168141592920353, 0.27499999999999997, 0.1570796460176991, 0.2572463768115942, 0.1172566371681416, 0.2746113989637306, 0.4579646017699115, 0.3103448275862069, 0.1172566371681416, 0.265, 0.11946902654867259, 0.23580786026200876, 0.17035398230088497, 0.25838926174496646, 0.16371681415929204, 0.23124999999999998, 0.23107569721115537, 0.12831858407079647, 0.1229385307346327, 0.41000000000000003, 0.19463087248322147, 0.29, 0.15442278860569716, 0.37318840579710144, 0.23825503355704697, 0.2572463768115942, 0.21562499999999998, 0.25, 0.10344827586206898, 0.35751295336787564, 0.1184407796101949, 0.39499999999999996, 0.3711790393013101, 0.1274362818590705, 0.4124293785310735, 0.10944527736131936, 0.16641679160419792, 0.3724832214765101, 0.3375, 0.16191904047976013, 0.398876404494382, 0.10644677661169416, 0.35333333333333333, 0.2786885245901639, 0.33864541832669326, 0.1274362818590705, 0.35582822085889565, 0.22270742358078602, 0.159375, 0.18125, 0.19463087248322147, 0.24701195219123506, 0.1776504297994269, 0.5454545454545455, 0.1992619926199262, 0.391304347826087, 0.11713665943600869, 0.12442396313364057, 0.38775510204081637, 0.19, 0.41304347826086957, 0.13133640552995393, 0.17333333333333334, 0.5360824742268041, 0.5048543689320388, 0.2290748898678414, 0.5348837209302325, 0.3854748603351955, 0.33014354066985646, 0.18548387096774194, 0.14345114345114346, 0.6397058823529411, 0.3210332103321033, 0.416267942583732, 0.18872017353579176, 0.18087318087318086, 0.116, 0.5691056910569106, 0.30701754385964913, 0.3349282296650718, 0.15486725663716816, 0.14553014553014554, 0.53125, 0.24401913875598083, 0.42857142857142855, 0.10602910602910602, 0.18478260869565216, 0.5183246073298429, 0.32999999999999996, 0.47368421052631576, 0.14842578710644677, 0.2058212058212058, 0.132, 0.5483870967741935, 0.24401913875598083, 0.35416666666666663, 0.10602910602910602, 0.1711409395973154, 0.44537815126050423, 0.4015151515151515, 0.2535885167464115, 0.165625, 0.1101871101871102, 0.5599999999999999, 0.4409448818897638, 0.24561403508771928, 0.17777777777777778, 0.12389380530973453, 0.5214285714285715, 0.5748031496062992, 0.24333333333333335, 0.23174603174603176, 0.10944527736131936, 0.643939393939394, 0.4748603351955307, 0.31365313653136534, 0.22849462365591403, 0.18438177874186554, 0.11333333333333336, 0.6095238095238095, 0.2807017543859649, 0.3575418994413408, 0.14159292035398233, 0.17204301075268819, 0.5502958579881656, 0.5195530726256983, 0.31, 0.25, 0.13943028485757122, 0.124, 0.6000000000000001, 0.37762237762237766, 0.1992619926199262, 0.17704918032786884, 0.11713665943600869, 0.4774774774774775, 0.3706293706293706, 0.17666666666666667, 0.1737704918032787, 0.6116504854368932, 0.4405594405594406, 0.4375, 0.2065573770491803, 0.21140939597315436, 0.6296296296296295, 0.25092250922509224, 0.5354330708661417, 0.1475054229934924, 0.29437229437229434, 0.6917808219178082, 0.44298245614035087, 0.3726937269372693, 0.22345132743362833, 0.21908893709327548, 0.13466666666666668, 0.634920634920635, 0.44280442804428044, 0.4, 0.2603036876355749, 0.17991004497751126, 0.16, 0.67, 0.24723247232472326, 0.4652777777777778, 0.1453362255965293, 0.22483221476510068, 0.22140221402214022, 0.6976744186046512, 0.45454545454545453, 0.13015184381778744, 0.1875, 0.6582278481012659, 0.17333333333333334, 0.52, 0.28415300546448086, 0.6021505376344086, 0.5090909090909091, 0.18666666666666668, 0.25339366515837103, 0.6904761904761905, 0.25438596491228066, 0.45669291338582674, 0.12831858407079647, 0.2510822510822511, 0.5841584158415841, 0.19666666666666666, 0.4645669291338583, 0.2554112554112554, 0.5314009661835749, 0.48245614035087714, 0.36666666666666664, 0.24336283185840707, 0.16491754122938532, 0.14666666666666667, 0.4864864864864865, 0.18000000000000002, 0.37500000000000006, 0.18120805369127518, 0.537037037037037, 0.4393939393939394, 0.19333333333333333, 0.18125, 0.32967032967032966, 0.4166666666666667, 0.36585365853658536, 0.1348314606741573, 0.1382488479262673, 0.2912087912087912, 0.33333333333333337, 0.452991452991453, 0.11910112359550562, 0.15142857142857144, 0.3270440251572327, 0.3611111111111111, 0.49056603773584906, 0.14857142857142858, 0.11981566820276497, 0.3050847457627119, 0.339622641509434, 0.4462809917355372, 0.1542857142857143, 0.47008547008547, 0.33536585365853655, 0.5188679245283019, 0.12359550561797752, 0.15714285714285714, 0.12672811059907835, 0.4396551724137931, 0.4396551724137931, 0.3109756097560975, 0.10602910602910602, 0.1146067415730337, 0.11751152073732718, 0.42063492063492064, 0.36054421768707484, 0.323170731707317, 0.11910112359550562, 0.12211981566820278, 0.26701570680628267, 0.3469387755102041, 0.4396551724137931, 0.10602910602910602, 0.11751152073732718, 0.41666666666666663, 0.4263565891472868, 0.40441176470588236, 0.1478494623655914, 0.1193058568329718, 0.11434511434511434, 0.3846153846153846, 0.5038759689922481, 0.3403141361256544, 0.17473118279569894, 0.13513513513513514, 0.33333333333333337, 0.4632352941176471, 0.3298429319371728, 0.1366594360086768, 0.13097713097713098, 0.3140096618357488, 0.5284552845528455, 0.3403141361256544, 0.14380530973451328, 0.13513513513513514, 0.5700000000000001, 0.40714285714285714, 0.27536231884057977, 0.18095238095238098, 0.1261061946902655, 0.5075757575757576, 0.39644970414201186, 0.35449735449735453, 0.18010752688172046, 0.1453362255965293, 0.1004497751124438, 0.5523809523809523, 0.28019323671497587, 0.3431952662721893, 0.12831858407079647, 0.15591397849462366, 0.28042328042328046, 0.4907407407407407, 0.5247524752475248, 0.11496746203904556, 0.22943722943722944, 0.4931506849315068, 0.3478260869565218, 0.380952380952381, 0.1592920353982301, 0.1561822125813449, 0.10794602698650675], \"yaxis\": \"y\"}],                        {\"coloraxis\": {\"colorbar\": {\"title\": {\"text\": \"lift\"}}, \"colorscale\": [[0.0, \"rgb(247, 254, 174)\"], [0.16666666666666666, \"rgb(183, 230, 165)\"], [0.3333333333333333, \"rgb(124, 203, 162)\"], [0.5, \"rgb(70, 174, 160)\"], [0.6666666666666666, \"rgb(8, 144, 153)\"], [0.8333333333333334, \"rgb(0, 113, 139)\"], [1.0, \"rgb(4, 82, 117)\"]]}, \"legend\": {\"tracegroupgap\": 0}, \"template\": {\"data\": {\"bar\": [{\"error_x\": {\"color\": \"#2a3f5f\"}, \"error_y\": {\"color\": \"#2a3f5f\"}, \"marker\": {\"line\": {\"color\": \"#E5ECF6\", \"width\": 0.5}}, \"type\": \"bar\"}], \"barpolar\": [{\"marker\": {\"line\": {\"color\": \"#E5ECF6\", \"width\": 0.5}}, \"type\": \"barpolar\"}], \"carpet\": [{\"aaxis\": {\"endlinecolor\": \"#2a3f5f\", \"gridcolor\": \"white\", \"linecolor\": \"white\", \"minorgridcolor\": \"white\", \"startlinecolor\": \"#2a3f5f\"}, \"baxis\": {\"endlinecolor\": \"#2a3f5f\", \"gridcolor\": \"white\", \"linecolor\": \"white\", \"minorgridcolor\": \"white\", \"startlinecolor\": \"#2a3f5f\"}, \"type\": \"carpet\"}], \"choropleth\": [{\"colorbar\": {\"outlinewidth\": 0, \"ticks\": \"\"}, \"type\": \"choropleth\"}], \"contour\": [{\"colorbar\": {\"outlinewidth\": 0, \"ticks\": \"\"}, \"colorscale\": [[0.0, \"#0d0887\"], [0.1111111111111111, \"#46039f\"], [0.2222222222222222, \"#7201a8\"], [0.3333333333333333, \"#9c179e\"], [0.4444444444444444, \"#bd3786\"], [0.5555555555555556, \"#d8576b\"], [0.6666666666666666, \"#ed7953\"], [0.7777777777777778, \"#fb9f3a\"], [0.8888888888888888, \"#fdca26\"], [1.0, \"#f0f921\"]], \"type\": \"contour\"}], \"contourcarpet\": [{\"colorbar\": {\"outlinewidth\": 0, \"ticks\": \"\"}, \"type\": \"contourcarpet\"}], \"heatmap\": [{\"colorbar\": {\"outlinewidth\": 0, \"ticks\": \"\"}, \"colorscale\": [[0.0, \"#0d0887\"], [0.1111111111111111, \"#46039f\"], [0.2222222222222222, \"#7201a8\"], [0.3333333333333333, \"#9c179e\"], [0.4444444444444444, \"#bd3786\"], [0.5555555555555556, \"#d8576b\"], [0.6666666666666666, \"#ed7953\"], [0.7777777777777778, \"#fb9f3a\"], [0.8888888888888888, \"#fdca26\"], [1.0, \"#f0f921\"]], \"type\": \"heatmap\"}], \"heatmapgl\": [{\"colorbar\": {\"outlinewidth\": 0, \"ticks\": \"\"}, \"colorscale\": [[0.0, \"#0d0887\"], [0.1111111111111111, \"#46039f\"], [0.2222222222222222, \"#7201a8\"], [0.3333333333333333, \"#9c179e\"], [0.4444444444444444, \"#bd3786\"], [0.5555555555555556, \"#d8576b\"], [0.6666666666666666, \"#ed7953\"], [0.7777777777777778, \"#fb9f3a\"], [0.8888888888888888, \"#fdca26\"], [1.0, \"#f0f921\"]], \"type\": \"heatmapgl\"}], \"histogram\": [{\"marker\": {\"colorbar\": {\"outlinewidth\": 0, \"ticks\": \"\"}}, \"type\": \"histogram\"}], \"histogram2d\": [{\"colorbar\": {\"outlinewidth\": 0, \"ticks\": \"\"}, \"colorscale\": [[0.0, \"#0d0887\"], [0.1111111111111111, \"#46039f\"], [0.2222222222222222, \"#7201a8\"], [0.3333333333333333, \"#9c179e\"], [0.4444444444444444, \"#bd3786\"], [0.5555555555555556, \"#d8576b\"], [0.6666666666666666, \"#ed7953\"], [0.7777777777777778, \"#fb9f3a\"], [0.8888888888888888, \"#fdca26\"], [1.0, \"#f0f921\"]], \"type\": \"histogram2d\"}], \"histogram2dcontour\": [{\"colorbar\": {\"outlinewidth\": 0, \"ticks\": \"\"}, \"colorscale\": [[0.0, \"#0d0887\"], [0.1111111111111111, \"#46039f\"], [0.2222222222222222, \"#7201a8\"], [0.3333333333333333, \"#9c179e\"], [0.4444444444444444, \"#bd3786\"], [0.5555555555555556, \"#d8576b\"], [0.6666666666666666, \"#ed7953\"], [0.7777777777777778, \"#fb9f3a\"], [0.8888888888888888, \"#fdca26\"], [1.0, \"#f0f921\"]], \"type\": \"histogram2dcontour\"}], \"mesh3d\": [{\"colorbar\": {\"outlinewidth\": 0, \"ticks\": \"\"}, \"type\": \"mesh3d\"}], \"parcoords\": [{\"line\": {\"colorbar\": {\"outlinewidth\": 0, \"ticks\": \"\"}}, \"type\": \"parcoords\"}], \"pie\": [{\"automargin\": true, \"type\": \"pie\"}], \"scatter\": [{\"marker\": {\"colorbar\": {\"outlinewidth\": 0, \"ticks\": \"\"}}, \"type\": \"scatter\"}], \"scatter3d\": [{\"line\": {\"colorbar\": {\"outlinewidth\": 0, \"ticks\": \"\"}}, \"marker\": {\"colorbar\": {\"outlinewidth\": 0, \"ticks\": \"\"}}, \"type\": \"scatter3d\"}], \"scattercarpet\": [{\"marker\": {\"colorbar\": {\"outlinewidth\": 0, \"ticks\": \"\"}}, \"type\": \"scattercarpet\"}], \"scattergeo\": [{\"marker\": {\"colorbar\": {\"outlinewidth\": 0, \"ticks\": \"\"}}, \"type\": \"scattergeo\"}], \"scattergl\": [{\"marker\": {\"colorbar\": {\"outlinewidth\": 0, \"ticks\": \"\"}}, \"type\": \"scattergl\"}], \"scattermapbox\": [{\"marker\": {\"colorbar\": {\"outlinewidth\": 0, \"ticks\": \"\"}}, \"type\": \"scattermapbox\"}], \"scatterpolar\": [{\"marker\": {\"colorbar\": {\"outlinewidth\": 0, \"ticks\": \"\"}}, \"type\": \"scatterpolar\"}], \"scatterpolargl\": [{\"marker\": {\"colorbar\": {\"outlinewidth\": 0, \"ticks\": \"\"}}, \"type\": \"scatterpolargl\"}], \"scatterternary\": [{\"marker\": {\"colorbar\": {\"outlinewidth\": 0, \"ticks\": \"\"}}, \"type\": \"scatterternary\"}], \"surface\": [{\"colorbar\": {\"outlinewidth\": 0, \"ticks\": \"\"}, \"colorscale\": [[0.0, \"#0d0887\"], [0.1111111111111111, \"#46039f\"], [0.2222222222222222, \"#7201a8\"], [0.3333333333333333, \"#9c179e\"], [0.4444444444444444, \"#bd3786\"], [0.5555555555555556, \"#d8576b\"], [0.6666666666666666, \"#ed7953\"], [0.7777777777777778, \"#fb9f3a\"], [0.8888888888888888, \"#fdca26\"], [1.0, \"#f0f921\"]], \"type\": \"surface\"}], \"table\": [{\"cells\": {\"fill\": {\"color\": \"#EBF0F8\"}, \"line\": {\"color\": \"white\"}}, \"header\": {\"fill\": {\"color\": \"#C8D4E3\"}, \"line\": {\"color\": \"white\"}}, \"type\": \"table\"}]}, \"layout\": {\"annotationdefaults\": {\"arrowcolor\": \"#2a3f5f\", \"arrowhead\": 0, \"arrowwidth\": 1}, \"autotypenumbers\": \"strict\", \"coloraxis\": {\"colorbar\": {\"outlinewidth\": 0, \"ticks\": \"\"}}, \"colorscale\": {\"diverging\": [[0, \"#8e0152\"], [0.1, \"#c51b7d\"], [0.2, \"#de77ae\"], [0.3, \"#f1b6da\"], [0.4, \"#fde0ef\"], [0.5, \"#f7f7f7\"], [0.6, \"#e6f5d0\"], [0.7, \"#b8e186\"], [0.8, \"#7fbc41\"], [0.9, \"#4d9221\"], [1, \"#276419\"]], \"sequential\": [[0.0, \"#0d0887\"], [0.1111111111111111, \"#46039f\"], [0.2222222222222222, \"#7201a8\"], [0.3333333333333333, \"#9c179e\"], [0.4444444444444444, \"#bd3786\"], [0.5555555555555556, \"#d8576b\"], [0.6666666666666666, \"#ed7953\"], [0.7777777777777778, \"#fb9f3a\"], [0.8888888888888888, \"#fdca26\"], [1.0, \"#f0f921\"]], \"sequentialminus\": [[0.0, \"#0d0887\"], [0.1111111111111111, \"#46039f\"], [0.2222222222222222, \"#7201a8\"], [0.3333333333333333, \"#9c179e\"], [0.4444444444444444, \"#bd3786\"], [0.5555555555555556, \"#d8576b\"], [0.6666666666666666, \"#ed7953\"], [0.7777777777777778, \"#fb9f3a\"], [0.8888888888888888, \"#fdca26\"], [1.0, \"#f0f921\"]]}, \"colorway\": [\"#636efa\", \"#EF553B\", \"#00cc96\", \"#ab63fa\", \"#FFA15A\", \"#19d3f3\", \"#FF6692\", \"#B6E880\", \"#FF97FF\", \"#FECB52\"], \"font\": {\"color\": \"#2a3f5f\"}, \"geo\": {\"bgcolor\": \"white\", \"lakecolor\": \"white\", \"landcolor\": \"#E5ECF6\", \"showlakes\": true, \"showland\": true, \"subunitcolor\": \"white\"}, \"hoverlabel\": {\"align\": \"left\"}, \"hovermode\": \"closest\", \"mapbox\": {\"style\": \"light\"}, \"paper_bgcolor\": \"white\", \"plot_bgcolor\": \"#E5ECF6\", \"polar\": {\"angularaxis\": {\"gridcolor\": \"white\", \"linecolor\": \"white\", \"ticks\": \"\"}, \"bgcolor\": \"#E5ECF6\", \"radialaxis\": {\"gridcolor\": \"white\", \"linecolor\": \"white\", \"ticks\": \"\"}}, \"scene\": {\"xaxis\": {\"backgroundcolor\": \"#E5ECF6\", \"gridcolor\": \"white\", \"gridwidth\": 2, \"linecolor\": \"white\", \"showbackground\": true, \"ticks\": \"\", \"zerolinecolor\": \"white\"}, \"yaxis\": {\"backgroundcolor\": \"#E5ECF6\", \"gridcolor\": \"white\", \"gridwidth\": 2, \"linecolor\": \"white\", \"showbackground\": true, \"ticks\": \"\", \"zerolinecolor\": \"white\"}, \"zaxis\": {\"backgroundcolor\": \"#E5ECF6\", \"gridcolor\": \"white\", \"gridwidth\": 2, \"linecolor\": \"white\", \"showbackground\": true, \"ticks\": \"\", \"zerolinecolor\": \"white\"}}, \"shapedefaults\": {\"line\": {\"color\": \"#2a3f5f\"}}, \"ternary\": {\"aaxis\": {\"gridcolor\": \"white\", \"linecolor\": \"white\", \"ticks\": \"\"}, \"baxis\": {\"gridcolor\": \"white\", \"linecolor\": \"white\", \"ticks\": \"\"}, \"bgcolor\": \"#E5ECF6\", \"caxis\": {\"gridcolor\": \"white\", \"linecolor\": \"white\", \"ticks\": \"\"}}, \"title\": {\"x\": 0.05}, \"xaxis\": {\"automargin\": true, \"gridcolor\": \"white\", \"linecolor\": \"white\", \"ticks\": \"\", \"title\": {\"standoff\": 15}, \"zerolinecolor\": \"white\", \"zerolinewidth\": 2}, \"yaxis\": {\"automargin\": true, \"gridcolor\": \"white\", \"linecolor\": \"white\", \"ticks\": \"\", \"title\": {\"standoff\": 15}, \"zerolinecolor\": \"white\", \"zerolinewidth\": 2}}}, \"title\": {\"text\": \"Scatter Plot\"}, \"xaxis\": {\"anchor\": \"y\", \"domain\": [0.0, 1.0], \"title\": {\"text\": \"support\"}}, \"yaxis\": {\"anchor\": \"x\", \"domain\": [0.0, 1.0], \"title\": {\"text\": \"confidence\"}}},                        {\"responsive\": true}                    ).then(function(){\n",
       "                            \n",
       "var gd = document.getElementById('767295d1-a192-42d7-b371-7f1693548804');\n",
       "var x = new MutationObserver(function (mutations, observer) {{\n",
       "        var display = window.getComputedStyle(gd).display;\n",
       "        if (!display || display === 'none') {{\n",
       "            console.log([gd, 'removed!']);\n",
       "            Plotly.purge(gd);\n",
       "            observer.disconnect();\n",
       "        }}\n",
       "}});\n",
       "\n",
       "// Listen for the removal of the full notebook cells\n",
       "var notebookContainer = gd.closest('#notebook-container');\n",
       "if (notebookContainer) {{\n",
       "    x.observe(notebookContainer, {childList: true});\n",
       "}}\n",
       "\n",
       "// Listen for the clearing of the current output cell\n",
       "var outputEl = gd.closest('.output');\n",
       "if (outputEl) {{\n",
       "    x.observe(outputEl, {childList: true});\n",
       "}}\n",
       "\n",
       "                        })                };                });            </script>        </div>"
      ]
     },
     "metadata": {},
     "output_type": "display_data"
    }
   ],
   "source": [
    "# Scatter plot showing support, confidence and lift of popular purchased items\n",
    "fig = px.scatter(rules, x=\"support\", y=\"confidence\", hover_name=\"description\", hover_data=[\"lift\"], color=\"lift\",\n",
    "                 color_continuous_scale='bluyl', title=\"Scatter Plot\")\n",
    "fig.show()"
   ]
  },
  {
   "cell_type": "markdown",
   "metadata": {},
   "source": [
    "## Conclusion\n",
    "* Using association rules we have identfied items that customers purchase together frequently and which products are most often purchased together\n",
    "* In addition, we have an apriori model that we can use to recommend instcart customer products based their existing cart !"
   ]
  }
 ],
 "metadata": {
  "kernelspec": {
   "display_name": "Python 3",
   "language": "python",
   "name": "python3"
  },
  "language_info": {
   "codemirror_mode": {
    "name": "ipython",
    "version": 3
   },
   "file_extension": ".py",
   "mimetype": "text/x-python",
   "name": "python",
   "nbconvert_exporter": "python",
   "pygments_lexer": "ipython3",
   "version": "3.6.12"
  }
 },
 "nbformat": 4,
 "nbformat_minor": 4
}
